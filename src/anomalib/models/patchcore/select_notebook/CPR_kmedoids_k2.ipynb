{
 "cells": [
  {
   "cell_type": "code",
   "execution_count": 1,
   "metadata": {},
   "outputs": [
    {
     "name": "stderr",
     "output_type": "stream",
     "text": [
      "/work/scratch/tyang/miniconda3/env/anomalib_env/lib/python3.10/site-packages/tqdm/auto.py:21: TqdmWarning: IProgress not found. Please update jupyter and ipywidgets. See https://ipywidgets.readthedocs.io/en/stable/user_install.html\n",
      "  from .autonotebook import tqdm as notebook_tqdm\n"
     ]
    }
   ],
   "source": [
    "import numpy as np  \n",
    "from matplotlib import pyplot as plt \n",
    "from PIL import Image    \n",
    "import torch\n",
    "\n",
    "from anomalib.config import get_configurable_parameters\n",
    "from anomalib.data import get_datamodule\n",
    "from anomalib.models import get_model\n",
    "from anomalib.models.components import feature_extractors\n",
    "\n",
    "from anomalib.models.components.feature_extractors import TorchFXFeatureExtractor\n",
    "from torchvision.models.densenet import DenseNet201_Weights\n",
    "import torch.nn.functional as F\n",
    "from anomalib.models.components.cluster.kmeans import KMeans\n",
    "import torchvision.models as models"
   ]
  },
  {
   "cell_type": "code",
   "execution_count": 2,
   "metadata": {},
   "outputs": [
    {
     "name": "stdout",
     "output_type": "stream",
     "text": [
      "dataset:\n",
      "  name: airogs\n",
      "  format: airogs\n",
      "  path: /home/students/tyang/yolov5results\n",
      "  task: classification # options: [classification, segmentation]\n",
      "  category: cat0/crops/od\n",
      "  number_of_samples: 17999\n",
      "  pre_selection: False\n",
      "  train_batch_size: 1000\n",
      "  eval_batch_size: 1000\n",
      "  num_workers: 8\n",
      "  image_size: 256 # dimensions to which images are resized (mandatory)\n",
      "  center_crop:   # dimensions to which images are center-cropped after resizing (optional)\n",
      "  normalization: imagenet # data distribution to which the images will be normalized: [none, imagenet]\n",
      "  transform_config:\n",
      "    train: null\n",
      "    eval: null\n",
      "  test_split_mode: from_dir # options: [from_dir, synthetic]\n",
      "  test_split_ratio: 0.1 # fraction of train images held out testing (usage depends on test_split_mode)\n",
      "  val_split_mode: same_as_test # options: [same_as_test, from_test, synthetic]\n",
      "  val_split_ratio: 0.1 # fraction of train/test images held out for validation (usage depends on val_split_mode)\n",
      "  tiling:\n",
      "    apply: false\n",
      "    tile_size: null\n",
      "    stride: null\n",
      "    remove_border_count: 0\n",
      "    use_random_tiling: False\n",
      "    random_tile_count: 16\n",
      "\n",
      "model:\n",
      "  name: patchcore\n",
      "  backbone: wide_resnet50_2\n",
      "  pre_trained: true\n",
      "  layers:\n",
      "    - layer2\n",
      "    - layer3\n",
      "  coreset_sampling_ratio: 0.2\n",
      "\n",
      "  num_neighbors: 5\n",
      "  normalization_method: min_max # options: [null, min_max, cdf]\n",
      "\n",
      "metrics:\n",
      "  image:\n",
      "    - F1Score\n",
      "    - AUROC\n",
      "  pixel:\n",
      "    - F1Score\n",
      "    - AUROC\n",
      "  threshold:\n",
      "    method: adaptive #options: [adaptive, manual]\n",
      "    manual_image: null\n",
      "    manual_pixel: null\n",
      "\n",
      "visualization:\n",
      "  show_images: False # show images on the screen\n",
      "  save_images: True # save images to the file system\n",
      "  log_images: True # log images to the available loggers (if any)\n",
      "  image_save_path: null # path to which images will be saved\n",
      "  mode: full # options: [\"full\", \"simple\"]\n",
      "\n",
      "project:\n",
      "  seed: 0\n",
      "  path: /work/scratch/tyang/anomalib/\n",
      "\n",
      "logging:\n",
      "  logger: [] # options: [comet, tensorboard, wandb, csv] or combinations.\n",
      "  log_graph: false # Logs the model graph to respective logger.\n",
      "\n",
      "optimization:\n",
      "  export_mode: null # options: onnx, openvino\n",
      "\n",
      "# PL Trainer Args. Don't add extra parameter here.\n",
      "trainer:\n",
      "  enable_checkpointing: true\n",
      "  default_root_dir: null\n",
      "  gradient_clip_val: 0\n",
      "  gradient_clip_algorithm: norm\n",
      "  num_nodes: 1\n",
      "  devices: 1\n",
      "  enable_progress_bar: true\n",
      "  overfit_batches: 0.0\n",
      "  track_grad_norm: -1\n",
      "  check_val_every_n_epoch: 1 # Don't validate before extracting features.\n",
      "  fast_dev_run: false\n",
      "  accumulate_grad_batches: 1\n",
      "  max_epochs: 1\n",
      "  min_epochs: null\n",
      "  max_steps: -1\n",
      "  min_steps: null\n",
      "  max_time: null\n",
      "  limit_train_batches: 1.0\n",
      "  limit_val_batches: 1.0\n",
      "  limit_test_batches: 1.0\n",
      "  limit_predict_batches: 1.0\n",
      "  val_check_interval: 1.0 # Don't validate before extracting features.\n",
      "  log_every_n_steps: 50\n",
      "  accelerator: auto # <\"cpu\", \"gpu\", \"tpu\", \"ipu\", \"hpu\", \"auto\">\n",
      "  strategy: null\n",
      "  sync_batchnorm: false\n",
      "  precision: 32\n",
      "  enable_model_summary: true\n",
      "  num_sanity_val_steps: 0\n",
      "  profiler: null\n",
      "  benchmark: false\n",
      "  deterministic: false\n",
      "  reload_dataloaders_every_n_epochs: 0\n",
      "  auto_lr_find: false\n",
      "  replace_sampler_ddp: true\n",
      "  detect_anomaly: false\n",
      "  auto_scale_batch_size: false\n",
      "  plugins: null\n",
      "  move_metrics_to_cpu: false\n",
      "  multiple_trainloader_mode: max_size_cycle\n",
      "\n"
     ]
    },
    {
     "name": "stderr",
     "output_type": "stream",
     "text": [
      "/home/students/tyang/anomalib/src/anomalib/config/config.py:243: UserWarning: The seed value is now fixed to 0. Up to v0.3.7, the seed was not fixed when the seed value was set to 0. If you want to use the random seed, please select `None` for the seed value (`null` in the YAML file) or remove the `seed` key from the YAML file.\n",
      "  warn(\n",
      "/home/students/tyang/anomalib/src/anomalib/config/config.py:280: UserWarning: config.project.unique_dir is set to False. This does not ensure that your results will be written in an empty directory and you may overwrite files.\n",
      "  warn(\n"
     ]
    }
   ],
   "source": [
    "MODEL = \"patchcore\"\n",
    "CONFIG_PATH = f\"/home/students/tyang/anomalib/src/anomalib/models/{MODEL}/config.yaml\"\n",
    "with open(file=CONFIG_PATH, mode=\"r\",encoding=\"utf-8\") as f:\n",
    "    print(f.read())\n",
    "    \n",
    "config = get_configurable_parameters(config_path=CONFIG_PATH)\n"
   ]
  },
  {
   "cell_type": "code",
   "execution_count": 3,
   "metadata": {},
   "outputs": [],
   "source": [
    "\n",
    "data_module = get_datamodule(config=config)\n",
    "data_module.prepare_data() # check if the dataset is avaliable\n",
    "data_module.setup()\n",
    "\n"
   ]
  },
  {
   "cell_type": "code",
   "execution_count": 4,
   "metadata": {},
   "outputs": [
    {
     "name": "stderr",
     "output_type": "stream",
     "text": [
      "/work/scratch/tyang/miniconda3/env/anomalib_env/lib/python3.10/site-packages/torch/overrides.py:110: UserWarning: 'has_cuda' is deprecated, please use 'torch.backends.cuda.is_built()'\n",
      "  torch.has_cuda,\n",
      "/work/scratch/tyang/miniconda3/env/anomalib_env/lib/python3.10/site-packages/torch/overrides.py:111: UserWarning: 'has_cudnn' is deprecated, please use 'torch.backends.cudnn.is_available()'\n",
      "  torch.has_cudnn,\n",
      "/work/scratch/tyang/miniconda3/env/anomalib_env/lib/python3.10/site-packages/torch/overrides.py:117: UserWarning: 'has_mps' is deprecated, please use 'torch.backends.mps.is_built()'\n",
      "  torch.has_mps,\n",
      "/work/scratch/tyang/miniconda3/env/anomalib_env/lib/python3.10/site-packages/torch/overrides.py:118: UserWarning: 'has_mkldnn' is deprecated, please use 'torch.backends.mkldnn.is_available()'\n",
      "  torch.has_mkldnn,\n"
     ]
    }
   ],
   "source": [
    "\n",
    "feature_extractor = TorchFXFeatureExtractor(\n",
    "                    backbone=\"densenet201\",\n",
    "                    return_nodes=[\"features.denseblock1.denselayer6.conv2\"],\n",
    "                    weights=DenseNet201_Weights.IMAGENET1K_V1,\n",
    "                )\n"
   ]
  },
  {
   "cell_type": "code",
   "execution_count": 5,
   "metadata": {},
   "outputs": [],
   "source": [
    "# extract features from the whol training dataset\n",
    "\n",
    "feature_list = []\n",
    "\n",
    "for  i, train_data in enumerate(data_module.train_dataloader()):\n",
    "    features = feature_extractor(train_data[\"image\"])[\"features.denseblock1.denselayer6.conv2\"]\n",
    "    feature_list.append(features)\n",
    "\n"
   ]
  },
  {
   "cell_type": "code",
   "execution_count": 6,
   "metadata": {},
   "outputs": [],
   "source": [
    "# convert the list of features to a tensor\n",
    "global_feature_tensor = torch.vstack(feature_list)   "
   ]
  },
  {
   "cell_type": "code",
   "execution_count": 7,
   "metadata": {},
   "outputs": [
    {
     "name": "stdout",
     "output_type": "stream",
     "text": [
      "torch.Size([15658, 32, 64, 64])\n"
     ]
    }
   ],
   "source": [
    "# global feature shape is (train_data size, channel, height, width)\n",
    "print(global_feature_tensor.shape)"
   ]
  },
  {
   "cell_type": "code",
   "execution_count": 8,
   "metadata": {},
   "outputs": [],
   "source": [
    "from anomalib.models.components.cluster.kmeans import KMeans\n",
    "\n",
    "def get_kmeans_centers(feature_tensor, n_clusters):\n",
    "    \"\"\"\n",
    "    Args:\n",
    "        feature_t: feature tensor, shape is (batch_size, channel, height, width)\n",
    "        n_clusters: number of clusters\n",
    "        \n",
    "    Returns:\n",
    "        cluster_center: shape is (n_clusters, channel)\n",
    "        kmeans: kmeans model   \"\"\"\n",
    "    \n",
    "    feature_t = feature_tensor.permute(1,0,2,3)\n",
    "    feature_t = feature_t.flatten(start_dim=1)\n",
    "    feature_t= feature_t.permute(1,0)\n",
    "\n",
    "\n",
    "    kmeans = KMeans(n_clusters=n_clusters)\n",
    "    kmeans.fit(feature_t)\n",
    "    cluster_center = kmeans.cluster_centers_\n",
    "   \n",
    "    return cluster_center, kmeans\n",
    "\n"
   ]
  },
  {
   "cell_type": "code",
   "execution_count": 4,
   "metadata": {},
   "outputs": [],
   "source": [
    "global_bow_stats_k2 = torch.load(\"/home/students/tyang/Documents/similiar_k2/global_bow_stats_k2top9.pt\")\n",
    "kmeans_k2 = torch.load(\"/home/students/tyang/Documents/similiar_k2/kmeans_category_0_k2top9.pt\")"
   ]
  },
  {
   "cell_type": "code",
   "execution_count": 10,
   "metadata": {},
   "outputs": [],
   "source": [
    "def bag_of_words_statistics(Ptst, Cref, S):\n",
    "    \"\"\"\n",
    "    Params:\n",
    "    Ptst: Feature tensor of a set of images, tensor of shape (N, C, H, W)\n",
    "    Cref: reference Cluster centers, tensor of shape (K, C)\n",
    "    S: number of subregions per image dimension, integer\n",
    "\n",
    "    Returns:\n",
    "    bow_stats: list of normalized Bag-of-words statistics, possibility-like , length N, each element is a tensor of shape (S * S, K)\n",
    "    \"\"\"\n",
    "    Ptst = torch.vsplit(Ptst, Ptst.shape[0])\n",
    "    bow_stats = []\n",
    "    for Itst in Ptst:\n",
    "        Itst = Itst.squeeze(0)\n",
    "        #print(Itst.shape)\n",
    "        subtensors = torch.chunk(Itst, S, dim=1)\n",
    "        subtensor = [torch.chunk(st, S, dim=2) for st in subtensors]\n",
    "        \n",
    "        \n",
    "        image_bow_stats = torch.zeros(S * S, len(Cref), dtype=torch.float32)\n",
    "        for i in range(S):\n",
    "            for j in range(S):\n",
    "                st_value = subtensor[i][j]\n",
    "                st_value = st_value.flatten(start_dim=1)\n",
    "                st_value = st_value.permute(1,0)\n",
    "               # print(st_value.shape)\n",
    "                \n",
    "                cluster_idx = kmeans.predict(st_value)\n",
    "                #print(cluster_idx.shape)\n",
    "                cluster_idx = cluster_idx.float()\n",
    "\n",
    "                hist = torch.histc(cluster_idx, bins = len(Cref), min = torch.min(cluster_idx), max = torch.max(cluster_idx))\n",
    "                normalized_hist = hist / torch.sum(hist)\n",
    "                image_bow_stats[i * S + j] = normalized_hist\n",
    "        \n",
    "        bow_stats.append(image_bow_stats)\n",
    "            \n",
    "        \n",
    "    return bow_stats\n"
   ]
  },
  {
   "cell_type": "code",
   "execution_count": 5,
   "metadata": {},
   "outputs": [],
   "source": [
    "def kl_divergence(p, q):\n",
    "   \n",
    "    p = torch.clamp(p, min=1e-8)\n",
    "    q = torch.clamp(q, min=1e-8)\n",
    "    return (p * torch.log(p / q)).sum(dim=-1)"
   ]
  },
  {
   "cell_type": "code",
   "execution_count": 6,
   "metadata": {},
   "outputs": [],
   "source": [
    "from sklearn_extra.cluster import KMedoids\n",
    "\n",
    "\n",
    "\n",
    "def kl_distance(bow_stats,  step_size, nr_clusters):\n",
    "    \"\"\"\n",
    "    Params:\n",
    "    bow_stats: list of normalized Bag-of-words statistics, possibility-like , length N, each element is a tensor of shape (S * S, K)\n",
    "    \n",
    "    step_size: batch size,  integer\n",
    "\n",
    "    Returns:\n",
    "    selected_idx: list of selected image indices with highest kl-divergence in each batch, length number of batches, each element has the size of batch_size * select_ratio\n",
    "    \"\"\"\n",
    "    \n",
    "    stacked_bow_stats = torch.stack(bow_stats)\n",
    "   # print(stacked_bow_stats.shape)\n",
    "    \n",
    "    kl_results = []\n",
    "    for i in range(16):\n",
    "        id_probs = stacked_bow_stats[:, i, :]\n",
    "\n",
    "        p = id_probs.unsqueeze(1)  #  [N, 1, 5]\n",
    "        q = id_probs.unsqueeze(0)  #  [1, N, 5]\n",
    "    \n",
    "        kl_div = kl_divergence(p, q)  #\n",
    "        kl_div.fill_diagonal_(0)  \n",
    "\n",
    "        kl_results.append(kl_div)\n",
    "\n",
    "    kl_results_stacked = torch.stack(kl_results)\n",
    "    kl_average = torch.mean(kl_results_stacked, dim=0)\n",
    "\n",
    "\n",
    "\n",
    "\n",
    "    kmedoids = KMedoids(n_clusters=nr_clusters, metric='precomputed', method='alternate')\n",
    "    kmedoids.fit(kl_average)\n",
    "    medoids_indices = kmedoids.medoid_indices_\n",
    "\n",
    "    selected_idx = [[] for _ in range(len(bow_stats) // step_size + 1)]\n",
    "\n",
    "    for global_id in medoids_indices:\n",
    "        batch_id = global_id // step_size\n",
    "        local_id = global_id % step_size\n",
    "        selected_idx[batch_id].append(local_id)\n",
    "        \n",
    "\n",
    "\n",
    "    return medoids_indices, kl_average, selected_idx\n",
    "    \n",
    "    \n",
    "\n",
    "    \n",
    "     \n",
    "        \n",
    "\n",
    "    \n",
    "  "
   ]
  },
  {
   "cell_type": "code",
   "execution_count": 7,
   "metadata": {},
   "outputs": [
    {
     "name": "stdout",
     "output_type": "stream",
     "text": [
      "torch.Size([15658, 16, 2])\n"
     ]
    }
   ],
   "source": [
    "medoid_indices_k2, distance_mrx_k2, selected_idx_k2 = kl_distance(global_bow_stats_k2, 1000, 9)"
   ]
  },
  {
   "cell_type": "code",
   "execution_count": 9,
   "metadata": {},
   "outputs": [
    {
     "data": {
      "image/png": "[encoded data removed]",
      "text/plain": [
       "<Figure size 640x480 with 1 Axes>"
      ]
     },
     "metadata": {},
     "output_type": "display_data"
    }
   ],
   "source": [
    "import numpy as np\n",
    "\n",
    "\n",
    "\n",
    "def compute_kmedoids(sample_matrix, max_k):\n",
    "    scores = []\n",
    "    for k in range(2, max_k + 1):\n",
    "        kmedoids = KMedoids(n_clusters=k, metric='precomputed', method='alternate')\n",
    "        kmedoids.fit(sample_matrix)\n",
    "        scores.append(kmedoids.inertia_)  # Sum of distances of samples to their closest cluster center\n",
    "    return scores\n",
    "\n",
    "import matplotlib.pyplot as plt\n",
    "\n",
    "max_k = 20  # set a reasonable upper limit\n",
    "scores = compute_kmedoids( distance_mrx_k2, max_k)\n",
    "\n",
    "plt.plot(range(2, max_k + 1), scores)\n",
    "plt.xlabel('Number of clusters')\n",
    "plt.xticks(range(2, max_k + 1))\n",
    "plt.ylabel('Score')\n",
    "plt.title('Elbow Method for Optimal K')\n",
    "plt.show()\n"
   ]
  },
  {
   "cell_type": "code",
   "execution_count": 10,
   "metadata": {},
   "outputs": [
    {
     "data": {
      "image/png": "[encoded data removed]",
      "text/plain": [
       "<Figure size 640x480 with 1 Axes>"
      ]
     },
     "metadata": {},
     "output_type": "display_data"
    }
   ],
   "source": [
    "from sklearn.metrics import silhouette_score\n",
    "\n",
    "k = range(2,20)\n",
    "score = []\n",
    "for i in k:\n",
    "    kmedoids = KMedoids(n_clusters=i, metric='precomputed', method='alternate')\n",
    "    kmedoids.fit(distance_mrx_k2)\n",
    "    score.append(silhouette_score(distance_mrx_k2, kmedoids.labels_, metric='precomputed'))\n",
    "\n",
    "\n",
    "plt.plot(k,score,'r*-')\n",
    "plt.xlabel('k')\n",
    "plt.xticks(k)\n",
    "plt.ylabel(u'silhouette_score')\n",
    "plt.title(u'silhouette_score for different k')\n",
    "plt.show()"
   ]
  },
  {
   "cell_type": "code",
   "execution_count": null,
   "metadata": {},
   "outputs": [],
   "source": [
    "torch.save(medoid_indices_k2, \"/home/students/tyang/Documents/medoid_indices_k2_medoids9.pt\")\n",
    "merged_datas = {\"image_path\": [], \"label\": []}\n",
    "for  i, train_data in enumerate(data_module.train_dataloader()):\n",
    "    selected_data = ( {\"image_path\": train_data[\"image_path\"][selected_idx], \"label\": train_data[\"label\"][selected_idx]} for selected_idx in selected_idx_k2[i] )\n",
    "    \n",
    "    \n",
    "    for data in selected_data:\n",
    "        for key, values in data.items():\n",
    "            merged_datas[key].append(values)\n",
    "\n",
    "\n",
    "import csv \n",
    "\n",
    "csv_path = \"/home/students/tyang/Documents/category0_k2_medoides9.csv\"\n",
    "\n",
    "\n",
    "with open(csv_path, mode=\"w\", newline=\"\") as csv_file:\n",
    "        fieldnames = [\"image_path\", \"label\"]\n",
    "        writer = csv.DictWriter(csv_file, fieldnames=fieldnames)\n",
    "        for i in range(len(merged_datas[\"image_path\"])):\n",
    "            rowdict = {\"image_path\": merged_datas[\"image_path\"][i], \"label\": merged_datas[\"label\"][i]}\n",
    "            writer.writerow(rowdict)   "
   ]
  },
  {
   "cell_type": "code",
   "execution_count": 30,
   "metadata": {},
   "outputs": [],
   "source": [
    "medoid_indices, distance_mrx, selected_idxs = kl_distance(global_bow_stats_k2,  step_size=1000, nr_clusters=9)"
   ]
  },
  {
   "cell_type": "code",
   "execution_count": 31,
   "metadata": {},
   "outputs": [
    {
     "name": "stdout",
     "output_type": "stream",
     "text": [
      "[13204 14072  7765 13284  2579  1434 15378 10228  7502]\n",
      "[[], [434], [579], [], [], [], [], [765, 502], [], [], [228], [], [], [204, 284], [72], [378]]\n"
     ]
    }
   ],
   "source": [
    "print(medoid_indices)\n",
    "print(selected_idxs)\n",
    "#print(batch_indices)"
   ]
  },
  {
   "cell_type": "code",
   "execution_count": 32,
   "metadata": {},
   "outputs": [],
   "source": [
    "medoid_indices = torch.tensor(medoid_indices)\n",
    "torch.save(medoid_indices, \"/home/students/tyang/Documents/medoid_indices_k5_medoids9.pt\")"
   ]
  },
  {
   "cell_type": "code",
   "execution_count": 34,
   "metadata": {},
   "outputs": [],
   "source": [
    "merged_datas = {\"image_path\": [], \"label\": []}\n",
    "for  i, train_data in enumerate(data_module.train_dataloader()):\n",
    "    selected_data = ( {\"image_path\": train_data[\"image_path\"][selected_idx], \"label\": train_data[\"label\"][selected_idx]} for selected_idx in selected_idxs[i] )\n",
    "    \n",
    "    \n",
    "    for data in selected_data:\n",
    "        for key, values in data.items():\n",
    "            merged_datas[key].append(values)\n",
    "    \n",
    "\n"
   ]
  },
  {
   "cell_type": "code",
   "execution_count": 35,
   "metadata": {},
   "outputs": [
    {
     "name": "stdout",
     "output_type": "stream",
     "text": [
      "['/home/students/tyang/yolov5results/cat0/crops/od/TRAIN001634.jpg', '/home/students/tyang/yolov5results/cat0/crops/od/TRAIN002950.jpg', '/home/students/tyang/yolov5results/cat0/crops/od/TRAIN008900.jpg', '/home/students/tyang/yolov5results/cat0/crops/od/TRAIN008602.jpg', '/home/students/tyang/yolov5results/cat0/crops/od/TRAIN011741.jpg', '/home/students/tyang/yolov5results/cat0/crops/od/TRAIN015148.jpg', '/home/students/tyang/yolov5results/cat0/crops/od/TRAIN015240.jpg', '/home/students/tyang/yolov5results/cat0/crops/od/TRAIN016165.jpg', '/home/students/tyang/yolov5results/cat0/crops/od/TRAIN017671.jpg']\n"
     ]
    }
   ],
   "source": [
    "print(merged_datas[\"image_path\"])"
   ]
  },
  {
   "cell_type": "code",
   "execution_count": 36,
   "metadata": {},
   "outputs": [
    {
     "name": "stdout",
     "output_type": "stream",
     "text": [
      "9\n"
     ]
    }
   ],
   "source": [
    "print(len(merged_datas[\"image_path\"]))"
   ]
  },
  {
   "cell_type": "code",
   "execution_count": 37,
   "metadata": {},
   "outputs": [],
   "source": [
    "import csv \n",
    "\n",
    "csv_path = \"/home/students/tyang/Documents/category0_k5_medoides9.csv\"\n",
    "\n",
    "\n",
    "with open(csv_path, mode=\"w\", newline=\"\") as csv_file:\n",
    "        fieldnames = [\"image_path\", \"label\"]\n",
    "        writer = csv.DictWriter(csv_file, fieldnames=fieldnames)\n",
    "        for i in range(len(merged_datas[\"image_path\"])):\n",
    "            rowdict = {\"image_path\": merged_datas[\"image_path\"][i], \"label\": merged_datas[\"label\"][i]}\n",
    "            writer.writerow(rowdict)"
   ]
  }
 ],
 "metadata": {
  "kernelspec": {
   "display_name": "Python 3",
   "language": "python",
   "name": "python3"
  },
  "language_info": {
   "codemirror_mode": {
    "name": "ipython",
    "version": 3
   },
   "file_extension": ".py",
   "mimetype": "text/x-python",
   "name": "python",
   "nbconvert_exporter": "python",
   "pygments_lexer": "ipython3",
   "version": "3.10.13"
  }
 },
 "nbformat": 4,
 "nbformat_minor": 2
}
