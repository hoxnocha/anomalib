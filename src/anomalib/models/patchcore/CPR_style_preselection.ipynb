{
 "cells": [
  {
   "cell_type": "code",
   "execution_count": 2,
   "metadata": {},
   "outputs": [
    {
     "name": "stderr",
     "output_type": "stream",
     "text": [
      "/work/scratch/tyang/miniconda3/env/anomalib_env/lib/python3.10/site-packages/tqdm/auto.py:21: TqdmWarning: IProgress not found. Please update jupyter and ipywidgets. See https://ipywidgets.readthedocs.io/en/stable/user_install.html\n",
      "  from .autonotebook import tqdm as notebook_tqdm\n"
     ]
    }
   ],
   "source": [
    "import numpy as np  \n",
    "from matplotlib import pyplot as plt \n",
    "from PIL import Image    \n",
    "import torch\n",
    "\n",
    "from anomalib.config import get_configurable_parameters\n",
    "from anomalib.data import get_datamodule\n",
    "from anomalib.models import get_model\n",
    "from anomalib.models.components import feature_extractors\n",
    "import torchvision\n",
    "from anomalib.models.components.feature_extractors import TorchFXFeatureExtractor\n",
    "from torchvision.models.densenet import DenseNet201_Weights\n",
    "import torch.nn.functional as F\n",
    "from anomalib.models.components.cluster.kmeans import KMeans\n",
    "import torchvision.models as models"
   ]
  },
  {
   "cell_type": "code",
   "execution_count": 3,
   "metadata": {},
   "outputs": [
    {
     "name": "stdout",
     "output_type": "stream",
     "text": [
      "dataset:\n",
      "  name: airogs\n",
      "  format: airogs\n",
      "  path: /home/students/tyang/airogs \n",
      "  task: classification # options: [classification, segmentation]\n",
      "  category: 0\n",
      "  number_of_samples: 17999\n",
      "  pre_selection: False\n",
      "  train_batch_size: 1000\n",
      "  eval_batch_size: 32\n",
      "  num_workers: 8\n",
      "  image_size: 256 # dimensions to which images are resized (mandatory)\n",
      "  center_crop: 224 # dimensions to which images are center-cropped after resizing (optional)\n",
      "  normalization: imagenet # data distribution to which the images will be normalized: [none, imagenet]\n",
      "  transform_config:\n",
      "    train: null\n",
      "    eval: null\n",
      "  test_split_mode: from_dir # options: [from_dir, synthetic]\n",
      "  test_split_ratio: 0.2 # fraction of train images held out testing (usage depends on test_split_mode)\n",
      "  val_split_mode: same_as_test # options: [same_as_test, from_test, synthetic]\n",
      "  val_split_ratio: 0.2 # fraction of train/test images held out for validation (usage depends on val_split_mode)\n",
      "  tiling:\n",
      "    apply: false\n",
      "    tile_size: null\n",
      "    stride: null\n",
      "    remove_border_count: 0\n",
      "    use_random_tiling: False\n",
      "    random_tile_count: 16\n",
      "\n",
      "model:\n",
      "  name: patchcore\n",
      "  backbone: wide_resnet50_2\n",
      "  pre_trained: true\n",
      "  layers:\n",
      "    - layer2\n",
      "    - layer3\n",
      "  coreset_sampling_ratio: 0.2\n",
      "\n",
      "  num_neighbors: 5\n",
      "  normalization_method: min_max # options: [null, min_max, cdf]\n",
      "\n",
      "metrics:\n",
      "  image:\n",
      "    - F1Score\n",
      "    - AUROC\n",
      "  pixel:\n",
      "    - F1Score\n",
      "    - AUROC\n",
      "  threshold:\n",
      "    method: adaptive #options: [adaptive, manual]\n",
      "    manual_image: null\n",
      "    manual_pixel: null\n",
      "\n",
      "visualization:\n",
      "  show_images: False # show images on the screen\n",
      "  save_images: True # save images to the file system\n",
      "  log_images: True # log images to the available loggers (if any)\n",
      "  image_save_path: null # path to which images will be saved\n",
      "  mode: full # options: [\"full\", \"simple\"]\n",
      "\n",
      "project:\n",
      "  seed: 0\n",
      "  path: ./results\n",
      "\n",
      "logging:\n",
      "  logger: [] # options: [comet, tensorboard, wandb, csv] or combinations.\n",
      "  log_graph: false # Logs the model graph to respective logger.\n",
      "\n",
      "optimization:\n",
      "  export_mode: null # options: onnx, openvino\n",
      "\n",
      "# PL Trainer Args. Don't add extra parameter here.\n",
      "trainer:\n",
      "  enable_checkpointing: true\n",
      "  default_root_dir: null\n",
      "  gradient_clip_val: 0\n",
      "  gradient_clip_algorithm: norm\n",
      "  num_nodes: 1\n",
      "  devices: 1\n",
      "  enable_progress_bar: true\n",
      "  overfit_batches: 0.0\n",
      "  track_grad_norm: -1\n",
      "  check_val_every_n_epoch: 1 # Don't validate before extracting features.\n",
      "  fast_dev_run: false\n",
      "  accumulate_grad_batches: 1\n",
      "  max_epochs: 1\n",
      "  min_epochs: null\n",
      "  max_steps: -1\n",
      "  min_steps: null\n",
      "  max_time: null\n",
      "  limit_train_batches: 1.0\n",
      "  limit_val_batches: 1.0\n",
      "  limit_test_batches: 1.0\n",
      "  limit_predict_batches: 1.0\n",
      "  val_check_interval: 1.0 # Don't validate before extracting features.\n",
      "  log_every_n_steps: 50\n",
      "  accelerator: auto # <\"cpu\", \"gpu\", \"tpu\", \"ipu\", \"hpu\", \"auto\">\n",
      "  strategy: null\n",
      "  sync_batchnorm: false\n",
      "  precision: 32\n",
      "  enable_model_summary: true\n",
      "  num_sanity_val_steps: 0\n",
      "  profiler: null\n",
      "  benchmark: false\n",
      "  deterministic: false\n",
      "  reload_dataloaders_every_n_epochs: 0\n",
      "  auto_lr_find: false\n",
      "  replace_sampler_ddp: true\n",
      "  detect_anomaly: false\n",
      "  auto_scale_batch_size: false\n",
      "  plugins: null\n",
      "  move_metrics_to_cpu: false\n",
      "  multiple_trainloader_mode: max_size_cycle\n",
      "\n"
     ]
    },
    {
     "name": "stderr",
     "output_type": "stream",
     "text": [
      "/home/students/tyang/anomalib/src/anomalib/config/config.py:243: UserWarning: The seed value is now fixed to 0. Up to v0.3.7, the seed was not fixed when the seed value was set to 0. If you want to use the random seed, please select `None` for the seed value (`null` in the YAML file) or remove the `seed` key from the YAML file.\n",
      "  warn(\n",
      "/home/students/tyang/anomalib/src/anomalib/config/config.py:280: UserWarning: config.project.unique_dir is set to False. This does not ensure that your results will be written in an empty directory and you may overwrite files.\n",
      "  warn(\n"
     ]
    }
   ],
   "source": [
    "MODEL = \"patchcore\"\n",
    "CONFIG_PATH = f\"/home/students/tyang/anomalib/src/anomalib/models/{MODEL}/config.yaml\"\n",
    "with open(file=CONFIG_PATH, mode=\"r\",encoding=\"utf-8\") as f:\n",
    "    print(f.read())\n",
    "    \n",
    "config = get_configurable_parameters(config_path=CONFIG_PATH)\n"
   ]
  },
  {
   "cell_type": "code",
   "execution_count": 4,
   "metadata": {},
   "outputs": [],
   "source": [
    "\n",
    "data_module = get_datamodule(config=config)\n",
    "data_module.prepare_data() # check if the dataset is avaliable\n",
    "data_module.setup()\n",
    "\n",
    "i, train_data = next(enumerate(data_module.train_dataloader()))\n"
   ]
  },
  {
   "cell_type": "code",
   "execution_count": 5,
   "metadata": {},
   "outputs": [
    {
     "name": "stderr",
     "output_type": "stream",
     "text": [
      "/work/scratch/tyang/miniconda3/env/anomalib_env/lib/python3.10/site-packages/torch/overrides.py:110: UserWarning: 'has_cuda' is deprecated, please use 'torch.backends.cuda.is_built()'\n",
      "  torch.has_cuda,\n",
      "/work/scratch/tyang/miniconda3/env/anomalib_env/lib/python3.10/site-packages/torch/overrides.py:111: UserWarning: 'has_cudnn' is deprecated, please use 'torch.backends.cudnn.is_available()'\n",
      "  torch.has_cudnn,\n",
      "/work/scratch/tyang/miniconda3/env/anomalib_env/lib/python3.10/site-packages/torch/overrides.py:117: UserWarning: 'has_mps' is deprecated, please use 'torch.backends.mps.is_built()'\n",
      "  torch.has_mps,\n",
      "/work/scratch/tyang/miniconda3/env/anomalib_env/lib/python3.10/site-packages/torch/overrides.py:118: UserWarning: 'has_mkldnn' is deprecated, please use 'torch.backends.mkldnn.is_available()'\n",
      "  torch.has_mkldnn,\n"
     ]
    }
   ],
   "source": [
    "\n",
    "feature_extractor = TorchFXFeatureExtractor(\n",
    "                    backbone=\"densenet201\",\n",
    "                    return_nodes=[\"features.denseblock1.denselayer6.conv2\"],\n",
    "                    weights=DenseNet201_Weights.IMAGENET1K_V1,\n",
    "                )\n"
   ]
  },
  {
   "cell_type": "code",
   "execution_count": 6,
   "metadata": {},
   "outputs": [
    {
     "name": "stdout",
     "output_type": "stream",
     "text": [
      "torch.Size([1000, 32, 56, 56])\n",
      "torch.Size([1000, 3, 224, 224])\n"
     ]
    }
   ],
   "source": [
    "# feature shape is (batch_size, channel, height, width) \n",
    "feature = feature_extractor(train_data[\"image\"])\n",
    "print(feature[\"features.denseblock1.denselayer6.conv2\"].shape)\n",
    "print(train_data[\"image\"].shape)"
   ]
  },
  {
   "cell_type": "code",
   "execution_count": 7,
   "metadata": {},
   "outputs": [],
   "source": [
    "# extract features from the whol training dataset\n",
    "\n",
    "feature_list = []\n",
    "\n",
    "for  i, train_data in enumerate(data_module.train_dataloader()):\n",
    "    features = feature_extractor(train_data[\"image\"])[\"features.denseblock1.denselayer6.conv2\"]\n",
    "    feature_list.append(features)\n",
    "\n"
   ]
  },
  {
   "cell_type": "code",
   "execution_count": 10,
   "metadata": {},
   "outputs": [],
   "source": [
    "# convert the list of features to a tensor\n",
    "global_feature_tensor = torch.vstack(feature_list)   "
   ]
  },
  {
   "cell_type": "code",
   "execution_count": 11,
   "metadata": {},
   "outputs": [
    {
     "name": "stdout",
     "output_type": "stream",
     "text": [
      "torch.Size([13918, 32, 56, 56])\n"
     ]
    }
   ],
   "source": [
    "# global feature shape is (train_data size, channel, height, width)\n",
    "print(global_feature_tensor.shape)"
   ]
  },
  {
   "cell_type": "code",
   "execution_count": 12,
   "metadata": {},
   "outputs": [],
   "source": [
    "from anomalib.models.components.cluster.kmeans import KMeans\n",
    "\n",
    "def get_kmeans_centers(feature_t, n_clusters):\n",
    "    \"\"\"\n",
    "    Args:\n",
    "        feature_t: feature tensor, shape is (batch_size, channel, height, width)\n",
    "        n_clusters: number of clusters\n",
    "        \n",
    "    Returns:\n",
    "        cluster_center: shape is (n_clusters, channel)\n",
    "        kmeans: kmeans model   \"\"\"\n",
    "    \n",
    "    feature_t = feature_t.permute(1,0,2,3)\n",
    "    feature_t = feature_t.flatten(start_dim=1)\n",
    "    feature_t= feature_t.permute(1,0)\n",
    "\n",
    "\n",
    "    kmeans = KMeans(n_clusters=n_clusters)\n",
    "    kmeans.fit(feature_t)\n",
    "    cluster_center = kmeans.cluster_centers_\n",
    "   \n",
    "    return cluster_center, kmeans\n",
    "\n"
   ]
  },
  {
   "cell_type": "code",
   "execution_count": 13,
   "metadata": {},
   "outputs": [
    {
     "name": "stdout",
     "output_type": "stream",
     "text": [
      "torch.Size([12, 32])\n",
      "12\n"
     ]
    }
   ],
   "source": [
    "clusters_centers,kmeans = get_kmeans_centers(global_feature_tensor, n_clusters=12)\n",
    "\n",
    "print(clusters_centers.shape)\n",
    "print(len(clusters_centers))"
   ]
  },
  {
   "cell_type": "code",
   "execution_count": 15,
   "metadata": {},
   "outputs": [],
   "source": [
    "def bag_of_words_statistics(Ptst, Cref, S):\n",
    "    \"\"\"\n",
    "    Params:\n",
    "    Ptst: Feature tensor of a set of images, tensor of shape (N, C, H, W)\n",
    "    Cref: reference Cluster centers, tensor of shape (K, C)\n",
    "    S: number of subregions per image dimension, integer\n",
    "\n",
    "    Returns:\n",
    "    bow_stats: list of normalized Bag-of-words statistics, possibility-like , length N, each element is a tensor of shape (S * S, K)\n",
    "    \"\"\"\n",
    "    Ptst = torch.vsplit(Ptst, Ptst.shape[0])\n",
    "    bow_stats = []\n",
    "    for Itst in Ptst:\n",
    "        Itst = Itst.squeeze(0)\n",
    "        \n",
    "        subtensors = torch.chunk(Itst, S, dim=1)\n",
    "        subtensor = [torch.chunk(st, S, dim=2) for st in subtensors]\n",
    "        \n",
    "        \n",
    "        image_bow_stats = torch.zeros(S * S, len(Cref), dtype=torch.float32)\n",
    "        for i in range(S):\n",
    "            for j in range(S):\n",
    "                new_subtensor = subtensor[i][j]\n",
    "                \n",
    "                new_subtensor = new_subtensor.flatten(start_dim=1)\n",
    "                \n",
    "                new_subtensor = new_subtensor.permute(1,0)\n",
    "                \n",
    "                cluster_idx = kmeans.predict(new_subtensor)\n",
    "                \n",
    "                cluster_idx = cluster_idx.float()\n",
    "                hist = torch.histc(cluster_idx, bins = len(Cref), min = torch.min(cluster_idx), max = torch.max(cluster_idx))\n",
    "                normalized_hist = hist / torch.sum(hist)\n",
    "                \n",
    "                image_bow_stats[i * S + j] = normalized_hist\n",
    "        \n",
    "\n",
    "        bow_stats.append(image_bow_stats)\n",
    "            \n",
    "        \n",
    "    return bow_stats\n"
   ]
  },
  {
   "cell_type": "code",
   "execution_count": 16,
   "metadata": {},
   "outputs": [],
   "source": [
    "global_bow_stats = bag_of_words_statistics(global_feature_tensor, clusters_centers, S=4)"
   ]
  },
  {
   "cell_type": "code",
   "execution_count": 17,
   "metadata": {},
   "outputs": [
    {
     "name": "stdout",
     "output_type": "stream",
     "text": [
      "13918\n",
      "torch.Size([16, 12])\n"
     ]
    }
   ],
   "source": [
    "print(len(global_bow_stats))\n",
    "print(global_bow_stats[0].shape)"
   ]
  },
  {
   "cell_type": "code",
   "execution_count": 18,
   "metadata": {},
   "outputs": [],
   "source": [
    "import torch.nn.functional as F\n",
    "\n",
    "def kl_distance(i_hist, j_hist):\n",
    "    \"\"\"Params:\n",
    "    i_hist: bow histogram of image i, tensor of shape (1, s * s, K )\n",
    "    j_hist: bow histogram of image j, tensor of shape (1, s * s, K )\n",
    "\n",
    "    Returns:\n",
    "    kl_dist: kl distance between image i and image j, tensor of shape (1)\n",
    "    \"\"\"\n",
    "    i_hist[i_hist == 0] = 1e-10\n",
    "    j_hist[j_hist == 0] = 1e-10\n",
    "    kl_divegence = F.kl_div(j_hist.log(), i_hist,reduction=\"none\")\n",
    "    \n",
    "    sum = torch.sum(kl_divegence,dim=-1)\n",
    "    topk,ids = torch.topk(sum, k=11, dim=0, largest=False, sorted=True)\n",
    "   \n",
    "    dist = torch.mean(topk)\n",
    "  \n",
    "    return dist\n",
    "    "
   ]
  },
  {
   "cell_type": "code",
   "execution_count": 19,
   "metadata": {},
   "outputs": [],
   "source": [
    "def kl_select(bow_stats, select_ratio, step_size):\n",
    "    \"\"\"\n",
    "    Params:\n",
    "    bow_stats: list of normalized Bag-of-words statistics, possibility-like , length N, each element is a tensor of shape (S * S, K)\n",
    "    select_ratio: ratio of selected images compare to all images, float\n",
    "    step_size: batch size, used for big taining dataset, integer\n",
    "\n",
    "    Returns:\n",
    "    selected_idx: list of selected image indices in each batch, length number of batches, each element has the size of batch_size * select_ratio\n",
    "    \"\"\"\n",
    "    \n",
    "    stacked_bow_stats = torch.vstack(bow_stats)\n",
    "    stacked_bow_stats_reshaped = stacked_bow_stats.view(len(bow_stats),1,bow_stats[0].shape[0],bow_stats[0].shape[1])\n",
    "    stacked_bow_stats_transposed = stacked_bow_stats_reshaped.permute(1,0,2,3)\n",
    "\n",
    "    stacked_bow_stats_reshaped[stacked_bow_stats_reshaped == 0 ] = 1e-10\n",
    "    stacked_bow_stats_transposed[stacked_bow_stats_transposed == 0 ] = 1e-10\n",
    "\n",
    "    selected_idxs =[]\n",
    "    selected_distances = []\n",
    "    for i in range(0, stacked_bow_stats_reshaped.shape[0], step_size):\n",
    "        current_bow = stacked_bow_stats_reshaped[i:i+step_size if i+step_size < stacked_bow_stats_reshaped.shape[0] else stacked_bow_stats_reshaped.shape[0], :, :, :]\n",
    "        kl_divegence = F.kl_div(current_bow.log(), stacked_bow_stats_transposed,reduction=\"none\")\n",
    "\n",
    "        sum = torch.sum(kl_divegence,dim=3)\n",
    "        topk,ids = torch.topk(sum, k=11, dim=2, largest=False, sorted=True)\n",
    "        dist_matrix = torch.mean(topk,dim=2)\n",
    "  \n",
    "        dist_l = torch.sum(dist_matrix,dim=1)\n",
    "        topk_far_distances,idx = torch.topk(dist_l, k=int(len(dist_l) * select_ratio), dim=0, largest=True, sorted=True)\n",
    "     \n",
    "        selected_idxs.append(idx)\n",
    "        selected_distances.append(topk_far_distances)\n",
    "    \n",
    "    return selected_idxs, selected_distances"
   ]
  },
  {
   "cell_type": "code",
   "execution_count": 20,
   "metadata": {},
   "outputs": [
    {
     "ename": "",
     "evalue": "",
     "output_type": "error",
     "traceback": [
      "\u001b[1;31mThe Kernel crashed while executing code in the the current cell or a previous cell. Please review the code in the cell(s) to identify a possible cause of the failure. Click <a href='https://aka.ms/vscodeJupyterKernelCrash'>here</a> for more info. View Jupyter <a href='command:jupyter.viewOutput'>log</a> for further details."
     ]
    }
   ],
   "source": [
    "idxs,distances = kl_select(global_bow_stats, select_ratio=0.1, step_size=1000)"
   ]
  },
  {
   "cell_type": "code",
   "execution_count": null,
   "metadata": {},
   "outputs": [],
   "source": [
    "stack_distances = torch.cat(distances)\n",
    "print(stack_distances.shape)"
   ]
  },
  {
   "cell_type": "code",
   "execution_count": null,
   "metadata": {},
   "outputs": [],
   "source": [
    "def second_selection(index, distance, select_ratio):\n",
    "    \"\"\"\n",
    "    Params:\n",
    "    idxs: list of selected image indices in each batch , length number of batches\n",
    "    distances: list of selected image distances, length number of batches\n",
    "    select_ratio: ratio of selected images compare to all images, float\n",
    "\n",
    "    Returns:\n",
    "    selected_idx: list of selected image indices with biggest distances over all in each batches, length number of batches\n",
    "    \"\"\"\n",
    "    selected_distances = [[] for _ in range(len(distance))]\n",
    "    distance = torch.cat(distance)\n",
    "    topk, global_ids = torch.topk(distance, k=int(len(distance) * select_ratio), dim=0, largest=True, sorted=True)\n",
    "    \n",
    "    selected_idxs = [[] for _ in range(len(index))]\n",
    "    \n",
    "    for global_id in global_ids:\n",
    "        batch_id = global_id // index[0].shape[0]\n",
    "        local_id = global_id % index[0].shape[0]\n",
    "        selected_idxs[batch_id].append(index[batch_id][local_id])\n",
    "        selected_distances[batch_id].append(distance[global_id])\n",
    "        \n",
    "    \n",
    "    return selected_idxs, selected_distances"
   ]
  },
  {
   "cell_type": "code",
   "execution_count": 17,
   "metadata": {},
   "outputs": [
    {
     "ename": "NameError",
     "evalue": "name 'second_selection' is not defined",
     "output_type": "error",
     "traceback": [
      "\u001b[0;31m---------------------------------------------------------------------------\u001b[0m",
      "\u001b[0;31mNameError\u001b[0m                                 Traceback (most recent call last)",
      "\u001b[1;32m/home/students/tyang/anomalib/src/anomalib/models/patchcore/CPR_style_preselection.ipynb Cell 18\u001b[0m line \u001b[0;36m1\n\u001b[0;32m----> <a href='vscode-notebook-cell:/home/students/tyang/anomalib/src/anomalib/models/patchcore/CPR_style_preselection.ipynb#X22sZmlsZQ%3D%3D?line=0'>1</a>\u001b[0m selected_idxs,selected_distances \u001b[39m=\u001b[39m second_selection(idxs, distances, select_ratio\u001b[39m=\u001b[39m\u001b[39m0.5\u001b[39m)\n",
      "\u001b[0;31mNameError\u001b[0m: name 'second_selection' is not defined"
     ]
    }
   ],
   "source": [
    "second_indices,second_dists = second_selection(idxs, distances, select_ratio=0.75)"
   ]
  },
  {
   "cell_type": "code",
   "execution_count": 18,
   "metadata": {},
   "outputs": [
    {
     "name": "stdout",
     "output_type": "stream",
     "text": [
      "14\n"
     ]
    }
   ],
   "source": [
    "print(len(second_indices))\n",
    "print(len(second_dists))\n",
    "print(second_indices[0])\n",
    "print(second_indices[0].shape)"
   ]
  },
  {
   "cell_type": "code",
   "execution_count": 19,
   "metadata": {},
   "outputs": [
    {
     "name": "stdout",
     "output_type": "stream",
     "text": [
      "['/home/students/tyang/airogs/0/TRAIN001072.jpg', '/home/students/tyang/airogs/0/TRAIN000970.jpg', '/home/students/tyang/airogs/0/TRAIN000580.jpg', '/home/students/tyang/airogs/0/TRAIN001220.jpg', '/home/students/tyang/airogs/0/TRAIN000946.jpg', '/home/students/tyang/airogs/0/TRAIN000845.jpg', '/home/students/tyang/airogs/0/TRAIN001168.jpg', '/home/students/tyang/airogs/0/TRAIN001163.jpg', '/home/students/tyang/airogs/0/TRAIN000967.jpg', '/home/students/tyang/airogs/0/TRAIN000975.jpg', '/home/students/tyang/airogs/0/TRAIN001088.jpg', '/home/students/tyang/airogs/0/TRAIN000585.jpg', '/home/students/tyang/airogs/0/TRAIN000158.jpg', '/home/students/tyang/airogs/0/TRAIN000718.jpg', '/home/students/tyang/airogs/0/TRAIN000822.jpg', '/home/students/tyang/airogs/0/TRAIN001177.jpg', '/home/students/tyang/airogs/0/TRAIN000870.jpg', '/home/students/tyang/airogs/0/TRAIN000015.jpg', '/home/students/tyang/airogs/0/TRAIN000841.jpg', '/home/students/tyang/airogs/0/TRAIN000093.jpg', '/home/students/tyang/airogs/0/TRAIN000182.jpg', '/home/students/tyang/airogs/0/TRAIN000313.jpg', '/home/students/tyang/airogs/0/TRAIN000011.jpg', '/home/students/tyang/airogs/0/TRAIN001008.jpg', '/home/students/tyang/airogs/0/TRAIN000046.jpg', '/home/students/tyang/airogs/0/TRAIN001030.jpg', '/home/students/tyang/airogs/0/TRAIN000427.jpg', '/home/students/tyang/airogs/0/TRAIN000838.jpg', '/home/students/tyang/airogs/0/TRAIN000033.jpg', '/home/students/tyang/airogs/0/TRAIN001228.jpg', '/home/students/tyang/airogs/0/TRAIN000356.jpg', '/home/students/tyang/airogs/0/TRAIN001093.jpg', '/home/students/tyang/airogs/0/TRAIN000444.jpg', '/home/students/tyang/airogs/0/TRAIN000528.jpg', '/home/students/tyang/airogs/0/TRAIN000065.jpg', '/home/students/tyang/airogs/0/TRAIN000351.jpg', '/home/students/tyang/airogs/0/TRAIN000928.jpg', '/home/students/tyang/airogs/0/TRAIN000785.jpg', '/home/students/tyang/airogs/0/TRAIN000954.jpg', '/home/students/tyang/airogs/0/TRAIN000145.jpg', '/home/students/tyang/airogs/0/TRAIN000506.jpg', '/home/students/tyang/airogs/0/TRAIN000820.jpg', '/home/students/tyang/airogs/0/TRAIN001006.jpg', '/home/students/tyang/airogs/0/TRAIN000335.jpg', '/home/students/tyang/airogs/0/TRAIN000041.jpg', '/home/students/tyang/airogs/0/TRAIN001078.jpg', '/home/students/tyang/airogs/0/TRAIN000082.jpg', '/home/students/tyang/airogs/0/TRAIN000361.jpg', '/home/students/tyang/airogs/0/TRAIN000902.jpg', '/home/students/tyang/airogs/0/TRAIN001114.jpg', '/home/students/tyang/airogs/0/TRAIN000947.jpg', '/home/students/tyang/airogs/0/TRAIN001203.jpg', '/home/students/tyang/airogs/0/TRAIN000425.jpg', '/home/students/tyang/airogs/0/TRAIN000316.jpg', '/home/students/tyang/airogs/0/TRAIN001282.jpg', '/home/students/tyang/airogs/0/TRAIN001292.jpg', '/home/students/tyang/airogs/0/TRAIN000654.jpg', '/home/students/tyang/airogs/0/TRAIN000797.jpg', '/home/students/tyang/airogs/0/TRAIN000403.jpg', '/home/students/tyang/airogs/0/TRAIN000069.jpg', '/home/students/tyang/airogs/0/TRAIN001166.jpg', '/home/students/tyang/airogs/0/TRAIN000893.jpg', '/home/students/tyang/airogs/0/TRAIN000686.jpg', '/home/students/tyang/airogs/0/TRAIN000408.jpg', '/home/students/tyang/airogs/0/TRAIN000743.jpg', '/home/students/tyang/airogs/0/TRAIN000825.jpg', '/home/students/tyang/airogs/0/TRAIN000023.jpg', '/home/students/tyang/airogs/0/TRAIN001104.jpg', '/home/students/tyang/airogs/0/TRAIN000290.jpg', '/home/students/tyang/airogs/0/TRAIN000260.jpg', '/home/students/tyang/airogs/0/TRAIN001158.jpg', '/home/students/tyang/airogs/0/TRAIN001064.jpg', '/home/students/tyang/airogs/0/TRAIN000428.jpg', '/home/students/tyang/airogs/0/TRAIN001131.jpg', '/home/students/tyang/airogs/0/TRAIN001031.jpg', '/home/students/tyang/airogs/0/TRAIN001090.jpg', '/home/students/tyang/airogs/0/TRAIN000300.jpg', '/home/students/tyang/airogs/0/TRAIN001140.jpg', '/home/students/tyang/airogs/0/TRAIN000415.jpg', '/home/students/tyang/airogs/0/TRAIN000874.jpg', '/home/students/tyang/airogs/0/TRAIN001184.jpg', '/home/students/tyang/airogs/0/TRAIN000043.jpg', '/home/students/tyang/airogs/0/TRAIN000680.jpg', '/home/students/tyang/airogs/0/TRAIN001289.jpg', '/home/students/tyang/airogs/0/TRAIN000388.jpg', '/home/students/tyang/airogs/0/TRAIN000557.jpg', '/home/students/tyang/airogs/0/TRAIN000669.jpg', '/home/students/tyang/airogs/0/TRAIN000289.jpg', '/home/students/tyang/airogs/0/TRAIN001193.jpg', '/home/students/tyang/airogs/0/TRAIN001094.jpg', '/home/students/tyang/airogs/0/TRAIN000513.jpg', '/home/students/tyang/airogs/0/TRAIN000268.jpg', '/home/students/tyang/airogs/0/TRAIN000758.jpg', '/home/students/tyang/airogs/0/TRAIN001040.jpg', '/home/students/tyang/airogs/0/TRAIN001058.jpg', '/home/students/tyang/airogs/0/TRAIN000674.jpg', '/home/students/tyang/airogs/0/TRAIN000829.jpg', '/home/students/tyang/airogs/0/TRAIN000186.jpg', '/home/students/tyang/airogs/0/TRAIN000727.jpg', '/home/students/tyang/airogs/0/TRAIN000913.jpg', '/home/students/tyang/airogs/0/TRAIN001499.jpg', '/home/students/tyang/airogs/0/TRAIN002240.jpg', '/home/students/tyang/airogs/0/TRAIN001861.jpg', '/home/students/tyang/airogs/0/TRAIN001343.jpg', '/home/students/tyang/airogs/0/TRAIN002347.jpg', '/home/students/tyang/airogs/0/TRAIN001769.jpg', '/home/students/tyang/airogs/0/TRAIN001442.jpg', '/home/students/tyang/airogs/0/TRAIN001566.jpg', '/home/students/tyang/airogs/0/TRAIN002248.jpg', '/home/students/tyang/airogs/0/TRAIN001347.jpg', '/home/students/tyang/airogs/0/TRAIN001564.jpg', '/home/students/tyang/airogs/0/TRAIN001532.jpg', '/home/students/tyang/airogs/0/TRAIN001582.jpg', '/home/students/tyang/airogs/0/TRAIN002024.jpg', '/home/students/tyang/airogs/0/TRAIN002521.jpg', '/home/students/tyang/airogs/0/TRAIN001689.jpg', '/home/students/tyang/airogs/0/TRAIN001560.jpg', '/home/students/tyang/airogs/0/TRAIN001832.jpg', '/home/students/tyang/airogs/0/TRAIN001464.jpg', '/home/students/tyang/airogs/0/TRAIN002497.jpg', '/home/students/tyang/airogs/0/TRAIN001628.jpg', '/home/students/tyang/airogs/0/TRAIN002103.jpg', '/home/students/tyang/airogs/0/TRAIN002004.jpg', '/home/students/tyang/airogs/0/TRAIN001827.jpg', '/home/students/tyang/airogs/0/TRAIN001565.jpg', '/home/students/tyang/airogs/0/TRAIN001961.jpg', '/home/students/tyang/airogs/0/TRAIN001435.jpg', '/home/students/tyang/airogs/0/TRAIN001600.jpg', '/home/students/tyang/airogs/0/TRAIN001402.jpg', '/home/students/tyang/airogs/0/TRAIN002277.jpg', '/home/students/tyang/airogs/0/TRAIN002010.jpg', '/home/students/tyang/airogs/0/TRAIN002011.jpg', '/home/students/tyang/airogs/0/TRAIN002530.jpg', '/home/students/tyang/airogs/0/TRAIN002320.jpg', '/home/students/tyang/airogs/0/TRAIN001550.jpg', '/home/students/tyang/airogs/0/TRAIN001381.jpg', '/home/students/tyang/airogs/0/TRAIN001816.jpg', '/home/students/tyang/airogs/0/TRAIN001834.jpg', '/home/students/tyang/airogs/0/TRAIN001958.jpg', '/home/students/tyang/airogs/0/TRAIN001474.jpg', '/home/students/tyang/airogs/0/TRAIN002058.jpg', '/home/students/tyang/airogs/0/TRAIN002398.jpg', '/home/students/tyang/airogs/0/TRAIN002135.jpg', '/home/students/tyang/airogs/0/TRAIN002447.jpg', '/home/students/tyang/airogs/0/TRAIN002401.jpg', '/home/students/tyang/airogs/0/TRAIN002257.jpg', '/home/students/tyang/airogs/0/TRAIN002036.jpg', '/home/students/tyang/airogs/0/TRAIN001859.jpg', '/home/students/tyang/airogs/0/TRAIN002249.jpg', '/home/students/tyang/airogs/0/TRAIN002187.jpg', '/home/students/tyang/airogs/0/TRAIN001326.jpg', '/home/students/tyang/airogs/0/TRAIN001557.jpg', '/home/students/tyang/airogs/0/TRAIN002344.jpg', '/home/students/tyang/airogs/0/TRAIN001578.jpg', '/home/students/tyang/airogs/0/TRAIN001452.jpg', '/home/students/tyang/airogs/0/TRAIN001940.jpg', '/home/students/tyang/airogs/0/TRAIN001373.jpg', '/home/students/tyang/airogs/0/TRAIN001897.jpg', '/home/students/tyang/airogs/0/TRAIN002026.jpg', '/home/students/tyang/airogs/0/TRAIN002014.jpg', '/home/students/tyang/airogs/0/TRAIN002459.jpg', '/home/students/tyang/airogs/0/TRAIN001823.jpg', '/home/students/tyang/airogs/0/TRAIN001335.jpg', '/home/students/tyang/airogs/0/TRAIN001872.jpg', '/home/students/tyang/airogs/0/TRAIN001687.jpg', '/home/students/tyang/airogs/0/TRAIN002002.jpg', '/home/students/tyang/airogs/0/TRAIN001371.jpg', '/home/students/tyang/airogs/0/TRAIN001574.jpg', '/home/students/tyang/airogs/0/TRAIN002425.jpg', '/home/students/tyang/airogs/0/TRAIN002420.jpg', '/home/students/tyang/airogs/0/TRAIN002302.jpg', '/home/students/tyang/airogs/0/TRAIN001389.jpg', '/home/students/tyang/airogs/0/TRAIN001374.jpg', '/home/students/tyang/airogs/0/TRAIN001694.jpg', '/home/students/tyang/airogs/0/TRAIN002389.jpg', '/home/students/tyang/airogs/0/TRAIN002340.jpg', '/home/students/tyang/airogs/0/TRAIN001607.jpg', '/home/students/tyang/airogs/0/TRAIN002380.jpg', '/home/students/tyang/airogs/0/TRAIN001963.jpg', '/home/students/tyang/airogs/0/TRAIN001468.jpg', '/home/students/tyang/airogs/0/TRAIN002224.jpg', '/home/students/tyang/airogs/0/TRAIN001495.jpg', '/home/students/tyang/airogs/0/TRAIN001386.jpg', '/home/students/tyang/airogs/0/TRAIN001952.jpg', '/home/students/tyang/airogs/0/TRAIN002366.jpg', '/home/students/tyang/airogs/0/TRAIN001300.jpg', '/home/students/tyang/airogs/0/TRAIN001796.jpg', '/home/students/tyang/airogs/0/TRAIN001662.jpg', '/home/students/tyang/airogs/0/TRAIN002527.jpg', '/home/students/tyang/airogs/0/TRAIN001500.jpg', '/home/students/tyang/airogs/0/TRAIN001677.jpg', '/home/students/tyang/airogs/0/TRAIN001324.jpg', '/home/students/tyang/airogs/0/TRAIN002119.jpg', '/home/students/tyang/airogs/0/TRAIN001875.jpg', '/home/students/tyang/airogs/0/TRAIN002552.jpg', '/home/students/tyang/airogs/0/TRAIN002439.jpg', '/home/students/tyang/airogs/0/TRAIN001949.jpg', '/home/students/tyang/airogs/0/TRAIN002143.jpg', '/home/students/tyang/airogs/0/TRAIN002513.jpg', '/home/students/tyang/airogs/0/TRAIN002538.jpg', '/home/students/tyang/airogs/0/TRAIN002600.jpg', '/home/students/tyang/airogs/0/TRAIN003328.jpg', '/home/students/tyang/airogs/0/TRAIN003517.jpg', '/home/students/tyang/airogs/0/TRAIN003518.jpg', '/home/students/tyang/airogs/0/TRAIN003254.jpg', '/home/students/tyang/airogs/0/TRAIN002663.jpg', '/home/students/tyang/airogs/0/TRAIN003579.jpg', '/home/students/tyang/airogs/0/TRAIN002989.jpg', '/home/students/tyang/airogs/0/TRAIN003244.jpg', '/home/students/tyang/airogs/0/TRAIN003053.jpg', '/home/students/tyang/airogs/0/TRAIN003544.jpg', '/home/students/tyang/airogs/0/TRAIN003333.jpg', '/home/students/tyang/airogs/0/TRAIN003728.jpg', '/home/students/tyang/airogs/0/TRAIN003605.jpg', '/home/students/tyang/airogs/0/TRAIN002666.jpg', '/home/students/tyang/airogs/0/TRAIN002750.jpg', '/home/students/tyang/airogs/0/TRAIN002837.jpg', '/home/students/tyang/airogs/0/TRAIN002985.jpg', '/home/students/tyang/airogs/0/TRAIN002649.jpg', '/home/students/tyang/airogs/0/TRAIN003611.jpg', '/home/students/tyang/airogs/0/TRAIN003270.jpg', '/home/students/tyang/airogs/0/TRAIN003196.jpg', '/home/students/tyang/airogs/0/TRAIN003446.jpg', '/home/students/tyang/airogs/0/TRAIN003788.jpg', '/home/students/tyang/airogs/0/TRAIN003736.jpg', '/home/students/tyang/airogs/0/TRAIN003387.jpg', '/home/students/tyang/airogs/0/TRAIN002882.jpg', '/home/students/tyang/airogs/0/TRAIN003388.jpg', '/home/students/tyang/airogs/0/TRAIN003051.jpg', '/home/students/tyang/airogs/0/TRAIN003299.jpg', '/home/students/tyang/airogs/0/TRAIN003442.jpg', '/home/students/tyang/airogs/0/TRAIN003178.jpg', '/home/students/tyang/airogs/0/TRAIN002866.jpg', '/home/students/tyang/airogs/0/TRAIN002938.jpg', '/home/students/tyang/airogs/0/TRAIN003499.jpg', '/home/students/tyang/airogs/0/TRAIN002806.jpg', '/home/students/tyang/airogs/0/TRAIN002805.jpg', '/home/students/tyang/airogs/0/TRAIN003477.jpg', '/home/students/tyang/airogs/0/TRAIN003224.jpg', '/home/students/tyang/airogs/0/TRAIN003372.jpg', '/home/students/tyang/airogs/0/TRAIN003612.jpg', '/home/students/tyang/airogs/0/TRAIN003689.jpg', '/home/students/tyang/airogs/0/TRAIN003273.jpg', '/home/students/tyang/airogs/0/TRAIN003338.jpg', '/home/students/tyang/airogs/0/TRAIN002695.jpg', '/home/students/tyang/airogs/0/TRAIN003034.jpg', '/home/students/tyang/airogs/0/TRAIN002874.jpg', '/home/students/tyang/airogs/0/TRAIN002992.jpg', '/home/students/tyang/airogs/0/TRAIN002821.jpg', '/home/students/tyang/airogs/0/TRAIN003415.jpg', '/home/students/tyang/airogs/0/TRAIN003317.jpg', '/home/students/tyang/airogs/0/TRAIN003699.jpg', '/home/students/tyang/airogs/0/TRAIN003325.jpg', '/home/students/tyang/airogs/0/TRAIN002919.jpg', '/home/students/tyang/airogs/0/TRAIN002904.jpg', '/home/students/tyang/airogs/0/TRAIN002887.jpg', '/home/students/tyang/airogs/0/TRAIN003449.jpg', '/home/students/tyang/airogs/0/TRAIN003748.jpg', '/home/students/tyang/airogs/0/TRAIN003036.jpg', '/home/students/tyang/airogs/0/TRAIN002875.jpg', '/home/students/tyang/airogs/0/TRAIN002794.jpg', '/home/students/tyang/airogs/0/TRAIN003546.jpg', '/home/students/tyang/airogs/0/TRAIN002903.jpg', '/home/students/tyang/airogs/0/TRAIN003114.jpg', '/home/students/tyang/airogs/0/TRAIN003294.jpg', '/home/students/tyang/airogs/0/TRAIN003284.jpg', '/home/students/tyang/airogs/0/TRAIN003656.jpg', '/home/students/tyang/airogs/0/TRAIN002609.jpg', '/home/students/tyang/airogs/0/TRAIN003570.jpg', '/home/students/tyang/airogs/0/TRAIN003583.jpg', '/home/students/tyang/airogs/0/TRAIN003555.jpg', '/home/students/tyang/airogs/0/TRAIN003799.jpg', '/home/students/tyang/airogs/0/TRAIN002873.jpg', '/home/students/tyang/airogs/0/TRAIN003360.jpg', '/home/students/tyang/airogs/0/TRAIN003596.jpg', '/home/students/tyang/airogs/0/TRAIN003303.jpg', '/home/students/tyang/airogs/0/TRAIN002931.jpg', '/home/students/tyang/airogs/0/TRAIN003001.jpg', '/home/students/tyang/airogs/0/TRAIN002809.jpg', '/home/students/tyang/airogs/0/TRAIN002723.jpg', '/home/students/tyang/airogs/0/TRAIN002816.jpg', '/home/students/tyang/airogs/0/TRAIN002966.jpg', '/home/students/tyang/airogs/0/TRAIN003111.jpg', '/home/students/tyang/airogs/0/TRAIN002583.jpg', '/home/students/tyang/airogs/0/TRAIN002756.jpg', '/home/students/tyang/airogs/0/TRAIN003256.jpg', '/home/students/tyang/airogs/0/TRAIN003088.jpg', '/home/students/tyang/airogs/0/TRAIN003712.jpg', '/home/students/tyang/airogs/0/TRAIN003004.jpg', '/home/students/tyang/airogs/0/TRAIN003569.jpg', '/home/students/tyang/airogs/0/TRAIN002740.jpg', '/home/students/tyang/airogs/0/TRAIN003281.jpg', '/home/students/tyang/airogs/0/TRAIN003422.jpg', '/home/students/tyang/airogs/0/TRAIN003407.jpg', '/home/students/tyang/airogs/0/TRAIN003021.jpg', '/home/students/tyang/airogs/0/TRAIN002655.jpg', '/home/students/tyang/airogs/0/TRAIN003033.jpg', '/home/students/tyang/airogs/0/TRAIN003120.jpg', '/home/students/tyang/airogs/0/TRAIN002706.jpg', '/home/students/tyang/airogs/0/TRAIN002857.jpg', '/home/students/tyang/airogs/0/TRAIN004887.jpg', '/home/students/tyang/airogs/0/TRAIN004806.jpg', '/home/students/tyang/airogs/0/TRAIN004234.jpg', '/home/students/tyang/airogs/0/TRAIN004399.jpg', '/home/students/tyang/airogs/0/TRAIN005094.jpg', '/home/students/tyang/airogs/0/TRAIN004215.jpg', '/home/students/tyang/airogs/0/TRAIN005045.jpg', '/home/students/tyang/airogs/0/TRAIN004898.jpg', '/home/students/tyang/airogs/0/TRAIN004531.jpg', '/home/students/tyang/airogs/0/TRAIN005000.jpg', '/home/students/tyang/airogs/0/TRAIN004243.jpg', '/home/students/tyang/airogs/0/TRAIN004079.jpg', '/home/students/tyang/airogs/0/TRAIN004827.jpg', '/home/students/tyang/airogs/0/TRAIN003930.jpg', '/home/students/tyang/airogs/0/TRAIN004457.jpg', '/home/students/tyang/airogs/0/TRAIN004130.jpg', '/home/students/tyang/airogs/0/TRAIN003857.jpg', '/home/students/tyang/airogs/0/TRAIN004209.jpg', '/home/students/tyang/airogs/0/TRAIN004380.jpg', '/home/students/tyang/airogs/0/TRAIN004452.jpg', '/home/students/tyang/airogs/0/TRAIN003870.jpg', '/home/students/tyang/airogs/0/TRAIN003886.jpg', '/home/students/tyang/airogs/0/TRAIN004019.jpg', '/home/students/tyang/airogs/0/TRAIN004200.jpg', '/home/students/tyang/airogs/0/TRAIN004713.jpg', '/home/students/tyang/airogs/0/TRAIN003832.jpg', '/home/students/tyang/airogs/0/TRAIN004634.jpg', '/home/students/tyang/airogs/0/TRAIN004700.jpg', '/home/students/tyang/airogs/0/TRAIN004381.jpg', '/home/students/tyang/airogs/0/TRAIN004442.jpg', '/home/students/tyang/airogs/0/TRAIN004172.jpg', '/home/students/tyang/airogs/0/TRAIN004445.jpg', '/home/students/tyang/airogs/0/TRAIN003876.jpg', '/home/students/tyang/airogs/0/TRAIN004084.jpg', '/home/students/tyang/airogs/0/TRAIN005085.jpg', '/home/students/tyang/airogs/0/TRAIN004226.jpg', '/home/students/tyang/airogs/0/TRAIN004595.jpg', '/home/students/tyang/airogs/0/TRAIN004617.jpg', '/home/students/tyang/airogs/0/TRAIN004008.jpg', '/home/students/tyang/airogs/0/TRAIN004376.jpg', '/home/students/tyang/airogs/0/TRAIN004229.jpg', '/home/students/tyang/airogs/0/TRAIN005008.jpg', '/home/students/tyang/airogs/0/TRAIN004558.jpg', '/home/students/tyang/airogs/0/TRAIN004663.jpg', '/home/students/tyang/airogs/0/TRAIN004588.jpg', '/home/students/tyang/airogs/0/TRAIN005029.jpg', '/home/students/tyang/airogs/0/TRAIN004965.jpg', '/home/students/tyang/airogs/0/TRAIN004952.jpg', '/home/students/tyang/airogs/0/TRAIN004864.jpg', '/home/students/tyang/airogs/0/TRAIN004801.jpg', '/home/students/tyang/airogs/0/TRAIN005113.jpg', '/home/students/tyang/airogs/0/TRAIN005026.jpg', '/home/students/tyang/airogs/0/TRAIN004421.jpg', '/home/students/tyang/airogs/0/TRAIN004734.jpg', '/home/students/tyang/airogs/0/TRAIN004045.jpg', '/home/students/tyang/airogs/0/TRAIN004968.jpg', '/home/students/tyang/airogs/0/TRAIN004092.jpg', '/home/students/tyang/airogs/0/TRAIN005073.jpg', '/home/students/tyang/airogs/0/TRAIN004211.jpg', '/home/students/tyang/airogs/0/TRAIN003880.jpg', '/home/students/tyang/airogs/0/TRAIN005057.jpg', '/home/students/tyang/airogs/0/TRAIN004361.jpg', '/home/students/tyang/airogs/0/TRAIN003957.jpg', '/home/students/tyang/airogs/0/TRAIN003896.jpg', '/home/students/tyang/airogs/0/TRAIN003998.jpg', '/home/students/tyang/airogs/0/TRAIN004873.jpg', '/home/students/tyang/airogs/0/TRAIN004006.jpg', '/home/students/tyang/airogs/0/TRAIN004637.jpg', '/home/students/tyang/airogs/0/TRAIN004781.jpg', '/home/students/tyang/airogs/0/TRAIN004974.jpg', '/home/students/tyang/airogs/0/TRAIN004922.jpg', '/home/students/tyang/airogs/0/TRAIN004882.jpg', '/home/students/tyang/airogs/0/TRAIN004437.jpg', '/home/students/tyang/airogs/0/TRAIN004114.jpg', '/home/students/tyang/airogs/0/TRAIN003992.jpg', '/home/students/tyang/airogs/0/TRAIN004201.jpg', '/home/students/tyang/airogs/0/TRAIN004246.jpg', '/home/students/tyang/airogs/0/TRAIN004022.jpg', '/home/students/tyang/airogs/0/TRAIN004724.jpg', '/home/students/tyang/airogs/0/TRAIN004109.jpg', '/home/students/tyang/airogs/0/TRAIN004692.jpg', '/home/students/tyang/airogs/0/TRAIN004537.jpg', '/home/students/tyang/airogs/0/TRAIN005115.jpg', '/home/students/tyang/airogs/0/TRAIN004953.jpg', '/home/students/tyang/airogs/0/TRAIN003888.jpg', '/home/students/tyang/airogs/0/TRAIN004678.jpg', '/home/students/tyang/airogs/0/TRAIN004011.jpg', '/home/students/tyang/airogs/0/TRAIN004405.jpg', '/home/students/tyang/airogs/0/TRAIN004535.jpg', '/home/students/tyang/airogs/0/TRAIN004080.jpg', '/home/students/tyang/airogs/0/TRAIN004293.jpg', '/home/students/tyang/airogs/0/TRAIN003842.jpg', '/home/students/tyang/airogs/0/TRAIN003839.jpg', '/home/students/tyang/airogs/0/TRAIN004526.jpg', '/home/students/tyang/airogs/0/TRAIN004466.jpg', '/home/students/tyang/airogs/0/TRAIN004156.jpg', '/home/students/tyang/airogs/0/TRAIN004543.jpg', '/home/students/tyang/airogs/0/TRAIN004536.jpg', '/home/students/tyang/airogs/0/TRAIN003987.jpg', '/home/students/tyang/airogs/0/TRAIN004564.jpg', '/home/students/tyang/airogs/0/TRAIN006057.jpg', '/home/students/tyang/airogs/0/TRAIN005931.jpg', '/home/students/tyang/airogs/0/TRAIN006294.jpg', '/home/students/tyang/airogs/0/TRAIN006254.jpg', '/home/students/tyang/airogs/0/TRAIN005526.jpg', '/home/students/tyang/airogs/0/TRAIN006071.jpg', '/home/students/tyang/airogs/0/TRAIN006247.jpg', '/home/students/tyang/airogs/0/TRAIN005518.jpg', '/home/students/tyang/airogs/0/TRAIN005493.jpg', '/home/students/tyang/airogs/0/TRAIN006086.jpg', '/home/students/tyang/airogs/0/TRAIN006034.jpg', '/home/students/tyang/airogs/0/TRAIN005915.jpg', '/home/students/tyang/airogs/0/TRAIN005328.jpg', '/home/students/tyang/airogs/0/TRAIN005351.jpg', '/home/students/tyang/airogs/0/TRAIN005458.jpg', '/home/students/tyang/airogs/0/TRAIN006208.jpg', '/home/students/tyang/airogs/0/TRAIN005790.jpg', '/home/students/tyang/airogs/0/TRAIN005836.jpg', '/home/students/tyang/airogs/0/TRAIN005290.jpg', '/home/students/tyang/airogs/0/TRAIN005962.jpg', '/home/students/tyang/airogs/0/TRAIN005496.jpg', '/home/students/tyang/airogs/0/TRAIN006005.jpg', '/home/students/tyang/airogs/0/TRAIN006177.jpg', '/home/students/tyang/airogs/0/TRAIN006038.jpg', '/home/students/tyang/airogs/0/TRAIN006114.jpg', '/home/students/tyang/airogs/0/TRAIN005318.jpg', '/home/students/tyang/airogs/0/TRAIN006069.jpg', '/home/students/tyang/airogs/0/TRAIN006105.jpg', '/home/students/tyang/airogs/0/TRAIN006103.jpg', '/home/students/tyang/airogs/0/TRAIN006028.jpg', '/home/students/tyang/airogs/0/TRAIN005576.jpg', '/home/students/tyang/airogs/0/TRAIN006300.jpg', '/home/students/tyang/airogs/0/TRAIN006072.jpg', '/home/students/tyang/airogs/0/TRAIN006302.jpg', '/home/students/tyang/airogs/0/TRAIN005672.jpg', '/home/students/tyang/airogs/0/TRAIN006222.jpg', '/home/students/tyang/airogs/0/TRAIN006281.jpg', '/home/students/tyang/airogs/0/TRAIN006331.jpg', '/home/students/tyang/airogs/0/TRAIN005689.jpg', '/home/students/tyang/airogs/0/TRAIN005991.jpg', '/home/students/tyang/airogs/0/TRAIN005685.jpg', '/home/students/tyang/airogs/0/TRAIN005325.jpg', '/home/students/tyang/airogs/0/TRAIN005311.jpg', '/home/students/tyang/airogs/0/TRAIN005825.jpg', '/home/students/tyang/airogs/0/TRAIN005588.jpg', '/home/students/tyang/airogs/0/TRAIN006109.jpg', '/home/students/tyang/airogs/0/TRAIN006299.jpg', '/home/students/tyang/airogs/0/TRAIN005472.jpg', '/home/students/tyang/airogs/0/TRAIN005400.jpg', '/home/students/tyang/airogs/0/TRAIN005735.jpg', '/home/students/tyang/airogs/0/TRAIN005304.jpg', '/home/students/tyang/airogs/0/TRAIN005185.jpg', '/home/students/tyang/airogs/0/TRAIN005558.jpg', '/home/students/tyang/airogs/0/TRAIN005265.jpg', '/home/students/tyang/airogs/0/TRAIN005281.jpg', '/home/students/tyang/airogs/0/TRAIN005323.jpg', '/home/students/tyang/airogs/0/TRAIN006256.jpg', '/home/students/tyang/airogs/0/TRAIN005483.jpg', '/home/students/tyang/airogs/0/TRAIN006356.jpg', '/home/students/tyang/airogs/0/TRAIN006003.jpg', '/home/students/tyang/airogs/0/TRAIN006111.jpg', '/home/students/tyang/airogs/0/TRAIN005595.jpg', '/home/students/tyang/airogs/0/TRAIN005733.jpg', '/home/students/tyang/airogs/0/TRAIN005886.jpg', '/home/students/tyang/airogs/0/TRAIN005502.jpg', '/home/students/tyang/airogs/0/TRAIN005535.jpg', '/home/students/tyang/airogs/0/TRAIN005572.jpg', '/home/students/tyang/airogs/0/TRAIN006141.jpg', '/home/students/tyang/airogs/0/TRAIN006288.jpg', '/home/students/tyang/airogs/0/TRAIN005899.jpg', '/home/students/tyang/airogs/0/TRAIN006319.jpg', '/home/students/tyang/airogs/0/TRAIN005800.jpg', '/home/students/tyang/airogs/0/TRAIN005160.jpg', '/home/students/tyang/airogs/0/TRAIN005927.jpg', '/home/students/tyang/airogs/0/TRAIN005168.jpg', '/home/students/tyang/airogs/0/TRAIN005645.jpg', '/home/students/tyang/airogs/0/TRAIN005954.jpg', '/home/students/tyang/airogs/0/TRAIN006352.jpg', '/home/students/tyang/airogs/0/TRAIN005120.jpg', '/home/students/tyang/airogs/0/TRAIN005774.jpg', '/home/students/tyang/airogs/0/TRAIN006022.jpg', '/home/students/tyang/airogs/0/TRAIN006379.jpg', '/home/students/tyang/airogs/0/TRAIN006274.jpg', '/home/students/tyang/airogs/0/TRAIN005936.jpg', '/home/students/tyang/airogs/0/TRAIN005127.jpg', '/home/students/tyang/airogs/0/TRAIN005580.jpg', '/home/students/tyang/airogs/0/TRAIN005548.jpg', '/home/students/tyang/airogs/0/TRAIN005517.jpg', '/home/students/tyang/airogs/0/TRAIN005296.jpg', '/home/students/tyang/airogs/0/TRAIN005487.jpg', '/home/students/tyang/airogs/0/TRAIN006100.jpg', '/home/students/tyang/airogs/0/TRAIN005419.jpg', '/home/students/tyang/airogs/0/TRAIN006083.jpg', '/home/students/tyang/airogs/0/TRAIN006043.jpg', '/home/students/tyang/airogs/0/TRAIN006172.jpg', '/home/students/tyang/airogs/0/TRAIN006313.jpg', '/home/students/tyang/airogs/0/TRAIN005148.jpg', '/home/students/tyang/airogs/0/TRAIN005506.jpg', '/home/students/tyang/airogs/0/TRAIN005513.jpg', '/home/students/tyang/airogs/0/TRAIN005256.jpg', '/home/students/tyang/airogs/0/TRAIN007633.jpg', '/home/students/tyang/airogs/0/TRAIN007472.jpg', '/home/students/tyang/airogs/0/TRAIN007087.jpg', '/home/students/tyang/airogs/0/TRAIN007615.jpg', '/home/students/tyang/airogs/0/TRAIN006938.jpg', '/home/students/tyang/airogs/0/TRAIN007430.jpg', '/home/students/tyang/airogs/0/TRAIN007031.jpg', '/home/students/tyang/airogs/0/TRAIN007139.jpg', '/home/students/tyang/airogs/0/TRAIN006723.jpg', '/home/students/tyang/airogs/0/TRAIN007486.jpg', '/home/students/tyang/airogs/0/TRAIN007082.jpg', '/home/students/tyang/airogs/0/TRAIN007460.jpg', '/home/students/tyang/airogs/0/TRAIN006767.jpg', '/home/students/tyang/airogs/0/TRAIN007084.jpg', '/home/students/tyang/airogs/0/TRAIN006755.jpg', '/home/students/tyang/airogs/0/TRAIN007504.jpg', '/home/students/tyang/airogs/0/TRAIN006525.jpg', '/home/students/tyang/airogs/0/TRAIN007154.jpg', '/home/students/tyang/airogs/0/TRAIN007438.jpg', '/home/students/tyang/airogs/0/TRAIN007501.jpg', '/home/students/tyang/airogs/0/TRAIN007299.jpg', '/home/students/tyang/airogs/0/TRAIN006761.jpg', '/home/students/tyang/airogs/0/TRAIN007187.jpg', '/home/students/tyang/airogs/0/TRAIN006535.jpg', '/home/students/tyang/airogs/0/TRAIN006689.jpg', '/home/students/tyang/airogs/0/TRAIN007362.jpg', '/home/students/tyang/airogs/0/TRAIN006955.jpg', '/home/students/tyang/airogs/0/TRAIN006687.jpg', '/home/students/tyang/airogs/0/TRAIN006412.jpg', '/home/students/tyang/airogs/0/TRAIN007402.jpg', '/home/students/tyang/airogs/0/TRAIN007429.jpg', '/home/students/tyang/airogs/0/TRAIN006650.jpg', '/home/students/tyang/airogs/0/TRAIN006509.jpg', '/home/students/tyang/airogs/0/TRAIN007283.jpg', '/home/students/tyang/airogs/0/TRAIN007371.jpg', '/home/students/tyang/airogs/0/TRAIN006680.jpg', '/home/students/tyang/airogs/0/TRAIN006661.jpg', '/home/students/tyang/airogs/0/TRAIN007645.jpg', '/home/students/tyang/airogs/0/TRAIN006490.jpg', '/home/students/tyang/airogs/0/TRAIN006886.jpg', '/home/students/tyang/airogs/0/TRAIN007473.jpg', '/home/students/tyang/airogs/0/TRAIN007173.jpg', '/home/students/tyang/airogs/0/TRAIN006649.jpg', '/home/students/tyang/airogs/0/TRAIN006939.jpg', '/home/students/tyang/airogs/0/TRAIN006526.jpg', '/home/students/tyang/airogs/0/TRAIN007391.jpg', '/home/students/tyang/airogs/0/TRAIN006736.jpg', '/home/students/tyang/airogs/0/TRAIN006566.jpg', '/home/students/tyang/airogs/0/TRAIN007626.jpg', '/home/students/tyang/airogs/0/TRAIN006986.jpg', '/home/students/tyang/airogs/0/TRAIN006906.jpg', '/home/students/tyang/airogs/0/TRAIN007474.jpg', '/home/students/tyang/airogs/0/TRAIN006648.jpg', '/home/students/tyang/airogs/0/TRAIN007574.jpg', '/home/students/tyang/airogs/0/TRAIN007337.jpg', '/home/students/tyang/airogs/0/TRAIN006413.jpg', '/home/students/tyang/airogs/0/TRAIN007086.jpg', '/home/students/tyang/airogs/0/TRAIN006802.jpg', '/home/students/tyang/airogs/0/TRAIN006699.jpg', '/home/students/tyang/airogs/0/TRAIN007118.jpg', '/home/students/tyang/airogs/0/TRAIN006866.jpg', '/home/students/tyang/airogs/0/TRAIN007300.jpg', '/home/students/tyang/airogs/0/TRAIN007207.jpg', '/home/students/tyang/airogs/0/TRAIN007250.jpg', '/home/students/tyang/airogs/0/TRAIN006754.jpg', '/home/students/tyang/airogs/0/TRAIN007444.jpg', '/home/students/tyang/airogs/0/TRAIN006959.jpg', '/home/students/tyang/airogs/0/TRAIN007506.jpg', '/home/students/tyang/airogs/0/TRAIN006975.jpg', '/home/students/tyang/airogs/0/TRAIN006437.jpg', '/home/students/tyang/airogs/0/TRAIN007477.jpg', '/home/students/tyang/airogs/0/TRAIN007140.jpg', '/home/students/tyang/airogs/0/TRAIN007182.jpg', '/home/students/tyang/airogs/0/TRAIN006407.jpg', '/home/students/tyang/airogs/0/TRAIN007144.jpg', '/home/students/tyang/airogs/0/TRAIN007426.jpg', '/home/students/tyang/airogs/0/TRAIN007602.jpg', '/home/students/tyang/airogs/0/TRAIN007489.jpg', '/home/students/tyang/airogs/0/TRAIN006445.jpg', '/home/students/tyang/airogs/0/TRAIN007682.jpg', '/home/students/tyang/airogs/0/TRAIN007360.jpg', '/home/students/tyang/airogs/0/TRAIN007033.jpg', '/home/students/tyang/airogs/0/TRAIN006475.jpg', '/home/students/tyang/airogs/0/TRAIN006428.jpg', '/home/students/tyang/airogs/0/TRAIN007123.jpg', '/home/students/tyang/airogs/0/TRAIN006387.jpg', '/home/students/tyang/airogs/0/TRAIN007447.jpg', '/home/students/tyang/airogs/0/TRAIN007224.jpg', '/home/students/tyang/airogs/0/TRAIN007643.jpg', '/home/students/tyang/airogs/0/TRAIN006592.jpg', '/home/students/tyang/airogs/0/TRAIN007196.jpg', '/home/students/tyang/airogs/0/TRAIN006504.jpg', '/home/students/tyang/airogs/0/TRAIN007311.jpg', '/home/students/tyang/airogs/0/TRAIN007094.jpg', '/home/students/tyang/airogs/0/TRAIN007135.jpg', '/home/students/tyang/airogs/0/TRAIN006739.jpg', '/home/students/tyang/airogs/0/TRAIN007535.jpg', '/home/students/tyang/airogs/0/TRAIN007525.jpg', '/home/students/tyang/airogs/0/TRAIN006560.jpg', '/home/students/tyang/airogs/0/TRAIN007107.jpg', '/home/students/tyang/airogs/0/TRAIN008266.jpg', '/home/students/tyang/airogs/0/TRAIN008045.jpg', '/home/students/tyang/airogs/0/TRAIN008444.jpg', '/home/students/tyang/airogs/0/TRAIN008167.jpg', '/home/students/tyang/airogs/0/TRAIN007876.jpg', '/home/students/tyang/airogs/0/TRAIN008771.jpg', '/home/students/tyang/airogs/0/TRAIN008708.jpg', '/home/students/tyang/airogs/0/TRAIN007806.jpg', '/home/students/tyang/airogs/0/TRAIN007948.jpg', '/home/students/tyang/airogs/0/TRAIN008399.jpg', '/home/students/tyang/airogs/0/TRAIN008275.jpg', '/home/students/tyang/airogs/0/TRAIN008747.jpg', '/home/students/tyang/airogs/0/TRAIN007756.jpg', '/home/students/tyang/airogs/0/TRAIN008862.jpg', '/home/students/tyang/airogs/0/TRAIN007987.jpg', '/home/students/tyang/airogs/0/TRAIN008644.jpg', '/home/students/tyang/airogs/0/TRAIN008326.jpg', '/home/students/tyang/airogs/0/TRAIN008621.jpg', '/home/students/tyang/airogs/0/TRAIN008244.jpg', '/home/students/tyang/airogs/0/TRAIN008197.jpg', '/home/students/tyang/airogs/0/TRAIN008570.jpg', '/home/students/tyang/airogs/0/TRAIN008263.jpg', '/home/students/tyang/airogs/0/TRAIN008321.jpg', '/home/students/tyang/airogs/0/TRAIN008785.jpg', '/home/students/tyang/airogs/0/TRAIN008465.jpg', '/home/students/tyang/airogs/0/TRAIN008053.jpg', '/home/students/tyang/airogs/0/TRAIN008532.jpg', '/home/students/tyang/airogs/0/TRAIN008424.jpg', '/home/students/tyang/airogs/0/TRAIN008743.jpg', '/home/students/tyang/airogs/0/TRAIN008847.jpg', '/home/students/tyang/airogs/0/TRAIN008017.jpg', '/home/students/tyang/airogs/0/TRAIN008117.jpg', '/home/students/tyang/airogs/0/TRAIN008892.jpg', '/home/students/tyang/airogs/0/TRAIN008869.jpg', '/home/students/tyang/airogs/0/TRAIN008056.jpg', '/home/students/tyang/airogs/0/TRAIN008027.jpg', '/home/students/tyang/airogs/0/TRAIN008141.jpg', '/home/students/tyang/airogs/0/TRAIN008205.jpg', '/home/students/tyang/airogs/0/TRAIN007851.jpg', '/home/students/tyang/airogs/0/TRAIN008472.jpg', '/home/students/tyang/airogs/0/TRAIN007837.jpg', '/home/students/tyang/airogs/0/TRAIN008421.jpg', '/home/students/tyang/airogs/0/TRAIN008773.jpg', '/home/students/tyang/airogs/0/TRAIN008071.jpg', '/home/students/tyang/airogs/0/TRAIN007977.jpg', '/home/students/tyang/airogs/0/TRAIN008054.jpg', '/home/students/tyang/airogs/0/TRAIN008110.jpg', '/home/students/tyang/airogs/0/TRAIN008453.jpg', '/home/students/tyang/airogs/0/TRAIN008125.jpg', '/home/students/tyang/airogs/0/TRAIN008848.jpg', '/home/students/tyang/airogs/0/TRAIN007952.jpg', '/home/students/tyang/airogs/0/TRAIN007835.jpg', '/home/students/tyang/airogs/0/TRAIN008203.jpg', '/home/students/tyang/airogs/0/TRAIN007935.jpg', '/home/students/tyang/airogs/0/TRAIN008629.jpg', '/home/students/tyang/airogs/0/TRAIN008417.jpg', '/home/students/tyang/airogs/0/TRAIN007988.jpg', '/home/students/tyang/airogs/0/TRAIN008390.jpg', '/home/students/tyang/airogs/0/TRAIN008592.jpg', '/home/students/tyang/airogs/0/TRAIN008777.jpg', '/home/students/tyang/airogs/0/TRAIN008576.jpg', '/home/students/tyang/airogs/0/TRAIN008717.jpg', '/home/students/tyang/airogs/0/TRAIN008518.jpg', '/home/students/tyang/airogs/0/TRAIN007939.jpg', '/home/students/tyang/airogs/0/TRAIN008178.jpg', '/home/students/tyang/airogs/0/TRAIN007887.jpg', '/home/students/tyang/airogs/0/TRAIN008932.jpg', '/home/students/tyang/airogs/0/TRAIN007936.jpg', '/home/students/tyang/airogs/0/TRAIN007852.jpg', '/home/students/tyang/airogs/0/TRAIN007696.jpg', '/home/students/tyang/airogs/0/TRAIN008727.jpg', '/home/students/tyang/airogs/0/TRAIN008223.jpg', '/home/students/tyang/airogs/0/TRAIN008135.jpg', '/home/students/tyang/airogs/0/TRAIN008543.jpg', '/home/students/tyang/airogs/0/TRAIN008229.jpg', '/home/students/tyang/airogs/0/TRAIN008063.jpg', '/home/students/tyang/airogs/0/TRAIN008100.jpg', '/home/students/tyang/airogs/0/TRAIN008021.jpg', '/home/students/tyang/airogs/0/TRAIN007808.jpg', '/home/students/tyang/airogs/0/TRAIN007886.jpg', '/home/students/tyang/airogs/0/TRAIN008742.jpg', '/home/students/tyang/airogs/0/TRAIN008038.jpg', '/home/students/tyang/airogs/0/TRAIN008092.jpg', '/home/students/tyang/airogs/0/TRAIN008894.jpg', '/home/students/tyang/airogs/0/TRAIN007915.jpg', '/home/students/tyang/airogs/0/TRAIN008663.jpg', '/home/students/tyang/airogs/0/TRAIN007918.jpg', '/home/students/tyang/airogs/0/TRAIN007942.jpg', '/home/students/tyang/airogs/0/TRAIN008380.jpg', '/home/students/tyang/airogs/0/TRAIN008678.jpg', '/home/students/tyang/airogs/0/TRAIN008476.jpg', '/home/students/tyang/airogs/0/TRAIN008834.jpg', '/home/students/tyang/airogs/0/TRAIN008542.jpg', '/home/students/tyang/airogs/0/TRAIN008303.jpg', '/home/students/tyang/airogs/0/TRAIN007845.jpg', '/home/students/tyang/airogs/0/TRAIN008195.jpg', '/home/students/tyang/airogs/0/TRAIN008956.jpg', '/home/students/tyang/airogs/0/TRAIN007805.jpg', '/home/students/tyang/airogs/0/TRAIN008265.jpg', '/home/students/tyang/airogs/0/TRAIN008728.jpg', '/home/students/tyang/airogs/0/TRAIN009766.jpg', '/home/students/tyang/airogs/0/TRAIN009177.jpg', '/home/students/tyang/airogs/0/TRAIN009519.jpg', '/home/students/tyang/airogs/0/TRAIN009874.jpg', '/home/students/tyang/airogs/0/TRAIN009736.jpg', '/home/students/tyang/airogs/0/TRAIN010140.jpg', '/home/students/tyang/airogs/0/TRAIN009382.jpg', '/home/students/tyang/airogs/0/TRAIN009046.jpg', '/home/students/tyang/airogs/0/TRAIN009163.jpg', '/home/students/tyang/airogs/0/TRAIN009444.jpg', '/home/students/tyang/airogs/0/TRAIN010211.jpg', '/home/students/tyang/airogs/0/TRAIN009264.jpg', '/home/students/tyang/airogs/0/TRAIN009598.jpg', '/home/students/tyang/airogs/0/TRAIN009114.jpg', '/home/students/tyang/airogs/0/TRAIN009623.jpg', '/home/students/tyang/airogs/0/TRAIN009928.jpg', '/home/students/tyang/airogs/0/TRAIN009539.jpg', '/home/students/tyang/airogs/0/TRAIN009889.jpg', '/home/students/tyang/airogs/0/TRAIN010231.jpg', '/home/students/tyang/airogs/0/TRAIN009744.jpg', '/home/students/tyang/airogs/0/TRAIN009592.jpg', '/home/students/tyang/airogs/0/TRAIN009067.jpg', '/home/students/tyang/airogs/0/TRAIN010222.jpg', '/home/students/tyang/airogs/0/TRAIN010303.jpg', '/home/students/tyang/airogs/0/TRAIN010147.jpg', '/home/students/tyang/airogs/0/TRAIN009270.jpg', '/home/students/tyang/airogs/0/TRAIN009153.jpg', '/home/students/tyang/airogs/0/TRAIN009420.jpg', '/home/students/tyang/airogs/0/TRAIN009283.jpg', '/home/students/tyang/airogs/0/TRAIN009229.jpg', '/home/students/tyang/airogs/0/TRAIN010014.jpg', '/home/students/tyang/airogs/0/TRAIN009339.jpg', '/home/students/tyang/airogs/0/TRAIN009397.jpg', '/home/students/tyang/airogs/0/TRAIN009582.jpg', '/home/students/tyang/airogs/0/TRAIN010286.jpg', '/home/students/tyang/airogs/0/TRAIN009312.jpg', '/home/students/tyang/airogs/0/TRAIN010301.jpg', '/home/students/tyang/airogs/0/TRAIN009557.jpg', '/home/students/tyang/airogs/0/TRAIN010087.jpg', '/home/students/tyang/airogs/0/TRAIN009004.jpg', '/home/students/tyang/airogs/0/TRAIN009590.jpg', '/home/students/tyang/airogs/0/TRAIN010050.jpg', '/home/students/tyang/airogs/0/TRAIN009676.jpg', '/home/students/tyang/airogs/0/TRAIN009327.jpg', '/home/students/tyang/airogs/0/TRAIN009742.jpg', '/home/students/tyang/airogs/0/TRAIN009885.jpg', '/home/students/tyang/airogs/0/TRAIN010151.jpg', '/home/students/tyang/airogs/0/TRAIN009935.jpg', '/home/students/tyang/airogs/0/TRAIN009279.jpg', '/home/students/tyang/airogs/0/TRAIN009907.jpg', '/home/students/tyang/airogs/0/TRAIN010195.jpg', '/home/students/tyang/airogs/0/TRAIN009969.jpg', '/home/students/tyang/airogs/0/TRAIN009242.jpg', '/home/students/tyang/airogs/0/TRAIN009635.jpg', '/home/students/tyang/airogs/0/TRAIN009619.jpg', '/home/students/tyang/airogs/0/TRAIN009962.jpg', '/home/students/tyang/airogs/0/TRAIN010021.jpg', '/home/students/tyang/airogs/0/TRAIN009696.jpg', '/home/students/tyang/airogs/0/TRAIN009323.jpg', '/home/students/tyang/airogs/0/TRAIN009441.jpg', '/home/students/tyang/airogs/0/TRAIN009701.jpg', '/home/students/tyang/airogs/0/TRAIN009432.jpg', '/home/students/tyang/airogs/0/TRAIN010268.jpg', '/home/students/tyang/airogs/0/TRAIN009992.jpg', '/home/students/tyang/airogs/0/TRAIN009786.jpg', '/home/students/tyang/airogs/0/TRAIN009836.jpg', '/home/students/tyang/airogs/0/TRAIN009902.jpg', '/home/students/tyang/airogs/0/TRAIN009703.jpg', '/home/students/tyang/airogs/0/TRAIN010119.jpg', '/home/students/tyang/airogs/0/TRAIN009298.jpg', '/home/students/tyang/airogs/0/TRAIN009076.jpg', '/home/students/tyang/airogs/0/TRAIN009178.jpg', '/home/students/tyang/airogs/0/TRAIN009123.jpg', '/home/students/tyang/airogs/0/TRAIN009259.jpg', '/home/students/tyang/airogs/0/TRAIN009831.jpg', '/home/students/tyang/airogs/0/TRAIN009602.jpg', '/home/students/tyang/airogs/0/TRAIN009386.jpg', '/home/students/tyang/airogs/0/TRAIN009809.jpg', '/home/students/tyang/airogs/0/TRAIN009426.jpg', '/home/students/tyang/airogs/0/TRAIN010176.jpg', '/home/students/tyang/airogs/0/TRAIN009005.jpg', '/home/students/tyang/airogs/0/TRAIN009642.jpg', '/home/students/tyang/airogs/0/TRAIN009008.jpg', '/home/students/tyang/airogs/0/TRAIN009285.jpg', '/home/students/tyang/airogs/0/TRAIN009554.jpg', '/home/students/tyang/airogs/0/TRAIN009012.jpg', '/home/students/tyang/airogs/0/TRAIN009233.jpg', '/home/students/tyang/airogs/0/TRAIN009882.jpg', '/home/students/tyang/airogs/0/TRAIN009866.jpg', '/home/students/tyang/airogs/0/TRAIN009380.jpg', '/home/students/tyang/airogs/0/TRAIN009660.jpg', '/home/students/tyang/airogs/0/TRAIN009336.jpg', '/home/students/tyang/airogs/0/TRAIN009567.jpg', '/home/students/tyang/airogs/0/TRAIN009507.jpg', '/home/students/tyang/airogs/0/TRAIN010155.jpg', '/home/students/tyang/airogs/0/TRAIN009473.jpg', '/home/students/tyang/airogs/0/TRAIN009608.jpg', '/home/students/tyang/airogs/0/TRAIN009819.jpg', '/home/students/tyang/airogs/0/TRAIN009725.jpg', '/home/students/tyang/airogs/0/TRAIN009319.jpg', '/home/students/tyang/airogs/0/TRAIN010791.jpg', '/home/students/tyang/airogs/0/TRAIN010331.jpg', '/home/students/tyang/airogs/0/TRAIN010697.jpg', '/home/students/tyang/airogs/0/TRAIN011262.jpg', '/home/students/tyang/airogs/0/TRAIN010521.jpg', '/home/students/tyang/airogs/0/TRAIN010945.jpg', '/home/students/tyang/airogs/0/TRAIN011277.jpg', '/home/students/tyang/airogs/0/TRAIN010539.jpg', '/home/students/tyang/airogs/0/TRAIN011217.jpg', '/home/students/tyang/airogs/0/TRAIN010338.jpg', '/home/students/tyang/airogs/0/TRAIN010730.jpg', '/home/students/tyang/airogs/0/TRAIN011176.jpg', '/home/students/tyang/airogs/0/TRAIN010668.jpg', '/home/students/tyang/airogs/0/TRAIN010966.jpg', '/home/students/tyang/airogs/0/TRAIN011003.jpg', '/home/students/tyang/airogs/0/TRAIN010847.jpg', '/home/students/tyang/airogs/0/TRAIN011026.jpg', '/home/students/tyang/airogs/0/TRAIN011593.jpg', '/home/students/tyang/airogs/0/TRAIN010443.jpg', '/home/students/tyang/airogs/0/TRAIN011085.jpg', '/home/students/tyang/airogs/0/TRAIN011319.jpg', '/home/students/tyang/airogs/0/TRAIN010473.jpg', '/home/students/tyang/airogs/0/TRAIN011607.jpg', '/home/students/tyang/airogs/0/TRAIN010646.jpg', '/home/students/tyang/airogs/0/TRAIN011579.jpg', '/home/students/tyang/airogs/0/TRAIN010885.jpg', '/home/students/tyang/airogs/0/TRAIN011146.jpg', '/home/students/tyang/airogs/0/TRAIN010725.jpg', '/home/students/tyang/airogs/0/TRAIN011109.jpg', '/home/students/tyang/airogs/0/TRAIN010712.jpg', '/home/students/tyang/airogs/0/TRAIN010866.jpg', '/home/students/tyang/airogs/0/TRAIN011038.jpg', '/home/students/tyang/airogs/0/TRAIN011118.jpg', '/home/students/tyang/airogs/0/TRAIN010349.jpg', '/home/students/tyang/airogs/0/TRAIN011397.jpg', '/home/students/tyang/airogs/0/TRAIN010908.jpg', '/home/students/tyang/airogs/0/TRAIN010924.jpg', '/home/students/tyang/airogs/0/TRAIN010553.jpg', '/home/students/tyang/airogs/0/TRAIN011356.jpg', '/home/students/tyang/airogs/0/TRAIN011017.jpg', '/home/students/tyang/airogs/0/TRAIN011595.jpg', '/home/students/tyang/airogs/0/TRAIN011219.jpg', '/home/students/tyang/airogs/0/TRAIN010503.jpg', '/home/students/tyang/airogs/0/TRAIN011388.jpg', '/home/students/tyang/airogs/0/TRAIN011052.jpg', '/home/students/tyang/airogs/0/TRAIN010758.jpg', '/home/students/tyang/airogs/0/TRAIN010451.jpg', '/home/students/tyang/airogs/0/TRAIN010854.jpg', '/home/students/tyang/airogs/0/TRAIN011393.jpg', '/home/students/tyang/airogs/0/TRAIN010863.jpg', '/home/students/tyang/airogs/0/TRAIN010739.jpg', '/home/students/tyang/airogs/0/TRAIN010506.jpg', '/home/students/tyang/airogs/0/TRAIN011326.jpg', '/home/students/tyang/airogs/0/TRAIN010867.jpg', '/home/students/tyang/airogs/0/TRAIN011248.jpg', '/home/students/tyang/airogs/0/TRAIN010475.jpg', '/home/students/tyang/airogs/0/TRAIN011174.jpg', '/home/students/tyang/airogs/0/TRAIN010548.jpg', '/home/students/tyang/airogs/0/TRAIN010957.jpg', '/home/students/tyang/airogs/0/TRAIN011421.jpg', '/home/students/tyang/airogs/0/TRAIN011340.jpg', '/home/students/tyang/airogs/0/TRAIN011018.jpg', '/home/students/tyang/airogs/0/TRAIN010579.jpg', '/home/students/tyang/airogs/0/TRAIN011344.jpg', '/home/students/tyang/airogs/0/TRAIN010664.jpg', '/home/students/tyang/airogs/0/TRAIN011452.jpg', '/home/students/tyang/airogs/0/TRAIN010846.jpg', '/home/students/tyang/airogs/0/TRAIN010853.jpg', '/home/students/tyang/airogs/0/TRAIN010903.jpg', '/home/students/tyang/airogs/0/TRAIN011580.jpg', '/home/students/tyang/airogs/0/TRAIN011158.jpg', '/home/students/tyang/airogs/0/TRAIN010875.jpg', '/home/students/tyang/airogs/0/TRAIN011102.jpg', '/home/students/tyang/airogs/0/TRAIN011029.jpg', '/home/students/tyang/airogs/0/TRAIN011048.jpg', '/home/students/tyang/airogs/0/TRAIN010975.jpg', '/home/students/tyang/airogs/0/TRAIN010640.jpg', '/home/students/tyang/airogs/0/TRAIN011184.jpg', '/home/students/tyang/airogs/0/TRAIN010562.jpg', '/home/students/tyang/airogs/0/TRAIN010705.jpg', '/home/students/tyang/airogs/0/TRAIN010418.jpg', '/home/students/tyang/airogs/0/TRAIN011433.jpg', '/home/students/tyang/airogs/0/TRAIN011117.jpg', '/home/students/tyang/airogs/0/TRAIN010773.jpg', '/home/students/tyang/airogs/0/TRAIN011470.jpg', '/home/students/tyang/airogs/0/TRAIN011233.jpg', '/home/students/tyang/airogs/0/TRAIN010444.jpg', '/home/students/tyang/airogs/0/TRAIN011351.jpg', '/home/students/tyang/airogs/0/TRAIN010507.jpg', '/home/students/tyang/airogs/0/TRAIN011305.jpg', '/home/students/tyang/airogs/0/TRAIN010714.jpg', '/home/students/tyang/airogs/0/TRAIN011349.jpg', '/home/students/tyang/airogs/0/TRAIN011115.jpg', '/home/students/tyang/airogs/0/TRAIN010375.jpg', '/home/students/tyang/airogs/0/TRAIN010650.jpg', '/home/students/tyang/airogs/0/TRAIN010481.jpg', '/home/students/tyang/airogs/0/TRAIN011515.jpg', '/home/students/tyang/airogs/0/TRAIN011425.jpg', '/home/students/tyang/airogs/0/TRAIN010585.jpg', '/home/students/tyang/airogs/0/TRAIN010805.jpg', '/home/students/tyang/airogs/0/TRAIN012907.jpg', '/home/students/tyang/airogs/0/TRAIN012614.jpg', '/home/students/tyang/airogs/0/TRAIN012408.jpg', '/home/students/tyang/airogs/0/TRAIN011684.jpg', '/home/students/tyang/airogs/0/TRAIN011624.jpg', '/home/students/tyang/airogs/0/TRAIN012606.jpg', '/home/students/tyang/airogs/0/TRAIN012701.jpg', '/home/students/tyang/airogs/0/TRAIN012762.jpg', '/home/students/tyang/airogs/0/TRAIN012861.jpg', '/home/students/tyang/airogs/0/TRAIN012599.jpg', '/home/students/tyang/airogs/0/TRAIN012252.jpg', '/home/students/tyang/airogs/0/TRAIN012699.jpg', '/home/students/tyang/airogs/0/TRAIN012914.jpg', '/home/students/tyang/airogs/0/TRAIN011653.jpg', '/home/students/tyang/airogs/0/TRAIN011778.jpg', '/home/students/tyang/airogs/0/TRAIN012925.jpg', '/home/students/tyang/airogs/0/TRAIN012410.jpg', '/home/students/tyang/airogs/0/TRAIN012073.jpg', '/home/students/tyang/airogs/0/TRAIN012560.jpg', '/home/students/tyang/airogs/0/TRAIN012055.jpg', '/home/students/tyang/airogs/0/TRAIN011656.jpg', '/home/students/tyang/airogs/0/TRAIN012115.jpg', '/home/students/tyang/airogs/0/TRAIN011749.jpg', '/home/students/tyang/airogs/0/TRAIN012426.jpg', '/home/students/tyang/airogs/0/TRAIN011932.jpg', '/home/students/tyang/airogs/0/TRAIN012899.jpg', '/home/students/tyang/airogs/0/TRAIN012785.jpg', '/home/students/tyang/airogs/0/TRAIN012077.jpg', '/home/students/tyang/airogs/0/TRAIN012180.jpg', '/home/students/tyang/airogs/0/TRAIN011828.jpg', '/home/students/tyang/airogs/0/TRAIN012013.jpg', '/home/students/tyang/airogs/0/TRAIN012491.jpg', '/home/students/tyang/airogs/0/TRAIN012419.jpg', '/home/students/tyang/airogs/0/TRAIN012185.jpg', '/home/students/tyang/airogs/0/TRAIN012879.jpg', '/home/students/tyang/airogs/0/TRAIN011677.jpg', '/home/students/tyang/airogs/0/TRAIN012287.jpg', '/home/students/tyang/airogs/0/TRAIN012339.jpg', '/home/students/tyang/airogs/0/TRAIN012713.jpg', '/home/students/tyang/airogs/0/TRAIN012857.jpg', '/home/students/tyang/airogs/0/TRAIN012528.jpg', '/home/students/tyang/airogs/0/TRAIN011807.jpg', '/home/students/tyang/airogs/0/TRAIN012736.jpg', '/home/students/tyang/airogs/0/TRAIN012622.jpg', '/home/students/tyang/airogs/0/TRAIN012706.jpg', '/home/students/tyang/airogs/0/TRAIN012361.jpg', '/home/students/tyang/airogs/0/TRAIN011659.jpg', '/home/students/tyang/airogs/0/TRAIN012686.jpg', '/home/students/tyang/airogs/0/TRAIN012049.jpg', '/home/students/tyang/airogs/0/TRAIN012909.jpg', '/home/students/tyang/airogs/0/TRAIN012227.jpg', '/home/students/tyang/airogs/0/TRAIN012577.jpg', '/home/students/tyang/airogs/0/TRAIN012362.jpg', '/home/students/tyang/airogs/0/TRAIN012126.jpg', '/home/students/tyang/airogs/0/TRAIN012364.jpg', '/home/students/tyang/airogs/0/TRAIN011976.jpg', '/home/students/tyang/airogs/0/TRAIN012746.jpg', '/home/students/tyang/airogs/0/TRAIN012660.jpg', '/home/students/tyang/airogs/0/TRAIN012111.jpg', '/home/students/tyang/airogs/0/TRAIN012414.jpg', '/home/students/tyang/airogs/0/TRAIN012154.jpg', '/home/students/tyang/airogs/0/TRAIN012835.jpg', '/home/students/tyang/airogs/0/TRAIN012498.jpg', '/home/students/tyang/airogs/0/TRAIN011795.jpg', '/home/students/tyang/airogs/0/TRAIN012862.jpg', '/home/students/tyang/airogs/0/TRAIN011891.jpg', '/home/students/tyang/airogs/0/TRAIN012702.jpg', '/home/students/tyang/airogs/0/TRAIN011761.jpg', '/home/students/tyang/airogs/0/TRAIN011771.jpg', '/home/students/tyang/airogs/0/TRAIN012233.jpg', '/home/students/tyang/airogs/0/TRAIN012758.jpg', '/home/students/tyang/airogs/0/TRAIN011787.jpg', '/home/students/tyang/airogs/0/TRAIN012435.jpg', '/home/students/tyang/airogs/0/TRAIN012379.jpg', '/home/students/tyang/airogs/0/TRAIN012121.jpg', '/home/students/tyang/airogs/0/TRAIN012550.jpg', '/home/students/tyang/airogs/0/TRAIN012725.jpg', '/home/students/tyang/airogs/0/TRAIN012015.jpg', '/home/students/tyang/airogs/0/TRAIN012558.jpg', '/home/students/tyang/airogs/0/TRAIN011773.jpg', '/home/students/tyang/airogs/0/TRAIN011767.jpg', '/home/students/tyang/airogs/0/TRAIN012553.jpg', '/home/students/tyang/airogs/0/TRAIN012249.jpg', '/home/students/tyang/airogs/0/TRAIN011723.jpg', '/home/students/tyang/airogs/0/TRAIN011770.jpg', '/home/students/tyang/airogs/0/TRAIN012431.jpg', '/home/students/tyang/airogs/0/TRAIN012294.jpg', '/home/students/tyang/airogs/0/TRAIN012323.jpg', '/home/students/tyang/airogs/0/TRAIN012730.jpg', '/home/students/tyang/airogs/0/TRAIN011877.jpg', '/home/students/tyang/airogs/0/TRAIN012744.jpg', '/home/students/tyang/airogs/0/TRAIN012032.jpg', '/home/students/tyang/airogs/0/TRAIN011926.jpg', '/home/students/tyang/airogs/0/TRAIN011992.jpg', '/home/students/tyang/airogs/0/TRAIN012486.jpg', '/home/students/tyang/airogs/0/TRAIN012481.jpg', '/home/students/tyang/airogs/0/TRAIN012806.jpg', '/home/students/tyang/airogs/0/TRAIN012352.jpg', '/home/students/tyang/airogs/0/TRAIN012110.jpg', '/home/students/tyang/airogs/0/TRAIN012894.jpg', '/home/students/tyang/airogs/0/TRAIN013631.jpg', '/home/students/tyang/airogs/0/TRAIN013762.jpg', '/home/students/tyang/airogs/0/TRAIN014000.jpg', '/home/students/tyang/airogs/0/TRAIN014160.jpg', '/home/students/tyang/airogs/0/TRAIN013429.jpg', '/home/students/tyang/airogs/0/TRAIN013035.jpg', '/home/students/tyang/airogs/0/TRAIN013616.jpg', '/home/students/tyang/airogs/0/TRAIN013653.jpg', '/home/students/tyang/airogs/0/TRAIN013412.jpg', '/home/students/tyang/airogs/0/TRAIN013728.jpg', '/home/students/tyang/airogs/0/TRAIN013548.jpg', '/home/students/tyang/airogs/0/TRAIN014197.jpg', '/home/students/tyang/airogs/0/TRAIN014033.jpg', '/home/students/tyang/airogs/0/TRAIN013504.jpg', '/home/students/tyang/airogs/0/TRAIN012969.jpg', '/home/students/tyang/airogs/0/TRAIN013013.jpg', '/home/students/tyang/airogs/0/TRAIN013141.jpg', '/home/students/tyang/airogs/0/TRAIN013676.jpg', '/home/students/tyang/airogs/0/TRAIN014042.jpg', '/home/students/tyang/airogs/0/TRAIN014104.jpg', '/home/students/tyang/airogs/0/TRAIN014114.jpg', '/home/students/tyang/airogs/0/TRAIN013803.jpg', '/home/students/tyang/airogs/0/TRAIN013601.jpg', '/home/students/tyang/airogs/0/TRAIN013205.jpg', '/home/students/tyang/airogs/0/TRAIN013284.jpg', '/home/students/tyang/airogs/0/TRAIN013482.jpg', '/home/students/tyang/airogs/0/TRAIN014140.jpg', '/home/students/tyang/airogs/0/TRAIN013582.jpg', '/home/students/tyang/airogs/0/TRAIN013099.jpg', '/home/students/tyang/airogs/0/TRAIN013374.jpg', '/home/students/tyang/airogs/0/TRAIN013098.jpg', '/home/students/tyang/airogs/0/TRAIN013368.jpg', '/home/students/tyang/airogs/0/TRAIN013028.jpg', '/home/students/tyang/airogs/0/TRAIN013613.jpg', '/home/students/tyang/airogs/0/TRAIN013594.jpg', '/home/students/tyang/airogs/0/TRAIN013748.jpg', '/home/students/tyang/airogs/0/TRAIN014015.jpg', '/home/students/tyang/airogs/0/TRAIN013264.jpg', '/home/students/tyang/airogs/0/TRAIN014121.jpg', '/home/students/tyang/airogs/0/TRAIN013201.jpg', '/home/students/tyang/airogs/0/TRAIN013818.jpg', '/home/students/tyang/airogs/0/TRAIN013893.jpg', '/home/students/tyang/airogs/0/TRAIN013101.jpg', '/home/students/tyang/airogs/0/TRAIN014126.jpg', '/home/students/tyang/airogs/0/TRAIN013735.jpg', '/home/students/tyang/airogs/0/TRAIN014047.jpg', '/home/students/tyang/airogs/0/TRAIN013340.jpg', '/home/students/tyang/airogs/0/TRAIN013077.jpg', '/home/students/tyang/airogs/0/TRAIN013550.jpg', '/home/students/tyang/airogs/0/TRAIN013770.jpg', '/home/students/tyang/airogs/0/TRAIN013164.jpg', '/home/students/tyang/airogs/0/TRAIN013187.jpg', '/home/students/tyang/airogs/0/TRAIN013922.jpg', '/home/students/tyang/airogs/0/TRAIN013252.jpg', '/home/students/tyang/airogs/0/TRAIN014128.jpg', '/home/students/tyang/airogs/0/TRAIN013596.jpg', '/home/students/tyang/airogs/0/TRAIN013780.jpg', '/home/students/tyang/airogs/0/TRAIN013020.jpg', '/home/students/tyang/airogs/0/TRAIN013221.jpg', '/home/students/tyang/airogs/0/TRAIN012949.jpg', '/home/students/tyang/airogs/0/TRAIN013088.jpg', '/home/students/tyang/airogs/0/TRAIN013677.jpg', '/home/students/tyang/airogs/0/TRAIN013954.jpg', '/home/students/tyang/airogs/0/TRAIN013592.jpg', '/home/students/tyang/airogs/0/TRAIN013695.jpg', '/home/students/tyang/airogs/0/TRAIN014102.jpg', '/home/students/tyang/airogs/0/TRAIN013019.jpg', '/home/students/tyang/airogs/0/TRAIN013230.jpg', '/home/students/tyang/airogs/0/TRAIN013431.jpg', '/home/students/tyang/airogs/0/TRAIN013518.jpg', '/home/students/tyang/airogs/0/TRAIN012983.jpg', '/home/students/tyang/airogs/0/TRAIN013469.jpg', '/home/students/tyang/airogs/0/TRAIN013505.jpg', '/home/students/tyang/airogs/0/TRAIN013358.jpg', '/home/students/tyang/airogs/0/TRAIN013212.jpg', '/home/students/tyang/airogs/0/TRAIN013327.jpg', '/home/students/tyang/airogs/0/TRAIN013508.jpg', '/home/students/tyang/airogs/0/TRAIN013347.jpg', '/home/students/tyang/airogs/0/TRAIN014145.jpg', '/home/students/tyang/airogs/0/TRAIN014149.jpg', '/home/students/tyang/airogs/0/TRAIN013837.jpg', '/home/students/tyang/airogs/0/TRAIN013920.jpg', '/home/students/tyang/airogs/0/TRAIN013694.jpg', '/home/students/tyang/airogs/0/TRAIN014195.jpg', '/home/students/tyang/airogs/0/TRAIN013821.jpg', '/home/students/tyang/airogs/0/TRAIN013094.jpg', '/home/students/tyang/airogs/0/TRAIN013602.jpg', '/home/students/tyang/airogs/0/TRAIN014165.jpg', '/home/students/tyang/airogs/0/TRAIN013477.jpg', '/home/students/tyang/airogs/0/TRAIN013300.jpg', '/home/students/tyang/airogs/0/TRAIN014054.jpg', '/home/students/tyang/airogs/0/TRAIN013980.jpg', '/home/students/tyang/airogs/0/TRAIN013657.jpg', '/home/students/tyang/airogs/0/TRAIN013804.jpg', '/home/students/tyang/airogs/0/TRAIN014111.jpg', '/home/students/tyang/airogs/0/TRAIN013570.jpg', '/home/students/tyang/airogs/0/TRAIN014134.jpg', '/home/students/tyang/airogs/0/TRAIN013758.jpg', '/home/students/tyang/airogs/0/TRAIN013843.jpg', '/home/students/tyang/airogs/0/TRAIN013471.jpg', '/home/students/tyang/airogs/0/TRAIN014704.jpg', '/home/students/tyang/airogs/0/TRAIN014523.jpg', '/home/students/tyang/airogs/0/TRAIN014379.jpg', '/home/students/tyang/airogs/0/TRAIN015183.jpg', '/home/students/tyang/airogs/0/TRAIN015221.jpg', '/home/students/tyang/airogs/0/TRAIN014941.jpg', '/home/students/tyang/airogs/0/TRAIN015441.jpg', '/home/students/tyang/airogs/0/TRAIN015430.jpg', '/home/students/tyang/airogs/0/TRAIN014301.jpg', '/home/students/tyang/airogs/0/TRAIN014601.jpg', '/home/students/tyang/airogs/0/TRAIN015012.jpg', '/home/students/tyang/airogs/0/TRAIN014225.jpg', '/home/students/tyang/airogs/0/TRAIN015061.jpg', '/home/students/tyang/airogs/0/TRAIN014728.jpg', '/home/students/tyang/airogs/0/TRAIN015103.jpg', '/home/students/tyang/airogs/0/TRAIN015254.jpg', '/home/students/tyang/airogs/0/TRAIN015161.jpg', '/home/students/tyang/airogs/0/TRAIN014276.jpg', '/home/students/tyang/airogs/0/TRAIN015293.jpg', '/home/students/tyang/airogs/0/TRAIN014628.jpg', '/home/students/tyang/airogs/0/TRAIN015079.jpg', '/home/students/tyang/airogs/0/TRAIN015417.jpg', '/home/students/tyang/airogs/0/TRAIN014600.jpg', '/home/students/tyang/airogs/0/TRAIN014800.jpg', '/home/students/tyang/airogs/0/TRAIN014903.jpg', '/home/students/tyang/airogs/0/TRAIN015227.jpg', '/home/students/tyang/airogs/0/TRAIN015163.jpg', '/home/students/tyang/airogs/0/TRAIN015316.jpg', '/home/students/tyang/airogs/0/TRAIN014238.jpg', '/home/students/tyang/airogs/0/TRAIN014846.jpg', '/home/students/tyang/airogs/0/TRAIN015379.jpg', '/home/students/tyang/airogs/0/TRAIN015333.jpg', '/home/students/tyang/airogs/0/TRAIN015134.jpg', '/home/students/tyang/airogs/0/TRAIN014284.jpg', '/home/students/tyang/airogs/0/TRAIN014333.jpg', '/home/students/tyang/airogs/0/TRAIN014673.jpg', '/home/students/tyang/airogs/0/TRAIN015492.jpg', '/home/students/tyang/airogs/0/TRAIN014270.jpg', '/home/students/tyang/airogs/0/TRAIN014489.jpg', '/home/students/tyang/airogs/0/TRAIN014748.jpg', '/home/students/tyang/airogs/0/TRAIN014405.jpg', '/home/students/tyang/airogs/0/TRAIN014388.jpg', '/home/students/tyang/airogs/0/TRAIN015087.jpg', '/home/students/tyang/airogs/0/TRAIN014742.jpg', '/home/students/tyang/airogs/0/TRAIN014858.jpg', '/home/students/tyang/airogs/0/TRAIN015376.jpg', '/home/students/tyang/airogs/0/TRAIN014377.jpg', '/home/students/tyang/airogs/0/TRAIN015425.jpg', '/home/students/tyang/airogs/0/TRAIN014217.jpg', '/home/students/tyang/airogs/0/TRAIN014398.jpg', '/home/students/tyang/airogs/0/TRAIN014929.jpg', '/home/students/tyang/airogs/0/TRAIN014922.jpg', '/home/students/tyang/airogs/0/TRAIN014907.jpg', '/home/students/tyang/airogs/0/TRAIN015433.jpg', '/home/students/tyang/airogs/0/TRAIN015167.jpg', '/home/students/tyang/airogs/0/TRAIN015152.jpg', '/home/students/tyang/airogs/0/TRAIN015126.jpg', '/home/students/tyang/airogs/0/TRAIN014983.jpg', '/home/students/tyang/airogs/0/TRAIN015090.jpg', '/home/students/tyang/airogs/0/TRAIN015266.jpg', '/home/students/tyang/airogs/0/TRAIN015295.jpg', '/home/students/tyang/airogs/0/TRAIN014705.jpg', '/home/students/tyang/airogs/0/TRAIN014925.jpg', '/home/students/tyang/airogs/0/TRAIN014609.jpg', '/home/students/tyang/airogs/0/TRAIN014720.jpg', '/home/students/tyang/airogs/0/TRAIN014932.jpg', '/home/students/tyang/airogs/0/TRAIN015282.jpg', '/home/students/tyang/airogs/0/TRAIN015247.jpg', '/home/students/tyang/airogs/0/TRAIN014357.jpg', '/home/students/tyang/airogs/0/TRAIN014366.jpg', '/home/students/tyang/airogs/0/TRAIN015228.jpg', '/home/students/tyang/airogs/0/TRAIN015123.jpg', '/home/students/tyang/airogs/0/TRAIN015160.jpg', '/home/students/tyang/airogs/0/TRAIN014443.jpg', '/home/students/tyang/airogs/0/TRAIN015259.jpg', '/home/students/tyang/airogs/0/TRAIN015180.jpg', '/home/students/tyang/airogs/0/TRAIN014801.jpg', '/home/students/tyang/airogs/0/TRAIN015191.jpg', '/home/students/tyang/airogs/0/TRAIN014638.jpg', '/home/students/tyang/airogs/0/TRAIN015289.jpg', '/home/students/tyang/airogs/0/TRAIN014896.jpg', '/home/students/tyang/airogs/0/TRAIN014741.jpg', '/home/students/tyang/airogs/0/TRAIN015447.jpg', '/home/students/tyang/airogs/0/TRAIN014637.jpg', '/home/students/tyang/airogs/0/TRAIN015275.jpg', '/home/students/tyang/airogs/0/TRAIN014918.jpg', '/home/students/tyang/airogs/0/TRAIN015487.jpg', '/home/students/tyang/airogs/0/TRAIN015413.jpg', '/home/students/tyang/airogs/0/TRAIN014374.jpg', '/home/students/tyang/airogs/0/TRAIN014295.jpg', '/home/students/tyang/airogs/0/TRAIN015222.jpg', '/home/students/tyang/airogs/0/TRAIN015245.jpg', '/home/students/tyang/airogs/0/TRAIN014509.jpg', '/home/students/tyang/airogs/0/TRAIN014460.jpg', '/home/students/tyang/airogs/0/TRAIN015511.jpg', '/home/students/tyang/airogs/0/TRAIN015483.jpg', '/home/students/tyang/airogs/0/TRAIN014362.jpg', '/home/students/tyang/airogs/0/TRAIN015358.jpg', '/home/students/tyang/airogs/0/TRAIN014747.jpg', '/home/students/tyang/airogs/0/TRAIN014901.jpg', '/home/students/tyang/airogs/0/TRAIN016327.jpg', '/home/students/tyang/airogs/0/TRAIN016358.jpg', '/home/students/tyang/airogs/0/TRAIN016539.jpg', '/home/students/tyang/airogs/0/TRAIN016674.jpg', '/home/students/tyang/airogs/0/TRAIN016032.jpg', '/home/students/tyang/airogs/0/TRAIN016081.jpg', '/home/students/tyang/airogs/0/TRAIN016586.jpg', '/home/students/tyang/airogs/0/TRAIN016229.jpg', '/home/students/tyang/airogs/0/TRAIN016143.jpg', '/home/students/tyang/airogs/0/TRAIN016095.jpg', '/home/students/tyang/airogs/0/TRAIN016581.jpg', '/home/students/tyang/airogs/0/TRAIN016253.jpg', '/home/students/tyang/airogs/0/TRAIN015640.jpg', '/home/students/tyang/airogs/0/TRAIN016421.jpg', '/home/students/tyang/airogs/0/TRAIN016220.jpg', '/home/students/tyang/airogs/0/TRAIN015670.jpg', '/home/students/tyang/airogs/0/TRAIN015652.jpg', '/home/students/tyang/airogs/0/TRAIN015864.jpg', '/home/students/tyang/airogs/0/TRAIN016140.jpg', '/home/students/tyang/airogs/0/TRAIN015588.jpg', '/home/students/tyang/airogs/0/TRAIN016619.jpg', '/home/students/tyang/airogs/0/TRAIN016507.jpg', '/home/students/tyang/airogs/0/TRAIN016339.jpg', '/home/students/tyang/airogs/0/TRAIN016208.jpg', '/home/students/tyang/airogs/0/TRAIN016460.jpg', '/home/students/tyang/airogs/0/TRAIN015855.jpg', '/home/students/tyang/airogs/0/TRAIN016168.jpg', '/home/students/tyang/airogs/0/TRAIN016035.jpg', '/home/students/tyang/airogs/0/TRAIN016407.jpg', '/home/students/tyang/airogs/0/TRAIN016550.jpg', '/home/students/tyang/airogs/0/TRAIN015520.jpg', '/home/students/tyang/airogs/0/TRAIN016535.jpg', '/home/students/tyang/airogs/0/TRAIN016416.jpg', '/home/students/tyang/airogs/0/TRAIN015846.jpg', '/home/students/tyang/airogs/0/TRAIN016000.jpg', '/home/students/tyang/airogs/0/TRAIN016015.jpg', '/home/students/tyang/airogs/0/TRAIN016656.jpg', '/home/students/tyang/airogs/0/TRAIN016241.jpg', '/home/students/tyang/airogs/0/TRAIN015544.jpg', '/home/students/tyang/airogs/0/TRAIN015822.jpg', '/home/students/tyang/airogs/0/TRAIN015840.jpg', '/home/students/tyang/airogs/0/TRAIN016176.jpg', '/home/students/tyang/airogs/0/TRAIN016536.jpg', '/home/students/tyang/airogs/0/TRAIN016023.jpg', '/home/students/tyang/airogs/0/TRAIN015613.jpg', '/home/students/tyang/airogs/0/TRAIN015766.jpg', '/home/students/tyang/airogs/0/TRAIN015694.jpg', '/home/students/tyang/airogs/0/TRAIN016323.jpg', '/home/students/tyang/airogs/0/TRAIN016322.jpg', '/home/students/tyang/airogs/0/TRAIN016648.jpg', '/home/students/tyang/airogs/0/TRAIN016396.jpg', '/home/students/tyang/airogs/0/TRAIN015648.jpg', '/home/students/tyang/airogs/0/TRAIN016091.jpg', '/home/students/tyang/airogs/0/TRAIN016274.jpg', '/home/students/tyang/airogs/0/TRAIN015720.jpg', '/home/students/tyang/airogs/0/TRAIN016039.jpg', '/home/students/tyang/airogs/0/TRAIN016304.jpg', '/home/students/tyang/airogs/0/TRAIN015842.jpg', '/home/students/tyang/airogs/0/TRAIN016046.jpg', '/home/students/tyang/airogs/0/TRAIN016387.jpg', '/home/students/tyang/airogs/0/TRAIN016378.jpg', '/home/students/tyang/airogs/0/TRAIN016600.jpg', '/home/students/tyang/airogs/0/TRAIN015980.jpg', '/home/students/tyang/airogs/0/TRAIN016191.jpg', '/home/students/tyang/airogs/0/TRAIN016277.jpg', '/home/students/tyang/airogs/0/TRAIN016537.jpg', '/home/students/tyang/airogs/0/TRAIN015525.jpg', '/home/students/tyang/airogs/0/TRAIN016515.jpg', '/home/students/tyang/airogs/0/TRAIN015616.jpg', '/home/students/tyang/airogs/0/TRAIN015888.jpg', '/home/students/tyang/airogs/0/TRAIN016573.jpg', '/home/students/tyang/airogs/0/TRAIN015825.jpg', '/home/students/tyang/airogs/0/TRAIN015793.jpg', '/home/students/tyang/airogs/0/TRAIN015736.jpg', '/home/students/tyang/airogs/0/TRAIN016172.jpg', '/home/students/tyang/airogs/0/TRAIN015531.jpg', '/home/students/tyang/airogs/0/TRAIN016068.jpg', '/home/students/tyang/airogs/0/TRAIN016689.jpg', '/home/students/tyang/airogs/0/TRAIN016505.jpg', '/home/students/tyang/airogs/0/TRAIN015758.jpg', '/home/students/tyang/airogs/0/TRAIN015697.jpg', '/home/students/tyang/airogs/0/TRAIN015958.jpg', '/home/students/tyang/airogs/0/TRAIN016400.jpg', '/home/students/tyang/airogs/0/TRAIN016403.jpg', '/home/students/tyang/airogs/0/TRAIN016340.jpg', '/home/students/tyang/airogs/0/TRAIN016556.jpg', '/home/students/tyang/airogs/0/TRAIN015534.jpg', '/home/students/tyang/airogs/0/TRAIN016060.jpg', '/home/students/tyang/airogs/0/TRAIN015700.jpg', '/home/students/tyang/airogs/0/TRAIN015869.jpg', '/home/students/tyang/airogs/0/TRAIN016181.jpg', '/home/students/tyang/airogs/0/TRAIN015602.jpg', '/home/students/tyang/airogs/0/TRAIN016710.jpg', '/home/students/tyang/airogs/0/TRAIN015879.jpg', '/home/students/tyang/airogs/0/TRAIN015703.jpg', '/home/students/tyang/airogs/0/TRAIN015685.jpg', '/home/students/tyang/airogs/0/TRAIN016454.jpg', '/home/students/tyang/airogs/0/TRAIN016307.jpg', '/home/students/tyang/airogs/0/TRAIN016441.jpg', '/home/students/tyang/airogs/0/TRAIN015519.jpg', '/home/students/tyang/airogs/0/TRAIN017597.jpg', '/home/students/tyang/airogs/0/TRAIN017970.jpg', '/home/students/tyang/airogs/0/TRAIN017328.jpg', '/home/students/tyang/airogs/0/TRAIN017880.jpg', '/home/students/tyang/airogs/0/TRAIN017169.jpg', '/home/students/tyang/airogs/0/TRAIN017096.jpg', '/home/students/tyang/airogs/0/TRAIN016943.jpg', '/home/students/tyang/airogs/0/TRAIN017823.jpg', '/home/students/tyang/airogs/0/TRAIN017435.jpg', '/home/students/tyang/airogs/0/TRAIN017901.jpg', '/home/students/tyang/airogs/0/TRAIN017763.jpg', '/home/students/tyang/airogs/0/TRAIN017787.jpg', '/home/students/tyang/airogs/0/TRAIN017624.jpg', '/home/students/tyang/airogs/0/TRAIN017517.jpg', '/home/students/tyang/airogs/0/TRAIN017682.jpg', '/home/students/tyang/airogs/0/TRAIN017295.jpg', '/home/students/tyang/airogs/0/TRAIN017558.jpg', '/home/students/tyang/airogs/0/TRAIN017030.jpg', '/home/students/tyang/airogs/0/TRAIN017903.jpg', '/home/students/tyang/airogs/0/TRAIN017620.jpg', '/home/students/tyang/airogs/0/TRAIN017308.jpg', '/home/students/tyang/airogs/0/TRAIN017142.jpg', '/home/students/tyang/airogs/0/TRAIN016929.jpg', '/home/students/tyang/airogs/0/TRAIN017576.jpg', '/home/students/tyang/airogs/0/TRAIN017034.jpg', '/home/students/tyang/airogs/0/TRAIN017613.jpg', '/home/students/tyang/airogs/0/TRAIN017554.jpg', '/home/students/tyang/airogs/0/TRAIN017539.jpg', '/home/students/tyang/airogs/0/TRAIN017019.jpg', '/home/students/tyang/airogs/0/TRAIN017742.jpg', '/home/students/tyang/airogs/0/TRAIN017235.jpg', '/home/students/tyang/airogs/0/TRAIN017380.jpg', '/home/students/tyang/airogs/0/TRAIN016842.jpg', '/home/students/tyang/airogs/0/TRAIN016899.jpg', '/home/students/tyang/airogs/0/TRAIN017659.jpg', '/home/students/tyang/airogs/0/TRAIN017891.jpg', '/home/students/tyang/airogs/0/TRAIN017749.jpg', '/home/students/tyang/airogs/0/TRAIN017925.jpg', '/home/students/tyang/airogs/0/TRAIN016836.jpg', '/home/students/tyang/airogs/0/TRAIN017307.jpg', '/home/students/tyang/airogs/0/TRAIN017764.jpg', '/home/students/tyang/airogs/0/TRAIN017605.jpg', '/home/students/tyang/airogs/0/TRAIN017438.jpg', '/home/students/tyang/airogs/0/TRAIN017533.jpg', '/home/students/tyang/airogs/0/TRAIN017396.jpg', '/home/students/tyang/airogs/0/TRAIN017561.jpg', '/home/students/tyang/airogs/0/TRAIN017730.jpg', '/home/students/tyang/airogs/0/TRAIN017335.jpg', '/home/students/tyang/airogs/0/TRAIN016895.jpg', '/home/students/tyang/airogs/0/TRAIN016894.jpg', '/home/students/tyang/airogs/0/TRAIN017268.jpg', '/home/students/tyang/airogs/0/TRAIN017751.jpg', '/home/students/tyang/airogs/0/TRAIN016805.jpg', '/home/students/tyang/airogs/0/TRAIN017782.jpg', '/home/students/tyang/airogs/0/TRAIN017251.jpg', '/home/students/tyang/airogs/0/TRAIN017998.jpg', '/home/students/tyang/airogs/0/TRAIN017671.jpg', '/home/students/tyang/airogs/0/TRAIN017246.jpg', '/home/students/tyang/airogs/0/TRAIN016948.jpg', '/home/students/tyang/airogs/0/TRAIN017061.jpg', '/home/students/tyang/airogs/0/TRAIN017848.jpg', '/home/students/tyang/airogs/0/TRAIN017164.jpg', '/home/students/tyang/airogs/0/TRAIN017505.jpg', '/home/students/tyang/airogs/0/TRAIN017884.jpg', '/home/students/tyang/airogs/0/TRAIN017923.jpg', '/home/students/tyang/airogs/0/TRAIN016886.jpg', '/home/students/tyang/airogs/0/TRAIN017765.jpg', '/home/students/tyang/airogs/0/TRAIN017974.jpg', '/home/students/tyang/airogs/0/TRAIN017192.jpg', '/home/students/tyang/airogs/0/TRAIN017372.jpg', '/home/students/tyang/airogs/0/TRAIN017939.jpg', '/home/students/tyang/airogs/0/TRAIN017743.jpg', '/home/students/tyang/airogs/0/TRAIN016920.jpg', '/home/students/tyang/airogs/0/TRAIN017515.jpg', '/home/students/tyang/airogs/0/TRAIN017514.jpg', '/home/students/tyang/airogs/0/TRAIN017748.jpg', '/home/students/tyang/airogs/0/TRAIN016862.jpg', '/home/students/tyang/airogs/0/TRAIN016813.jpg', '/home/students/tyang/airogs/0/TRAIN017117.jpg', '/home/students/tyang/airogs/0/TRAIN017188.jpg', '/home/students/tyang/airogs/0/TRAIN017025.jpg', '/home/students/tyang/airogs/0/TRAIN017026.jpg', '/home/students/tyang/airogs/0/TRAIN016911.jpg', '/home/students/tyang/airogs/0/TRAIN017296.jpg', '/home/students/tyang/airogs/0/TRAIN017494.jpg', '/home/students/tyang/airogs/0/TRAIN017203.jpg', '/home/students/tyang/airogs/0/TRAIN017812.jpg', '/home/students/tyang/airogs/0/TRAIN016989.jpg', '/home/students/tyang/airogs/0/TRAIN017167.jpg', '/home/students/tyang/airogs/0/TRAIN017503.jpg', '/home/students/tyang/airogs/0/TRAIN017824.jpg']\n"
     ]
    }
   ],
   "source": [
    "merged_datas = {\"image_path\": [], \"label\": []}\n",
    "for  i, train_data in enumerate(data_module.train_dataloader()):\n",
    "    selected_data = ( {\"image_path\": train_data[\"image_path\"][index], \"label\": train_data[\"label\"][index]} for index in idxs[i] )\n",
    "    \n",
    "    \n",
    "    for data in selected_data:\n",
    "        for key, values in data.items():\n",
    "            merged_datas[key].append(values)\n",
    "    \n",
    "\n",
    "print(merged_datas[\"image_path\"])"
   ]
  },
  {
   "cell_type": "code",
   "execution_count": 20,
   "metadata": {},
   "outputs": [
    {
     "name": "stdout",
     "output_type": "stream",
     "text": [
      "1391\n"
     ]
    }
   ],
   "source": [
    "print(len(merged_datas[\"image_path\"]))"
   ]
  },
  {
   "cell_type": "code",
   "execution_count": 21,
   "metadata": {},
   "outputs": [],
   "source": [
    "import csv \n",
    "\n",
    "csv_path = \"/home/students/tyang/Documents/cpr_trainingdata.csv\"\n",
    "\n",
    "\n",
    "with open(csv_path, mode=\"w\", newline=\"\") as csv_file:\n",
    "        fieldnames = [\"image_path\", \"label\"]\n",
    "        writer = csv.DictWriter(csv_file, fieldnames=fieldnames)\n",
    "        for i in range(len(merged_datas[\"image_path\"])):\n",
    "            rowdict = {\"image_path\": merged_datas[\"image_path\"][i], \"label\": merged_datas[\"label\"][i]}\n",
    "            writer.writerow(rowdict)"
   ]
  }
 ],
 "metadata": {
  "kernelspec": {
   "display_name": "Python 3",
   "language": "python",
   "name": "python3"
  },
  "language_info": {
   "codemirror_mode": {
    "name": "ipython",
    "version": 3
   },
   "file_extension": ".py",
   "mimetype": "text/x-python",
   "name": "python",
   "nbconvert_exporter": "python",
   "pygments_lexer": "ipython3",
   "version": "3.10.13"
  }
 },
 "nbformat": 4,
 "nbformat_minor": 2
}
