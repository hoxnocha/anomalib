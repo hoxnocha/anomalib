{
 "cells": [
  {
   "cell_type": "code",
   "execution_count": 1,
   "metadata": {},
   "outputs": [
    {
     "name": "stderr",
     "output_type": "stream",
     "text": [
      "/work/scratch/tyang/miniconda3/env/anomalib_env/lib/python3.10/site-packages/tqdm/auto.py:21: TqdmWarning: IProgress not found. Please update jupyter and ipywidgets. See https://ipywidgets.readthedocs.io/en/stable/user_install.html\n",
      "  from .autonotebook import tqdm as notebook_tqdm\n"
     ]
    }
   ],
   "source": [
    "import numpy as np  \n",
    "from matplotlib import pyplot as plt \n",
    "from PIL import Image    \n",
    "import torch\n",
    "\n",
    "from anomalib.config import get_configurable_parameters\n",
    "from anomalib.data import get_datamodule\n",
    "from anomalib.models import get_model\n",
    "from anomalib.models.components import feature_extractors\n",
    "import torchvision\n",
    "from anomalib.models.components.feature_extractors import TorchFXFeatureExtractor\n",
    "from torchvision.models.densenet import DenseNet201_Weights\n",
    "import torch.nn.functional as F\n",
    "from anomalib.models.components.cluster.kmeans import KMeans\n",
    "import torchvision.models as models"
   ]
  },
  {
   "cell_type": "code",
   "execution_count": 2,
   "metadata": {},
   "outputs": [
    {
     "name": "stdout",
     "output_type": "stream",
     "text": [
      "dataset:\n",
      "  name: airogs\n",
      "  format: airogs\n",
      "  path: /home/students/tyang/yolov5/runs/detect/exp5/crops\n",
      "  task: classification # options: [classification, segmentation]\n",
      "  category: optic disk\n",
      "  pre_selection: False\n",
      "  number_of_samples: 17900\n",
      "  train_batch_size: 1000\n",
      "  eval_batch_size: 1000\n",
      "  num_workers: 8\n",
      "  image_size: 240 # dimensions to which images are resized (mandatory)\n",
      "  center_crop:  # dimensions to which images are center-cropped after resizing (optional)\n",
      "  normalization: imagenet # data distribution to which the images will be normalized: [none, imagenet]\n",
      "  transform_config:\n",
      "    train: null\n",
      "    eval: null\n",
      "  test_split_mode: from_dir # options: [from_dir, synthetic]\n",
      "  test_split_ratio: 0.5 # fraction of train images held out testing (usage depends on test_split_mode)\n",
      "  val_split_mode: same_as_test # options: [same_as_test, from_test, synthetic]\n",
      "  val_split_ratio: 0.5 # fraction of train/test images held out for validation (usage depends on val_split_mode)\n",
      "\n",
      "  tiling:\n",
      "    apply: false\n",
      "    tile_size: null\n",
      "    stride: null\n",
      "    remove_border_count: 0\n",
      "    use_random_tiling: False\n",
      "    random_tile_count: 16\n",
      "\n",
      "model:\n",
      "  name: patchcore\n",
      "  backbone: antialiased_wide_resnet50_2\n",
      "  pre_trained: true\n",
      "  layers:\n",
      "    - layer2\n",
      "    - layer3\n",
      "  coreset_sampling_ratio: 0.2\n",
      "\n",
      "  num_neighbors: 5\n",
      "  normalization_method: min_max # options: [null, min_max, cdf]\n",
      "\n",
      "metrics:\n",
      "  image:\n",
      "    - F1Score\n",
      "    - AUROC\n",
      "  pixel:\n",
      "    - F1Score\n",
      "    - AUROC\n",
      "  threshold:\n",
      "    method: adaptive #options: [adaptive, manual]\n",
      "    manual_image: null\n",
      "    manual_pixel: null\n",
      "\n",
      "visualization:\n",
      "  show_images: False # show images on the screen\n",
      "  save_images: True # save images to the file system\n",
      "  log_images: True # log images to the available loggers (if any)\n",
      "  image_save_path: null # path to which images will be saved\n",
      "  mode: full # options: [\"full\", \"simple\"]\n",
      "\n",
      "project:\n",
      "  seed: 0\n",
      "  path: /work/scratch/tyang/anomalib/\n",
      "\n",
      "logging:\n",
      "  logger: [] # options: [comet, tensorboard, wandb, csv] or combinations.\n",
      "  log_graph: false # Logs the model graph to respective logger.\n",
      "\n",
      "optimization:\n",
      "  export_mode: null # options: onnx, openvino\n",
      "\n",
      "# PL Trainer Args. Don't add extra parameter here.\n",
      "trainer:\n",
      "  enable_checkpointing: true\n",
      "  default_root_dir: null\n",
      "  gradient_clip_val: 0\n",
      "  gradient_clip_algorithm: norm\n",
      "  num_nodes: 1\n",
      "  devices: 1\n",
      "  enable_progress_bar: true\n",
      "  overfit_batches: 0.0\n",
      "  track_grad_norm: -1\n",
      "  check_val_every_n_epoch: 1 # Don't validate before extracting features.\n",
      "  fast_dev_run: false\n",
      "  accumulate_grad_batches: 1\n",
      "  max_epochs: 1\n",
      "  min_epochs: null\n",
      "  max_steps: -1\n",
      "  min_steps: null\n",
      "  max_time: null\n",
      "  limit_train_batches: 1.0\n",
      "  limit_val_batches: 1.0\n",
      "  limit_test_batches: 1.0\n",
      "  limit_predict_batches: 1.0\n",
      "  val_check_interval: 1.0 # Don't validate before extracting features.\n",
      "  log_every_n_steps: 50\n",
      "  accelerator: auto # <\"cpu\", \"gpu\", \"tpu\", \"ipu\", \"hpu\", \"auto\">\n",
      "  strategy: null\n",
      "  sync_batchnorm: false\n",
      "  precision: 32\n",
      "  enable_model_summary: true\n",
      "  num_sanity_val_steps: 0\n",
      "  profiler: null\n",
      "  benchmark: false\n",
      "  deterministic: false\n",
      "  reload_dataloaders_every_n_epochs: 0\n",
      "  auto_lr_find: false\n",
      "  replace_sampler_ddp: true\n",
      "  detect_anomaly: false\n",
      "  auto_scale_batch_size: false\n",
      "  plugins: null\n",
      "  move_metrics_to_cpu: false\n",
      "  multiple_trainloader_mode: max_size_cycle\n"
     ]
    },
    {
     "name": "stderr",
     "output_type": "stream",
     "text": [
      "/home/students/tyang/anomalib/src/anomalib/config/config.py:243: UserWarning: The seed value is now fixed to 0. Up to v0.3.7, the seed was not fixed when the seed value was set to 0. If you want to use the random seed, please select `None` for the seed value (`null` in the YAML file) or remove the `seed` key from the YAML file.\n",
      "  warn(\n",
      "/home/students/tyang/anomalib/src/anomalib/config/config.py:280: UserWarning: config.project.unique_dir is set to False. This does not ensure that your results will be written in an empty directory and you may overwrite files.\n",
      "  warn(\n"
     ]
    }
   ],
   "source": [
    "MODEL = \"patchcore\"\n",
    "CONFIG_PATH = f\"/home/students/tyang/anomalib/src/anomalib/models/{MODEL}/config_select.yaml\"\n",
    "with open(file=CONFIG_PATH, mode=\"r\",encoding=\"utf-8\") as f:\n",
    "    print(f.read())\n",
    "    \n",
    "config = get_configurable_parameters(config_path=CONFIG_PATH)\n"
   ]
  },
  {
   "cell_type": "code",
   "execution_count": 3,
   "metadata": {},
   "outputs": [],
   "source": [
    "\n",
    "data_module = get_datamodule(config=config)\n",
    "data_module.prepare_data() # check if the dataset is avaliable\n",
    "data_module.setup()\n",
    "\n"
   ]
  },
  {
   "cell_type": "code",
   "execution_count": 4,
   "metadata": {},
   "outputs": [],
   "source": [
    "i, train_data = next(enumerate(data_module.train_dataloader()))\n"
   ]
  },
  {
   "cell_type": "code",
   "execution_count": 5,
   "metadata": {},
   "outputs": [
    {
     "name": "stderr",
     "output_type": "stream",
     "text": [
      "/work/scratch/tyang/miniconda3/env/anomalib_env/lib/python3.10/site-packages/torch/overrides.py:110: UserWarning: 'has_cuda' is deprecated, please use 'torch.backends.cuda.is_built()'\n",
      "  torch.has_cuda,\n",
      "/work/scratch/tyang/miniconda3/env/anomalib_env/lib/python3.10/site-packages/torch/overrides.py:111: UserWarning: 'has_cudnn' is deprecated, please use 'torch.backends.cudnn.is_available()'\n",
      "  torch.has_cudnn,\n",
      "/work/scratch/tyang/miniconda3/env/anomalib_env/lib/python3.10/site-packages/torch/overrides.py:117: UserWarning: 'has_mps' is deprecated, please use 'torch.backends.mps.is_built()'\n",
      "  torch.has_mps,\n",
      "/work/scratch/tyang/miniconda3/env/anomalib_env/lib/python3.10/site-packages/torch/overrides.py:118: UserWarning: 'has_mkldnn' is deprecated, please use 'torch.backends.mkldnn.is_available()'\n",
      "  torch.has_mkldnn,\n"
     ]
    }
   ],
   "source": [
    "\n",
    "feature_extractor = TorchFXFeatureExtractor(\n",
    "                    backbone=\"densenet201\",\n",
    "                    return_nodes=[\"features.denseblock1.denselayer6.conv2\"],\n",
    "                    weights=DenseNet201_Weights.IMAGENET1K_V1,\n",
    "                )\n"
   ]
  },
  {
   "cell_type": "code",
   "execution_count": 6,
   "metadata": {},
   "outputs": [
    {
     "name": "stdout",
     "output_type": "stream",
     "text": [
      "torch.Size([1000, 32, 60, 60])\n"
     ]
    }
   ],
   "source": [
    "# feature shape is (batch_size, channel, height, width) \n",
    "feature = feature_extractor(train_data[\"image\"])\n",
    "print(feature[\"features.denseblock1.denselayer6.conv2\"].shape)\n"
   ]
  },
  {
   "cell_type": "code",
   "execution_count": 7,
   "metadata": {},
   "outputs": [
    {
     "name": "stdout",
     "output_type": "stream",
     "text": [
      "torch.Size([1000])\n"
     ]
    }
   ],
   "source": [
    "print(train_data[\"label\"].shape)"
   ]
  },
  {
   "cell_type": "code",
   "execution_count": 8,
   "metadata": {},
   "outputs": [],
   "source": [
    "# extract features from the whol training dataset\n",
    "\n",
    "feature_list = []\n",
    "\n",
    "for  i, train_data in enumerate(data_module.train_dataloader()):\n",
    "    features = feature_extractor(train_data[\"image\"])[\"features.denseblock1.denselayer6.conv2\"]\n",
    "    feature_list.append(features)\n",
    "\n"
   ]
  },
  {
   "cell_type": "code",
   "execution_count": 9,
   "metadata": {},
   "outputs": [],
   "source": [
    "# convert the list of features to a tensor\n",
    "global_feature_tensor = torch.vstack(feature_list)   "
   ]
  },
  {
   "cell_type": "code",
   "execution_count": 10,
   "metadata": {},
   "outputs": [
    {
     "name": "stdout",
     "output_type": "stream",
     "text": [
      "torch.Size([8651, 32, 60, 60])\n"
     ]
    }
   ],
   "source": [
    "# global feature shape is (train_data size, channel, height, width)\n",
    "print(global_feature_tensor.shape)"
   ]
  },
  {
   "cell_type": "code",
   "execution_count": null,
   "metadata": {},
   "outputs": [],
   "source": [
    "from sklearn.cluster import KMeans\n",
    "\n",
    "\n",
    "def calculate_WSS(points, kmax):\n",
    "    feature_t = points.permute(1,0,2,3)\n",
    "    feature_t = feature_t.flatten(start_dim=1)\n",
    "    feature_t= feature_t.permute(1,0)\n",
    "    sse = []\n",
    "    for k in range(1, kmax+1):\n",
    "        kmeans = KMeans(n_clusters = k).fit(feature_t)\n",
    "        centroids = kmeans.cluster_centers_\n",
    "        pred_clusters = kmeans.predict(feature_t)\n",
    "        curr_sse = 0\n",
    "\n",
    "        # calculate square of Euclidean distance of each point from its cluster center and add to current WSS\n",
    "        for i in range(len(points)):\n",
    "            curr_center = centroids[pred_clusters[i]]\n",
    "            curr_sse += (points[i, 0] - curr_center[0]) ** 2 + (points[i, 1] - curr_center[1]) ** 2\n",
    "\n",
    "        sse.append(curr_sse)\n",
    "    return sse\n"
   ]
  },
  {
   "cell_type": "code",
   "execution_count": null,
   "metadata": {},
   "outputs": [],
   "source": [
    "\n",
    "from sklearn.cluster import KMeans\n",
    "from sklearn.metrics import silhouette_score\n",
    "\n",
    "import matplotlib.pyplot as plt\n",
    "import numpy as np\n",
    "\n",
    "feature_t = global_feature_tensor.permute(1,0,2,3)\n",
    "feature_t = feature_t.flatten(start_dim=1)\n",
    "feature_t= feature_t.permute(1,0)\n",
    "\n",
    "silhouette_avg = []\n",
    "for i in range(10,20):\n",
    "    kmeans_fit = KMeans(n_clusters = i).fit(feature_t)\n",
    "    silhouette_avg.append(silhouette_score(feature_t, kmeans_fit.labels_))\n",
    "\n",
    "\n",
    "x_ticks = np.linspace(10,20,11)\n",
    "plt.xticks(x_ticks)\n",
    "plt.plot(range(10,20), silhouette_avg)"
   ]
  },
  {
   "cell_type": "code",
   "execution_count": 11,
   "metadata": {},
   "outputs": [],
   "source": [
    "from anomalib.models.components.cluster.kmeans import KMeans\n",
    "\n",
    "def get_kmeans_centers(feature_tensor, n_clusters):\n",
    "    \"\"\"\n",
    "    Args:\n",
    "        feature_t: feature tensor, shape is (batch_size, channel, height, width)\n",
    "        n_clusters: number of clusters\n",
    "        \n",
    "    Returns:\n",
    "        cluster_center: shape is (n_clusters, channel)\n",
    "        kmeans: kmeans model   \"\"\"\n",
    "    \n",
    "    feature_t = feature_tensor.permute(1,0,2,3)\n",
    "    feature_t = feature_t.flatten(start_dim=1)\n",
    "    feature_t= feature_t.permute(1,0)\n",
    "\n",
    "\n",
    "    kmeans = KMeans(n_clusters=n_clusters)\n",
    "    kmeans.fit(feature_t)\n",
    "    cluster_center = kmeans.cluster_centers_\n",
    "   \n",
    "    return cluster_center, kmeans\n",
    "\n"
   ]
  },
  {
   "cell_type": "code",
   "execution_count": 12,
   "metadata": {},
   "outputs": [
    {
     "name": "stdout",
     "output_type": "stream",
     "text": [
      "torch.Size([12, 32])\n",
      "12\n"
     ]
    }
   ],
   "source": [
    "clusters_centers,kmeans = get_kmeans_centers(global_feature_tensor, n_clusters=12)\n",
    "\n",
    "print(clusters_centers.shape)\n",
    "print(len(clusters_centers))"
   ]
  },
  {
   "cell_type": "code",
   "execution_count": 13,
   "metadata": {},
   "outputs": [],
   "source": [
    "def bag_of_words_statistics(Ptst, Cref, S):\n",
    "    \"\"\"\n",
    "    Params:\n",
    "    Ptst: Feature tensor of a set of images, tensor of shape (N, C, H, W)\n",
    "    Cref: reference Cluster centers, tensor of shape (K, C)\n",
    "    S: number of subregions per image dimension, integer\n",
    "\n",
    "    Returns:\n",
    "    bow_stats: list of normalized Bag-of-words statistics, possibility-like , length N, each element is a tensor of shape (S * S, K)\n",
    "    \"\"\"\n",
    "    Ptst = torch.vsplit(Ptst, Ptst.shape[0])\n",
    "    bow_stats = []\n",
    "    for Itst in Ptst:\n",
    "        Itst = Itst.squeeze(0)\n",
    "        #print(Itst.shape)\n",
    "        subtensors = torch.chunk(Itst, S, dim=1)\n",
    "        subtensor = [torch.chunk(st, S, dim=2) for st in subtensors]\n",
    "        \n",
    "        \n",
    "        image_bow_stats = torch.zeros(S * S, len(Cref), dtype=torch.float32)\n",
    "        for i in range(S):\n",
    "            for j in range(S):\n",
    "                st_value = subtensor[i][j]\n",
    "                st_value = st_value.flatten(start_dim=1)\n",
    "                st_value = st_value.permute(1,0)\n",
    "               # print(st_value.shape)\n",
    "                \n",
    "                cluster_idx = kmeans.predict(st_value)\n",
    "                #print(cluster_idx.shape)\n",
    "                cluster_idx = cluster_idx.float()\n",
    "\n",
    "                hist = torch.histc(cluster_idx, bins = len(Cref), min = torch.min(cluster_idx), max = torch.max(cluster_idx))\n",
    "                normalized_hist = hist / torch.sum(hist)\n",
    "                image_bow_stats[i * S + j] = normalized_hist\n",
    "        \n",
    "        bow_stats.append(image_bow_stats)\n",
    "            \n",
    "        \n",
    "    return bow_stats\n"
   ]
  },
  {
   "cell_type": "code",
   "execution_count": 14,
   "metadata": {},
   "outputs": [],
   "source": [
    "global_bow_stats = bag_of_words_statistics(global_feature_tensor, clusters_centers, S=4)"
   ]
  },
  {
   "cell_type": "code",
   "execution_count": 15,
   "metadata": {},
   "outputs": [
    {
     "name": "stdout",
     "output_type": "stream",
     "text": [
      "8651\n",
      "torch.Size([16, 12])\n"
     ]
    }
   ],
   "source": [
    "print(len(global_bow_stats))\n",
    "print(global_bow_stats[0].shape)"
   ]
  },
  {
   "cell_type": "code",
   "execution_count": null,
   "metadata": {},
   "outputs": [],
   "source": [
    "import torch.nn.functional as F\n",
    "\n",
    "def kl_distance(i_hist, j_hist):\n",
    "    \"\"\"Params:\n",
    "    i_hist: bow histogram of image i, tensor of shape (1, s * s, K )\n",
    "    j_hist: bow histogram of image j, tensor of shape (1, s * s, K )\n",
    "\n",
    "    Returns:\n",
    "    kl_dist: kl distance between image i and image j, tensor of shape (1)\n",
    "    \"\"\"\n",
    "    i_hist[i_hist == 0] = 1e-10\n",
    "    j_hist[j_hist == 0] = 1e-10\n",
    "    kl_divegence = F.kl_div(j_hist.log(), i_hist,reduction=\"none\")\n",
    "    \n",
    "    sum = torch.sum(kl_divegence,dim=-1)\n",
    "    topk,ids = torch.topk(sum, k=11, dim=0, largest=False, sorted=True)\n",
    "   \n",
    "    dist = torch.mean(topk)\n",
    "  \n",
    "    return dist\n",
    "    "
   ]
  },
  {
   "cell_type": "code",
   "execution_count": null,
   "metadata": {},
   "outputs": [],
   "source": [
    "def kl_select(bow_stats, select_ratio, step_size):\n",
    "    \"\"\"\n",
    "    Params:\n",
    "    bow_stats: list of normalized Bag-of-words statistics, possibility-like , length N, each element is a tensor of shape (S * S, K)\n",
    "    select_ratio: ratio of selected images compare to all images, float\n",
    "    step_size: batch size, used for big taining dataset, integer\n",
    "\n",
    "    Returns:\n",
    "    selected_idx: list of selected image indices with highest kl-divergence in each batch, length number of batches, each element has the size of batch_size * select_ratio\n",
    "    \"\"\"\n",
    "    \n",
    "    stacked_bow_stats = torch.vstack(bow_stats)\n",
    "    stacked_bow_stats_reshaped = stacked_bow_stats.view(len(bow_stats),1,bow_stats[0].shape[0],bow_stats[0].shape[1])\n",
    "    stacked_bow_stats_transposed = stacked_bow_stats_reshaped.permute(1,0,2,3)\n",
    "\n",
    "    stacked_bow_stats_reshaped[stacked_bow_stats_reshaped == 0 ] = 1e-10\n",
    "    stacked_bow_stats_transposed[stacked_bow_stats_transposed == 0 ] = 1e-10\n",
    "\n",
    "    selected_idxs =[]\n",
    "    selected_distances = []\n",
    "    for i in range(0, stacked_bow_stats_reshaped.shape[0], step_size):\n",
    "        current_bow = stacked_bow_stats_reshaped[i:i+step_size if i+step_size < stacked_bow_stats_reshaped.shape[0] else stacked_bow_stats_reshaped.shape[0], :, :, :]\n",
    "        kl_divegence = F.kl_div(current_bow.log(), stacked_bow_stats_transposed,reduction=\"none\")\n",
    "       # print(kl_divegence.shape)\n",
    "\n",
    "        sum = torch.sum(kl_divegence,dim=3)\n",
    "        #print(sum.shape)\n",
    "        #topk,ids = torch.topk(sum, k=11, dim=2, largest=False, sorted=True)\n",
    "        dist_matrix = torch.mean(sum,dim=2)\n",
    "        #print(dist_matrix.shape)\n",
    "  \n",
    "        dist_l = torch.sum(dist_matrix,dim=1)\n",
    "        topk_far_distances,f_idx = torch.topk(dist_l, k=int(len(dist_l) * select_ratio), dim=0, largest=True, sorted=True)\n",
    "        #topk_near_distances,n_idx = torch.topk(dist_l, k=int(len(dist_l) * select_ratio ), dim=0, largest=False, sorted=True)\n",
    "        #selected_idx = torch.cat((f_idx,n_idx),dim=0)\n",
    "        selected_idxs.append(f_idx)\n",
    "        #selected_distance = torch.cat((topk_far_distances,topk_near_distances),dim=0)\n",
    "        selected_distances.append(topk_far_distances)\n",
    "\n",
    "    \n",
    "    return selected_idxs, selected_distances"
   ]
  },
  {
   "cell_type": "code",
   "execution_count": 16,
   "metadata": {},
   "outputs": [],
   "source": [
    "def kl_select(bow_stats, select_ratio, step_size):\n",
    "    \"\"\"\n",
    "    Params:\n",
    "    bow_stats: list of normalized Bag-of-words statistics, possibility-like , length N, each element is a tensor of shape (S * S, K)\n",
    "    select_ratio: ratio of selected images compare to all images, float\n",
    "    step_size: batch size, used for big taining dataset, integer\n",
    "\n",
    "    Returns:\n",
    "    selected_idx: list of selected image indices with highest kl-divergence in each batch, length number of batches, each element has the size of batch_size * select_ratio\n",
    "    \"\"\"\n",
    "    \n",
    "    stacked_bow_stats = torch.vstack(bow_stats)\n",
    "    stacked_bow_stats_reshaped = stacked_bow_stats.view(len(bow_stats),1,bow_stats[0].shape[0],bow_stats[0].shape[1])\n",
    "    stacked_bow_stats_transposed = stacked_bow_stats_reshaped.permute(1,0,2,3)\n",
    "\n",
    "    stacked_bow_stats_reshaped[stacked_bow_stats_reshaped == 0 ] = 1e-10\n",
    "    stacked_bow_stats_transposed[stacked_bow_stats_transposed == 0 ] = 1e-10\n",
    "\n",
    "    selected_idxs =[]\n",
    "    selected_distances = []\n",
    "    for i in range(0, stacked_bow_stats_reshaped.shape[0], step_size):\n",
    "        current_bow = stacked_bow_stats_reshaped[i:i+step_size if i+step_size < stacked_bow_stats_reshaped.shape[0] else stacked_bow_stats_reshaped.shape[0], :, :, :]\n",
    "        kl_divegence = F.kl_div(current_bow.log(), stacked_bow_stats_transposed,reduction=\"none\")\n",
    "\n",
    "        sum = torch.sum(kl_divegence,dim=3)\n",
    "        dist_matrix = torch.mean(sum,dim=2)\n",
    "  \n",
    "        dist_l = torch.sum(dist_matrix,dim=1)\n",
    "        topk_far_distances,f_idx = torch.topk(dist_l, k=int(len(dist_l) * select_ratio), dim=0, largest=True, sorted=True)\n",
    "        selected_idxs.append(f_idx)\n",
    "        selected_distances.append(topk_far_distances)\n",
    "\n",
    "    \n",
    "    return selected_idxs, selected_distances"
   ]
  },
  {
   "cell_type": "code",
   "execution_count": 17,
   "metadata": {},
   "outputs": [],
   "source": [
    "idxs,distances = kl_select(global_bow_stats, select_ratio=0.4, step_size=1000)"
   ]
  },
  {
   "cell_type": "code",
   "execution_count": 18,
   "metadata": {},
   "outputs": [
    {
     "name": "stdout",
     "output_type": "stream",
     "text": [
      "9\n",
      "torch.Size([400])\n",
      "400\n",
      "torch.Size([400])\n",
      "torch.Size([3460])\n"
     ]
    }
   ],
   "source": [
    "print(len(idxs))\n",
    "print(idxs[0].shape)\n",
    "print(idxs[0].shape[0])\n",
    "print(idxs[1].shape)\n",
    "stack_distances = torch.cat(distances)\n",
    "print(stack_distances.shape)"
   ]
  },
  {
   "cell_type": "code",
   "execution_count": 19,
   "metadata": {},
   "outputs": [],
   "source": [
    "def second_selection(index, distance, select_ratio):\n",
    "    \"\"\"\n",
    "    Params:\n",
    "    idxs: list of selected image indices in each batch , length number of batches\n",
    "    distances: list of selected image distances, length number of batches\n",
    "    select_ratio: ratio of selected images compare to all images, float\n",
    "\n",
    "    Returns:\n",
    "    selected_idx: list of selected image indices with biggest distances over all in each batches, length number of batches\n",
    "    \"\"\"\n",
    "    selected_distances = [[] for _ in range(len(distance))]\n",
    "    distance_t = torch.cat(distance)\n",
    "    topk, global_ids = torch.topk(distance_t, k=int(len(distance_t) * select_ratio ), dim=0, largest=True, sorted=True)\n",
    "    selected_idxs = [[] for _ in range(len(index))]\n",
    "    \n",
    "    for global_id in global_ids:\n",
    "        batch_id = global_id // index[0].shape[0]\n",
    "        local_id = global_id % index[0].shape[0]\n",
    "        selected_idxs[batch_id].append(index[batch_id][local_id])\n",
    "        selected_distances[batch_id].append(distance_t[global_id])\n",
    "        \n",
    "  \n",
    "    \n",
    "    return selected_idxs, selected_distances"
   ]
  },
  {
   "cell_type": "code",
   "execution_count": 25,
   "metadata": {},
   "outputs": [],
   "source": [
    "second_indices,second_dists = second_selection(idxs, distances, select_ratio=0.3)"
   ]
  },
  {
   "cell_type": "code",
   "execution_count": 26,
   "metadata": {},
   "outputs": [
    {
     "name": "stdout",
     "output_type": "stream",
     "text": [
      "9\n",
      "9\n",
      "[tensor(525), tensor(431), tensor(324), tensor(917), tensor(585), tensor(617), tensor(707), tensor(442), tensor(726), tensor(981), tensor(195), tensor(764), tensor(283), tensor(674), tensor(721), tensor(98), tensor(843), tensor(519), tensor(777), tensor(81), tensor(719), tensor(631), tensor(876), tensor(921), tensor(372), tensor(474), tensor(942), tensor(844), tensor(373), tensor(498), tensor(382), tensor(24), tensor(711), tensor(790), tensor(325), tensor(922), tensor(364), tensor(793), tensor(936), tensor(262), tensor(666), tensor(929), tensor(447), tensor(539), tensor(124), tensor(808), tensor(311), tensor(445), tensor(586), tensor(691), tensor(957), tensor(57), tensor(121), tensor(385), tensor(188), tensor(307), tensor(526), tensor(393), tensor(10), tensor(359), tensor(362), tensor(427), tensor(606), tensor(342), tensor(181), tensor(99), tensor(582), tensor(759), tensor(867), tensor(593), tensor(713), tensor(613), tensor(608), tensor(224), tensor(959), tensor(496), tensor(230), tensor(686), tensor(244), tensor(823), tensor(930), tensor(61), tensor(801), tensor(193), tensor(26), tensor(375), tensor(318), tensor(644), tensor(453), tensor(861), tensor(531), tensor(714), tensor(287), tensor(524), tensor(165), tensor(795), tensor(168), tensor(669)]\n",
      "98\n",
      "116\n"
     ]
    }
   ],
   "source": [
    "print(len(second_indices))\n",
    "print(len(second_dists))\n",
    "print(second_indices[0])\n",
    "print(len(second_indices[0]))\n",
    "print(len(second_indices[1]))"
   ]
  },
  {
   "cell_type": "code",
   "execution_count": 27,
   "metadata": {},
   "outputs": [
    {
     "name": "stdout",
     "output_type": "stream",
     "text": [
      "['/home/students/tyang/yolov5/runs/detect/exp5/crops/optic disk/TRAIN001168.jpg', '/home/students/tyang/yolov5/runs/detect/exp5/crops/optic disk/TRAIN000946.jpg', '/home/students/tyang/yolov5/runs/detect/exp5/crops/optic disk/TRAIN000704.jpg', '/home/students/tyang/yolov5/runs/detect/exp5/crops/optic disk/TRAIN002012.jpg', '/home/students/tyang/yolov5/runs/detect/exp5/crops/optic disk/TRAIN001281.jpg', '/home/students/tyang/yolov5/runs/detect/exp5/crops/optic disk/TRAIN001352.jpg', '/home/students/tyang/yolov5/runs/detect/exp5/crops/optic disk/TRAIN001550.jpg', '/home/students/tyang/yolov5/runs/detect/exp5/crops/optic disk/TRAIN000967.jpg', '/home/students/tyang/yolov5/runs/detect/exp5/crops/optic disk/TRAIN001594.jpg', '/home/students/tyang/yolov5/runs/detect/exp5/crops/optic disk/TRAIN002133.jpg', '/home/students/tyang/yolov5/runs/detect/exp5/crops/optic disk/TRAIN000427.jpg', '/home/students/tyang/yolov5/runs/detect/exp5/crops/optic disk/TRAIN001678.jpg', '/home/students/tyang/yolov5/runs/detect/exp5/crops/optic disk/TRAIN000611.jpg', '/home/students/tyang/yolov5/runs/detect/exp5/crops/optic disk/TRAIN001474.jpg', '/home/students/tyang/yolov5/runs/detect/exp5/crops/optic disk/TRAIN001582.jpg', '/home/students/tyang/yolov5/runs/detect/exp5/crops/optic disk/TRAIN000219.jpg', '/home/students/tyang/yolov5/runs/detect/exp5/crops/optic disk/TRAIN001856.jpg', '/home/students/tyang/yolov5/runs/detect/exp5/crops/optic disk/TRAIN001145.jpg', '/home/students/tyang/yolov5/runs/detect/exp5/crops/optic disk/TRAIN001701.jpg', '/home/students/tyang/yolov5/runs/detect/exp5/crops/optic disk/TRAIN000182.jpg', '/home/students/tyang/yolov5/runs/detect/exp5/crops/optic disk/TRAIN001578.jpg', '/home/students/tyang/yolov5/runs/detect/exp5/crops/optic disk/TRAIN001385.jpg', '/home/students/tyang/yolov5/runs/detect/exp5/crops/optic disk/TRAIN001914.jpg', '/home/students/tyang/yolov5/runs/detect/exp5/crops/optic disk/TRAIN002019.jpg', '/home/students/tyang/yolov5/runs/detect/exp5/crops/optic disk/TRAIN000819.jpg', '/home/students/tyang/yolov5/runs/detect/exp5/crops/optic disk/TRAIN001031.jpg', '/home/students/tyang/yolov5/runs/detect/exp5/crops/optic disk/TRAIN002058.jpg', '/home/students/tyang/yolov5/runs/detect/exp5/crops/optic disk/TRAIN001859.jpg', '/home/students/tyang/yolov5/runs/detect/exp5/crops/optic disk/TRAIN000820.jpg', '/home/students/tyang/yolov5/runs/detect/exp5/crops/optic disk/TRAIN001088.jpg', '/home/students/tyang/yolov5/runs/detect/exp5/crops/optic disk/TRAIN000841.jpg', '/home/students/tyang/yolov5/runs/detect/exp5/crops/optic disk/TRAIN000069.jpg', '/home/students/tyang/yolov5/runs/detect/exp5/crops/optic disk/TRAIN001560.jpg', '/home/students/tyang/yolov5/runs/detect/exp5/crops/optic disk/TRAIN001722.jpg', '/home/students/tyang/yolov5/runs/detect/exp5/crops/optic disk/TRAIN000705.jpg', '/home/students/tyang/yolov5/runs/detect/exp5/crops/optic disk/TRAIN002020.jpg', '/home/students/tyang/yolov5/runs/detect/exp5/crops/optic disk/TRAIN000805.jpg', '/home/students/tyang/yolov5/runs/detect/exp5/crops/optic disk/TRAIN001727.jpg', '/home/students/tyang/yolov5/runs/detect/exp5/crops/optic disk/TRAIN002047.jpg', '/home/students/tyang/yolov5/runs/detect/exp5/crops/optic disk/TRAIN000560.jpg', '/home/students/tyang/yolov5/runs/detect/exp5/crops/optic disk/TRAIN001460.jpg', '/home/students/tyang/yolov5/runs/detect/exp5/crops/optic disk/TRAIN002035.jpg', '/home/students/tyang/yolov5/runs/detect/exp5/crops/optic disk/TRAIN000978.jpg', '/home/students/tyang/yolov5/runs/detect/exp5/crops/optic disk/TRAIN001191.jpg', '/home/students/tyang/yolov5/runs/detect/exp5/crops/optic disk/TRAIN000267.jpg', '/home/students/tyang/yolov5/runs/detect/exp5/crops/optic disk/TRAIN001772.jpg', '/home/students/tyang/yolov5/runs/detect/exp5/crops/optic disk/TRAIN000675.jpg', '/home/students/tyang/yolov5/runs/detect/exp5/crops/optic disk/TRAIN000973.jpg', '/home/students/tyang/yolov5/runs/detect/exp5/crops/optic disk/TRAIN001282.jpg', '/home/students/tyang/yolov5/runs/detect/exp5/crops/optic disk/TRAIN001509.jpg', '/home/students/tyang/yolov5/runs/detect/exp5/crops/optic disk/TRAIN002086.jpg', '/home/students/tyang/yolov5/runs/detect/exp5/crops/optic disk/TRAIN000133.jpg', '/home/students/tyang/yolov5/runs/detect/exp5/crops/optic disk/TRAIN000260.jpg', '/home/students/tyang/yolov5/runs/detect/exp5/crops/optic disk/TRAIN000845.jpg', '/home/students/tyang/yolov5/runs/detect/exp5/crops/optic disk/TRAIN000415.jpg', '/home/students/tyang/yolov5/runs/detect/exp5/crops/optic disk/TRAIN000669.jpg', '/home/students/tyang/yolov5/runs/detect/exp5/crops/optic disk/TRAIN001170.jpg', '/home/students/tyang/yolov5/runs/detect/exp5/crops/optic disk/TRAIN000874.jpg', '/home/students/tyang/yolov5/runs/detect/exp5/crops/optic disk/TRAIN000043.jpg', '/home/students/tyang/yolov5/runs/detect/exp5/crops/optic disk/TRAIN000796.jpg', '/home/students/tyang/yolov5/runs/detect/exp5/crops/optic disk/TRAIN000799.jpg', '/home/students/tyang/yolov5/runs/detect/exp5/crops/optic disk/TRAIN000941.jpg', '/home/students/tyang/yolov5/runs/detect/exp5/crops/optic disk/TRAIN001324.jpg', '/home/students/tyang/yolov5/runs/detect/exp5/crops/optic disk/TRAIN000758.jpg', '/home/students/tyang/yolov5/runs/detect/exp5/crops/optic disk/TRAIN000395.jpg', '/home/students/tyang/yolov5/runs/detect/exp5/crops/optic disk/TRAIN000221.jpg', '/home/students/tyang/yolov5/runs/detect/exp5/crops/optic disk/TRAIN001276.jpg', '/home/students/tyang/yolov5/runs/detect/exp5/crops/optic disk/TRAIN001671.jpg', '/home/students/tyang/yolov5/runs/detect/exp5/crops/optic disk/TRAIN001898.jpg', '/home/students/tyang/yolov5/runs/detect/exp5/crops/optic disk/TRAIN001292.jpg', '/home/students/tyang/yolov5/runs/detect/exp5/crops/optic disk/TRAIN001565.jpg', '/home/students/tyang/yolov5/runs/detect/exp5/crops/optic disk/TRAIN001341.jpg', '/home/students/tyang/yolov5/runs/detect/exp5/crops/optic disk/TRAIN001329.jpg', '/home/students/tyang/yolov5/runs/detect/exp5/crops/optic disk/TRAIN000487.jpg', '/home/students/tyang/yolov5/runs/detect/exp5/crops/optic disk/TRAIN002088.jpg', '/home/students/tyang/yolov5/runs/detect/exp5/crops/optic disk/TRAIN001085.jpg', '/home/students/tyang/yolov5/runs/detect/exp5/crops/optic disk/TRAIN000499.jpg', '/home/students/tyang/yolov5/runs/detect/exp5/crops/optic disk/TRAIN001495.jpg', '/home/students/tyang/yolov5/runs/detect/exp5/crops/optic disk/TRAIN000527.jpg', '/home/students/tyang/yolov5/runs/detect/exp5/crops/optic disk/TRAIN001808.jpg', '/home/students/tyang/yolov5/runs/detect/exp5/crops/optic disk/TRAIN002036.jpg', '/home/students/tyang/yolov5/runs/detect/exp5/crops/optic disk/TRAIN000145.jpg', '/home/students/tyang/yolov5/runs/detect/exp5/crops/optic disk/TRAIN001747.jpg', '/home/students/tyang/yolov5/runs/detect/exp5/crops/optic disk/TRAIN000425.jpg', '/home/students/tyang/yolov5/runs/detect/exp5/crops/optic disk/TRAIN000075.jpg', '/home/students/tyang/yolov5/runs/detect/exp5/crops/optic disk/TRAIN000825.jpg', '/home/students/tyang/yolov5/runs/detect/exp5/crops/optic disk/TRAIN000694.jpg', '/home/students/tyang/yolov5/runs/detect/exp5/crops/optic disk/TRAIN001414.jpg', '/home/students/tyang/yolov5/runs/detect/exp5/crops/optic disk/TRAIN001001.jpg', '/home/students/tyang/yolov5/runs/detect/exp5/crops/optic disk/TRAIN001884.jpg', '/home/students/tyang/yolov5/runs/detect/exp5/crops/optic disk/TRAIN001177.jpg', '/home/students/tyang/yolov5/runs/detect/exp5/crops/optic disk/TRAIN001566.jpg', '/home/students/tyang/yolov5/runs/detect/exp5/crops/optic disk/TRAIN000618.jpg', '/home/students/tyang/yolov5/runs/detect/exp5/crops/optic disk/TRAIN001166.jpg', '/home/students/tyang/yolov5/runs/detect/exp5/crops/optic disk/TRAIN000361.jpg', '/home/students/tyang/yolov5/runs/detect/exp5/crops/optic disk/TRAIN001729.jpg', '/home/students/tyang/yolov5/runs/detect/exp5/crops/optic disk/TRAIN000367.jpg', '/home/students/tyang/yolov5/runs/detect/exp5/crops/optic disk/TRAIN001464.jpg', '/home/students/tyang/yolov5/runs/detect/exp5/crops/optic disk/TRAIN002528.jpg', '/home/students/tyang/yolov5/runs/detect/exp5/crops/optic disk/TRAIN004168.jpg', '/home/students/tyang/yolov5/runs/detect/exp5/crops/optic disk/TRAIN003254.jpg', '/home/students/tyang/yolov5/runs/detect/exp5/crops/optic disk/TRAIN002989.jpg', '/home/students/tyang/yolov5/runs/detect/exp5/crops/optic disk/TRAIN003941.jpg', '/home/students/tyang/yolov5/runs/detect/exp5/crops/optic disk/TRAIN003477.jpg', '/home/students/tyang/yolov5/runs/detect/exp5/crops/optic disk/TRAIN004153.jpg', '/home/students/tyang/yolov5/runs/detect/exp5/crops/optic disk/TRAIN003480.jpg', '/home/students/tyang/yolov5/runs/detect/exp5/crops/optic disk/TRAIN003457.jpg', '/home/students/tyang/yolov5/runs/detect/exp5/crops/optic disk/TRAIN002750.jpg', '/home/students/tyang/yolov5/runs/detect/exp5/crops/optic disk/TRAIN003256.jpg', '/home/students/tyang/yolov5/runs/detect/exp5/crops/optic disk/TRAIN003579.jpg', '/home/students/tyang/yolov5/runs/detect/exp5/crops/optic disk/TRAIN003328.jpg', '/home/students/tyang/yolov5/runs/detect/exp5/crops/optic disk/TRAIN003333.jpg', '/home/students/tyang/yolov5/runs/detect/exp5/crops/optic disk/TRAIN003388.jpg', '/home/students/tyang/yolov5/runs/detect/exp5/crops/optic disk/TRAIN003569.jpg', '/home/students/tyang/yolov5/runs/detect/exp5/crops/optic disk/TRAIN002985.jpg', '/home/students/tyang/yolov5/runs/detect/exp5/crops/optic disk/TRAIN004022.jpg', '/home/students/tyang/yolov5/runs/detect/exp5/crops/optic disk/TRAIN003552.jpg', '/home/students/tyang/yolov5/runs/detect/exp5/crops/optic disk/TRAIN003053.jpg', '/home/students/tyang/yolov5/runs/detect/exp5/crops/optic disk/TRAIN003137.jpg', '/home/students/tyang/yolov5/runs/detect/exp5/crops/optic disk/TRAIN002583.jpg', '/home/students/tyang/yolov5/runs/detect/exp5/crops/optic disk/TRAIN004210.jpg', '/home/students/tyang/yolov5/runs/detect/exp5/crops/optic disk/TRAIN002752.jpg', '/home/students/tyang/yolov5/runs/detect/exp5/crops/optic disk/TRAIN004040.jpg', '/home/students/tyang/yolov5/runs/detect/exp5/crops/optic disk/TRAIN003976.jpg', '/home/students/tyang/yolov5/runs/detect/exp5/crops/optic disk/TRAIN002655.jpg', '/home/students/tyang/yolov5/runs/detect/exp5/crops/optic disk/TRAIN002636.jpg', '/home/students/tyang/yolov5/runs/detect/exp5/crops/optic disk/TRAIN003485.jpg', '/home/students/tyang/yolov5/runs/detect/exp5/crops/optic disk/TRAIN002347.jpg', '/home/students/tyang/yolov5/runs/detect/exp5/crops/optic disk/TRAIN003699.jpg', '/home/students/tyang/yolov5/runs/detect/exp5/crops/optic disk/TRAIN004100.jpg', '/home/students/tyang/yolov5/runs/detect/exp5/crops/optic disk/TRAIN002602.jpg', '/home/students/tyang/yolov5/runs/detect/exp5/crops/optic disk/TRAIN002218.jpg', '/home/students/tyang/yolov5/runs/detect/exp5/crops/optic disk/TRAIN002354.jpg', '/home/students/tyang/yolov5/runs/detect/exp5/crops/optic disk/TRAIN002253.jpg', '/home/students/tyang/yolov5/runs/detect/exp5/crops/optic disk/TRAIN002922.jpg', '/home/students/tyang/yolov5/runs/detect/exp5/crops/optic disk/TRAIN003539.jpg', '/home/students/tyang/yolov5/runs/detect/exp5/crops/optic disk/TRAIN003009.jpg', '/home/students/tyang/yolov5/runs/detect/exp5/crops/optic disk/TRAIN003445.jpg', '/home/students/tyang/yolov5/runs/detect/exp5/crops/optic disk/TRAIN004045.jpg', '/home/students/tyang/yolov5/runs/detect/exp5/crops/optic disk/TRAIN003544.jpg', '/home/students/tyang/yolov5/runs/detect/exp5/crops/optic disk/TRAIN002958.jpg', '/home/students/tyang/yolov5/runs/detect/exp5/crops/optic disk/TRAIN004016.jpg', '/home/students/tyang/yolov5/runs/detect/exp5/crops/optic disk/TRAIN004090.jpg', '/home/students/tyang/yolov5/runs/detect/exp5/crops/optic disk/TRAIN004198.jpg', '/home/students/tyang/yolov5/runs/detect/exp5/crops/optic disk/TRAIN002868.jpg', '/home/students/tyang/yolov5/runs/detect/exp5/crops/optic disk/TRAIN003609.jpg', '/home/students/tyang/yolov5/runs/detect/exp5/crops/optic disk/TRAIN004148.jpg', '/home/students/tyang/yolov5/runs/detect/exp5/crops/optic disk/TRAIN003309.jpg', '/home/students/tyang/yolov5/runs/detect/exp5/crops/optic disk/TRAIN002205.jpg', '/home/students/tyang/yolov5/runs/detect/exp5/crops/optic disk/TRAIN003178.jpg', '/home/students/tyang/yolov5/runs/detect/exp5/crops/optic disk/TRAIN003016.jpg', '/home/students/tyang/yolov5/runs/detect/exp5/crops/optic disk/TRAIN003433.jpg', '/home/students/tyang/yolov5/runs/detect/exp5/crops/optic disk/TRAIN003499.jpg', '/home/students/tyang/yolov5/runs/detect/exp5/crops/optic disk/TRAIN003558.jpg', '/home/students/tyang/yolov5/runs/detect/exp5/crops/optic disk/TRAIN003270.jpg', '/home/students/tyang/yolov5/runs/detect/exp5/crops/optic disk/TRAIN002248.jpg', '/home/students/tyang/yolov5/runs/detect/exp5/crops/optic disk/TRAIN003613.jpg', '/home/students/tyang/yolov5/runs/detect/exp5/crops/optic disk/TRAIN004187.jpg', '/home/students/tyang/yolov5/runs/detect/exp5/crops/optic disk/TRAIN003682.jpg', '/home/students/tyang/yolov5/runs/detect/exp5/crops/optic disk/TRAIN002209.jpg', '/home/students/tyang/yolov5/runs/detect/exp5/crops/optic disk/TRAIN002723.jpg', '/home/students/tyang/yolov5/runs/detect/exp5/crops/optic disk/TRAIN004051.jpg', '/home/students/tyang/yolov5/runs/detect/exp5/crops/optic disk/TRAIN002858.jpg', '/home/students/tyang/yolov5/runs/detect/exp5/crops/optic disk/TRAIN004130.jpg', '/home/students/tyang/yolov5/runs/detect/exp5/crops/optic disk/TRAIN004080.jpg', '/home/students/tyang/yolov5/runs/detect/exp5/crops/optic disk/TRAIN004030.jpg', '/home/students/tyang/yolov5/runs/detect/exp5/crops/optic disk/TRAIN003934.jpg', '/home/students/tyang/yolov5/runs/detect/exp5/crops/optic disk/TRAIN002621.jpg', '/home/students/tyang/yolov5/runs/detect/exp5/crops/optic disk/TRAIN003925.jpg', '/home/students/tyang/yolov5/runs/detect/exp5/crops/optic disk/TRAIN003930.jpg', '/home/students/tyang/yolov5/runs/detect/exp5/crops/optic disk/TRAIN002694.jpg', '/home/students/tyang/yolov5/runs/detect/exp5/crops/optic disk/TRAIN002725.jpg', '/home/students/tyang/yolov5/runs/detect/exp5/crops/optic disk/TRAIN004172.jpg', '/home/students/tyang/yolov5/runs/detect/exp5/crops/optic disk/TRAIN003636.jpg', '/home/students/tyang/yolov5/runs/detect/exp5/crops/optic disk/TRAIN002383.jpg', '/home/students/tyang/yolov5/runs/detect/exp5/crops/optic disk/TRAIN002904.jpg', '/home/students/tyang/yolov5/runs/detect/exp5/crops/optic disk/TRAIN002581.jpg', '/home/students/tyang/yolov5/runs/detect/exp5/crops/optic disk/TRAIN003325.jpg', '/home/students/tyang/yolov5/runs/detect/exp5/crops/optic disk/TRAIN003659.jpg', '/home/students/tyang/yolov5/runs/detect/exp5/crops/optic disk/TRAIN002299.jpg', '/home/students/tyang/yolov5/runs/detect/exp5/crops/optic disk/TRAIN002372.jpg', '/home/students/tyang/yolov5/runs/detect/exp5/crops/optic disk/TRAIN003805.jpg', '/home/students/tyang/yolov5/runs/detect/exp5/crops/optic disk/TRAIN003821.jpg', '/home/students/tyang/yolov5/runs/detect/exp5/crops/optic disk/TRAIN002873.jpg', '/home/students/tyang/yolov5/runs/detect/exp5/crops/optic disk/TRAIN002722.jpg', '/home/students/tyang/yolov5/runs/detect/exp5/crops/optic disk/TRAIN002251.jpg', '/home/students/tyang/yolov5/runs/detect/exp5/crops/optic disk/TRAIN004179.jpg', '/home/students/tyang/yolov5/runs/detect/exp5/crops/optic disk/TRAIN002666.jpg', '/home/students/tyang/yolov5/runs/detect/exp5/crops/optic disk/TRAIN002808.jpg', '/home/students/tyang/yolov5/runs/detect/exp5/crops/optic disk/TRAIN003492.jpg', '/home/students/tyang/yolov5/runs/detect/exp5/crops/optic disk/TRAIN003966.jpg', '/home/students/tyang/yolov5/runs/detect/exp5/crops/optic disk/TRAIN003085.jpg', '/home/students/tyang/yolov5/runs/detect/exp5/crops/optic disk/TRAIN003324.jpg', '/home/students/tyang/yolov5/runs/detect/exp5/crops/optic disk/TRAIN003019.jpg', '/home/students/tyang/yolov5/runs/detect/exp5/crops/optic disk/TRAIN002840.jpg', '/home/students/tyang/yolov5/runs/detect/exp5/crops/optic disk/TRAIN003621.jpg', '/home/students/tyang/yolov5/runs/detect/exp5/crops/optic disk/TRAIN003493.jpg', '/home/students/tyang/yolov5/runs/detect/exp5/crops/optic disk/TRAIN003981.jpg', '/home/students/tyang/yolov5/runs/detect/exp5/crops/optic disk/TRAIN003374.jpg', '/home/students/tyang/yolov5/runs/detect/exp5/crops/optic disk/TRAIN004013.jpg', '/home/students/tyang/yolov5/runs/detect/exp5/crops/optic disk/TRAIN003998.jpg', '/home/students/tyang/yolov5/runs/detect/exp5/crops/optic disk/TRAIN003555.jpg', '/home/students/tyang/yolov5/runs/detect/exp5/crops/optic disk/TRAIN002588.jpg', '/home/students/tyang/yolov5/runs/detect/exp5/crops/optic disk/TRAIN002727.jpg', '/home/students/tyang/yolov5/runs/detect/exp5/crops/optic disk/TRAIN002352.jpg', '/home/students/tyang/yolov5/runs/detect/exp5/crops/optic disk/TRAIN003899.jpg', '/home/students/tyang/yolov5/runs/detect/exp5/crops/optic disk/TRAIN002351.jpg', '/home/students/tyang/yolov5/runs/detect/exp5/crops/optic disk/TRAIN004204.jpg', '/home/students/tyang/yolov5/runs/detect/exp5/crops/optic disk/TRAIN003099.jpg', '/home/students/tyang/yolov5/runs/detect/exp5/crops/optic disk/TRAIN003727.jpg', '/home/students/tyang/yolov5/runs/detect/exp5/crops/optic disk/TRAIN003092.jpg', '/home/students/tyang/yolov5/runs/detect/exp5/crops/optic disk/TRAIN003338.jpg', '/home/students/tyang/yolov5/runs/detect/exp5/crops/optic disk/TRAIN003575.jpg', '/home/students/tyang/yolov5/runs/detect/exp5/crops/optic disk/TRAIN003346.jpg', '/home/students/tyang/yolov5/runs/detect/exp5/crops/optic disk/TRAIN005029.jpg', '/home/students/tyang/yolov5/runs/detect/exp5/crops/optic disk/TRAIN006003.jpg', '/home/students/tyang/yolov5/runs/detect/exp5/crops/optic disk/TRAIN004690.jpg', '/home/students/tyang/yolov5/runs/detect/exp5/crops/optic disk/TRAIN005311.jpg', '/home/students/tyang/yolov5/runs/detect/exp5/crops/optic disk/TRAIN005962.jpg', '/home/students/tyang/yolov5/runs/detect/exp5/crops/optic disk/TRAIN005222.jpg', '/home/students/tyang/yolov5/runs/detect/exp5/crops/optic disk/TRAIN005419.jpg', '/home/students/tyang/yolov5/runs/detect/exp5/crops/optic disk/TRAIN005849.jpg', '/home/students/tyang/yolov5/runs/detect/exp5/crops/optic disk/TRAIN005305.jpg', '/home/students/tyang/yolov5/runs/detect/exp5/crops/optic disk/TRAIN004531.jpg', '/home/students/tyang/yolov5/runs/detect/exp5/crops/optic disk/TRAIN006221.jpg', '/home/students/tyang/yolov5/runs/detect/exp5/crops/optic disk/TRAIN005526.jpg', '/home/students/tyang/yolov5/runs/detect/exp5/crops/optic disk/TRAIN006100.jpg', '/home/students/tyang/yolov5/runs/detect/exp5/crops/optic disk/TRAIN005915.jpg', '/home/students/tyang/yolov5/runs/detect/exp5/crops/optic disk/TRAIN004953.jpg', '/home/students/tyang/yolov5/runs/detect/exp5/crops/optic disk/TRAIN004887.jpg', '/home/students/tyang/yolov5/runs/detect/exp5/crops/optic disk/TRAIN004213.jpg', '/home/students/tyang/yolov5/runs/detect/exp5/crops/optic disk/TRAIN005642.jpg', '/home/students/tyang/yolov5/runs/detect/exp5/crops/optic disk/TRAIN005493.jpg', '/home/students/tyang/yolov5/runs/detect/exp5/crops/optic disk/TRAIN005531.jpg', '/home/students/tyang/yolov5/runs/detect/exp5/crops/optic disk/TRAIN004963.jpg', '/home/students/tyang/yolov5/runs/detect/exp5/crops/optic disk/TRAIN005692.jpg', '/home/students/tyang/yolov5/runs/detect/exp5/crops/optic disk/TRAIN005788.jpg', '/home/students/tyang/yolov5/runs/detect/exp5/crops/optic disk/TRAIN005886.jpg', '/home/students/tyang/yolov5/runs/detect/exp5/crops/optic disk/TRAIN004535.jpg', '/home/students/tyang/yolov5/runs/detect/exp5/crops/optic disk/TRAIN005685.jpg', '/home/students/tyang/yolov5/runs/detect/exp5/crops/optic disk/TRAIN004406.jpg', '/home/students/tyang/yolov5/runs/detect/exp5/crops/optic disk/TRAIN005298.jpg', '/home/students/tyang/yolov5/runs/detect/exp5/crops/optic disk/TRAIN004291.jpg', '/home/students/tyang/yolov5/runs/detect/exp5/crops/optic disk/TRAIN006069.jpg', '/home/students/tyang/yolov5/runs/detect/exp5/crops/optic disk/TRAIN005318.jpg', '/home/students/tyang/yolov5/runs/detect/exp5/crops/optic disk/TRAIN004783.jpg', '/home/students/tyang/yolov5/runs/detect/exp5/crops/optic disk/TRAIN005903.jpg', '/home/students/tyang/yolov5/runs/detect/exp5/crops/optic disk/TRAIN006081.jpg', '/home/students/tyang/yolov5/runs/detect/exp5/crops/optic disk/TRAIN004940.jpg', '/home/students/tyang/yolov5/runs/detect/exp5/crops/optic disk/TRAIN004217.jpg', '/home/students/tyang/yolov5/runs/detect/exp5/crops/optic disk/TRAIN005727.jpg', '/home/students/tyang/yolov5/runs/detect/exp5/crops/optic disk/TRAIN006128.jpg', '/home/students/tyang/yolov5/runs/detect/exp5/crops/optic disk/TRAIN004623.jpg', '/home/students/tyang/yolov5/runs/detect/exp5/crops/optic disk/TRAIN006083.jpg', '/home/students/tyang/yolov5/runs/detect/exp5/crops/optic disk/TRAIN005733.jpg', '/home/students/tyang/yolov5/runs/detect/exp5/crops/optic disk/TRAIN005128.jpg', '/home/students/tyang/yolov5/runs/detect/exp5/crops/optic disk/TRAIN005279.jpg', '/home/students/tyang/yolov5/runs/detect/exp5/crops/optic disk/TRAIN005209.jpg', '/home/students/tyang/yolov5/runs/detect/exp5/crops/optic disk/TRAIN005005.jpg', '/home/students/tyang/yolov5/runs/detect/exp5/crops/optic disk/TRAIN004827.jpg', '/home/students/tyang/yolov5/runs/detect/exp5/crops/optic disk/TRAIN005423.jpg', '/home/students/tyang/yolov5/runs/detect/exp5/crops/optic disk/TRAIN004782.jpg', '/home/students/tyang/yolov5/runs/detect/exp5/crops/optic disk/TRAIN004592.jpg', '/home/students/tyang/yolov5/runs/detect/exp5/crops/optic disk/TRAIN005108.jpg', '/home/students/tyang/yolov5/runs/detect/exp5/crops/optic disk/TRAIN004470.jpg', '/home/students/tyang/yolov5/runs/detect/exp5/crops/optic disk/TRAIN005632.jpg', '/home/students/tyang/yolov5/runs/detect/exp5/crops/optic disk/TRAIN004590.jpg', '/home/students/tyang/yolov5/runs/detect/exp5/crops/optic disk/TRAIN004256.jpg', '/home/students/tyang/yolov5/runs/detect/exp5/crops/optic disk/TRAIN004617.jpg', '/home/students/tyang/yolov5/runs/detect/exp5/crops/optic disk/TRAIN005480.jpg', '/home/students/tyang/yolov5/runs/detect/exp5/crops/optic disk/TRAIN004211.jpg', '/home/students/tyang/yolov5/runs/detect/exp5/crops/optic disk/TRAIN005287.jpg', '/home/students/tyang/yolov5/runs/detect/exp5/crops/optic disk/TRAIN004713.jpg', '/home/students/tyang/yolov5/runs/detect/exp5/crops/optic disk/TRAIN005474.jpg', '/home/students/tyang/yolov5/runs/detect/exp5/crops/optic disk/TRAIN005045.jpg', '/home/students/tyang/yolov5/runs/detect/exp5/crops/optic disk/TRAIN005142.jpg', '/home/students/tyang/yolov5/runs/detect/exp5/crops/optic disk/TRAIN006077.jpg', '/home/students/tyang/yolov5/runs/detect/exp5/crops/optic disk/TRAIN004381.jpg', '/home/students/tyang/yolov5/runs/detect/exp5/crops/optic disk/TRAIN005774.jpg', '/home/students/tyang/yolov5/runs/detect/exp5/crops/optic disk/TRAIN004327.jpg', '/home/students/tyang/yolov5/runs/detect/exp5/crops/optic disk/TRAIN004683.jpg', '/home/students/tyang/yolov5/runs/detect/exp5/crops/optic disk/TRAIN004801.jpg', '/home/students/tyang/yolov5/runs/detect/exp5/crops/optic disk/TRAIN004603.jpg', '/home/students/tyang/yolov5/runs/detect/exp5/crops/optic disk/TRAIN006059.jpg', '/home/students/tyang/yolov5/runs/detect/exp5/crops/optic disk/TRAIN006071.jpg', '/home/students/tyang/yolov5/runs/detect/exp5/crops/optic disk/TRAIN005448.jpg', '/home/students/tyang/yolov5/runs/detect/exp5/crops/optic disk/TRAIN005411.jpg', '/home/students/tyang/yolov5/runs/detect/exp5/crops/optic disk/TRAIN004840.jpg', '/home/students/tyang/yolov5/runs/detect/exp5/crops/optic disk/TRAIN004662.jpg', '/home/students/tyang/yolov5/runs/detect/exp5/crops/optic disk/TRAIN005836.jpg', '/home/students/tyang/yolov5/runs/detect/exp5/crops/optic disk/TRAIN006093.jpg', '/home/students/tyang/yolov5/runs/detect/exp5/crops/optic disk/TRAIN004704.jpg', '/home/students/tyang/yolov5/runs/detect/exp5/crops/optic disk/TRAIN005435.jpg', '/home/students/tyang/yolov5/runs/detect/exp5/crops/optic disk/TRAIN005799.jpg', '/home/students/tyang/yolov5/runs/detect/exp5/crops/optic disk/TRAIN005237.jpg', '/home/students/tyang/yolov5/runs/detect/exp5/crops/optic disk/TRAIN005369.jpg', '/home/students/tyang/yolov5/runs/detect/exp5/crops/optic disk/TRAIN004516.jpg', '/home/students/tyang/yolov5/runs/detect/exp5/crops/optic disk/TRAIN005627.jpg', '/home/students/tyang/yolov5/runs/detect/exp5/crops/optic disk/TRAIN004724.jpg', '/home/students/tyang/yolov5/runs/detect/exp5/crops/optic disk/TRAIN004223.jpg', '/home/students/tyang/yolov5/runs/detect/exp5/crops/optic disk/TRAIN006038.jpg', '/home/students/tyang/yolov5/runs/detect/exp5/crops/optic disk/TRAIN005898.jpg', '/home/students/tyang/yolov5/runs/detect/exp5/crops/optic disk/TRAIN004864.jpg', '/home/students/tyang/yolov5/runs/detect/exp5/crops/optic disk/TRAIN005825.jpg', '/home/students/tyang/yolov5/runs/detect/exp5/crops/optic disk/TRAIN004405.jpg', '/home/students/tyang/yolov5/runs/detect/exp5/crops/optic disk/TRAIN004522.jpg', '/home/students/tyang/yolov5/runs/detect/exp5/crops/optic disk/TRAIN006208.jpg', '/home/students/tyang/yolov5/runs/detect/exp5/crops/optic disk/TRAIN004942.jpg', '/home/students/tyang/yolov5/runs/detect/exp5/crops/optic disk/TRAIN004879.jpg', '/home/students/tyang/yolov5/runs/detect/exp5/crops/optic disk/TRAIN005742.jpg', '/home/students/tyang/yolov5/runs/detect/exp5/crops/optic disk/TRAIN004860.jpg', '/home/students/tyang/yolov5/runs/detect/exp5/crops/optic disk/TRAIN004784.jpg', '/home/students/tyang/yolov5/runs/detect/exp5/crops/optic disk/TRAIN004758.jpg', '/home/students/tyang/yolov5/runs/detect/exp5/crops/optic disk/TRAIN005921.jpg', '/home/students/tyang/yolov5/runs/detect/exp5/crops/optic disk/TRAIN004429.jpg', '/home/students/tyang/yolov5/runs/detect/exp5/crops/optic disk/TRAIN004331.jpg', '/home/students/tyang/yolov5/runs/detect/exp5/crops/optic disk/TRAIN004716.jpg', '/home/students/tyang/yolov5/runs/detect/exp5/crops/optic disk/TRAIN006146.jpg', '/home/students/tyang/yolov5/runs/detect/exp5/crops/optic disk/TRAIN004960.jpg', '/home/students/tyang/yolov5/runs/detect/exp5/crops/optic disk/TRAIN005995.jpg', '/home/students/tyang/yolov5/runs/detect/exp5/crops/optic disk/TRAIN005332.jpg', '/home/students/tyang/yolov5/runs/detect/exp5/crops/optic disk/TRAIN004727.jpg', '/home/students/tyang/yolov5/runs/detect/exp5/crops/optic disk/TRAIN004790.jpg', '/home/students/tyang/yolov5/runs/detect/exp5/crops/optic disk/TRAIN004243.jpg', '/home/students/tyang/yolov5/runs/detect/exp5/crops/optic disk/TRAIN006241.jpg', '/home/students/tyang/yolov5/runs/detect/exp5/crops/optic disk/TRAIN004906.jpg', '/home/students/tyang/yolov5/runs/detect/exp5/crops/optic disk/TRAIN004982.jpg', '/home/students/tyang/yolov5/runs/detect/exp5/crops/optic disk/TRAIN005991.jpg', '/home/students/tyang/yolov5/runs/detect/exp5/crops/optic disk/TRAIN005864.jpg', '/home/students/tyang/yolov5/runs/detect/exp5/crops/optic disk/TRAIN005065.jpg', '/home/students/tyang/yolov5/runs/detect/exp5/crops/optic disk/TRAIN004330.jpg', '/home/students/tyang/yolov5/runs/detect/exp5/crops/optic disk/TRAIN005932.jpg', '/home/students/tyang/yolov5/runs/detect/exp5/crops/optic disk/TRAIN004808.jpg', '/home/students/tyang/yolov5/runs/detect/exp5/crops/optic disk/TRAIN005471.jpg', '/home/students/tyang/yolov5/runs/detect/exp5/crops/optic disk/TRAIN005753.jpg', '/home/students/tyang/yolov5/runs/detect/exp5/crops/optic disk/TRAIN007173.jpg', '/home/students/tyang/yolov5/runs/detect/exp5/crops/optic disk/TRAIN006702.jpg', '/home/students/tyang/yolov5/runs/detect/exp5/crops/optic disk/TRAIN006254.jpg', '/home/students/tyang/yolov5/runs/detect/exp5/crops/optic disk/TRAIN008266.jpg', '/home/students/tyang/yolov5/runs/detect/exp5/crops/optic disk/TRAIN008275.jpg', '/home/students/tyang/yolov5/runs/detect/exp5/crops/optic disk/TRAIN007592.jpg', '/home/students/tyang/yolov5/runs/detect/exp5/crops/optic disk/TRAIN007275.jpg', '/home/students/tyang/yolov5/runs/detect/exp5/crops/optic disk/TRAIN006776.jpg', '/home/students/tyang/yolov5/runs/detect/exp5/crops/optic disk/TRAIN006689.jpg', '/home/students/tyang/yolov5/runs/detect/exp5/crops/optic disk/TRAIN006247.jpg', '/home/students/tyang/yolov5/runs/detect/exp5/crops/optic disk/TRAIN008054.jpg', '/home/students/tyang/yolov5/runs/detect/exp5/crops/optic disk/TRAIN007086.jpg', '/home/students/tyang/yolov5/runs/detect/exp5/crops/optic disk/TRAIN006253.jpg', '/home/students/tyang/yolov5/runs/detect/exp5/crops/optic disk/TRAIN007444.jpg', '/home/students/tyang/yolov5/runs/detect/exp5/crops/optic disk/TRAIN006601.jpg', '/home/students/tyang/yolov5/runs/detect/exp5/crops/optic disk/TRAIN007602.jpg', '/home/students/tyang/yolov5/runs/detect/exp5/crops/optic disk/TRAIN007535.jpg', '/home/students/tyang/yolov5/runs/detect/exp5/crops/optic disk/TRAIN007472.jpg', '/home/students/tyang/yolov5/runs/detect/exp5/crops/optic disk/TRAIN007284.jpg', '/home/students/tyang/yolov5/runs/detect/exp5/crops/optic disk/TRAIN008103.jpg', '/home/students/tyang/yolov5/runs/detect/exp5/crops/optic disk/TRAIN007084.jpg', '/home/students/tyang/yolov5/runs/detect/exp5/crops/optic disk/TRAIN006990.jpg', '/home/students/tyang/yolov5/runs/detect/exp5/crops/optic disk/TRAIN008338.jpg', '/home/students/tyang/yolov5/runs/detect/exp5/crops/optic disk/TRAIN006459.jpg', '/home/students/tyang/yolov5/runs/detect/exp5/crops/optic disk/TRAIN006525.jpg', '/home/students/tyang/yolov5/runs/detect/exp5/crops/optic disk/TRAIN006805.jpg', '/home/students/tyang/yolov5/runs/detect/exp5/crops/optic disk/TRAIN008326.jpg', '/home/students/tyang/yolov5/runs/detect/exp5/crops/optic disk/TRAIN007489.jpg', '/home/students/tyang/yolov5/runs/detect/exp5/crops/optic disk/TRAIN008053.jpg', '/home/students/tyang/yolov5/runs/detect/exp5/crops/optic disk/TRAIN008302.jpg', '/home/students/tyang/yolov5/runs/detect/exp5/crops/optic disk/TRAIN006348.jpg', '/home/students/tyang/yolov5/runs/detect/exp5/crops/optic disk/TRAIN008045.jpg', '/home/students/tyang/yolov5/runs/detect/exp5/crops/optic disk/TRAIN006796.jpg', '/home/students/tyang/yolov5/runs/detect/exp5/crops/optic disk/TRAIN006554.jpg', '/home/students/tyang/yolov5/runs/detect/exp5/crops/optic disk/TRAIN006746.jpg', '/home/students/tyang/yolov5/runs/detect/exp5/crops/optic disk/TRAIN007806.jpg', '/home/students/tyang/yolov5/runs/detect/exp5/crops/optic disk/TRAIN006575.jpg', '/home/students/tyang/yolov5/runs/detect/exp5/crops/optic disk/TRAIN007566.jpg', '/home/students/tyang/yolov5/runs/detect/exp5/crops/optic disk/TRAIN007529.jpg', '/home/students/tyang/yolov5/runs/detect/exp5/crops/optic disk/TRAIN007355.jpg', '/home/students/tyang/yolov5/runs/detect/exp5/crops/optic disk/TRAIN006268.jpg', '/home/students/tyang/yolov5/runs/detect/exp5/crops/optic disk/TRAIN007155.jpg', '/home/students/tyang/yolov5/runs/detect/exp5/crops/optic disk/TRAIN007404.jpg', '/home/students/tyang/yolov5/runs/detect/exp5/crops/optic disk/TRAIN008218.jpg', '/home/students/tyang/yolov5/runs/detect/exp5/crops/optic disk/TRAIN008296.jpg', '/home/students/tyang/yolov5/runs/detect/exp5/crops/optic disk/TRAIN006704.jpg', '/home/students/tyang/yolov5/runs/detect/exp5/crops/optic disk/TRAIN006728.jpg', '/home/students/tyang/yolov5/runs/detect/exp5/crops/optic disk/TRAIN006650.jpg', '/home/students/tyang/yolov5/runs/detect/exp5/crops/optic disk/TRAIN007964.jpg', '/home/students/tyang/yolov5/runs/detect/exp5/crops/optic disk/TRAIN007006.jpg', '/home/students/tyang/yolov5/runs/detect/exp5/crops/optic disk/TRAIN007252.jpg', '/home/students/tyang/yolov5/runs/detect/exp5/crops/optic disk/TRAIN007337.jpg', '/home/students/tyang/yolov5/runs/detect/exp5/crops/optic disk/TRAIN007876.jpg', '/home/students/tyang/yolov5/runs/detect/exp5/crops/optic disk/TRAIN008206.jpg', '/home/students/tyang/yolov5/runs/detect/exp5/crops/optic disk/TRAIN006863.jpg', '/home/students/tyang/yolov5/runs/detect/exp5/crops/optic disk/TRAIN007626.jpg', '/home/students/tyang/yolov5/runs/detect/exp5/crops/optic disk/TRAIN008248.jpg', '/home/students/tyang/yolov5/runs/detect/exp5/crops/optic disk/TRAIN007988.jpg', '/home/students/tyang/yolov5/runs/detect/exp5/crops/optic disk/TRAIN006359.jpg', '/home/students/tyang/yolov5/runs/detect/exp5/crops/optic disk/TRAIN006445.jpg', '/home/students/tyang/yolov5/runs/detect/exp5/crops/optic disk/TRAIN006736.jpg', '/home/students/tyang/yolov5/runs/detect/exp5/crops/optic disk/TRAIN006340.jpg', '/home/students/tyang/yolov5/runs/detect/exp5/crops/optic disk/TRAIN007087.jpg', '/home/students/tyang/yolov5/runs/detect/exp5/crops/optic disk/TRAIN007111.jpg', '/home/students/tyang/yolov5/runs/detect/exp5/crops/optic disk/TRAIN007915.jpg', '/home/students/tyang/yolov5/runs/detect/exp5/crops/optic disk/TRAIN007009.jpg', '/home/students/tyang/yolov5/runs/detect/exp5/crops/optic disk/TRAIN006302.jpg', '/home/students/tyang/yolov5/runs/detect/exp5/crops/optic disk/TRAIN007981.jpg', '/home/students/tyang/yolov5/runs/detect/exp5/crops/optic disk/TRAIN008028.jpg', '/home/students/tyang/yolov5/runs/detect/exp5/crops/optic disk/TRAIN007136.jpg', '/home/students/tyang/yolov5/runs/detect/exp5/crops/optic disk/TRAIN007717.jpg', '/home/students/tyang/yolov5/runs/detect/exp5/crops/optic disk/TRAIN006618.jpg', '/home/students/tyang/yolov5/runs/detect/exp5/crops/optic disk/TRAIN006975.jpg', '/home/students/tyang/yolov5/runs/detect/exp5/crops/optic disk/TRAIN006299.jpg', '/home/students/tyang/yolov5/runs/detect/exp5/crops/optic disk/TRAIN008156.jpg', '/home/students/tyang/yolov5/runs/detect/exp5/crops/optic disk/TRAIN008232.jpg', '/home/students/tyang/yolov5/runs/detect/exp5/crops/optic disk/TRAIN007652.jpg', '/home/students/tyang/yolov5/runs/detect/exp5/crops/optic disk/TRAIN007852.jpg', '/home/students/tyang/yolov5/runs/detect/exp5/crops/optic disk/TRAIN007731.jpg', '/home/students/tyang/yolov5/runs/detect/exp5/crops/optic disk/TRAIN007628.jpg', '/home/students/tyang/yolov5/runs/detect/exp5/crops/optic disk/TRAIN008197.jpg', '/home/students/tyang/yolov5/runs/detect/exp5/crops/optic disk/TRAIN007832.jpg', '/home/students/tyang/yolov5/runs/detect/exp5/crops/optic disk/TRAIN007137.jpg', '/home/students/tyang/yolov5/runs/detect/exp5/crops/optic disk/TRAIN006649.jpg', '/home/students/tyang/yolov5/runs/detect/exp5/crops/optic disk/TRAIN006435.jpg', '/home/students/tyang/yolov5/runs/detect/exp5/crops/optic disk/TRAIN008205.jpg', '/home/students/tyang/yolov5/runs/detect/exp5/crops/optic disk/TRAIN007348.jpg', '/home/students/tyang/yolov5/runs/detect/exp5/crops/optic disk/TRAIN008141.jpg', '/home/students/tyang/yolov5/runs/detect/exp5/crops/optic disk/TRAIN008114.jpg', '/home/students/tyang/yolov5/runs/detect/exp5/crops/optic disk/TRAIN007851.jpg', '/home/students/tyang/yolov5/runs/detect/exp5/crops/optic disk/TRAIN007588.jpg', '/home/students/tyang/yolov5/runs/detect/exp5/crops/optic disk/TRAIN007962.jpg', '/home/students/tyang/yolov5/runs/detect/exp5/crops/optic disk/TRAIN006646.jpg', '/home/students/tyang/yolov5/runs/detect/exp5/crops/optic disk/TRAIN007183.jpg', '/home/students/tyang/yolov5/runs/detect/exp5/crops/optic disk/TRAIN006542.jpg', '/home/students/tyang/yolov5/runs/detect/exp5/crops/optic disk/TRAIN006882.jpg', '/home/students/tyang/yolov5/runs/detect/exp5/crops/optic disk/TRAIN006684.jpg', '/home/students/tyang/yolov5/runs/detect/exp5/crops/optic disk/TRAIN007589.jpg', '/home/students/tyang/yolov5/runs/detect/exp5/crops/optic disk/TRAIN007736.jpg', '/home/students/tyang/yolov5/runs/detect/exp5/crops/optic disk/TRAIN006432.jpg', '/home/students/tyang/yolov5/runs/detect/exp5/crops/optic disk/TRAIN007892.jpg', '/home/students/tyang/yolov5/runs/detect/exp5/crops/optic disk/TRAIN007094.jpg', '/home/students/tyang/yolov5/runs/detect/exp5/crops/optic disk/TRAIN006858.jpg', '/home/students/tyang/yolov5/runs/detect/exp5/crops/optic disk/TRAIN006869.jpg', '/home/students/tyang/yolov5/runs/detect/exp5/crops/optic disk/TRAIN007794.jpg', '/home/students/tyang/yolov5/runs/detect/exp5/crops/optic disk/TRAIN008067.jpg', '/home/students/tyang/yolov5/runs/detect/exp5/crops/optic disk/TRAIN006818.jpg', '/home/students/tyang/yolov5/runs/detect/exp5/crops/optic disk/TRAIN007406.jpg', '/home/students/tyang/yolov5/runs/detect/exp5/crops/optic disk/TRAIN006279.jpg', '/home/students/tyang/yolov5/runs/detect/exp5/crops/optic disk/TRAIN008074.jpg', '/home/students/tyang/yolov5/runs/detect/exp5/crops/optic disk/TRAIN006741.jpg', '/home/students/tyang/yolov5/runs/detect/exp5/crops/optic disk/TRAIN008138.jpg', '/home/students/tyang/yolov5/runs/detect/exp5/crops/optic disk/TRAIN007222.jpg', '/home/students/tyang/yolov5/runs/detect/exp5/crops/optic disk/TRAIN006614.jpg', '/home/students/tyang/yolov5/runs/detect/exp5/crops/optic disk/TRAIN007555.jpg', '/home/students/tyang/yolov5/runs/detect/exp5/crops/optic disk/TRAIN006709.jpg', '/home/students/tyang/yolov5/runs/detect/exp5/crops/optic disk/TRAIN006524.jpg', '/home/students/tyang/yolov5/runs/detect/exp5/crops/optic disk/TRAIN007746.jpg', '/home/students/tyang/yolov5/runs/detect/exp5/crops/optic disk/TRAIN007874.jpg', '/home/students/tyang/yolov5/runs/detect/exp5/crops/optic disk/TRAIN008399.jpg', '/home/students/tyang/yolov5/runs/detect/exp5/crops/optic disk/TRAIN009943.jpg', '/home/students/tyang/yolov5/runs/detect/exp5/crops/optic disk/TRAIN008392.jpg', '/home/students/tyang/yolov5/runs/detect/exp5/crops/optic disk/TRAIN008737.jpg', '/home/students/tyang/yolov5/runs/detect/exp5/crops/optic disk/TRAIN009163.jpg', '/home/students/tyang/yolov5/runs/detect/exp5/crops/optic disk/TRAIN009766.jpg', '/home/students/tyang/yolov5/runs/detect/exp5/crops/optic disk/TRAIN010313.jpg', '/home/students/tyang/yolov5/runs/detect/exp5/crops/optic disk/TRAIN009539.jpg', '/home/students/tyang/yolov5/runs/detect/exp5/crops/optic disk/TRAIN010231.jpg', '/home/students/tyang/yolov5/runs/detect/exp5/crops/optic disk/TRAIN009007.jpg', '/home/students/tyang/yolov5/runs/detect/exp5/crops/optic disk/TRAIN008444.jpg', '/home/students/tyang/yolov5/runs/detect/exp5/crops/optic disk/TRAIN009848.jpg', '/home/students/tyang/yolov5/runs/detect/exp5/crops/optic disk/TRAIN009382.jpg', '/home/students/tyang/yolov5/runs/detect/exp5/crops/optic disk/TRAIN010013.jpg', '/home/students/tyang/yolov5/runs/detect/exp5/crops/optic disk/TRAIN008747.jpg', '/home/students/tyang/yolov5/runs/detect/exp5/crops/optic disk/TRAIN009242.jpg', '/home/students/tyang/yolov5/runs/detect/exp5/crops/optic disk/TRAIN008947.jpg', '/home/students/tyang/yolov5/runs/detect/exp5/crops/optic disk/TRAIN009904.jpg', '/home/students/tyang/yolov5/runs/detect/exp5/crops/optic disk/TRAIN008629.jpg', '/home/students/tyang/yolov5/runs/detect/exp5/crops/optic disk/TRAIN009159.jpg', '/home/students/tyang/yolov5/runs/detect/exp5/crops/optic disk/TRAIN008771.jpg', '/home/students/tyang/yolov5/runs/detect/exp5/crops/optic disk/TRAIN009432.jpg', '/home/students/tyang/yolov5/runs/detect/exp5/crops/optic disk/TRAIN009229.jpg', '/home/students/tyang/yolov5/runs/detect/exp5/crops/optic disk/TRAIN009012.jpg', '/home/students/tyang/yolov5/runs/detect/exp5/crops/optic disk/TRAIN009046.jpg', '/home/students/tyang/yolov5/runs/detect/exp5/crops/optic disk/TRAIN009744.jpg', '/home/students/tyang/yolov5/runs/detect/exp5/crops/optic disk/TRAIN008535.jpg', '/home/students/tyang/yolov5/runs/detect/exp5/crops/optic disk/TRAIN010331.jpg', '/home/students/tyang/yolov5/runs/detect/exp5/crops/optic disk/TRAIN008559.jpg', '/home/students/tyang/yolov5/runs/detect/exp5/crops/optic disk/TRAIN009898.jpg', '/home/students/tyang/yolov5/runs/detect/exp5/crops/optic disk/TRAIN009363.jpg', '/home/students/tyang/yolov5/runs/detect/exp5/crops/optic disk/TRAIN009524.jpg', '/home/students/tyang/yolov5/runs/detect/exp5/crops/optic disk/TRAIN008466.jpg', '/home/students/tyang/yolov5/runs/detect/exp5/crops/optic disk/TRAIN009356.jpg', '/home/students/tyang/yolov5/runs/detect/exp5/crops/optic disk/TRAIN009408.jpg', '/home/students/tyang/yolov5/runs/detect/exp5/crops/optic disk/TRAIN008918.jpg', '/home/students/tyang/yolov5/runs/detect/exp5/crops/optic disk/TRAIN010183.jpg', '/home/students/tyang/yolov5/runs/detect/exp5/crops/optic disk/TRAIN009798.jpg', '/home/students/tyang/yolov5/runs/detect/exp5/crops/optic disk/TRAIN008453.jpg', '/home/students/tyang/yolov5/runs/detect/exp5/crops/optic disk/TRAIN008596.jpg', '/home/students/tyang/yolov5/runs/detect/exp5/crops/optic disk/TRAIN009268.jpg', '/home/students/tyang/yolov5/runs/detect/exp5/crops/optic disk/TRAIN008484.jpg', '/home/students/tyang/yolov5/runs/detect/exp5/crops/optic disk/TRAIN010192.jpg', '/home/students/tyang/yolov5/runs/detect/exp5/crops/optic disk/TRAIN008485.jpg', '/home/students/tyang/yolov5/runs/detect/exp5/crops/optic disk/TRAIN010147.jpg', '/home/students/tyang/yolov5/runs/detect/exp5/crops/optic disk/TRAIN008373.jpg', '/home/students/tyang/yolov5/runs/detect/exp5/crops/optic disk/TRAIN009380.jpg', '/home/students/tyang/yolov5/runs/detect/exp5/crops/optic disk/TRAIN008382.jpg', '/home/students/tyang/yolov5/runs/detect/exp5/crops/optic disk/TRAIN010232.jpg', '/home/students/tyang/yolov5/runs/detect/exp5/crops/optic disk/TRAIN009920.jpg', '/home/students/tyang/yolov5/runs/detect/exp5/crops/optic disk/TRAIN010014.jpg', '/home/students/tyang/yolov5/runs/detect/exp5/crops/optic disk/TRAIN010112.jpg', '/home/students/tyang/yolov5/runs/detect/exp5/crops/optic disk/TRAIN010301.jpg', '/home/students/tyang/yolov5/runs/detect/exp5/crops/optic disk/TRAIN009937.jpg', '/home/students/tyang/yolov5/runs/detect/exp5/crops/optic disk/TRAIN009420.jpg', '/home/students/tyang/yolov5/runs/detect/exp5/crops/optic disk/TRAIN009089.jpg', '/home/students/tyang/yolov5/runs/detect/exp5/crops/optic disk/TRAIN009724.jpg', '/home/students/tyang/yolov5/runs/detect/exp5/crops/optic disk/TRAIN009866.jpg', '/home/students/tyang/yolov5/runs/detect/exp5/crops/optic disk/TRAIN009078.jpg', '/home/students/tyang/yolov5/runs/detect/exp5/crops/optic disk/TRAIN009039.jpg', '/home/students/tyang/yolov5/runs/detect/exp5/crops/optic disk/TRAIN009013.jpg', '/home/students/tyang/yolov5/runs/detect/exp5/crops/optic disk/TRAIN009887.jpg', '/home/students/tyang/yolov5/runs/detect/exp5/crops/optic disk/TRAIN008625.jpg', '/home/students/tyang/yolov5/runs/detect/exp5/crops/optic disk/TRAIN009546.jpg', '/home/students/tyang/yolov5/runs/detect/exp5/crops/optic disk/TRAIN009883.jpg', '/home/students/tyang/yolov5/runs/detect/exp5/crops/optic disk/TRAIN009114.jpg', '/home/students/tyang/yolov5/runs/detect/exp5/crops/optic disk/TRAIN008730.jpg', '/home/students/tyang/yolov5/runs/detect/exp5/crops/optic disk/TRAIN009476.jpg', '/home/students/tyang/yolov5/runs/detect/exp5/crops/optic disk/TRAIN009816.jpg', '/home/students/tyang/yolov5/runs/detect/exp5/crops/optic disk/TRAIN009502.jpg', '/home/students/tyang/yolov5/runs/detect/exp5/crops/optic disk/TRAIN010347.jpg', '/home/students/tyang/yolov5/runs/detect/exp5/crops/optic disk/TRAIN008708.jpg', '/home/students/tyang/yolov5/runs/detect/exp5/crops/optic disk/TRAIN010167.jpg', '/home/students/tyang/yolov5/runs/detect/exp5/crops/optic disk/TRAIN009577.jpg', '/home/students/tyang/yolov5/runs/detect/exp5/crops/optic disk/TRAIN010186.jpg', '/home/students/tyang/yolov5/runs/detect/exp5/crops/optic disk/TRAIN008921.jpg', '/home/students/tyang/yolov5/runs/detect/exp5/crops/optic disk/TRAIN009906.jpg', '/home/students/tyang/yolov5/runs/detect/exp5/crops/optic disk/TRAIN009682.jpg', '/home/students/tyang/yolov5/runs/detect/exp5/crops/optic disk/TRAIN009592.jpg', '/home/students/tyang/yolov5/runs/detect/exp5/crops/optic disk/TRAIN009520.jpg', '/home/students/tyang/yolov5/runs/detect/exp5/crops/optic disk/TRAIN010111.jpg', '/home/students/tyang/yolov5/runs/detect/exp5/crops/optic disk/TRAIN009736.jpg', '/home/students/tyang/yolov5/runs/detect/exp5/crops/optic disk/TRAIN010091.jpg', '/home/students/tyang/yolov5/runs/detect/exp5/crops/optic disk/TRAIN010023.jpg', '/home/students/tyang/yolov5/runs/detect/exp5/crops/optic disk/TRAIN008578.jpg', '/home/students/tyang/yolov5/runs/detect/exp5/crops/optic disk/TRAIN008534.jpg', '/home/students/tyang/yolov5/runs/detect/exp5/crops/optic disk/TRAIN009786.jpg', '/home/students/tyang/yolov5/runs/detect/exp5/crops/optic disk/TRAIN009938.jpg', '/home/students/tyang/yolov5/runs/detect/exp5/crops/optic disk/TRAIN009221.jpg', '/home/students/tyang/yolov5/runs/detect/exp5/crops/optic disk/TRAIN009027.jpg', '/home/students/tyang/yolov5/runs/detect/exp5/crops/optic disk/TRAIN009250.jpg', '/home/students/tyang/yolov5/runs/detect/exp5/crops/optic disk/TRAIN009441.jpg', '/home/students/tyang/yolov5/runs/detect/exp5/crops/optic disk/TRAIN009338.jpg', '/home/students/tyang/yolov5/runs/detect/exp5/crops/optic disk/TRAIN009820.jpg', '/home/students/tyang/yolov5/runs/detect/exp5/crops/optic disk/TRAIN008581.jpg', '/home/students/tyang/yolov5/runs/detect/exp5/crops/optic disk/TRAIN008393.jpg', '/home/students/tyang/yolov5/runs/detect/exp5/crops/optic disk/TRAIN010173.jpg', '/home/students/tyang/yolov5/runs/detect/exp5/crops/optic disk/TRAIN008406.jpg', '/home/students/tyang/yolov5/runs/detect/exp5/crops/optic disk/TRAIN009210.jpg', '/home/students/tyang/yolov5/runs/detect/exp5/crops/optic disk/TRAIN009888.jpg', '/home/students/tyang/yolov5/runs/detect/exp5/crops/optic disk/TRAIN009961.jpg', '/home/students/tyang/yolov5/runs/detect/exp5/crops/optic disk/TRAIN009153.jpg', '/home/students/tyang/yolov5/runs/detect/exp5/crops/optic disk/TRAIN009550.jpg', '/home/students/tyang/yolov5/runs/detect/exp5/crops/optic disk/TRAIN009194.jpg', '/home/students/tyang/yolov5/runs/detect/exp5/crops/optic disk/TRAIN008772.jpg', '/home/students/tyang/yolov5/runs/detect/exp5/crops/optic disk/TRAIN008958.jpg', '/home/students/tyang/yolov5/runs/detect/exp5/crops/optic disk/TRAIN010188.jpg', '/home/students/tyang/yolov5/runs/detect/exp5/crops/optic disk/TRAIN008623.jpg', '/home/students/tyang/yolov5/runs/detect/exp5/crops/optic disk/TRAIN008871.jpg', '/home/students/tyang/yolov5/runs/detect/exp5/crops/optic disk/TRAIN009292.jpg', '/home/students/tyang/yolov5/runs/detect/exp5/crops/optic disk/TRAIN009166.jpg', '/home/students/tyang/yolov5/runs/detect/exp5/crops/optic disk/TRAIN009325.jpg', '/home/students/tyang/yolov5/runs/detect/exp5/crops/optic disk/TRAIN008424.jpg', '/home/students/tyang/yolov5/runs/detect/exp5/crops/optic disk/TRAIN009312.jpg', '/home/students/tyang/yolov5/runs/detect/exp5/crops/optic disk/TRAIN009468.jpg', '/home/students/tyang/yolov5/runs/detect/exp5/crops/optic disk/TRAIN008969.jpg', '/home/students/tyang/yolov5/runs/detect/exp5/crops/optic disk/TRAIN008380.jpg', '/home/students/tyang/yolov5/runs/detect/exp5/crops/optic disk/TRAIN010268.jpg', '/home/students/tyang/yolov5/runs/detect/exp5/crops/optic disk/TRAIN009987.jpg', '/home/students/tyang/yolov5/runs/detect/exp5/crops/optic disk/TRAIN008496.jpg', '/home/students/tyang/yolov5/runs/detect/exp5/crops/optic disk/TRAIN008814.jpg', '/home/students/tyang/yolov5/runs/detect/exp5/crops/optic disk/TRAIN009794.jpg', '/home/students/tyang/yolov5/runs/detect/exp5/crops/optic disk/TRAIN009697.jpg', '/home/students/tyang/yolov5/runs/detect/exp5/crops/optic disk/TRAIN009507.jpg', '/home/students/tyang/yolov5/runs/detect/exp5/crops/optic disk/TRAIN009364.jpg', '/home/students/tyang/yolov5/runs/detect/exp5/crops/optic disk/TRAIN010024.jpg', '/home/students/tyang/yolov5/runs/detect/exp5/crops/optic disk/TRAIN012185.jpg', '/home/students/tyang/yolov5/runs/detect/exp5/crops/optic disk/TRAIN010668.jpg', '/home/students/tyang/yolov5/runs/detect/exp5/crops/optic disk/TRAIN011553.jpg', '/home/students/tyang/yolov5/runs/detect/exp5/crops/optic disk/TRAIN011412.jpg', '/home/students/tyang/yolov5/runs/detect/exp5/crops/optic disk/TRAIN011705.jpg', '/home/students/tyang/yolov5/runs/detect/exp5/crops/optic disk/TRAIN011783.jpg', '/home/students/tyang/yolov5/runs/detect/exp5/crops/optic disk/TRAIN011833.jpg', '/home/students/tyang/yolov5/runs/detect/exp5/crops/optic disk/TRAIN011749.jpg', '/home/students/tyang/yolov5/runs/detect/exp5/crops/optic disk/TRAIN011452.jpg', '/home/students/tyang/yolov5/runs/detect/exp5/crops/optic disk/TRAIN012126.jpg', '/home/students/tyang/yolov5/runs/detect/exp5/crops/optic disk/TRAIN012081.jpg', '/home/students/tyang/yolov5/runs/detect/exp5/crops/optic disk/TRAIN011326.jpg', '/home/students/tyang/yolov5/runs/detect/exp5/crops/optic disk/TRAIN011455.jpg', '/home/students/tyang/yolov5/runs/detect/exp5/crops/optic disk/TRAIN010385.jpg', '/home/students/tyang/yolov5/runs/detect/exp5/crops/optic disk/TRAIN011174.jpg', '/home/students/tyang/yolov5/runs/detect/exp5/crops/optic disk/TRAIN010745.jpg', '/home/students/tyang/yolov5/runs/detect/exp5/crops/optic disk/TRAIN011052.jpg', '/home/students/tyang/yolov5/runs/detect/exp5/crops/optic disk/TRAIN010396.jpg', '/home/students/tyang/yolov5/runs/detect/exp5/crops/optic disk/TRAIN011103.jpg', '/home/students/tyang/yolov5/runs/detect/exp5/crops/optic disk/TRAIN011739.jpg', '/home/students/tyang/yolov5/runs/detect/exp5/crops/optic disk/TRAIN011684.jpg', '/home/students/tyang/yolov5/runs/detect/exp5/crops/optic disk/TRAIN010621.jpg', '/home/students/tyang/yolov5/runs/detect/exp5/crops/optic disk/TRAIN011579.jpg', '/home/students/tyang/yolov5/runs/detect/exp5/crops/optic disk/TRAIN010559.jpg', '/home/students/tyang/yolov5/runs/detect/exp5/crops/optic disk/TRAIN012180.jpg', '/home/students/tyang/yolov5/runs/detect/exp5/crops/optic disk/TRAIN011515.jpg', '/home/students/tyang/yolov5/runs/detect/exp5/crops/optic disk/TRAIN011222.jpg', '/home/students/tyang/yolov5/runs/detect/exp5/crops/optic disk/TRAIN010539.jpg', '/home/students/tyang/yolov5/runs/detect/exp5/crops/optic disk/TRAIN011344.jpg', '/home/students/tyang/yolov5/runs/detect/exp5/crops/optic disk/TRAIN010662.jpg', '/home/students/tyang/yolov5/runs/detect/exp5/crops/optic disk/TRAIN010947.jpg', '/home/students/tyang/yolov5/runs/detect/exp5/crops/optic disk/TRAIN011557.jpg', '/home/students/tyang/yolov5/runs/detect/exp5/crops/optic disk/TRAIN010770.jpg', '/home/students/tyang/yolov5/runs/detect/exp5/crops/optic disk/TRAIN011899.jpg', '/home/students/tyang/yolov5/runs/detect/exp5/crops/optic disk/TRAIN010444.jpg', '/home/students/tyang/yolov5/runs/detect/exp5/crops/optic disk/TRAIN011700.jpg', '/home/students/tyang/yolov5/runs/detect/exp5/crops/optic disk/TRAIN011754.jpg', '/home/students/tyang/yolov5/runs/detect/exp5/crops/optic disk/TRAIN011706.jpg', '/home/students/tyang/yolov5/runs/detect/exp5/crops/optic disk/TRAIN010407.jpg', '/home/students/tyang/yolov5/runs/detect/exp5/crops/optic disk/TRAIN010876.jpg', '/home/students/tyang/yolov5/runs/detect/exp5/crops/optic disk/TRAIN011560.jpg', '/home/students/tyang/yolov5/runs/detect/exp5/crops/optic disk/TRAIN011834.jpg', '/home/students/tyang/yolov5/runs/detect/exp5/crops/optic disk/TRAIN010507.jpg', '/home/students/tyang/yolov5/runs/detect/exp5/crops/optic disk/TRAIN012035.jpg', '/home/students/tyang/yolov5/runs/detect/exp5/crops/optic disk/TRAIN010760.jpg', '/home/students/tyang/yolov5/runs/detect/exp5/crops/optic disk/TRAIN011541.jpg', '/home/students/tyang/yolov5/runs/detect/exp5/crops/optic disk/TRAIN011532.jpg', '/home/students/tyang/yolov5/runs/detect/exp5/crops/optic disk/TRAIN012169.jpg', '/home/students/tyang/yolov5/runs/detect/exp5/crops/optic disk/TRAIN012191.jpg', '/home/students/tyang/yolov5/runs/detect/exp5/crops/optic disk/TRAIN011277.jpg', '/home/students/tyang/yolov5/runs/detect/exp5/crops/optic disk/TRAIN012055.jpg', '/home/students/tyang/yolov5/runs/detect/exp5/crops/optic disk/TRAIN010731.jpg', '/home/students/tyang/yolov5/runs/detect/exp5/crops/optic disk/TRAIN011338.jpg', '/home/students/tyang/yolov5/runs/detect/exp5/crops/optic disk/TRAIN010567.jpg', '/home/students/tyang/yolov5/runs/detect/exp5/crops/optic disk/TRAIN010686.jpg', '/home/students/tyang/yolov5/runs/detect/exp5/crops/optic disk/TRAIN012036.jpg', '/home/students/tyang/yolov5/runs/detect/exp5/crops/optic disk/TRAIN011404.jpg', '/home/students/tyang/yolov5/runs/detect/exp5/crops/optic disk/TRAIN012037.jpg', '/home/students/tyang/yolov5/runs/detect/exp5/crops/optic disk/TRAIN012362.jpg', '/home/students/tyang/yolov5/runs/detect/exp5/crops/optic disk/TRAIN012346.jpg', '/home/students/tyang/yolov5/runs/detect/exp5/crops/optic disk/TRAIN010708.jpg', '/home/students/tyang/yolov5/runs/detect/exp5/crops/optic disk/TRAIN010619.jpg', '/home/students/tyang/yolov5/runs/detect/exp5/crops/optic disk/TRAIN011607.jpg', '/home/students/tyang/yolov5/runs/detect/exp5/crops/optic disk/TRAIN011131.jpg', '/home/students/tyang/yolov5/runs/detect/exp5/crops/optic disk/TRAIN010615.jpg', '/home/students/tyang/yolov5/runs/detect/exp5/crops/optic disk/TRAIN012379.jpg', '/home/students/tyang/yolov5/runs/detect/exp5/crops/optic disk/TRAIN011861.jpg', '/home/students/tyang/yolov5/runs/detect/exp5/crops/optic disk/TRAIN011099.jpg', '/home/students/tyang/yolov5/runs/detect/exp5/crops/optic disk/TRAIN011909.jpg', '/home/students/tyang/yolov5/runs/detect/exp5/crops/optic disk/TRAIN011771.jpg', '/home/students/tyang/yolov5/runs/detect/exp5/crops/optic disk/TRAIN011723.jpg', '/home/students/tyang/yolov5/runs/detect/exp5/crops/optic disk/TRAIN012183.jpg', '/home/students/tyang/yolov5/runs/detect/exp5/crops/optic disk/TRAIN011653.jpg', '/home/students/tyang/yolov5/runs/detect/exp5/crops/optic disk/TRAIN011433.jpg', '/home/students/tyang/yolov5/runs/detect/exp5/crops/optic disk/TRAIN011374.jpg', '/home/students/tyang/yolov5/runs/detect/exp5/crops/optic disk/TRAIN010882.jpg', '/home/students/tyang/yolov5/runs/detect/exp5/crops/optic disk/TRAIN010541.jpg', '/home/students/tyang/yolov5/runs/detect/exp5/crops/optic disk/TRAIN011350.jpg', '/home/students/tyang/yolov5/runs/detect/exp5/crops/optic disk/TRAIN011381.jpg', '/home/students/tyang/yolov5/runs/detect/exp5/crops/optic disk/TRAIN011292.jpg', '/home/students/tyang/yolov5/runs/detect/exp5/crops/optic disk/TRAIN011397.jpg', '/home/students/tyang/yolov5/runs/detect/exp5/crops/optic disk/TRAIN012339.jpg', '/home/students/tyang/yolov5/runs/detect/exp5/crops/optic disk/TRAIN010570.jpg', '/home/students/tyang/yolov5/runs/detect/exp5/crops/optic disk/TRAIN011485.jpg', '/home/students/tyang/yolov5/runs/detect/exp5/crops/optic disk/TRAIN011175.jpg', '/home/students/tyang/yolov5/runs/detect/exp5/crops/optic disk/TRAIN011349.jpg', '/home/students/tyang/yolov5/runs/detect/exp5/crops/optic disk/TRAIN010921.jpg', '/home/students/tyang/yolov5/runs/detect/exp5/crops/optic disk/TRAIN010592.jpg', '/home/students/tyang/yolov5/runs/detect/exp5/crops/optic disk/TRAIN012252.jpg', '/home/students/tyang/yolov5/runs/detect/exp5/crops/optic disk/TRAIN011717.jpg', '/home/students/tyang/yolov5/runs/detect/exp5/crops/optic disk/TRAIN010429.jpg', '/home/students/tyang/yolov5/runs/detect/exp5/crops/optic disk/TRAIN012098.jpg', '/home/students/tyang/yolov5/runs/detect/exp5/crops/optic disk/TRAIN010843.jpg', '/home/students/tyang/yolov5/runs/detect/exp5/crops/optic disk/TRAIN010888.jpg', '/home/students/tyang/yolov5/runs/detect/exp5/crops/optic disk/TRAIN010553.jpg', '/home/students/tyang/yolov5/runs/detect/exp5/crops/optic disk/TRAIN010927.jpg', '/home/students/tyang/yolov5/runs/detect/exp5/crops/optic disk/TRAIN010928.jpg', '/home/students/tyang/yolov5/runs/detect/exp5/crops/optic disk/TRAIN011976.jpg', '/home/students/tyang/yolov5/runs/detect/exp5/crops/optic disk/TRAIN011877.jpg', '/home/students/tyang/yolov5/runs/detect/exp5/crops/optic disk/TRAIN011463.jpg', '/home/students/tyang/yolov5/runs/detect/exp5/crops/optic disk/TRAIN011862.jpg', '/home/students/tyang/yolov5/runs/detect/exp5/crops/optic disk/TRAIN012104.jpg', '/home/students/tyang/yolov5/runs/detect/exp5/crops/optic disk/TRAIN012218.jpg', '/home/students/tyang/yolov5/runs/detect/exp5/crops/optic disk/TRAIN010471.jpg', '/home/students/tyang/yolov5/runs/detect/exp5/crops/optic disk/TRAIN011994.jpg', '/home/students/tyang/yolov5/runs/detect/exp5/crops/optic disk/TRAIN010738.jpg', '/home/students/tyang/yolov5/runs/detect/exp5/crops/optic disk/TRAIN011000.jpg', '/home/students/tyang/yolov5/runs/detect/exp5/crops/optic disk/TRAIN010932.jpg', '/home/students/tyang/yolov5/runs/detect/exp5/crops/optic disk/TRAIN010691.jpg', '/home/students/tyang/yolov5/runs/detect/exp5/crops/optic disk/TRAIN012168.jpg', '/home/students/tyang/yolov5/runs/detect/exp5/crops/optic disk/TRAIN010849.jpg', '/home/students/tyang/yolov5/runs/detect/exp5/crops/optic disk/TRAIN010895.jpg', '/home/students/tyang/yolov5/runs/detect/exp5/crops/optic disk/TRAIN011733.jpg', '/home/students/tyang/yolov5/runs/detect/exp5/crops/optic disk/TRAIN011846.jpg', '/home/students/tyang/yolov5/runs/detect/exp5/crops/optic disk/TRAIN010666.jpg', '/home/students/tyang/yolov5/runs/detect/exp5/crops/optic disk/TRAIN011574.jpg', '/home/students/tyang/yolov5/runs/detect/exp5/crops/optic disk/TRAIN010390.jpg', '/home/students/tyang/yolov5/runs/detect/exp5/crops/optic disk/TRAIN010591.jpg', '/home/students/tyang/yolov5/runs/detect/exp5/crops/optic disk/TRAIN012323.jpg', '/home/students/tyang/yolov5/runs/detect/exp5/crops/optic disk/TRAIN011730.jpg', '/home/students/tyang/yolov5/runs/detect/exp5/crops/optic disk/TRAIN012320.jpg', '/home/students/tyang/yolov5/runs/detect/exp5/crops/optic disk/TRAIN010962.jpg', '/home/students/tyang/yolov5/runs/detect/exp5/crops/optic disk/TRAIN013504.jpg', '/home/students/tyang/yolov5/runs/detect/exp5/crops/optic disk/TRAIN014160.jpg', '/home/students/tyang/yolov5/runs/detect/exp5/crops/optic disk/TRAIN012983.jpg', '/home/students/tyang/yolov5/runs/detect/exp5/crops/optic disk/TRAIN012861.jpg', '/home/students/tyang/yolov5/runs/detect/exp5/crops/optic disk/TRAIN012771.jpg', '/home/students/tyang/yolov5/runs/detect/exp5/crops/optic disk/TRAIN012975.jpg', '/home/students/tyang/yolov5/runs/detect/exp5/crops/optic disk/TRAIN012723.jpg', '/home/students/tyang/yolov5/runs/detect/exp5/crops/optic disk/TRAIN013613.jpg', '/home/students/tyang/yolov5/runs/detect/exp5/crops/optic disk/TRAIN014019.jpg', '/home/students/tyang/yolov5/runs/detect/exp5/crops/optic disk/TRAIN014082.jpg', '/home/students/tyang/yolov5/runs/detect/exp5/crops/optic disk/TRAIN012558.jpg', '/home/students/tyang/yolov5/runs/detect/exp5/crops/optic disk/TRAIN014352.jpg', '/home/students/tyang/yolov5/runs/detect/exp5/crops/optic disk/TRAIN012641.jpg', '/home/students/tyang/yolov5/runs/detect/exp5/crops/optic disk/TRAIN012652.jpg', '/home/students/tyang/yolov5/runs/detect/exp5/crops/optic disk/TRAIN012560.jpg', '/home/students/tyang/yolov5/runs/detect/exp5/crops/optic disk/TRAIN012899.jpg', '/home/students/tyang/yolov5/runs/detect/exp5/crops/optic disk/TRAIN013780.jpg', '/home/students/tyang/yolov5/runs/detect/exp5/crops/optic disk/TRAIN012506.jpg', '/home/students/tyang/yolov5/runs/detect/exp5/crops/optic disk/TRAIN014140.jpg', '/home/students/tyang/yolov5/runs/detect/exp5/crops/optic disk/TRAIN013922.jpg', '/home/students/tyang/yolov5/runs/detect/exp5/crops/optic disk/TRAIN013594.jpg', '/home/students/tyang/yolov5/runs/detect/exp5/crops/optic disk/TRAIN013631.jpg', '/home/students/tyang/yolov5/runs/detect/exp5/crops/optic disk/TRAIN014029.jpg', '/home/students/tyang/yolov5/runs/detect/exp5/crops/optic disk/TRAIN012720.jpg', '/home/students/tyang/yolov5/runs/detect/exp5/crops/optic disk/TRAIN012599.jpg', '/home/students/tyang/yolov5/runs/detect/exp5/crops/optic disk/TRAIN013358.jpg', '/home/students/tyang/yolov5/runs/detect/exp5/crops/optic disk/TRAIN014145.jpg', '/home/students/tyang/yolov5/runs/detect/exp5/crops/optic disk/TRAIN013101.jpg', '/home/students/tyang/yolov5/runs/detect/exp5/crops/optic disk/TRAIN013643.jpg', '/home/students/tyang/yolov5/runs/detect/exp5/crops/optic disk/TRAIN012909.jpg', '/home/students/tyang/yolov5/runs/detect/exp5/crops/optic disk/TRAIN012758.jpg', '/home/students/tyang/yolov5/runs/detect/exp5/crops/optic disk/TRAIN012608.jpg', '/home/students/tyang/yolov5/runs/detect/exp5/crops/optic disk/TRAIN014165.jpg', '/home/students/tyang/yolov5/runs/detect/exp5/crops/optic disk/TRAIN013347.jpg', '/home/students/tyang/yolov5/runs/detect/exp5/crops/optic disk/TRAIN013617.jpg', '/home/students/tyang/yolov5/runs/detect/exp5/crops/optic disk/TRAIN014126.jpg', '/home/students/tyang/yolov5/runs/detect/exp5/crops/optic disk/TRAIN013550.jpg', '/home/students/tyang/yolov5/runs/detect/exp5/crops/optic disk/TRAIN012907.jpg', '/home/students/tyang/yolov5/runs/detect/exp5/crops/optic disk/TRAIN012451.jpg', '/home/students/tyang/yolov5/runs/detect/exp5/crops/optic disk/TRAIN014305.jpg', '/home/students/tyang/yolov5/runs/detect/exp5/crops/optic disk/TRAIN012999.jpg', '/home/students/tyang/yolov5/runs/detect/exp5/crops/optic disk/TRAIN012729.jpg', '/home/students/tyang/yolov5/runs/detect/exp5/crops/optic disk/TRAIN012895.jpg', '/home/students/tyang/yolov5/runs/detect/exp5/crops/optic disk/TRAIN012862.jpg', '/home/students/tyang/yolov5/runs/detect/exp5/crops/optic disk/TRAIN012801.jpg', '/home/students/tyang/yolov5/runs/detect/exp5/crops/optic disk/TRAIN013770.jpg', '/home/students/tyang/yolov5/runs/detect/exp5/crops/optic disk/TRAIN013019.jpg', '/home/students/tyang/yolov5/runs/detect/exp5/crops/optic disk/TRAIN012435.jpg', '/home/students/tyang/yolov5/runs/detect/exp5/crops/optic disk/TRAIN013072.jpg', '/home/students/tyang/yolov5/runs/detect/exp5/crops/optic disk/TRAIN014195.jpg', '/home/students/tyang/yolov5/runs/detect/exp5/crops/optic disk/TRAIN012527.jpg', '/home/students/tyang/yolov5/runs/detect/exp5/crops/optic disk/TRAIN013677.jpg', '/home/students/tyang/yolov5/runs/detect/exp5/crops/optic disk/TRAIN014107.jpg', '/home/students/tyang/yolov5/runs/detect/exp5/crops/optic disk/TRAIN014134.jpg', '/home/students/tyang/yolov5/runs/detect/exp5/crops/optic disk/TRAIN013637.jpg', '/home/students/tyang/yolov5/runs/detect/exp5/crops/optic disk/TRAIN012444.jpg', '/home/students/tyang/yolov5/runs/detect/exp5/crops/optic disk/TRAIN013616.jpg', '/home/students/tyang/yolov5/runs/detect/exp5/crops/optic disk/TRAIN012760.jpg', '/home/students/tyang/yolov5/runs/detect/exp5/crops/optic disk/TRAIN014376.jpg', '/home/students/tyang/yolov5/runs/detect/exp5/crops/optic disk/TRAIN013561.jpg', '/home/students/tyang/yolov5/runs/detect/exp5/crops/optic disk/TRAIN013598.jpg', '/home/students/tyang/yolov5/runs/detect/exp5/crops/optic disk/TRAIN012670.jpg', '/home/students/tyang/yolov5/runs/detect/exp5/crops/optic disk/TRAIN013300.jpg', '/home/students/tyang/yolov5/runs/detect/exp5/crops/optic disk/TRAIN014093.jpg', '/home/students/tyang/yolov5/runs/detect/exp5/crops/optic disk/TRAIN013657.jpg', '/home/students/tyang/yolov5/runs/detect/exp5/crops/optic disk/TRAIN014142.jpg', '/home/students/tyang/yolov5/runs/detect/exp5/crops/optic disk/TRAIN014114.jpg', '/home/students/tyang/yolov5/runs/detect/exp5/crops/optic disk/TRAIN013432.jpg', '/home/students/tyang/yolov5/runs/detect/exp5/crops/optic disk/TRAIN014181.jpg', '/home/students/tyang/yolov5/runs/detect/exp5/crops/optic disk/TRAIN013523.jpg', '/home/students/tyang/yolov5/runs/detect/exp5/crops/optic disk/TRAIN013071.jpg', '/home/students/tyang/yolov5/runs/detect/exp5/crops/optic disk/TRAIN012429.jpg', '/home/students/tyang/yolov5/runs/detect/exp5/crops/optic disk/TRAIN014022.jpg', '/home/students/tyang/yolov5/runs/detect/exp5/crops/optic disk/TRAIN013212.jpg', '/home/students/tyang/yolov5/runs/detect/exp5/crops/optic disk/TRAIN013264.jpg', '/home/students/tyang/yolov5/runs/detect/exp5/crops/optic disk/TRAIN012692.jpg', '/home/students/tyang/yolov5/runs/detect/exp5/crops/optic disk/TRAIN012881.jpg', '/home/students/tyang/yolov5/runs/detect/exp5/crops/optic disk/TRAIN013567.jpg', '/home/students/tyang/yolov5/runs/detect/exp5/crops/optic disk/TRAIN012491.jpg', '/home/students/tyang/yolov5/runs/detect/exp5/crops/optic disk/TRAIN013276.jpg', '/home/students/tyang/yolov5/runs/detect/exp5/crops/optic disk/TRAIN013023.jpg', '/home/students/tyang/yolov5/runs/detect/exp5/crops/optic disk/TRAIN013035.jpg', '/home/students/tyang/yolov5/runs/detect/exp5/crops/optic disk/TRAIN012699.jpg', '/home/students/tyang/yolov5/runs/detect/exp5/crops/optic disk/TRAIN013460.jpg', '/home/students/tyang/yolov5/runs/detect/exp5/crops/optic disk/TRAIN014238.jpg', '/home/students/tyang/yolov5/runs/detect/exp5/crops/optic disk/TRAIN012703.jpg', '/home/students/tyang/yolov5/runs/detect/exp5/crops/optic disk/TRAIN013711.jpg', '/home/students/tyang/yolov5/runs/detect/exp5/crops/optic disk/TRAIN013283.jpg', '/home/students/tyang/yolov5/runs/detect/exp5/crops/optic disk/TRAIN013676.jpg', '/home/students/tyang/yolov5/runs/detect/exp5/crops/optic disk/TRAIN014301.jpg', '/home/students/tyang/yolov5/runs/detect/exp5/crops/optic disk/TRAIN014108.jpg', '/home/students/tyang/yolov5/runs/detect/exp5/crops/optic disk/TRAIN013355.jpg', '/home/students/tyang/yolov5/runs/detect/exp5/crops/optic disk/TRAIN013913.jpg', '/home/students/tyang/yolov5/runs/detect/exp5/crops/optic disk/TRAIN013213.jpg', '/home/students/tyang/yolov5/runs/detect/exp5/crops/optic disk/TRAIN013318.jpg', '/home/students/tyang/yolov5/runs/detect/exp5/crops/optic disk/TRAIN013187.jpg', '/home/students/tyang/yolov5/runs/detect/exp5/crops/optic disk/TRAIN013206.jpg', '/home/students/tyang/yolov5/runs/detect/exp5/crops/optic disk/TRAIN012887.jpg', '/home/students/tyang/yolov5/runs/detect/exp5/crops/optic disk/TRAIN013726.jpg', '/home/students/tyang/yolov5/runs/detect/exp5/crops/optic disk/TRAIN013161.jpg', '/home/students/tyang/yolov5/runs/detect/exp5/crops/optic disk/TRAIN013266.jpg', '/home/students/tyang/yolov5/runs/detect/exp5/crops/optic disk/TRAIN014368.jpg', '/home/students/tyang/yolov5/runs/detect/exp5/crops/optic disk/TRAIN013886.jpg', '/home/students/tyang/yolov5/runs/detect/exp5/crops/optic disk/TRAIN013557.jpg', '/home/students/tyang/yolov5/runs/detect/exp5/crops/optic disk/TRAIN014221.jpg', '/home/students/tyang/yolov5/runs/detect/exp5/crops/optic disk/TRAIN013625.jpg', '/home/students/tyang/yolov5/runs/detect/exp5/crops/optic disk/TRAIN012919.jpg', '/home/students/tyang/yolov5/runs/detect/exp5/crops/optic disk/TRAIN013543.jpg', '/home/students/tyang/yolov5/runs/detect/exp5/crops/optic disk/TRAIN013360.jpg', '/home/students/tyang/yolov5/runs/detect/exp5/crops/optic disk/TRAIN014349.jpg', '/home/students/tyang/yolov5/runs/detect/exp5/crops/optic disk/TRAIN013987.jpg', '/home/students/tyang/yolov5/runs/detect/exp5/crops/optic disk/TRAIN013493.jpg', '/home/students/tyang/yolov5/runs/detect/exp5/crops/optic disk/TRAIN012843.jpg', '/home/students/tyang/yolov5/runs/detect/exp5/crops/optic disk/TRAIN013583.jpg', '/home/students/tyang/yolov5/runs/detect/exp5/crops/optic disk/TRAIN013595.jpg', '/home/students/tyang/yolov5/runs/detect/exp5/crops/optic disk/TRAIN012511.jpg', '/home/students/tyang/yolov5/runs/detect/exp5/crops/optic disk/TRAIN012565.jpg', '/home/students/tyang/yolov5/runs/detect/exp5/crops/optic disk/TRAIN013016.jpg', '/home/students/tyang/yolov5/runs/detect/exp5/crops/optic disk/TRAIN014255.jpg', '/home/students/tyang/yolov5/runs/detect/exp5/crops/optic disk/TRAIN012462.jpg', '/home/students/tyang/yolov5/runs/detect/exp5/crops/optic disk/TRAIN012773.jpg', '/home/students/tyang/yolov5/runs/detect/exp5/crops/optic disk/TRAIN013729.jpg', '/home/students/tyang/yolov5/runs/detect/exp5/crops/optic disk/TRAIN012942.jpg', '/home/students/tyang/yolov5/runs/detect/exp5/crops/optic disk/TRAIN013096.jpg', '/home/students/tyang/yolov5/runs/detect/exp5/crops/optic disk/TRAIN013704.jpg', '/home/students/tyang/yolov5/runs/detect/exp5/crops/optic disk/TRAIN012864.jpg', '/home/students/tyang/yolov5/runs/detect/exp5/crops/optic disk/TRAIN012719.jpg', '/home/students/tyang/yolov5/runs/detect/exp5/crops/optic disk/TRAIN014153.jpg', '/home/students/tyang/yolov5/runs/detect/exp5/crops/optic disk/TRAIN014378.jpg', '/home/students/tyang/yolov5/runs/detect/exp5/crops/optic disk/TRAIN015703.jpg', '/home/students/tyang/yolov5/runs/detect/exp5/crops/optic disk/TRAIN016358.jpg', '/home/students/tyang/yolov5/runs/detect/exp5/crops/optic disk/TRAIN016095.jpg', '/home/students/tyang/yolov5/runs/detect/exp5/crops/optic disk/TRAIN015091.jpg', '/home/students/tyang/yolov5/runs/detect/exp5/crops/optic disk/TRAIN014748.jpg', '/home/students/tyang/yolov5/runs/detect/exp5/crops/optic disk/TRAIN016460.jpg', '/home/students/tyang/yolov5/runs/detect/exp5/crops/optic disk/TRAIN014747.jpg', '/home/students/tyang/yolov5/runs/detect/exp5/crops/optic disk/TRAIN015386.jpg', '/home/students/tyang/yolov5/runs/detect/exp5/crops/optic disk/TRAIN016241.jpg', '/home/students/tyang/yolov5/runs/detect/exp5/crops/optic disk/TRAIN016378.jpg', '/home/students/tyang/yolov5/runs/detect/exp5/crops/optic disk/TRAIN015665.jpg', '/home/students/tyang/yolov5/runs/detect/exp5/crops/optic disk/TRAIN015648.jpg', '/home/students/tyang/yolov5/runs/detect/exp5/crops/optic disk/TRAIN016220.jpg', '/home/students/tyang/yolov5/runs/detect/exp5/crops/optic disk/TRAIN016507.jpg', '/home/students/tyang/yolov5/runs/detect/exp5/crops/optic disk/TRAIN016339.jpg', '/home/students/tyang/yolov5/runs/detect/exp5/crops/optic disk/TRAIN016327.jpg', '/home/students/tyang/yolov5/runs/detect/exp5/crops/optic disk/TRAIN015026.jpg', '/home/students/tyang/yolov5/runs/detect/exp5/crops/optic disk/TRAIN015012.jpg', '/home/students/tyang/yolov5/runs/detect/exp5/crops/optic disk/TRAIN014555.jpg', '/home/students/tyang/yolov5/runs/detect/exp5/crops/optic disk/TRAIN015102.jpg', '/home/students/tyang/yolov5/runs/detect/exp5/crops/optic disk/TRAIN015492.jpg', '/home/students/tyang/yolov5/runs/detect/exp5/crops/optic disk/TRAIN016208.jpg', '/home/students/tyang/yolov5/runs/detect/exp5/crops/optic disk/TRAIN014800.jpg', '/home/students/tyang/yolov5/runs/detect/exp5/crops/optic disk/TRAIN016454.jpg', '/home/students/tyang/yolov5/runs/detect/exp5/crops/optic disk/TRAIN016253.jpg', '/home/students/tyang/yolov5/runs/detect/exp5/crops/optic disk/TRAIN016178.jpg', '/home/students/tyang/yolov5/runs/detect/exp5/crops/optic disk/TRAIN016262.jpg', '/home/students/tyang/yolov5/runs/detect/exp5/crops/optic disk/TRAIN015544.jpg', '/home/students/tyang/yolov5/runs/detect/exp5/crops/optic disk/TRAIN016081.jpg', '/home/students/tyang/yolov5/runs/detect/exp5/crops/optic disk/TRAIN014903.jpg', '/home/students/tyang/yolov5/runs/detect/exp5/crops/optic disk/TRAIN015391.jpg', '/home/students/tyang/yolov5/runs/detect/exp5/crops/optic disk/TRAIN015447.jpg', '/home/students/tyang/yolov5/runs/detect/exp5/crops/optic disk/TRAIN015293.jpg', '/home/students/tyang/yolov5/runs/detect/exp5/crops/optic disk/TRAIN016550.jpg', '/home/students/tyang/yolov5/runs/detect/exp5/crops/optic disk/TRAIN015376.jpg', '/home/students/tyang/yolov5/runs/detect/exp5/crops/optic disk/TRAIN016315.jpg', '/home/students/tyang/yolov5/runs/detect/exp5/crops/optic disk/TRAIN016191.jpg', '/home/students/tyang/yolov5/runs/detect/exp5/crops/optic disk/TRAIN016416.jpg', '/home/students/tyang/yolov5/runs/detect/exp5/crops/optic disk/TRAIN015696.jpg', '/home/students/tyang/yolov5/runs/detect/exp5/crops/optic disk/TRAIN015215.jpg', '/home/students/tyang/yolov5/runs/detect/exp5/crops/optic disk/TRAIN015483.jpg', '/home/students/tyang/yolov5/runs/detect/exp5/crops/optic disk/TRAIN014573.jpg', '/home/students/tyang/yolov5/runs/detect/exp5/crops/optic disk/TRAIN016323.jpg', '/home/students/tyang/yolov5/runs/detect/exp5/crops/optic disk/TRAIN015689.jpg', '/home/students/tyang/yolov5/runs/detect/exp5/crops/optic disk/TRAIN015245.jpg', '/home/students/tyang/yolov5/runs/detect/exp5/crops/optic disk/TRAIN016503.jpg', '/home/students/tyang/yolov5/runs/detect/exp5/crops/optic disk/TRAIN015938.jpg', '/home/students/tyang/yolov5/runs/detect/exp5/crops/optic disk/TRAIN015266.jpg', '/home/students/tyang/yolov5/runs/detect/exp5/crops/optic disk/TRAIN016143.jpg', '/home/students/tyang/yolov5/runs/detect/exp5/crops/optic disk/TRAIN015118.jpg', '/home/students/tyang/yolov5/runs/detect/exp5/crops/optic disk/TRAIN016190.jpg', '/home/students/tyang/yolov5/runs/detect/exp5/crops/optic disk/TRAIN014801.jpg', '/home/students/tyang/yolov5/runs/detect/exp5/crops/optic disk/TRAIN016520.jpg', '/home/students/tyang/yolov5/runs/detect/exp5/crops/optic disk/TRAIN014779.jpg', '/home/students/tyang/yolov5/runs/detect/exp5/crops/optic disk/TRAIN014832.jpg', '/home/students/tyang/yolov5/runs/detect/exp5/crops/optic disk/TRAIN014523.jpg', '/home/students/tyang/yolov5/runs/detect/exp5/crops/optic disk/TRAIN015379.jpg', '/home/students/tyang/yolov5/runs/detect/exp5/crops/optic disk/TRAIN016322.jpg', '/home/students/tyang/yolov5/runs/detect/exp5/crops/optic disk/TRAIN014572.jpg', '/home/students/tyang/yolov5/runs/detect/exp5/crops/optic disk/TRAIN016289.jpg', '/home/students/tyang/yolov5/runs/detect/exp5/crops/optic disk/TRAIN015275.jpg', '/home/students/tyang/yolov5/runs/detect/exp5/crops/optic disk/TRAIN015442.jpg', '/home/students/tyang/yolov5/runs/detect/exp5/crops/optic disk/TRAIN014846.jpg', '/home/students/tyang/yolov5/runs/detect/exp5/crops/optic disk/TRAIN014559.jpg', '/home/students/tyang/yolov5/runs/detect/exp5/crops/optic disk/TRAIN014790.jpg', '/home/students/tyang/yolov5/runs/detect/exp5/crops/optic disk/TRAIN016214.jpg', '/home/students/tyang/yolov5/runs/detect/exp5/crops/optic disk/TRAIN016106.jpg', '/home/students/tyang/yolov5/runs/detect/exp5/crops/optic disk/TRAIN014627.jpg', '/home/students/tyang/yolov5/runs/detect/exp5/crops/optic disk/TRAIN016261.jpg', '/home/students/tyang/yolov5/runs/detect/exp5/crops/optic disk/TRAIN016168.jpg', '/home/students/tyang/yolov5/runs/detect/exp5/crops/optic disk/TRAIN015519.jpg', '/home/students/tyang/yolov5/runs/detect/exp5/crops/optic disk/TRAIN015167.jpg', '/home/students/tyang/yolov5/runs/detect/exp5/crops/optic disk/TRAIN015375.jpg', '/home/students/tyang/yolov5/runs/detect/exp5/crops/optic disk/TRAIN014628.jpg', '/home/students/tyang/yolov5/runs/detect/exp5/crops/optic disk/TRAIN015333.jpg', '/home/students/tyang/yolov5/runs/detect/exp5/crops/optic disk/TRAIN015530.jpg', '/home/students/tyang/yolov5/runs/detect/exp5/crops/optic disk/TRAIN015652.jpg', '/home/students/tyang/yolov5/runs/detect/exp5/crops/optic disk/TRAIN016359.jpg', '/home/students/tyang/yolov5/runs/detect/exp5/crops/optic disk/TRAIN015495.jpg', '/home/students/tyang/yolov5/runs/detect/exp5/crops/optic disk/TRAIN015563.jpg', '/home/students/tyang/yolov5/runs/detect/exp5/crops/optic disk/TRAIN016581.jpg', '/home/students/tyang/yolov5/runs/detect/exp5/crops/optic disk/TRAIN014561.jpg', '/home/students/tyang/yolov5/runs/detect/exp5/crops/optic disk/TRAIN015289.jpg', '/home/students/tyang/yolov5/runs/detect/exp5/crops/optic disk/TRAIN014929.jpg', '/home/students/tyang/yolov5/runs/detect/exp5/crops/optic disk/TRAIN014663.jpg', '/home/students/tyang/yolov5/runs/detect/exp5/crops/optic disk/TRAIN015890.jpg', '/home/students/tyang/yolov5/runs/detect/exp5/crops/optic disk/TRAIN015888.jpg', '/home/students/tyang/yolov5/runs/detect/exp5/crops/optic disk/TRAIN016020.jpg', '/home/students/tyang/yolov5/runs/detect/exp5/crops/optic disk/TRAIN015228.jpg', '/home/students/tyang/yolov5/runs/detect/exp5/crops/optic disk/TRAIN014829.jpg', '/home/students/tyang/yolov5/runs/detect/exp5/crops/optic disk/TRAIN015793.jpg', '/home/students/tyang/yolov5/runs/detect/exp5/crops/optic disk/TRAIN015262.jpg', '/home/students/tyang/yolov5/runs/detect/exp5/crops/optic disk/TRAIN015671.jpg', '/home/students/tyang/yolov5/runs/detect/exp5/crops/optic disk/TRAIN015901.jpg', '/home/students/tyang/yolov5/runs/detect/exp5/crops/optic disk/TRAIN014861.jpg', '/home/students/tyang/yolov5/runs/detect/exp5/crops/optic disk/TRAIN015825.jpg', '/home/students/tyang/yolov5/runs/detect/exp5/crops/optic disk/TRAIN015951.jpg', '/home/students/tyang/yolov5/runs/detect/exp5/crops/optic disk/TRAIN015312.jpg', '/home/students/tyang/yolov5/runs/detect/exp5/crops/optic disk/TRAIN016554.jpg', '/home/students/tyang/yolov5/runs/detect/exp5/crops/optic disk/TRAIN015079.jpg', '/home/students/tyang/yolov5/runs/detect/exp5/crops/optic disk/TRAIN014835.jpg', '/home/students/tyang/yolov5/runs/detect/exp5/crops/optic disk/TRAIN014834.jpg', '/home/students/tyang/yolov5/runs/detect/exp5/crops/optic disk/TRAIN014799.jpg', '/home/students/tyang/yolov5/runs/detect/exp5/crops/optic disk/TRAIN015608.jpg', '/home/students/tyang/yolov5/runs/detect/exp5/crops/optic disk/TRAIN015832.jpg', '/home/students/tyang/yolov5/runs/detect/exp5/crops/optic disk/TRAIN014833.jpg', '/home/students/tyang/yolov5/runs/detect/exp5/crops/optic disk/TRAIN015698.jpg', '/home/students/tyang/yolov5/runs/detect/exp5/crops/optic disk/TRAIN015055.jpg', '/home/students/tyang/yolov5/runs/detect/exp5/crops/optic disk/TRAIN015795.jpg', '/home/students/tyang/yolov5/runs/detect/exp5/crops/optic disk/TRAIN015798.jpg', '/home/students/tyang/yolov5/runs/detect/exp5/crops/optic disk/TRAIN015685.jpg', '/home/students/tyang/yolov5/runs/detect/exp5/crops/optic disk/TRAIN015900.jpg', '/home/students/tyang/yolov5/runs/detect/exp5/crops/optic disk/TRAIN014744.jpg', '/home/students/tyang/yolov5/runs/detect/exp5/crops/optic disk/TRAIN015181.jpg', '/home/students/tyang/yolov5/runs/detect/exp5/crops/optic disk/TRAIN015101.jpg', '/home/students/tyang/yolov5/runs/detect/exp5/crops/optic disk/TRAIN015465.jpg', '/home/students/tyang/yolov5/runs/detect/exp5/crops/optic disk/TRAIN015525.jpg', '/home/students/tyang/yolov5/runs/detect/exp5/crops/optic disk/TRAIN015789.jpg', '/home/students/tyang/yolov5/runs/detect/exp5/crops/optic disk/TRAIN014987.jpg', '/home/students/tyang/yolov5/runs/detect/exp5/crops/optic disk/TRAIN015076.jpg', '/home/students/tyang/yolov5/runs/detect/exp5/crops/optic disk/TRAIN014725.jpg', '/home/students/tyang/yolov5/runs/detect/exp5/crops/optic disk/TRAIN015707.jpg', '/home/students/tyang/yolov5/runs/detect/exp5/crops/optic disk/TRAIN015053.jpg', '/home/students/tyang/yolov5/runs/detect/exp5/crops/optic disk/TRAIN016565.jpg', '/home/students/tyang/yolov5/runs/detect/exp5/crops/optic disk/TRAIN015172.jpg', '/home/students/tyang/yolov5/runs/detect/exp5/crops/optic disk/TRAIN015964.jpg', '/home/students/tyang/yolov5/runs/detect/exp5/crops/optic disk/TRAIN015093.jpg', '/home/students/tyang/yolov5/runs/detect/exp5/crops/optic disk/TRAIN016498.jpg', '/home/students/tyang/yolov5/runs/detect/exp5/crops/optic disk/TRAIN015651.jpg', '/home/students/tyang/yolov5/runs/detect/exp5/crops/optic disk/TRAIN017328.jpg', '/home/students/tyang/yolov5/runs/detect/exp5/crops/optic disk/TRAIN017901.jpg', '/home/students/tyang/yolov5/runs/detect/exp5/crops/optic disk/TRAIN017169.jpg', '/home/students/tyang/yolov5/runs/detect/exp5/crops/optic disk/TRAIN016763.jpg', '/home/students/tyang/yolov5/runs/detect/exp5/crops/optic disk/TRAIN017576.jpg', '/home/students/tyang/yolov5/runs/detect/exp5/crops/optic disk/TRAIN017824.jpg', '/home/students/tyang/yolov5/runs/detect/exp5/crops/optic disk/TRAIN017396.jpg', '/home/students/tyang/yolov5/runs/detect/exp5/crops/optic disk/TRAIN016845.jpg', '/home/students/tyang/yolov5/runs/detect/exp5/crops/optic disk/TRAIN017268.jpg', '/home/students/tyang/yolov5/runs/detect/exp5/crops/optic disk/TRAIN017492.jpg', '/home/students/tyang/yolov5/runs/detect/exp5/crops/optic disk/TRAIN017295.jpg', '/home/students/tyang/yolov5/runs/detect/exp5/crops/optic disk/TRAIN017019.jpg', '/home/students/tyang/yolov5/runs/detect/exp5/crops/optic disk/TRAIN017550.jpg', '/home/students/tyang/yolov5/runs/detect/exp5/crops/optic disk/TRAIN017517.jpg', '/home/students/tyang/yolov5/runs/detect/exp5/crops/optic disk/TRAIN016795.jpg', '/home/students/tyang/yolov5/runs/detect/exp5/crops/optic disk/TRAIN017128.jpg', '/home/students/tyang/yolov5/runs/detect/exp5/crops/optic disk/TRAIN017558.jpg', '/home/students/tyang/yolov5/runs/detect/exp5/crops/optic disk/TRAIN016790.jpg', '/home/students/tyang/yolov5/runs/detect/exp5/crops/optic disk/TRAIN017613.jpg', '/home/students/tyang/yolov5/runs/detect/exp5/crops/optic disk/TRAIN017869.jpg', '/home/students/tyang/yolov5/runs/detect/exp5/crops/optic disk/TRAIN016734.jpg', '/home/students/tyang/yolov5/runs/detect/exp5/crops/optic disk/TRAIN016712.jpg', '/home/students/tyang/yolov5/runs/detect/exp5/crops/optic disk/TRAIN017502.jpg', '/home/students/tyang/yolov5/runs/detect/exp5/crops/optic disk/TRAIN017271.jpg', '/home/students/tyang/yolov5/runs/detect/exp5/crops/optic disk/TRAIN017575.jpg', '/home/students/tyang/yolov5/runs/detect/exp5/crops/optic disk/TRAIN017236.jpg', '/home/students/tyang/yolov5/runs/detect/exp5/crops/optic disk/TRAIN017035.jpg', '/home/students/tyang/yolov5/runs/detect/exp5/crops/optic disk/TRAIN017938.jpg', '/home/students/tyang/yolov5/runs/detect/exp5/crops/optic disk/TRAIN017620.jpg', '/home/students/tyang/yolov5/runs/detect/exp5/crops/optic disk/TRAIN017744.jpg', '/home/students/tyang/yolov5/runs/detect/exp5/crops/optic disk/TRAIN016742.jpg', '/home/students/tyang/yolov5/runs/detect/exp5/crops/optic disk/TRAIN017274.jpg', '/home/students/tyang/yolov5/runs/detect/exp5/crops/optic disk/TRAIN017530.jpg', '/home/students/tyang/yolov5/runs/detect/exp5/crops/optic disk/TRAIN016914.jpg', '/home/students/tyang/yolov5/runs/detect/exp5/crops/optic disk/TRAIN017840.jpg', '/home/students/tyang/yolov5/runs/detect/exp5/crops/optic disk/TRAIN016629.jpg', '/home/students/tyang/yolov5/runs/detect/exp5/crops/optic disk/TRAIN017793.jpg', '/home/students/tyang/yolov5/runs/detect/exp5/crops/optic disk/TRAIN017242.jpg', '/home/students/tyang/yolov5/runs/detect/exp5/crops/optic disk/TRAIN016955.jpg', '/home/students/tyang/yolov5/runs/detect/exp5/crops/optic disk/TRAIN017987.jpg', '/home/students/tyang/yolov5/runs/detect/exp5/crops/optic disk/TRAIN016785.jpg', '/home/students/tyang/yolov5/runs/detect/exp5/crops/optic disk/TRAIN016982.jpg', '/home/students/tyang/yolov5/runs/detect/exp5/crops/optic disk/TRAIN017865.jpg', '/home/students/tyang/yolov5/runs/detect/exp5/crops/optic disk/TRAIN017827.jpg', '/home/students/tyang/yolov5/runs/detect/exp5/crops/optic disk/TRAIN017251.jpg', '/home/students/tyang/yolov5/runs/detect/exp5/crops/optic disk/TRAIN017129.jpg', '/home/students/tyang/yolov5/runs/detect/exp5/crops/optic disk/TRAIN016762.jpg', '/home/students/tyang/yolov5/runs/detect/exp5/crops/optic disk/TRAIN017055.jpg', '/home/students/tyang/yolov5/runs/detect/exp5/crops/optic disk/TRAIN017014.jpg', '/home/students/tyang/yolov5/runs/detect/exp5/crops/optic disk/TRAIN016848.jpg', '/home/students/tyang/yolov5/runs/detect/exp5/crops/optic disk/TRAIN016729.jpg', '/home/students/tyang/yolov5/runs/detect/exp5/crops/optic disk/TRAIN016656.jpg', '/home/students/tyang/yolov5/runs/detect/exp5/crops/optic disk/TRAIN017117.jpg', '/home/students/tyang/yolov5/runs/detect/exp5/crops/optic disk/TRAIN017787.jpg', '/home/students/tyang/yolov5/runs/detect/exp5/crops/optic disk/TRAIN017750.jpg', '/home/students/tyang/yolov5/runs/detect/exp5/crops/optic disk/TRAIN017624.jpg', '/home/students/tyang/yolov5/runs/detect/exp5/crops/optic disk/TRAIN017652.jpg', '/home/students/tyang/yolov5/runs/detect/exp5/crops/optic disk/TRAIN017974.jpg', '/home/students/tyang/yolov5/runs/detect/exp5/crops/optic disk/TRAIN017187.jpg', '/home/students/tyang/yolov5/runs/detect/exp5/crops/optic disk/TRAIN017908.jpg', '/home/students/tyang/yolov5/runs/detect/exp5/crops/optic disk/TRAIN017003.jpg', '/home/students/tyang/yolov5/runs/detect/exp5/crops/optic disk/TRAIN017120.jpg', '/home/students/tyang/yolov5/runs/detect/exp5/crops/optic disk/TRAIN017408.jpg', '/home/students/tyang/yolov5/runs/detect/exp5/crops/optic disk/TRAIN016917.jpg', '/home/students/tyang/yolov5/runs/detect/exp5/crops/optic disk/TRAIN017988.jpg', '/home/students/tyang/yolov5/runs/detect/exp5/crops/optic disk/TRAIN017805.jpg', '/home/students/tyang/yolov5/runs/detect/exp5/crops/optic disk/TRAIN017000.jpg', '/home/students/tyang/yolov5/runs/detect/exp5/crops/optic disk/TRAIN017996.jpg', '/home/students/tyang/yolov5/runs/detect/exp5/crops/optic disk/TRAIN017764.jpg', '/home/students/tyang/yolov5/runs/detect/exp5/crops/optic disk/TRAIN016911.jpg', '/home/students/tyang/yolov5/runs/detect/exp5/crops/optic disk/TRAIN017020.jpg', '/home/students/tyang/yolov5/runs/detect/exp5/crops/optic disk/TRAIN016676.jpg', '/home/students/tyang/yolov5/runs/detect/exp5/crops/optic disk/TRAIN017640.jpg', '/home/students/tyang/yolov5/runs/detect/exp5/crops/optic disk/TRAIN017692.jpg', '/home/students/tyang/yolov5/runs/detect/exp5/crops/optic disk/TRAIN016637.jpg', '/home/students/tyang/yolov5/runs/detect/exp5/crops/optic disk/TRAIN016679.jpg', '/home/students/tyang/yolov5/runs/detect/exp5/crops/optic disk/TRAIN017002.jpg', '/home/students/tyang/yolov5/runs/detect/exp5/crops/optic disk/TRAIN016903.jpg']\n"
     ]
    }
   ],
   "source": [
    "merged_datas = {\"image_path\": [], \"label\": []}\n",
    "for  i, train_data in enumerate(data_module.train_dataloader()):\n",
    "    selected_data = ( {\"image_path\": train_data[\"image_path\"][second_indice], \"label\": train_data[\"label\"][second_indice]} for second_indice in second_indices[i] )\n",
    "    \n",
    "    \n",
    "    for data in selected_data:\n",
    "        for key, values in data.items():\n",
    "            merged_datas[key].append(values)\n",
    "    \n",
    "\n",
    "print(merged_datas[\"image_path\"])"
   ]
  },
  {
   "cell_type": "code",
   "execution_count": 28,
   "metadata": {},
   "outputs": [
    {
     "name": "stdout",
     "output_type": "stream",
     "text": [
      "1038\n"
     ]
    }
   ],
   "source": [
    "print(len(merged_datas[\"image_path\"]))"
   ]
  },
  {
   "cell_type": "code",
   "execution_count": 29,
   "metadata": {},
   "outputs": [],
   "source": [
    "import csv \n",
    "\n",
    "csv_path = \"/home/students/tyang/Documents/no_robust_1038od.csv\"\n",
    "\n",
    "\n",
    "with open(csv_path, mode=\"w\", newline=\"\") as csv_file:\n",
    "        fieldnames = [\"image_path\", \"label\"]\n",
    "        writer = csv.DictWriter(csv_file, fieldnames=fieldnames)\n",
    "        for i in range(len(merged_datas[\"image_path\"])):\n",
    "            rowdict = {\"image_path\": merged_datas[\"image_path\"][i], \"label\": merged_datas[\"label\"][i]}\n",
    "            writer.writerow(rowdict)"
   ]
  }
 ],
 "metadata": {
  "kernelspec": {
   "display_name": "Python 3",
   "language": "python",
   "name": "python3"
  },
  "language_info": {
   "codemirror_mode": {
    "name": "ipython",
    "version": 3
   },
   "file_extension": ".py",
   "mimetype": "text/x-python",
   "name": "python",
   "nbconvert_exporter": "python",
   "pygments_lexer": "ipython3",
   "version": "3.10.13"
  }
 },
 "nbformat": 4,
 "nbformat_minor": 2
}
