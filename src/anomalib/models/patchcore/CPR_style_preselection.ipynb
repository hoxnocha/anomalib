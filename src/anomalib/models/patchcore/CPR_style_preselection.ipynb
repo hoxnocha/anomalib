{
 "cells": [
  {
   "cell_type": "code",
   "execution_count": 1,
   "metadata": {},
   "outputs": [
    {
     "name": "stderr",
     "output_type": "stream",
     "text": [
      "/work/scratch/tyang/miniconda3/env/anomalib_env/lib/python3.10/site-packages/tqdm/auto.py:21: TqdmWarning: IProgress not found. Please update jupyter and ipywidgets. See https://ipywidgets.readthedocs.io/en/stable/user_install.html\n",
      "  from .autonotebook import tqdm as notebook_tqdm\n"
     ]
    }
   ],
   "source": [
    "import numpy as np  \n",
    "from matplotlib import pyplot as plt \n",
    "from PIL import Image    \n",
    "import torch\n",
    "\n",
    "from anomalib.config import get_configurable_parameters\n",
    "from anomalib.data import get_datamodule\n",
    "from anomalib.models import get_model\n",
    "from anomalib.models.components import feature_extractors\n",
    "import torchvision\n",
    "from anomalib.models.components.feature_extractors import TorchFXFeatureExtractor\n",
    "from torchvision.models.densenet import DenseNet201_Weights\n",
    "import torch.nn.functional as F\n",
    "from anomalib.models.components.cluster.kmeans import KMeans\n",
    "import torchvision.models as models"
   ]
  },
  {
   "cell_type": "code",
   "execution_count": 2,
   "metadata": {},
   "outputs": [
    {
     "name": "stdout",
     "output_type": "stream",
     "text": [
      "dataset:\n",
      "  name: airogs\n",
      "  format: airogs\n",
      "  path: /home/students/tyang/airogs \n",
      "  task: classification # options: [classification, segmentation]\n",
      "  category: 0\n",
      "  number_of_samples: 17999\n",
      "  pre_selection: False\n",
      "  train_batch_size: 1000\n",
      "  eval_batch_size: 32\n",
      "  num_workers: 8\n",
      "  image_size: 256 # dimensions to which images are resized (mandatory)\n",
      "  center_crop: 224 # dimensions to which images are center-cropped after resizing (optional)\n",
      "  normalization: imagenet # data distribution to which the images will be normalized: [none, imagenet]\n",
      "  transform_config:\n",
      "    train: null\n",
      "    eval: null\n",
      "  test_split_mode: from_dir # options: [from_dir, synthetic]\n",
      "  test_split_ratio: 0.1 # fraction of train images held out testing (usage depends on test_split_mode)\n",
      "  val_split_mode: same_as_test # options: [same_as_test, from_test, synthetic]\n",
      "  val_split_ratio: 0.1 # fraction of train/test images held out for validation (usage depends on val_split_mode)\n",
      "  tiling:\n",
      "    apply: false\n",
      "    tile_size: null\n",
      "    stride: null\n",
      "    remove_border_count: 0\n",
      "    use_random_tiling: False\n",
      "    random_tile_count: 16\n",
      "\n",
      "model:\n",
      "  name: patchcore\n",
      "  backbone: wide_resnet50_2\n",
      "  pre_trained: true\n",
      "  layers:\n",
      "    - layer2\n",
      "    - layer3\n",
      "  coreset_sampling_ratio: 0.2\n",
      "\n",
      "  num_neighbors: 5\n",
      "  normalization_method: min_max # options: [null, min_max, cdf]\n",
      "\n",
      "metrics:\n",
      "  image:\n",
      "    - F1Score\n",
      "    - AUROC\n",
      "  pixel:\n",
      "    - F1Score\n",
      "    - AUROC\n",
      "  threshold:\n",
      "    method: adaptive #options: [adaptive, manual]\n",
      "    manual_image: null\n",
      "    manual_pixel: null\n",
      "\n",
      "visualization:\n",
      "  show_images: False # show images on the screen\n",
      "  save_images: True # save images to the file system\n",
      "  log_images: True # log images to the available loggers (if any)\n",
      "  image_save_path: null # path to which images will be saved\n",
      "  mode: full # options: [\"full\", \"simple\"]\n",
      "\n",
      "project:\n",
      "  seed: 0\n",
      "  path: ./results\n",
      "\n",
      "logging:\n",
      "  logger: [] # options: [comet, tensorboard, wandb, csv] or combinations.\n",
      "  log_graph: false # Logs the model graph to respective logger.\n",
      "\n",
      "optimization:\n",
      "  export_mode: null # options: onnx, openvino\n",
      "\n",
      "# PL Trainer Args. Don't add extra parameter here.\n",
      "trainer:\n",
      "  enable_checkpointing: true\n",
      "  default_root_dir: null\n",
      "  gradient_clip_val: 0\n",
      "  gradient_clip_algorithm: norm\n",
      "  num_nodes: 1\n",
      "  devices: 1\n",
      "  enable_progress_bar: true\n",
      "  overfit_batches: 0.0\n",
      "  track_grad_norm: -1\n",
      "  check_val_every_n_epoch: 1 # Don't validate before extracting features.\n",
      "  fast_dev_run: false\n",
      "  accumulate_grad_batches: 1\n",
      "  max_epochs: 1\n",
      "  min_epochs: null\n",
      "  max_steps: -1\n",
      "  min_steps: null\n",
      "  max_time: null\n",
      "  limit_train_batches: 1.0\n",
      "  limit_val_batches: 1.0\n",
      "  limit_test_batches: 1.0\n",
      "  limit_predict_batches: 1.0\n",
      "  val_check_interval: 1.0 # Don't validate before extracting features.\n",
      "  log_every_n_steps: 50\n",
      "  accelerator: auto # <\"cpu\", \"gpu\", \"tpu\", \"ipu\", \"hpu\", \"auto\">\n",
      "  strategy: null\n",
      "  sync_batchnorm: false\n",
      "  precision: 32\n",
      "  enable_model_summary: true\n",
      "  num_sanity_val_steps: 0\n",
      "  profiler: null\n",
      "  benchmark: false\n",
      "  deterministic: false\n",
      "  reload_dataloaders_every_n_epochs: 0\n",
      "  auto_lr_find: false\n",
      "  replace_sampler_ddp: true\n",
      "  detect_anomaly: false\n",
      "  auto_scale_batch_size: false\n",
      "  plugins: null\n",
      "  move_metrics_to_cpu: false\n",
      "  multiple_trainloader_mode: max_size_cycle\n",
      "\n"
     ]
    },
    {
     "name": "stderr",
     "output_type": "stream",
     "text": [
      "/home/students/tyang/anomalib/src/anomalib/config/config.py:243: UserWarning: The seed value is now fixed to 0. Up to v0.3.7, the seed was not fixed when the seed value was set to 0. If you want to use the random seed, please select `None` for the seed value (`null` in the YAML file) or remove the `seed` key from the YAML file.\n",
      "  warn(\n",
      "/home/students/tyang/anomalib/src/anomalib/config/config.py:280: UserWarning: config.project.unique_dir is set to False. This does not ensure that your results will be written in an empty directory and you may overwrite files.\n",
      "  warn(\n"
     ]
    }
   ],
   "source": [
    "MODEL = \"patchcore\"\n",
    "CONFIG_PATH = f\"/home/students/tyang/anomalib/src/anomalib/models/{MODEL}/config.yaml\"\n",
    "with open(file=CONFIG_PATH, mode=\"r\",encoding=\"utf-8\") as f:\n",
    "    print(f.read())\n",
    "    \n",
    "config = get_configurable_parameters(config_path=CONFIG_PATH)\n"
   ]
  },
  {
   "cell_type": "code",
   "execution_count": 3,
   "metadata": {},
   "outputs": [],
   "source": [
    "\n",
    "data_module = get_datamodule(config=config)\n",
    "data_module.prepare_data() # check if the dataset is avaliable\n",
    "data_module.setup()\n",
    "\n",
    "i, train_data = next(enumerate(data_module.train_dataloader()))\n"
   ]
  },
  {
   "cell_type": "code",
   "execution_count": 4,
   "metadata": {},
   "outputs": [
    {
     "name": "stderr",
     "output_type": "stream",
     "text": [
      "/work/scratch/tyang/miniconda3/env/anomalib_env/lib/python3.10/site-packages/torch/overrides.py:110: UserWarning: 'has_cuda' is deprecated, please use 'torch.backends.cuda.is_built()'\n",
      "  torch.has_cuda,\n",
      "/work/scratch/tyang/miniconda3/env/anomalib_env/lib/python3.10/site-packages/torch/overrides.py:111: UserWarning: 'has_cudnn' is deprecated, please use 'torch.backends.cudnn.is_available()'\n",
      "  torch.has_cudnn,\n",
      "/work/scratch/tyang/miniconda3/env/anomalib_env/lib/python3.10/site-packages/torch/overrides.py:117: UserWarning: 'has_mps' is deprecated, please use 'torch.backends.mps.is_built()'\n",
      "  torch.has_mps,\n",
      "/work/scratch/tyang/miniconda3/env/anomalib_env/lib/python3.10/site-packages/torch/overrides.py:118: UserWarning: 'has_mkldnn' is deprecated, please use 'torch.backends.mkldnn.is_available()'\n",
      "  torch.has_mkldnn,\n"
     ]
    }
   ],
   "source": [
    "\n",
    "feature_extractor = TorchFXFeatureExtractor(\n",
    "                    backbone=\"densenet201\",\n",
    "                    return_nodes=[\"features.denseblock1.denselayer6.conv2\"],\n",
    "                    weights=DenseNet201_Weights.IMAGENET1K_V1,\n",
    "                )\n"
   ]
  },
  {
   "cell_type": "code",
   "execution_count": 5,
   "metadata": {},
   "outputs": [
    {
     "name": "stdout",
     "output_type": "stream",
     "text": [
      "torch.Size([1000, 32, 56, 56])\n"
     ]
    }
   ],
   "source": [
    "# feature shape is (batch_size, channel, height, width) \n",
    "feature = feature_extractor(train_data[\"image\"])\n",
    "print(feature[\"features.denseblock1.denselayer6.conv2\"].shape)\n"
   ]
  },
  {
   "cell_type": "code",
   "execution_count": 60,
   "metadata": {},
   "outputs": [
    {
     "name": "stdout",
     "output_type": "stream",
     "text": [
      "torch.Size([658])\n"
     ]
    }
   ],
   "source": [
    "print(train_data[\"label\"].shape)"
   ]
  },
  {
   "cell_type": "code",
   "execution_count": 6,
   "metadata": {},
   "outputs": [],
   "source": [
    "# extract features from the whol training dataset\n",
    "\n",
    "feature_list = []\n",
    "\n",
    "for  i, train_data in enumerate(data_module.train_dataloader()):\n",
    "    features = feature_extractor(train_data[\"image\"])[\"features.denseblock1.denselayer6.conv2\"]\n",
    "    feature_list.append(features)\n",
    "\n"
   ]
  },
  {
   "cell_type": "code",
   "execution_count": 7,
   "metadata": {},
   "outputs": [],
   "source": [
    "# convert the list of features to a tensor\n",
    "global_feature_tensor = torch.vstack(feature_list)   "
   ]
  },
  {
   "cell_type": "code",
   "execution_count": 8,
   "metadata": {},
   "outputs": [
    {
     "name": "stdout",
     "output_type": "stream",
     "text": [
      "torch.Size([15658, 32, 56, 56])\n"
     ]
    }
   ],
   "source": [
    "# global feature shape is (train_data size, channel, height, width)\n",
    "print(global_feature_tensor.shape)"
   ]
  },
  {
   "cell_type": "code",
   "execution_count": 10,
   "metadata": {},
   "outputs": [],
   "source": [
    "from sklearn.cluster import KMeans\n",
    "\n",
    "\n",
    "def calculate_WSS(points, kmax):\n",
    "    feature_t = points.permute(1,0,2,3)\n",
    "    feature_t = feature_t.flatten(start_dim=1)\n",
    "    feature_t= feature_t.permute(1,0)\n",
    "    sse = []\n",
    "    for k in range(1, kmax+1):\n",
    "        kmeans = KMeans(n_clusters = k).fit(feature_t)\n",
    "        centroids = kmeans.cluster_centers_\n",
    "        pred_clusters = kmeans.predict(feature_t)\n",
    "        curr_sse = 0\n",
    "\n",
    "        # calculate square of Euclidean distance of each point from its cluster center and add to current WSS\n",
    "        for i in range(len(points)):\n",
    "            curr_center = centroids[pred_clusters[i]]\n",
    "            curr_sse += (points[i, 0] - curr_center[0]) ** 2 + (points[i, 1] - curr_center[1]) ** 2\n",
    "\n",
    "        sse.append(curr_sse)\n",
    "    return sse\n"
   ]
  },
  {
   "cell_type": "code",
   "execution_count": 11,
   "metadata": {},
   "outputs": [
    {
     "name": "stderr",
     "output_type": "stream",
     "text": [
      "/work/scratch/tyang/miniconda3/env/anomalib_env/lib/python3.10/site-packages/sklearn/cluster/_kmeans.py:1416: FutureWarning: The default value of `n_init` will change from 10 to 'auto' in 1.4. Set the value of `n_init` explicitly to suppress the warning\n",
      "  super()._check_params_vs_input(X, default_n_init=10)\n",
      "/work/scratch/tyang/miniconda3/env/anomalib_env/lib/python3.10/site-packages/sklearn/cluster/_kmeans.py:1416: FutureWarning: The default value of `n_init` will change from 10 to 'auto' in 1.4. Set the value of `n_init` explicitly to suppress the warning\n",
      "  super()._check_params_vs_input(X, default_n_init=10)\n",
      "/work/scratch/tyang/miniconda3/env/anomalib_env/lib/python3.10/site-packages/sklearn/cluster/_kmeans.py:1416: FutureWarning: The default value of `n_init` will change from 10 to 'auto' in 1.4. Set the value of `n_init` explicitly to suppress the warning\n",
      "  super()._check_params_vs_input(X, default_n_init=10)\n",
      "/work/scratch/tyang/miniconda3/env/anomalib_env/lib/python3.10/site-packages/sklearn/cluster/_kmeans.py:1416: FutureWarning: The default value of `n_init` will change from 10 to 'auto' in 1.4. Set the value of `n_init` explicitly to suppress the warning\n",
      "  super()._check_params_vs_input(X, default_n_init=10)\n",
      "/work/scratch/tyang/miniconda3/env/anomalib_env/lib/python3.10/site-packages/sklearn/cluster/_kmeans.py:1416: FutureWarning: The default value of `n_init` will change from 10 to 'auto' in 1.4. Set the value of `n_init` explicitly to suppress the warning\n",
      "  super()._check_params_vs_input(X, default_n_init=10)\n",
      "/work/scratch/tyang/miniconda3/env/anomalib_env/lib/python3.10/site-packages/sklearn/cluster/_kmeans.py:1416: FutureWarning: The default value of `n_init` will change from 10 to 'auto' in 1.4. Set the value of `n_init` explicitly to suppress the warning\n",
      "  super()._check_params_vs_input(X, default_n_init=10)\n",
      "/work/scratch/tyang/miniconda3/env/anomalib_env/lib/python3.10/site-packages/sklearn/cluster/_kmeans.py:1416: FutureWarning: The default value of `n_init` will change from 10 to 'auto' in 1.4. Set the value of `n_init` explicitly to suppress the warning\n",
      "  super()._check_params_vs_input(X, default_n_init=10)\n",
      "/work/scratch/tyang/miniconda3/env/anomalib_env/lib/python3.10/site-packages/sklearn/cluster/_kmeans.py:1416: FutureWarning: The default value of `n_init` will change from 10 to 'auto' in 1.4. Set the value of `n_init` explicitly to suppress the warning\n",
      "  super()._check_params_vs_input(X, default_n_init=10)\n",
      "/work/scratch/tyang/miniconda3/env/anomalib_env/lib/python3.10/site-packages/sklearn/cluster/_kmeans.py:1416: FutureWarning: The default value of `n_init` will change from 10 to 'auto' in 1.4. Set the value of `n_init` explicitly to suppress the warning\n",
      "  super()._check_params_vs_input(X, default_n_init=10)\n",
      "/work/scratch/tyang/miniconda3/env/anomalib_env/lib/python3.10/site-packages/sklearn/cluster/_kmeans.py:1416: FutureWarning: The default value of `n_init` will change from 10 to 'auto' in 1.4. Set the value of `n_init` explicitly to suppress the warning\n",
      "  super()._check_params_vs_input(X, default_n_init=10)\n",
      "/work/scratch/tyang/miniconda3/env/anomalib_env/lib/python3.10/site-packages/sklearn/cluster/_kmeans.py:1416: FutureWarning: The default value of `n_init` will change from 10 to 'auto' in 1.4. Set the value of `n_init` explicitly to suppress the warning\n",
      "  super()._check_params_vs_input(X, default_n_init=10)\n",
      "/work/scratch/tyang/miniconda3/env/anomalib_env/lib/python3.10/site-packages/sklearn/cluster/_kmeans.py:1416: FutureWarning: The default value of `n_init` will change from 10 to 'auto' in 1.4. Set the value of `n_init` explicitly to suppress the warning\n",
      "  super()._check_params_vs_input(X, default_n_init=10)\n",
      "/work/scratch/tyang/miniconda3/env/anomalib_env/lib/python3.10/site-packages/sklearn/cluster/_kmeans.py:1416: FutureWarning: The default value of `n_init` will change from 10 to 'auto' in 1.4. Set the value of `n_init` explicitly to suppress the warning\n",
      "  super()._check_params_vs_input(X, default_n_init=10)\n",
      "/work/scratch/tyang/miniconda3/env/anomalib_env/lib/python3.10/site-packages/sklearn/cluster/_kmeans.py:1416: FutureWarning: The default value of `n_init` will change from 10 to 'auto' in 1.4. Set the value of `n_init` explicitly to suppress the warning\n",
      "  super()._check_params_vs_input(X, default_n_init=10)\n",
      "/work/scratch/tyang/miniconda3/env/anomalib_env/lib/python3.10/site-packages/sklearn/cluster/_kmeans.py:1416: FutureWarning: The default value of `n_init` will change from 10 to 'auto' in 1.4. Set the value of `n_init` explicitly to suppress the warning\n",
      "  super()._check_params_vs_input(X, default_n_init=10)\n",
      "/work/scratch/tyang/miniconda3/env/anomalib_env/lib/python3.10/site-packages/sklearn/cluster/_kmeans.py:1416: FutureWarning: The default value of `n_init` will change from 10 to 'auto' in 1.4. Set the value of `n_init` explicitly to suppress the warning\n",
      "  super()._check_params_vs_input(X, default_n_init=10)\n",
      "/work/scratch/tyang/miniconda3/env/anomalib_env/lib/python3.10/site-packages/sklearn/cluster/_kmeans.py:1416: FutureWarning: The default value of `n_init` will change from 10 to 'auto' in 1.4. Set the value of `n_init` explicitly to suppress the warning\n",
      "  super()._check_params_vs_input(X, default_n_init=10)\n",
      "/work/scratch/tyang/miniconda3/env/anomalib_env/lib/python3.10/site-packages/sklearn/cluster/_kmeans.py:1416: FutureWarning: The default value of `n_init` will change from 10 to 'auto' in 1.4. Set the value of `n_init` explicitly to suppress the warning\n",
      "  super()._check_params_vs_input(X, default_n_init=10)\n",
      "/work/scratch/tyang/miniconda3/env/anomalib_env/lib/python3.10/site-packages/sklearn/cluster/_kmeans.py:1416: FutureWarning: The default value of `n_init` will change from 10 to 'auto' in 1.4. Set the value of `n_init` explicitly to suppress the warning\n",
      "  super()._check_params_vs_input(X, default_n_init=10)\n",
      "/work/scratch/tyang/miniconda3/env/anomalib_env/lib/python3.10/site-packages/sklearn/cluster/_kmeans.py:1416: FutureWarning: The default value of `n_init` will change from 10 to 'auto' in 1.4. Set the value of `n_init` explicitly to suppress the warning\n",
      "  super()._check_params_vs_input(X, default_n_init=10)\n",
      "/work/scratch/tyang/miniconda3/env/anomalib_env/lib/python3.10/site-packages/sklearn/cluster/_kmeans.py:1416: FutureWarning: The default value of `n_init` will change from 10 to 'auto' in 1.4. Set the value of `n_init` explicitly to suppress the warning\n",
      "  super()._check_params_vs_input(X, default_n_init=10)\n",
      "/work/scratch/tyang/miniconda3/env/anomalib_env/lib/python3.10/site-packages/sklearn/cluster/_kmeans.py:1416: FutureWarning: The default value of `n_init` will change from 10 to 'auto' in 1.4. Set the value of `n_init` explicitly to suppress the warning\n",
      "  super()._check_params_vs_input(X, default_n_init=10)\n",
      "/work/scratch/tyang/miniconda3/env/anomalib_env/lib/python3.10/site-packages/sklearn/cluster/_kmeans.py:1416: FutureWarning: The default value of `n_init` will change from 10 to 'auto' in 1.4. Set the value of `n_init` explicitly to suppress the warning\n",
      "  super()._check_params_vs_input(X, default_n_init=10)\n",
      "/work/scratch/tyang/miniconda3/env/anomalib_env/lib/python3.10/site-packages/sklearn/cluster/_kmeans.py:1416: FutureWarning: The default value of `n_init` will change from 10 to 'auto' in 1.4. Set the value of `n_init` explicitly to suppress the warning\n",
      "  super()._check_params_vs_input(X, default_n_init=10)\n",
      "/work/scratch/tyang/miniconda3/env/anomalib_env/lib/python3.10/site-packages/sklearn/cluster/_kmeans.py:1416: FutureWarning: The default value of `n_init` will change from 10 to 'auto' in 1.4. Set the value of `n_init` explicitly to suppress the warning\n",
      "  super()._check_params_vs_input(X, default_n_init=10)\n",
      "/work/scratch/tyang/miniconda3/env/anomalib_env/lib/python3.10/site-packages/sklearn/cluster/_kmeans.py:1416: FutureWarning: The default value of `n_init` will change from 10 to 'auto' in 1.4. Set the value of `n_init` explicitly to suppress the warning\n",
      "  super()._check_params_vs_input(X, default_n_init=10)\n",
      "/work/scratch/tyang/miniconda3/env/anomalib_env/lib/python3.10/site-packages/sklearn/cluster/_kmeans.py:1416: FutureWarning: The default value of `n_init` will change from 10 to 'auto' in 1.4. Set the value of `n_init` explicitly to suppress the warning\n",
      "  super()._check_params_vs_input(X, default_n_init=10)\n",
      "/work/scratch/tyang/miniconda3/env/anomalib_env/lib/python3.10/site-packages/sklearn/cluster/_kmeans.py:1416: FutureWarning: The default value of `n_init` will change from 10 to 'auto' in 1.4. Set the value of `n_init` explicitly to suppress the warning\n",
      "  super()._check_params_vs_input(X, default_n_init=10)\n",
      "/work/scratch/tyang/miniconda3/env/anomalib_env/lib/python3.10/site-packages/sklearn/cluster/_kmeans.py:1416: FutureWarning: The default value of `n_init` will change from 10 to 'auto' in 1.4. Set the value of `n_init` explicitly to suppress the warning\n",
      "  super()._check_params_vs_input(X, default_n_init=10)\n",
      "/work/scratch/tyang/miniconda3/env/anomalib_env/lib/python3.10/site-packages/sklearn/cluster/_kmeans.py:1416: FutureWarning: The default value of `n_init` will change from 10 to 'auto' in 1.4. Set the value of `n_init` explicitly to suppress the warning\n",
      "  super()._check_params_vs_input(X, default_n_init=10)\n"
     ]
    },
    {
     "data": {
      "text/plain": [
       "[tensor([[104.5042, 105.8957,  25.3389,  ...,  38.5916,  10.6874,  47.0947],\n",
       "         [138.2239, 395.0480, 290.1508,  ..., 375.0502, 377.7718,  20.4888],\n",
       "         [ 42.3854,  32.9052,  14.5907,  ...,   6.9127,  38.5064,  85.6371],\n",
       "         ...,\n",
       "         [ 15.5357,  34.0918,  12.2421,  ...,  20.8760,  23.0416,  27.8948],\n",
       "         [ 64.7280,  90.0123,  48.8952,  ...,  24.1064,  46.9748, 313.3716],\n",
       "         [  9.8934,  20.8227,  26.5474,  ...,  10.0774,  83.5677,  47.3176]]),\n",
       " tensor([[107.2809, 112.0834,  29.9378,  ...,  43.0899,  16.1677,  52.6081],\n",
       "         [140.5007, 398.3813, 292.0989,  ..., 375.6502, 383.5330,  26.2437],\n",
       "         [ 49.5899,  38.0357,  21.5539,  ...,  13.3059,  42.7677,  91.0283],\n",
       "         ...,\n",
       "         [ 21.3181,  40.3930,  18.1389,  ...,  25.8063,  28.5770,  33.7376],\n",
       "         [ 69.0450,  94.2504,  54.4442,  ...,  29.1268,  50.8470, 320.8605],\n",
       "         [ 16.7719,  27.9320,  32.8961,  ...,  17.1227,  89.5425,  55.0643]]),\n",
       " tensor([[108.8602, 115.0274,  34.5736,  ...,  45.9628,  20.5675,  55.8418],\n",
       "         [142.0326, 395.5960, 289.5966,  ..., 371.9889, 383.2047,  30.4146],\n",
       "         [ 55.1555,  44.1487,  29.2748,  ...,  19.6017,  45.8236,  93.3847],\n",
       "         ...,\n",
       "         [ 25.7306,  44.8211,  24.6859,  ...,  30.0530,  32.5983,  37.7892],\n",
       "         [ 71.0436,  95.6746,  57.6529,  ...,  32.7217,  53.9986, 323.3490],\n",
       "         [ 24.2254,  36.0569,  40.5741,  ...,  24.4757,  97.9848,  61.5154]]),\n",
       " tensor([[120.9641, 126.7310,  46.1088,  ...,  57.7514,  32.2162,  67.5052],\n",
       "         [154.1801, 408.2056, 302.2751,  ..., 384.8559, 395.4288,  42.0232],\n",
       "         [ 66.4660,  55.4075,  40.2224,  ...,  30.6585,  57.5257, 105.2964],\n",
       "         ...,\n",
       "         [ 37.2144,  56.3203,  36.0260,  ...,  41.5849,  44.1655,  49.3636],\n",
       "         [ 83.0839, 107.5866,  69.4560,  ...,  44.3913,  65.8240, 335.0158],\n",
       "         [ 35.2707,  47.0163,  51.5549,  ...,  35.4939, 108.9178,  72.5962]]),\n",
       " tensor([[122.9022, 128.5256,  48.0425,  ...,  59.5997,  34.0592,  69.3591],\n",
       "         [156.1505, 410.0102, 304.1839,  ..., 386.8714, 397.1792,  43.8785],\n",
       "         [ 68.2589,  57.3473,  42.0065,  ...,  32.6580,  59.3967, 107.1167],\n",
       "         ...,\n",
       "         [ 39.0497,  58.2163,  37.7334,  ...,  43.4831,  46.0777,  51.1792],\n",
       "         [ 84.9771, 109.4148,  71.3224,  ...,  46.3216,  67.7404, 336.7420],\n",
       "         [ 37.1100,  48.7949,  53.4519,  ...,  37.3368, 110.8063,  74.4035]]),\n",
       " tensor([[123.1537, 130.2551,  49.4615,  ...,  60.7296,  35.6975,  70.8760],\n",
       "         [156.2139, 409.8207, 303.5491,  ..., 385.6212, 398.2130,  45.6271],\n",
       "         [ 70.7506,  59.2445,  44.8246,  ...,  35.0823,  60.5327, 108.4432],\n",
       "         ...,\n",
       "         [ 40.8845,  60.2242,  39.9934,  ...,  45.0149,  47.7823,  52.9492],\n",
       "         [ 85.8414, 110.2247,  72.7682,  ...,  47.6044,  68.5510, 338.8584],\n",
       "         [ 39.8334,  51.7283,  56.0305,  ...,  40.1230, 113.3104,  77.2755]]),\n",
       " tensor([[141.2104, 140.5758,  67.0919,  ...,  75.9543,  50.4925,  83.5540],\n",
       "         [175.6532, 419.3126, 317.4466,  ..., 401.7879, 404.8645,  59.1877],\n",
       "         [ 82.2528,  77.7280,  60.2433,  ...,  50.7622,  76.8723, 120.2444],\n",
       "         ...,\n",
       "         [ 54.6520,  72.5513,  56.6954,  ...,  61.3006,  61.3414,  66.0423],\n",
       "         [100.1053, 123.6848,  85.6356,  ...,  62.5824,  85.8169, 344.6392],\n",
       "         [ 55.2926,  67.5499,  73.4143,  ...,  54.8372, 132.9426,  88.6094]]),\n",
       " tensor([[139.0369, 138.3403,  64.3278,  ...,  73.6474,  47.8759,  81.1932],\n",
       "         [173.4306, 418.1833, 316.1946,  ..., 400.6512, 403.3985,  56.6025],\n",
       "         [ 79.4526,  74.6169,  56.9366,  ...,  47.7177,  74.4695, 118.0848],\n",
       "         ...,\n",
       "         [ 52.0208,  69.9824,  53.5975,  ...,  58.6437,  58.7721,  63.5343],\n",
       "         [ 97.9292, 121.6649,  83.3059,  ...,  60.1597,  83.3126, 342.6305],\n",
       "         [ 52.0504,  64.1557,  70.0506,  ...,  51.6604, 129.3639,  85.6737]]),\n",
       " tensor([[142.3819, 142.7596,  68.0146,  ...,  77.4625,  51.8279,  85.4111],\n",
       "         [176.6288, 422.1798, 319.6275,  ..., 403.7445, 407.7933,  60.8007],\n",
       "         [ 83.9926,  78.4036,  61.1215,  ...,  51.9918,  78.0385, 122.2030],\n",
       "         ...,\n",
       "         [ 56.1585,  74.3662,  57.5165,  ...,  62.4222,  62.9513,  67.7288],\n",
       "         [101.8004, 125.5554,  87.5997,  ...,  64.1998,  86.9805, 347.5623],\n",
       "         [ 56.2806,  68.3655,  74.1132,  ...,  55.8944, 133.2093,  90.2943]]),\n",
       " tensor([[142.3691, 142.2177,  67.3233,  ...,  77.1266,  51.1108,  84.9077],\n",
       "         [176.6466, 422.7453, 320.2972,  ..., 404.8345, 407.7722,  60.1054],\n",
       "         [ 82.9735,  77.4589,  59.8488,  ...,  50.8530,  77.7739, 121.8100],\n",
       "         ...,\n",
       "         [ 55.4515,  73.5026,  56.5157,  ...,  61.6859,  62.2944,  67.0061],\n",
       "         [101.6028, 125.4469,  87.0037,  ...,  63.4961,  86.6126, 346.9382],\n",
       "         [ 54.9812,  66.9969,  72.8085,  ...,  54.5990, 131.8478,  89.0481]]),\n",
       " tensor([[142.5748, 143.6450,  67.3040,  ...,  77.5802,  51.6189,  85.8589],\n",
       "         [176.5868, 424.9367, 321.6102,  ..., 405.8633, 410.1425,  60.8214],\n",
       "         [ 83.9076,  77.1455,  59.8252,  ...,  51.0020,  78.0216, 123.0242],\n",
       "         ...,\n",
       "         [ 56.1017,  74.4164,  56.3804,  ...,  61.8631,  63.1173,  67.8380],\n",
       "         [102.4240, 126.4255,  88.0175,  ...,  64.0943,  86.8052, 349.2095],\n",
       "         [ 55.0146,  66.8809,  72.4709,  ...,  54.7239, 131.0786,  89.9323]]),\n",
       " tensor([[143.1252, 143.7875,  67.7074,  ...,  77.9110,  51.8517,  86.1023],\n",
       "         [177.2106, 425.3103, 322.1640,  ..., 406.6096, 410.1613,  61.0305],\n",
       "         [ 83.9806,  77.5134,  59.9637,  ...,  51.2709,  78.4409, 123.2064],\n",
       "         ...,\n",
       "         [ 56.3222,  74.5914,  56.5834,  ...,  62.2400,  63.3175,  68.0312],\n",
       "         [102.7445, 126.7723,  88.2137,  ...,  64.3458,  87.2318, 349.1455],\n",
       "         [ 55.1852,  67.0398,  72.7275,  ...,  54.8575, 131.3885,  89.9553]]),\n",
       " tensor([[145.1132, 145.8998,  70.1490,  ...,  80.1659,  54.2648,  88.3061],\n",
       "         [179.1752, 426.5843, 323.5770,  ..., 407.8772, 411.9713,  63.3924],\n",
       "         [ 86.4751,  80.1803,  62.9142,  ...,  53.6419,  80.7669, 125.3520],\n",
       "         ...,\n",
       "         [ 58.7174,  77.0020,  59.1823,  ...,  64.7027,  65.6168,  70.3978],\n",
       "         [104.7084, 128.8090,  90.2557,  ...,  66.6646,  89.4265, 351.1704],\n",
       "         [ 58.0101,  69.9814,  75.6468,  ...,  57.7223, 134.4062,  92.5974]]),\n",
       " tensor([[152.8022, 153.8496,  77.2839,  ...,  87.6298,  61.5926,  95.9883],\n",
       "         [186.8561, 435.7553, 332.3384,  ..., 416.6353, 420.7031,  70.8642],\n",
       "         [ 93.8135,  86.9766,  69.4629,  ...,  60.5149,  88.1461, 133.2774],\n",
       "         ...,\n",
       "         [ 66.0279,  84.5134,  65.8037,  ...,  71.9503,  73.0734,  77.9091],\n",
       "         [112.4984, 136.8037,  97.9929,  ...,  74.0271,  96.8471, 359.5233],\n",
       "         [ 64.6852,  76.4451,  82.1558,  ...,  64.4129, 140.6040,  99.7828]]),\n",
       " tensor([[153.1611, 153.5355,  77.8886,  ...,  87.8553,  61.8990,  95.9607],\n",
       "         [187.3444, 434.7341, 331.8125,  ..., 416.3262, 419.6909,  71.0623],\n",
       "         [ 93.8870,  87.8631,  70.2101,  ...,  61.1512,  88.4394, 133.0668],\n",
       "         ...,\n",
       "         [ 66.2496,  84.6251,  66.6073,  ...,  72.4030,  73.2779,  78.0150],\n",
       "         [112.4809, 136.6399,  98.0125,  ...,  74.3272,  97.2967, 358.7548],\n",
       "         [ 65.4178,  77.2613,  83.0908,  ...,  65.0378, 141.8247,  99.9843]]),\n",
       " tensor([[150.5466, 151.3095,  75.6197,  ...,  85.6645,  59.6614,  93.7677],\n",
       "         [184.6029, 431.8613, 328.8891,  ..., 413.2603, 417.2711,  68.8648],\n",
       "         [ 91.9405,  85.7144,  68.4224,  ...,  59.1103,  86.2865, 130.6830],\n",
       "         ...,\n",
       "         [ 64.1280,  82.5096,  64.5863,  ...,  70.2632,  71.0078,  75.8195],\n",
       "         [110.0587, 134.1941,  95.7490,  ...,  72.1458,  94.8831, 356.5865],\n",
       "         [ 63.5578,  75.4896,  81.2085,  ...,  63.2398, 139.9452,  98.1099]]),\n",
       " tensor([[154.0896, 155.4046,  78.8186,  ...,  89.1654,  63.2119,  97.5616],\n",
       "         [188.0489, 436.7292, 333.2361,  ..., 417.4136, 422.1006,  72.4682],\n",
       "         [ 95.5942,  88.6499,  71.5041,  ...,  62.3316,  89.6458, 134.7339],\n",
       "         ...,\n",
       "         [ 67.7123,  86.1856,  67.7225,  ...,  73.4227,  74.7678,  79.5303],\n",
       "         [113.9084, 138.1508,  99.5738,  ...,  75.6336,  98.3661, 361.1669],\n",
       "         [ 66.5995,  78.4207,  84.0647,  ...,  66.3964, 142.5584, 101.6827]]),\n",
       " tensor([[153.9329, 155.9296,  79.0239,  ...,  89.3518,  63.6231,  97.9517],\n",
       "         [187.7904, 436.7451, 332.9640,  ..., 416.7775, 422.6207,  72.8988],\n",
       "         [ 96.3066,  88.9282,  72.1321,  ...,  62.8710,  89.7334, 135.1769],\n",
       "         ...,\n",
       "         [ 68.1630,  86.7290,  68.1395,  ...,  73.6931,  75.1568,  80.0006],\n",
       "         [114.0961, 138.2946,  99.9680,  ...,  75.9694,  98.4397, 361.9767],\n",
       "         [ 67.2394,  79.0959,  84.5580,  ...,  67.0475, 142.9691, 102.5012]]),\n",
       " tensor([[155.6042, 155.8326,  80.3613,  ...,  90.3035,  64.4041,  98.3425],\n",
       "         [189.7558, 436.8396, 334.0701,  ..., 418.3437, 421.9858,  73.3948],\n",
       "         [ 96.3147,  90.2841,  72.7934,  ...,  63.5065,  90.9434, 135.4426],\n",
       "         ...,\n",
       "         [ 68.7632,  86.9369,  69.2707,  ...,  74.8088,  75.7520,  80.4217],\n",
       "         [115.0221, 138.9393, 100.3656,  ...,  76.8360,  99.8600, 360.9626],\n",
       "         [ 67.9277,  79.8313,  85.5938,  ...,  67.5818, 144.4542, 102.3839]]),\n",
       " tensor([[156.6815, 157.5209,  81.2806,  ...,  91.4780,  65.5540,  99.7794],\n",
       "         [190.7266, 439.0127, 335.8054,  ..., 420.0531, 424.1667,  74.6722],\n",
       "         [ 97.6920,  91.0525,  73.6584,  ...,  64.6290,  92.0796, 136.9931],\n",
       "         ...,\n",
       "         [ 70.0171,  88.3362,  70.0150,  ...,  75.9067,  77.1248,  81.7734],\n",
       "         [116.3886, 140.4419, 101.8276,  ...,  78.0439, 100.8883, 363.0779],\n",
       "         [ 68.8219,  80.6153,  86.3279,  ...,  68.5102, 144.8888, 103.7463]]),\n",
       " tensor([[157.3463, 158.2200,  82.0644,  ...,  92.1720,  66.3148, 100.4785],\n",
       "         [191.3796, 439.4882, 336.2506,  ..., 420.4568, 424.6758,  75.4080],\n",
       "         [ 98.4999,  91.9086,  74.5918,  ...,  65.4865,  92.7908, 137.6666],\n",
       "         ...,\n",
       "         [ 70.7845,  89.0885,  70.8997,  ...,  76.5787,  77.8725,  82.5047],\n",
       "         [117.0591, 141.0739, 102.5108,  ...,  78.6599, 101.6186, 363.7250],\n",
       "         [ 69.7086,  81.5578,  87.2604,  ...,  69.3810, 145.8495, 104.5744]]),\n",
       " tensor([[160.3908, 161.3699,  85.6665,  ...,  95.3412,  69.7939, 103.7417],\n",
       "         [194.4909, 441.6516, 338.6064,  ..., 422.6031, 427.0887,  78.8249],\n",
       "         [102.1374,  95.8228,  78.7177,  ...,  69.4835,  95.9959, 140.7019],\n",
       "         ...,\n",
       "         [ 74.1711,  92.5507,  74.7514,  ...,  80.1335,  81.3035,  85.9033],\n",
       "         [120.0158, 144.1293, 105.7381,  ...,  81.9426, 104.9374, 366.6854],\n",
       "         [ 73.7195,  85.7162,  91.3949,  ...,  73.4028, 150.1884, 108.3275]]),\n",
       " tensor([[162.8882, 163.4556,  88.0456,  ...,  97.7398,  72.0618, 105.9307],\n",
       "         [197.0035, 443.7702, 340.9489,  ..., 425.1164, 429.0767,  81.0416],\n",
       "         [104.2236,  98.1862,  80.9328,  ...,  71.5639,  98.4566, 142.8547],\n",
       "         ...,\n",
       "         [ 76.4749,  94.6315,  77.3239,  ...,  82.4504,  83.5016,  88.0733],\n",
       "         [122.3623, 146.4243, 107.9301,  ...,  84.2852, 107.3883, 368.5505],\n",
       "         [ 75.9419,  88.0020,  93.6569,  ...,  75.5853, 152.5884, 110.3885]]),\n",
       " tensor([[163.1556, 163.9048,  87.9481,  ...,  98.0423,  72.0947, 106.2574],\n",
       "         [197.2196, 444.9764, 341.9203,  ..., 426.0940, 430.1300,  81.2077],\n",
       "         [104.2968,  97.8585,  80.5591,  ...,  71.3640,  98.6363, 143.3098],\n",
       "         ...,\n",
       "         [ 76.5620,  94.8300,  76.9775,  ...,  82.4338,  83.5681,  88.2558],\n",
       "         [122.7536, 146.9523, 108.1715,  ...,  84.4180, 107.4864, 369.2668],\n",
       "         [ 75.6012,  87.5618,  93.2549,  ...,  75.2989, 151.9004, 110.3556]]),\n",
       " tensor([[162.9399, 161.1908,  87.3266,  ...,  96.8874,  70.5801, 104.2775],\n",
       "         [197.4436, 442.4223, 340.8006,  ..., 425.8575, 426.5427,  79.4295],\n",
       "         [101.7377,  97.3146,  79.1106,  ...,  69.7161,  97.8219, 141.1165],\n",
       "         ...,\n",
       "         [ 74.8005,  92.6261,  75.9531,  ...,  81.5403,  81.8235,  86.3298],\n",
       "         [121.3064, 145.3228, 106.1982,  ...,  83.0536, 106.8406, 365.2410],\n",
       "         [ 74.1260,  86.1220,  92.2637,  ...,  73.6059, 151.5909, 107.7207]]),\n",
       " tensor([[162.9398, 161.6108,  87.0679,  ...,  97.0271,  70.5777, 104.5060],\n",
       "         [197.3435, 443.3826, 341.4297,  ..., 426.3853, 427.5368,  79.5018],\n",
       "         [101.8458,  96.8362,  78.7564,  ...,  69.4438,  97.8196, 141.5104],\n",
       "         ...,\n",
       "         [ 74.8272,  92.7755,  75.6590,  ...,  81.3335,  81.8222,  86.4779],\n",
       "         [121.5565, 145.6431, 106.3491,  ...,  83.0782, 106.7982, 366.0197],\n",
       "         [ 73.7971,  85.7409,  91.7767,  ...,  73.3495, 150.9140, 107.7501]]),\n",
       " tensor([[164.3135, 161.3223,  88.0542,  ...,  97.6612,  71.0447, 104.6286],\n",
       "         [199.0019, 443.5677, 342.4469,  ..., 427.8368, 426.8619,  79.7202],\n",
       "         [101.5484,  97.8469,  79.0067,  ...,  69.9280,  98.6232, 141.5900],\n",
       "         ...,\n",
       "         [ 75.0757,  92.7166,  76.1190,  ...,  82.1482,  82.1447,  86.6076],\n",
       "         [122.1157, 146.2121, 106.5350,  ...,  83.7809, 107.9109, 364.9121],\n",
       "         [ 74.0236,  85.9833,  92.3844,  ...,  73.4625, 151.8705, 107.3160]]),\n",
       " tensor([[162.8350, 160.7056,  86.2431,  ...,  96.4361,  69.6365, 103.6632],\n",
       "         [197.3149, 443.6638, 341.9425,  ..., 427.1989, 427.1013,  78.4882],\n",
       "         [100.3963,  95.7523,  77.1222,  ...,  68.1023,  97.2284, 140.7913],\n",
       "         ...,\n",
       "         [ 73.8278,  91.6563,  74.2712,  ...,  80.6632,  80.8971,  85.5094],\n",
       "         [121.1087, 145.3095, 105.5951,  ...,  82.4173, 106.3434, 364.9450],\n",
       "         [ 72.1785,  83.9981,  90.2541,  ...,  71.7570, 149.3991, 106.1244]]),\n",
       " tensor([[172.0120, 170.0860,  95.9322,  ..., 105.7395,  79.2529, 113.1215],\n",
       "         [206.4936, 452.2619, 350.5454,  ..., 435.6821, 436.0275,  88.1009],\n",
       "         [110.1931, 105.6335,  87.0555,  ...,  78.0551, 106.5990, 150.1457],\n",
       "         ...,\n",
       "         [ 83.3643, 101.3536,  84.1228,  ...,  89.9095,  90.3270,  95.0074],\n",
       "         [130.3137, 154.4855, 115.0038,  ...,  91.9510, 115.7731, 374.2378],\n",
       "         [ 82.2068,  94.1016, 100.3138,  ...,  81.7337, 159.5094, 116.0132]]),\n",
       " tensor([[170.8548, 168.7619,  94.6724,  ..., 104.4822,  77.9527, 111.7973],\n",
       "         [205.3479, 451.1113, 349.4349,  ..., 434.5676, 434.7729,  86.7659],\n",
       "         [108.7838, 104.3492,  85.7278,  ...,  76.6526, 105.3257, 148.8613],\n",
       "         ...,\n",
       "         [ 82.0792, 100.0107,  82.8545,  ...,  88.7398,  89.1272,  93.7440],\n",
       "         [129.0899, 153.2818, 113.6924,  ...,  90.7284, 114.5954, 372.8823],\n",
       "         [ 80.8181,  92.7366,  98.9619,  ...,  80.3778, 158.2455, 114.6149]])]"
      ]
     },
     "execution_count": 11,
     "metadata": {},
     "output_type": "execute_result"
    }
   ],
   "source": [
    "calculate_WSS(global_feature_tensor, 30)"
   ]
  },
  {
   "cell_type": "code",
   "execution_count": 14,
   "metadata": {},
   "outputs": [
    {
     "name": "stderr",
     "output_type": "stream",
     "text": [
      "/work/scratch/tyang/miniconda3/env/anomalib_env/lib/python3.10/site-packages/sklearn/cluster/_kmeans.py:1416: FutureWarning: The default value of `n_init` will change from 10 to 'auto' in 1.4. Set the value of `n_init` explicitly to suppress the warning\n",
      "  super()._check_params_vs_input(X, default_n_init=10)\n"
     ]
    },
    {
     "ename": "KeyboardInterrupt",
     "evalue": "",
     "output_type": "error",
     "traceback": [
      "\u001b[0;31m---------------------------------------------------------------------------\u001b[0m",
      "\u001b[0;31mKeyboardInterrupt\u001b[0m                         Traceback (most recent call last)",
      "File \u001b[0;32m/work/scratch/tyang/miniconda3/env/anomalib_env/lib/python3.10/site-packages/numpy/core/multiarray.py:346\u001b[0m, in \u001b[0;36mwhere\u001b[0;34m(condition, x, y)\u001b[0m\n\u001b[1;32m    256\u001b[0m \u001b[39m    \u001b[39m\u001b[39m\"\"\"\u001b[39;00m\n\u001b[1;32m    257\u001b[0m \u001b[39m    inner(a, b, /)\u001b[39;00m\n\u001b[1;32m    258\u001b[0m \n\u001b[0;32m   (...)\u001b[0m\n\u001b[1;32m    341\u001b[0m \n\u001b[1;32m    342\u001b[0m \u001b[39m    \"\"\"\u001b[39;00m\n\u001b[1;32m    343\u001b[0m     \u001b[39mreturn\u001b[39;00m (a, b)\n\u001b[0;32m--> 346\u001b[0m \u001b[39m@array_function_from_c_func_and_dispatcher\u001b[39m(_multiarray_umath\u001b[39m.\u001b[39mwhere)\n\u001b[1;32m    347\u001b[0m \u001b[39mdef\u001b[39;00m \u001b[39mwhere\u001b[39m(condition, x\u001b[39m=\u001b[39m\u001b[39mNone\u001b[39;00m, y\u001b[39m=\u001b[39m\u001b[39mNone\u001b[39;00m):\n\u001b[1;32m    348\u001b[0m \u001b[39m    \u001b[39m\u001b[39m\"\"\"\u001b[39;00m\n\u001b[1;32m    349\u001b[0m \u001b[39m    where(condition, [x, y], /)\u001b[39;00m\n\u001b[1;32m    350\u001b[0m \n\u001b[0;32m   (...)\u001b[0m\n\u001b[1;32m    416\u001b[0m \u001b[39m           [ 0,  3, -1]])\u001b[39;00m\n\u001b[1;32m    417\u001b[0m \u001b[39m    \"\"\"\u001b[39;00m\n\u001b[1;32m    418\u001b[0m     \u001b[39mreturn\u001b[39;00m (condition, x, y)\n",
      "\u001b[0;31mKeyboardInterrupt\u001b[0m: "
     ]
    },
    {
     "name": "stderr",
     "output_type": "stream",
     "text": [
      "Exception ignored in: 'sklearn.cluster._k_means_common._relocate_empty_clusters_dense'\n",
      "Traceback (most recent call last):\n",
      "  File \"/work/scratch/tyang/miniconda3/env/anomalib_env/lib/python3.10/site-packages/numpy/core/multiarray.py\", line 346, in where\n",
      "    @array_function_from_c_func_and_dispatcher(_multiarray_umath.where)\n",
      "KeyboardInterrupt: \n"
     ]
    },
    {
     "ename": "KeyboardInterrupt",
     "evalue": "",
     "output_type": "error",
     "traceback": [
      "\u001b[0;31m---------------------------------------------------------------------------\u001b[0m",
      "\u001b[0;31mKeyboardInterrupt\u001b[0m                         Traceback (most recent call last)",
      "\u001b[1;32m/home/students/tyang/anomalib/src/anomalib/models/patchcore/CPR_style_preselection.ipynb Cell 11\u001b[0m line \u001b[0;36m1\n\u001b[1;32m     <a href='vscode-notebook-cell:/home/students/tyang/anomalib/src/anomalib/models/patchcore/CPR_style_preselection.ipynb#X35sZmlsZQ%3D%3D?line=10'>11</a>\u001b[0m silhouette_avg \u001b[39m=\u001b[39m []\n\u001b[1;32m     <a href='vscode-notebook-cell:/home/students/tyang/anomalib/src/anomalib/models/patchcore/CPR_style_preselection.ipynb#X35sZmlsZQ%3D%3D?line=11'>12</a>\u001b[0m \u001b[39mfor\u001b[39;00m i \u001b[39min\u001b[39;00m \u001b[39mrange\u001b[39m(\u001b[39m10\u001b[39m,\u001b[39m20\u001b[39m):\n\u001b[0;32m---> <a href='vscode-notebook-cell:/home/students/tyang/anomalib/src/anomalib/models/patchcore/CPR_style_preselection.ipynb#X35sZmlsZQ%3D%3D?line=12'>13</a>\u001b[0m     kmeans_fit \u001b[39m=\u001b[39m KMeans(n_clusters \u001b[39m=\u001b[39;49m i)\u001b[39m.\u001b[39;49mfit(feature_t)\n\u001b[1;32m     <a href='vscode-notebook-cell:/home/students/tyang/anomalib/src/anomalib/models/patchcore/CPR_style_preselection.ipynb#X35sZmlsZQ%3D%3D?line=13'>14</a>\u001b[0m     silhouette_avg\u001b[39m.\u001b[39mappend(silhouette_score(feature_t, kmeans_fit\u001b[39m.\u001b[39mlabels_))\n\u001b[1;32m     <a href='vscode-notebook-cell:/home/students/tyang/anomalib/src/anomalib/models/patchcore/CPR_style_preselection.ipynb#X35sZmlsZQ%3D%3D?line=16'>17</a>\u001b[0m x_ticks \u001b[39m=\u001b[39m np\u001b[39m.\u001b[39mlinspace(\u001b[39m10\u001b[39m,\u001b[39m20\u001b[39m,\u001b[39m11\u001b[39m)\n",
      "File \u001b[0;32m/work/scratch/tyang/miniconda3/env/anomalib_env/lib/python3.10/site-packages/sklearn/base.py:1152\u001b[0m, in \u001b[0;36m_fit_context.<locals>.decorator.<locals>.wrapper\u001b[0;34m(estimator, *args, **kwargs)\u001b[0m\n\u001b[1;32m   1145\u001b[0m     estimator\u001b[39m.\u001b[39m_validate_params()\n\u001b[1;32m   1147\u001b[0m \u001b[39mwith\u001b[39;00m config_context(\n\u001b[1;32m   1148\u001b[0m     skip_parameter_validation\u001b[39m=\u001b[39m(\n\u001b[1;32m   1149\u001b[0m         prefer_skip_nested_validation \u001b[39mor\u001b[39;00m global_skip_validation\n\u001b[1;32m   1150\u001b[0m     )\n\u001b[1;32m   1151\u001b[0m ):\n\u001b[0;32m-> 1152\u001b[0m     \u001b[39mreturn\u001b[39;00m fit_method(estimator, \u001b[39m*\u001b[39;49margs, \u001b[39m*\u001b[39;49m\u001b[39m*\u001b[39;49mkwargs)\n",
      "File \u001b[0;32m/work/scratch/tyang/miniconda3/env/anomalib_env/lib/python3.10/site-packages/sklearn/cluster/_kmeans.py:1519\u001b[0m, in \u001b[0;36mKMeans.fit\u001b[0;34m(self, X, y, sample_weight)\u001b[0m\n\u001b[1;32m   1515\u001b[0m best_inertia, best_labels \u001b[39m=\u001b[39m \u001b[39mNone\u001b[39;00m, \u001b[39mNone\u001b[39;00m\n\u001b[1;32m   1517\u001b[0m \u001b[39mfor\u001b[39;00m i \u001b[39min\u001b[39;00m \u001b[39mrange\u001b[39m(\u001b[39mself\u001b[39m\u001b[39m.\u001b[39m_n_init):\n\u001b[1;32m   1518\u001b[0m     \u001b[39m# Initialize centers\u001b[39;00m\n\u001b[0;32m-> 1519\u001b[0m     centers_init \u001b[39m=\u001b[39m \u001b[39mself\u001b[39;49m\u001b[39m.\u001b[39;49m_init_centroids(\n\u001b[1;32m   1520\u001b[0m         X,\n\u001b[1;32m   1521\u001b[0m         x_squared_norms\u001b[39m=\u001b[39;49mx_squared_norms,\n\u001b[1;32m   1522\u001b[0m         init\u001b[39m=\u001b[39;49minit,\n\u001b[1;32m   1523\u001b[0m         random_state\u001b[39m=\u001b[39;49mrandom_state,\n\u001b[1;32m   1524\u001b[0m         sample_weight\u001b[39m=\u001b[39;49msample_weight,\n\u001b[1;32m   1525\u001b[0m     )\n\u001b[1;32m   1526\u001b[0m     \u001b[39mif\u001b[39;00m \u001b[39mself\u001b[39m\u001b[39m.\u001b[39mverbose:\n\u001b[1;32m   1527\u001b[0m         \u001b[39mprint\u001b[39m(\u001b[39m\"\u001b[39m\u001b[39mInitialization complete\u001b[39m\u001b[39m\"\u001b[39m)\n",
      "File \u001b[0;32m/work/scratch/tyang/miniconda3/env/anomalib_env/lib/python3.10/site-packages/sklearn/cluster/_kmeans.py:1019\u001b[0m, in \u001b[0;36m_BaseKMeans._init_centroids\u001b[0;34m(self, X, x_squared_norms, init, random_state, sample_weight, init_size, n_centroids)\u001b[0m\n\u001b[1;32m   1016\u001b[0m     sample_weight \u001b[39m=\u001b[39m sample_weight[init_indices]\n\u001b[1;32m   1018\u001b[0m \u001b[39mif\u001b[39;00m \u001b[39misinstance\u001b[39m(init, \u001b[39mstr\u001b[39m) \u001b[39mand\u001b[39;00m init \u001b[39m==\u001b[39m \u001b[39m\"\u001b[39m\u001b[39mk-means++\u001b[39m\u001b[39m\"\u001b[39m:\n\u001b[0;32m-> 1019\u001b[0m     centers, _ \u001b[39m=\u001b[39m _kmeans_plusplus(\n\u001b[1;32m   1020\u001b[0m         X,\n\u001b[1;32m   1021\u001b[0m         n_clusters,\n\u001b[1;32m   1022\u001b[0m         random_state\u001b[39m=\u001b[39;49mrandom_state,\n\u001b[1;32m   1023\u001b[0m         x_squared_norms\u001b[39m=\u001b[39;49mx_squared_norms,\n\u001b[1;32m   1024\u001b[0m         sample_weight\u001b[39m=\u001b[39;49msample_weight,\n\u001b[1;32m   1025\u001b[0m     )\n\u001b[1;32m   1026\u001b[0m \u001b[39melif\u001b[39;00m \u001b[39misinstance\u001b[39m(init, \u001b[39mstr\u001b[39m) \u001b[39mand\u001b[39;00m init \u001b[39m==\u001b[39m \u001b[39m\"\u001b[39m\u001b[39mrandom\u001b[39m\u001b[39m\"\u001b[39m:\n\u001b[1;32m   1027\u001b[0m     seeds \u001b[39m=\u001b[39m random_state\u001b[39m.\u001b[39mchoice(\n\u001b[1;32m   1028\u001b[0m         n_samples,\n\u001b[1;32m   1029\u001b[0m         size\u001b[39m=\u001b[39mn_clusters,\n\u001b[1;32m   1030\u001b[0m         replace\u001b[39m=\u001b[39m\u001b[39mFalse\u001b[39;00m,\n\u001b[1;32m   1031\u001b[0m         p\u001b[39m=\u001b[39msample_weight \u001b[39m/\u001b[39m sample_weight\u001b[39m.\u001b[39msum(),\n\u001b[1;32m   1032\u001b[0m     )\n",
      "File \u001b[0;32m/work/scratch/tyang/miniconda3/env/anomalib_env/lib/python3.10/site-packages/sklearn/cluster/_kmeans.py:255\u001b[0m, in \u001b[0;36m_kmeans_plusplus\u001b[0;34m(X, n_clusters, x_squared_norms, sample_weight, random_state, n_local_trials)\u001b[0m\n\u001b[1;32m    252\u001b[0m np\u001b[39m.\u001b[39mclip(candidate_ids, \u001b[39mNone\u001b[39;00m, closest_dist_sq\u001b[39m.\u001b[39msize \u001b[39m-\u001b[39m \u001b[39m1\u001b[39m, out\u001b[39m=\u001b[39mcandidate_ids)\n\u001b[1;32m    254\u001b[0m \u001b[39m# Compute distances to center candidates\u001b[39;00m\n\u001b[0;32m--> 255\u001b[0m distance_to_candidates \u001b[39m=\u001b[39m _euclidean_distances(\n\u001b[1;32m    256\u001b[0m     X[candidate_ids], X, Y_norm_squared\u001b[39m=\u001b[39;49mx_squared_norms, squared\u001b[39m=\u001b[39;49m\u001b[39mTrue\u001b[39;49;00m\n\u001b[1;32m    257\u001b[0m )\n\u001b[1;32m    259\u001b[0m \u001b[39m# update closest distances squared and potential for each candidate\u001b[39;00m\n\u001b[1;32m    260\u001b[0m np\u001b[39m.\u001b[39mminimum(closest_dist_sq, distance_to_candidates, out\u001b[39m=\u001b[39mdistance_to_candidates)\n",
      "File \u001b[0;32m/work/scratch/tyang/miniconda3/env/anomalib_env/lib/python3.10/site-packages/sklearn/metrics/pairwise.py:379\u001b[0m, in \u001b[0;36m_euclidean_distances\u001b[0;34m(X, Y, X_norm_squared, Y_norm_squared, squared)\u001b[0m\n\u001b[1;32m    376\u001b[0m     distances \u001b[39m=\u001b[39m _euclidean_distances_upcast(X, XX, Y, YY)\n\u001b[1;32m    377\u001b[0m \u001b[39melse\u001b[39;00m:\n\u001b[1;32m    378\u001b[0m     \u001b[39m# if dtype is already float64, no need to chunk and upcast\u001b[39;00m\n\u001b[0;32m--> 379\u001b[0m     distances \u001b[39m=\u001b[39m \u001b[39m-\u001b[39m\u001b[39m2\u001b[39m \u001b[39m*\u001b[39m safe_sparse_dot(X, Y\u001b[39m.\u001b[39;49mT, dense_output\u001b[39m=\u001b[39;49m\u001b[39mTrue\u001b[39;49;00m)\n\u001b[1;32m    380\u001b[0m     distances \u001b[39m+\u001b[39m\u001b[39m=\u001b[39m XX\n\u001b[1;32m    381\u001b[0m     distances \u001b[39m+\u001b[39m\u001b[39m=\u001b[39m YY\n",
      "File \u001b[0;32m/work/scratch/tyang/miniconda3/env/anomalib_env/lib/python3.10/site-packages/sklearn/utils/extmath.py:195\u001b[0m, in \u001b[0;36msafe_sparse_dot\u001b[0;34m(a, b, dense_output)\u001b[0m\n\u001b[1;32m    191\u001b[0m \u001b[39melse\u001b[39;00m:\n\u001b[1;32m    192\u001b[0m     ret \u001b[39m=\u001b[39m a \u001b[39m@\u001b[39m b\n\u001b[1;32m    194\u001b[0m \u001b[39mif\u001b[39;00m (\n\u001b[0;32m--> 195\u001b[0m     sparse\u001b[39m.\u001b[39;49missparse(a)\n\u001b[1;32m    196\u001b[0m     \u001b[39mand\u001b[39;00m sparse\u001b[39m.\u001b[39missparse(b)\n\u001b[1;32m    197\u001b[0m     \u001b[39mand\u001b[39;00m dense_output\n\u001b[1;32m    198\u001b[0m     \u001b[39mand\u001b[39;00m \u001b[39mhasattr\u001b[39m(ret, \u001b[39m\"\u001b[39m\u001b[39mtoarray\u001b[39m\u001b[39m\"\u001b[39m)\n\u001b[1;32m    199\u001b[0m ):\n\u001b[1;32m    200\u001b[0m     \u001b[39mreturn\u001b[39;00m ret\u001b[39m.\u001b[39mtoarray()\n\u001b[1;32m    201\u001b[0m \u001b[39mreturn\u001b[39;00m ret\n",
      "File \u001b[0;32m/work/scratch/tyang/miniconda3/env/anomalib_env/lib/python3.10/site-packages/scipy/sparse/_base.py:1461\u001b[0m, in \u001b[0;36missparse\u001b[0;34m(x)\u001b[0m\n\u001b[1;32m   1456\u001b[0m     \u001b[39mpass\u001b[39;00m\n\u001b[1;32m   1458\u001b[0m sparray\u001b[39m.\u001b[39m\u001b[39m__doc__\u001b[39m \u001b[39m=\u001b[39m _spbase\u001b[39m.\u001b[39m\u001b[39m__doc__\u001b[39m\n\u001b[0;32m-> 1461\u001b[0m \u001b[39mdef\u001b[39;00m \u001b[39missparse\u001b[39m(x):\n\u001b[1;32m   1462\u001b[0m \u001b[39m    \u001b[39m\u001b[39m\"\"\"Is `x` of a sparse array type?\u001b[39;00m\n\u001b[1;32m   1463\u001b[0m \n\u001b[1;32m   1464\u001b[0m \u001b[39m    Parameters\u001b[39;00m\n\u001b[0;32m   (...)\u001b[0m\n\u001b[1;32m   1485\u001b[0m \u001b[39m    False\u001b[39;00m\n\u001b[1;32m   1486\u001b[0m \u001b[39m    \"\"\"\u001b[39;00m\n\u001b[1;32m   1487\u001b[0m     \u001b[39mreturn\u001b[39;00m \u001b[39misinstance\u001b[39m(x, _spbase)\n",
      "\u001b[0;31mKeyboardInterrupt\u001b[0m: "
     ]
    }
   ],
   "source": [
    "\n",
    "from sklearn.cluster import KMeans\n",
    "from sklearn.metrics import silhouette_score\n",
    "\n",
    "import matplotlib.pyplot as plt\n",
    "import numpy as np\n",
    "\n",
    "feature_t = global_feature_tensor.permute(1,0,2,3)\n",
    "feature_t = feature_t.flatten(start_dim=1)\n",
    "feature_t= feature_t.permute(1,0)\n",
    "\n",
    "silhouette_avg = []\n",
    "for i in range(10,20):\n",
    "    kmeans_fit = KMeans(n_clusters = i).fit(feature_t)\n",
    "    silhouette_avg.append(silhouette_score(feature_t, kmeans_fit.labels_))\n",
    "\n",
    "\n",
    "x_ticks = np.linspace(10,20,11)\n",
    "plt.xticks(x_ticks)\n",
    "plt.plot(range(10,20), silhouette_avg)"
   ]
  },
  {
   "cell_type": "code",
   "execution_count": 10,
   "metadata": {},
   "outputs": [],
   "source": [
    "from anomalib.models.components.cluster.kmeans import KMeans\n",
    "\n",
    "def get_kmeans_centers(feature_tensor, n_clusters):\n",
    "    \"\"\"\n",
    "    Args:\n",
    "        feature_t: feature tensor, shape is (batch_size, channel, height, width)\n",
    "        n_clusters: number of clusters\n",
    "        \n",
    "    Returns:\n",
    "        cluster_center: shape is (n_clusters, channel)\n",
    "        kmeans: kmeans model   \"\"\"\n",
    "    \n",
    "    feature_t = feature_tensor.permute(1,0,2,3)\n",
    "    feature_t = feature_t.flatten(start_dim=1)\n",
    "    feature_t= feature_t.permute(1,0)\n",
    "\n",
    "\n",
    "    kmeans = KMeans(n_clusters=n_clusters)\n",
    "    kmeans.fit(feature_t)\n",
    "    cluster_center = kmeans.cluster_centers_\n",
    "   \n",
    "    return cluster_center, kmeans\n",
    "\n"
   ]
  },
  {
   "cell_type": "code",
   "execution_count": 38,
   "metadata": {},
   "outputs": [
    {
     "name": "stdout",
     "output_type": "stream",
     "text": [
      "torch.Size([10, 32])\n",
      "10\n"
     ]
    }
   ],
   "source": [
    "clusters_centers,kmeans = get_kmeans_centers(global_feature_tensor, n_clusters=12)\n",
    "\n",
    "print(clusters_centers.shape)\n",
    "print(len(clusters_centers))"
   ]
  },
  {
   "cell_type": "code",
   "execution_count": 40,
   "metadata": {},
   "outputs": [],
   "source": [
    "def bag_of_words_statistics(Ptst, Cref, S):\n",
    "    \"\"\"\n",
    "    Params:\n",
    "    Ptst: Feature tensor of a set of images, tensor of shape (N, C, H, W)\n",
    "    Cref: reference Cluster centers, tensor of shape (K, C)\n",
    "    S: number of subregions per image dimension, integer\n",
    "\n",
    "    Returns:\n",
    "    bow_stats: list of normalized Bag-of-words statistics, possibility-like , length N, each element is a tensor of shape (S * S, K)\n",
    "    \"\"\"\n",
    "    Ptst = torch.vsplit(Ptst, Ptst.shape[0])\n",
    "    bow_stats = []\n",
    "    for Itst in Ptst:\n",
    "        Itst = Itst.squeeze(0)\n",
    "        #print(Itst.shape)\n",
    "        subtensors = torch.chunk(Itst, S, dim=1)\n",
    "        subtensor = [torch.chunk(st, S, dim=2) for st in subtensors]\n",
    "        \n",
    "        \n",
    "        image_bow_stats = torch.zeros(S * S, len(Cref), dtype=torch.float32)\n",
    "        for i in range(S):\n",
    "            for j in range(S):\n",
    "                st_value = subtensor[i][j]\n",
    "                st_value = st_value.flatten(start_dim=1)\n",
    "                st_value = st_value.permute(1,0)\n",
    "               # print(st_value.shape)\n",
    "                \n",
    "                cluster_idx = kmeans.predict(st_value)\n",
    "                #print(cluster_idx.shape)\n",
    "                cluster_idx = cluster_idx.float()\n",
    "\n",
    "                hist = torch.histc(cluster_idx, bins = len(Cref), min = torch.min(cluster_idx), max = torch.max(cluster_idx))\n",
    "                normalized_hist = hist / torch.sum(hist)\n",
    "                image_bow_stats[i * S + j] = normalized_hist\n",
    "        \n",
    "        bow_stats.append(image_bow_stats)\n",
    "            \n",
    "        \n",
    "    return bow_stats\n"
   ]
  },
  {
   "cell_type": "code",
   "execution_count": 41,
   "metadata": {},
   "outputs": [],
   "source": [
    "global_bow_stats = bag_of_words_statistics(global_feature_tensor, clusters_centers, S=4)"
   ]
  },
  {
   "cell_type": "code",
   "execution_count": 42,
   "metadata": {},
   "outputs": [
    {
     "name": "stdout",
     "output_type": "stream",
     "text": [
      "15658\n",
      "torch.Size([16, 10])\n"
     ]
    }
   ],
   "source": [
    "print(len(global_bow_stats))\n",
    "print(global_bow_stats[0].shape)"
   ]
  },
  {
   "cell_type": "code",
   "execution_count": 14,
   "metadata": {},
   "outputs": [],
   "source": [
    "import torch.nn.functional as F\n",
    "\n",
    "def kl_distance(i_hist, j_hist):\n",
    "    \"\"\"Params:\n",
    "    i_hist: bow histogram of image i, tensor of shape (1, s * s, K )\n",
    "    j_hist: bow histogram of image j, tensor of shape (1, s * s, K )\n",
    "\n",
    "    Returns:\n",
    "    kl_dist: kl distance between image i and image j, tensor of shape (1)\n",
    "    \"\"\"\n",
    "    i_hist[i_hist == 0] = 1e-10\n",
    "    j_hist[j_hist == 0] = 1e-10\n",
    "    kl_divegence = F.kl_div(j_hist.log(), i_hist,reduction=\"none\")\n",
    "    \n",
    "    sum = torch.sum(kl_divegence,dim=-1)\n",
    "    topk,ids = torch.topk(sum, k=11, dim=0, largest=False, sorted=True)\n",
    "   \n",
    "    dist = torch.mean(topk)\n",
    "  \n",
    "    return dist\n",
    "    "
   ]
  },
  {
   "cell_type": "code",
   "execution_count": 43,
   "metadata": {},
   "outputs": [],
   "source": [
    "def kl_select(bow_stats, select_ratio, step_size):\n",
    "    \"\"\"\n",
    "    Params:\n",
    "    bow_stats: list of normalized Bag-of-words statistics, possibility-like , length N, each element is a tensor of shape (S * S, K)\n",
    "    select_ratio: ratio of selected images compare to all images, float\n",
    "    step_size: batch size, used for big taining dataset, integer\n",
    "\n",
    "    Returns:\n",
    "    selected_idx: list of selected image indices with highest kl-divergence in each batch, length number of batches, each element has the size of batch_size * select_ratio\n",
    "    \"\"\"\n",
    "    \n",
    "    stacked_bow_stats = torch.vstack(bow_stats)\n",
    "    stacked_bow_stats_reshaped = stacked_bow_stats.view(len(bow_stats),1,bow_stats[0].shape[0],bow_stats[0].shape[1])\n",
    "    stacked_bow_stats_transposed = stacked_bow_stats_reshaped.permute(1,0,2,3)\n",
    "\n",
    "    stacked_bow_stats_reshaped[stacked_bow_stats_reshaped == 0 ] = 1e-10\n",
    "    stacked_bow_stats_transposed[stacked_bow_stats_transposed == 0 ] = 1e-10\n",
    "\n",
    "    selected_idxs =[]\n",
    "    selected_distances = []\n",
    "    for i in range(0, stacked_bow_stats_reshaped.shape[0], step_size):\n",
    "        current_bow = stacked_bow_stats_reshaped[i:i+step_size if i+step_size < stacked_bow_stats_reshaped.shape[0] else stacked_bow_stats_reshaped.shape[0], :, :, :]\n",
    "        kl_divegence = F.kl_div(current_bow.log(), stacked_bow_stats_transposed,reduction=\"none\")\n",
    "       # print(kl_divegence.shape)\n",
    "\n",
    "        sum = torch.sum(kl_divegence,dim=3)\n",
    "        #print(sum.shape)\n",
    "        #topk,ids = torch.topk(sum, k=11, dim=2, largest=False, sorted=True)\n",
    "        dist_matrix = torch.mean(sum,dim=2)\n",
    "        #print(dist_matrix.shape)\n",
    "  \n",
    "        dist_l = torch.sum(dist_matrix,dim=1)\n",
    "        topk_far_distances,f_idx = torch.topk(dist_l, k=int(len(dist_l) * select_ratio), dim=0, largest=True, sorted=True)\n",
    "        #topk_near_distances,n_idx = torch.topk(dist_l, k=int(len(dist_l) * select_ratio ), dim=0, largest=False, sorted=True)\n",
    "        #selected_idx = torch.cat((f_idx,n_idx),dim=0)\n",
    "        selected_idxs.append(f_idx)\n",
    "        #selected_distance = torch.cat((topk_far_distances,topk_near_distances),dim=0)\n",
    "        selected_distances.append(topk_far_distances)\n",
    "\n",
    "    \n",
    "    return selected_idxs, selected_distances"
   ]
  },
  {
   "cell_type": "code",
   "execution_count": null,
   "metadata": {},
   "outputs": [],
   "source": [
    " \n"
   ]
  },
  {
   "cell_type": "code",
   "execution_count": 15,
   "metadata": {},
   "outputs": [],
   "source": [
    "def kl_select(bow_stats, select_ratio, step_size):\n",
    "    \"\"\"\n",
    "    Params:\n",
    "    bow_stats: list of normalized Bag-of-words statistics, possibility-like , length N, each element is a tensor of shape (S * S, K)\n",
    "    select_ratio: ratio of selected images compare to all images, float\n",
    "    step_size: batch size, used for big taining dataset, integer\n",
    "\n",
    "    Returns:\n",
    "    selected_idx: list of selected image indices with highest kl-divergence in each batch, length number of batches, each element has the size of batch_size * select_ratio\n",
    "    \"\"\"\n",
    "    \n",
    "    stacked_bow_stats = torch.vstack(bow_stats)\n",
    "    stacked_bow_stats_reshaped = stacked_bow_stats.view(len(bow_stats),1,bow_stats[0].shape[0],bow_stats[0].shape[1])\n",
    "    stacked_bow_stats_transposed = stacked_bow_stats_reshaped.permute(1,0,2,3)\n",
    "\n",
    "    stacked_bow_stats_reshaped[stacked_bow_stats_reshaped == 0 ] = 1e-10\n",
    "    stacked_bow_stats_transposed[stacked_bow_stats_transposed == 0 ] = 1e-10\n",
    "\n",
    "    selected_idxs =[]\n",
    "    selected_distances = []\n",
    "    for i in range(0, stacked_bow_stats_reshaped.shape[0], step_size):\n",
    "        current_bow = stacked_bow_stats_reshaped[i:i+step_size if i+step_size < stacked_bow_stats_reshaped.shape[0] else stacked_bow_stats_reshaped.shape[0], :, :, :]\n",
    "        kl_divegence = F.kl_div(current_bow.log(), stacked_bow_stats_transposed,reduction=\"none\")\n",
    "\n",
    "        sum = torch.sum(kl_divegence,dim=3)\n",
    "        dist_matrix = torch.mean(topk,dim=2)\n",
    "  \n",
    "        dist_l = torch.sum(dist_matrix,dim=1)\n",
    "        topk_far_distances,f_idx = torch.topk(dist_l, k=int(len(dist_l) * select_ratio), dim=0, largest=True, sorted=True)\n",
    "        selected_idxs.append(f_idx)\n",
    "        selected_distances.append(topk_far_distances)\n",
    "\n",
    "    \n",
    "    return selected_idxs, selected_distances"
   ]
  },
  {
   "cell_type": "code",
   "execution_count": 50,
   "metadata": {},
   "outputs": [],
   "source": [
    "idxs,distances = kl_select(global_bow_stats, select_ratio=0.4, step_size=1000)"
   ]
  },
  {
   "cell_type": "code",
   "execution_count": 51,
   "metadata": {},
   "outputs": [
    {
     "name": "stdout",
     "output_type": "stream",
     "text": [
      "16\n",
      "torch.Size([400])\n",
      "400\n",
      "torch.Size([400])\n",
      "torch.Size([6263])\n"
     ]
    }
   ],
   "source": [
    "print(len(idxs))\n",
    "print(idxs[0].shape)\n",
    "print(idxs[0].shape[0])\n",
    "print(idxs[1].shape)\n",
    "stack_distances = torch.cat(distances)\n",
    "print(stack_distances.shape)"
   ]
  },
  {
   "cell_type": "code",
   "execution_count": 52,
   "metadata": {},
   "outputs": [],
   "source": [
    "def second_selection(index, distance, select_ratio):\n",
    "    \"\"\"\n",
    "    Params:\n",
    "    idxs: list of selected image indices in each batch , length number of batches\n",
    "    distances: list of selected image distances, length number of batches\n",
    "    select_ratio: ratio of selected images compare to all images, float\n",
    "\n",
    "    Returns:\n",
    "    selected_idx: list of selected image indices with biggest distances over all in each batches, length number of batches\n",
    "    \"\"\"\n",
    "    selected_distances = [[] for _ in range(len(distance))]\n",
    "    distance_t = torch.cat(distance)\n",
    "    topk, global_ids = torch.topk(distance_t, k=int(len(distance_t) * select_ratio ), dim=0, largest=True, sorted=True)\n",
    "    selected_idxs = [[] for _ in range(len(index))]\n",
    "    \n",
    "    for global_id in global_ids:\n",
    "        batch_id = global_id // index[0].shape[0]\n",
    "        local_id = global_id % index[0].shape[0]\n",
    "        selected_idxs[batch_id].append(index[batch_id][local_id])\n",
    "        selected_distances[batch_id].append(distance_t[global_id])\n",
    "        \n",
    "  \n",
    "    \n",
    "    return selected_idxs, selected_distances"
   ]
  },
  {
   "cell_type": "code",
   "execution_count": 53,
   "metadata": {},
   "outputs": [],
   "source": [
    "second_indices,second_dists = second_selection(idxs, distances, select_ratio=0.2)"
   ]
  },
  {
   "cell_type": "code",
   "execution_count": 54,
   "metadata": {},
   "outputs": [
    {
     "name": "stdout",
     "output_type": "stream",
     "text": [
      "16\n",
      "16\n",
      "[tensor(505), tensor(936), tensor(819), tensor(715), tensor(839), tensor(712), tensor(733), tensor(986), tensor(136), tensor(624), tensor(878), tensor(80), tensor(487), tensor(291), tensor(846), tensor(272), tensor(309), tensor(12), tensor(176), tensor(756), tensor(124), tensor(729), tensor(941), tensor(193), tensor(304), tensor(778), tensor(40), tensor(874), tensor(370), tensor(158), tensor(510), tensor(897), tensor(8), tensor(716), tensor(608), tensor(896), tensor(442), tensor(613), tensor(353), tensor(630), tensor(875), tensor(786), tensor(713), tensor(820), tensor(680), tensor(28), tensor(20), tensor(314), tensor(384), tensor(726), tensor(59), tensor(35), tensor(720), tensor(542), tensor(905), tensor(787), tensor(949), tensor(827), tensor(421), tensor(371), tensor(580), tensor(70), tensor(760), tensor(646), tensor(261), tensor(336)]\n",
      "66\n",
      "79\n"
     ]
    }
   ],
   "source": [
    "print(len(second_indices))\n",
    "print(len(second_dists))\n",
    "print(second_indices[0])\n",
    "print(len(second_indices[0]))\n",
    "print(len(second_indices[1]))"
   ]
  },
  {
   "cell_type": "code",
   "execution_count": 55,
   "metadata": {},
   "outputs": [
    {
     "name": "stdout",
     "output_type": "stream",
     "text": [
      "['/home/students/tyang/airogs/0/TRAIN000580.jpg', '/home/students/tyang/airogs/0/TRAIN001072.jpg', '/home/students/tyang/airogs/0/TRAIN000946.jpg', '/home/students/tyang/airogs/0/TRAIN000822.jpg', '/home/students/tyang/airogs/0/TRAIN000967.jpg', '/home/students/tyang/airogs/0/TRAIN000819.jpg', '/home/students/tyang/airogs/0/TRAIN000845.jpg', '/home/students/tyang/airogs/0/TRAIN001135.jpg', '/home/students/tyang/airogs/0/TRAIN000158.jpg', '/home/students/tyang/airogs/0/TRAIN000718.jpg', '/home/students/tyang/airogs/0/TRAIN001011.jpg', '/home/students/tyang/airogs/0/TRAIN000093.jpg', '/home/students/tyang/airogs/0/TRAIN000562.jpg', '/home/students/tyang/airogs/0/TRAIN000335.jpg', '/home/students/tyang/airogs/0/TRAIN000975.jpg', '/home/students/tyang/airogs/0/TRAIN000313.jpg', '/home/students/tyang/airogs/0/TRAIN000356.jpg', '/home/students/tyang/airogs/0/TRAIN000015.jpg', '/home/students/tyang/airogs/0/TRAIN000202.jpg', '/home/students/tyang/airogs/0/TRAIN000870.jpg', '/home/students/tyang/airogs/0/TRAIN000145.jpg', '/home/students/tyang/airogs/0/TRAIN000841.jpg', '/home/students/tyang/airogs/0/TRAIN001078.jpg', '/home/students/tyang/airogs/0/TRAIN000220.jpg', '/home/students/tyang/airogs/0/TRAIN000351.jpg', '/home/students/tyang/airogs/0/TRAIN000893.jpg', '/home/students/tyang/airogs/0/TRAIN000046.jpg', '/home/students/tyang/airogs/0/TRAIN001006.jpg', '/home/students/tyang/airogs/0/TRAIN000427.jpg', '/home/students/tyang/airogs/0/TRAIN000182.jpg', '/home/students/tyang/airogs/0/TRAIN000585.jpg', '/home/students/tyang/airogs/0/TRAIN001031.jpg', '/home/students/tyang/airogs/0/TRAIN000011.jpg', '/home/students/tyang/airogs/0/TRAIN000825.jpg', '/home/students/tyang/airogs/0/TRAIN000699.jpg', '/home/students/tyang/airogs/0/TRAIN001030.jpg', '/home/students/tyang/airogs/0/TRAIN000506.jpg', '/home/students/tyang/airogs/0/TRAIN000705.jpg', '/home/students/tyang/airogs/0/TRAIN000406.jpg', '/home/students/tyang/airogs/0/TRAIN000724.jpg', '/home/students/tyang/airogs/0/TRAIN001008.jpg', '/home/students/tyang/airogs/0/TRAIN000902.jpg', '/home/students/tyang/airogs/0/TRAIN000820.jpg', '/home/students/tyang/airogs/0/TRAIN000947.jpg', '/home/students/tyang/airogs/0/TRAIN000782.jpg', '/home/students/tyang/airogs/0/TRAIN000033.jpg', '/home/students/tyang/airogs/0/TRAIN000023.jpg', '/home/students/tyang/airogs/0/TRAIN000361.jpg', '/home/students/tyang/airogs/0/TRAIN000444.jpg', '/home/students/tyang/airogs/0/TRAIN000838.jpg', '/home/students/tyang/airogs/0/TRAIN000069.jpg', '/home/students/tyang/airogs/0/TRAIN000041.jpg', '/home/students/tyang/airogs/0/TRAIN000829.jpg', '/home/students/tyang/airogs/0/TRAIN000624.jpg', '/home/students/tyang/airogs/0/TRAIN001040.jpg', '/home/students/tyang/airogs/0/TRAIN000903.jpg', '/home/students/tyang/airogs/0/TRAIN001088.jpg', '/home/students/tyang/airogs/0/TRAIN000954.jpg', '/home/students/tyang/airogs/0/TRAIN000482.jpg', '/home/students/tyang/airogs/0/TRAIN000428.jpg', '/home/students/tyang/airogs/0/TRAIN000669.jpg', '/home/students/tyang/airogs/0/TRAIN000082.jpg', '/home/students/tyang/airogs/0/TRAIN000874.jpg', '/home/students/tyang/airogs/0/TRAIN000742.jpg', '/home/students/tyang/airogs/0/TRAIN000300.jpg', '/home/students/tyang/airogs/0/TRAIN000388.jpg', '/home/students/tyang/airogs/0/TRAIN001499.jpg', '/home/students/tyang/airogs/0/TRAIN001861.jpg', '/home/students/tyang/airogs/0/TRAIN001168.jpg', '/home/students/tyang/airogs/0/TRAIN001163.jpg', '/home/students/tyang/airogs/0/TRAIN002248.jpg', '/home/students/tyang/airogs/0/TRAIN001177.jpg', '/home/students/tyang/airogs/0/TRAIN001442.jpg', '/home/students/tyang/airogs/0/TRAIN001532.jpg', '/home/students/tyang/airogs/0/TRAIN002240.jpg', '/home/students/tyang/airogs/0/TRAIN001220.jpg', '/home/students/tyang/airogs/0/TRAIN001628.jpg', '/home/students/tyang/airogs/0/TRAIN001565.jpg', '/home/students/tyang/airogs/0/TRAIN001582.jpg', '/home/students/tyang/airogs/0/TRAIN001347.jpg', '/home/students/tyang/airogs/0/TRAIN001769.jpg', '/home/students/tyang/airogs/0/TRAIN001564.jpg', '/home/students/tyang/airogs/0/TRAIN002010.jpg', '/home/students/tyang/airogs/0/TRAIN001402.jpg', '/home/students/tyang/airogs/0/TRAIN002251.jpg', '/home/students/tyang/airogs/0/TRAIN001343.jpg', '/home/students/tyang/airogs/0/TRAIN001578.jpg', '/home/students/tyang/airogs/0/TRAIN001334.jpg', '/home/students/tyang/airogs/0/TRAIN001326.jpg', '/home/students/tyang/airogs/0/TRAIN001600.jpg', '/home/students/tyang/airogs/0/TRAIN001624.jpg', '/home/students/tyang/airogs/0/TRAIN001435.jpg', '/home/students/tyang/airogs/0/TRAIN001386.jpg', '/home/students/tyang/airogs/0/TRAIN001574.jpg', '/home/students/tyang/airogs/0/TRAIN002004.jpg', '/home/students/tyang/airogs/0/TRAIN001856.jpg', '/home/students/tyang/airogs/0/TRAIN002302.jpg', '/home/students/tyang/airogs/0/TRAIN002257.jpg', '/home/students/tyang/airogs/0/TRAIN002249.jpg', '/home/students/tyang/airogs/0/TRAIN002277.jpg', '/home/students/tyang/airogs/0/TRAIN001560.jpg', '/home/students/tyang/airogs/0/TRAIN001689.jpg', '/home/students/tyang/airogs/0/TRAIN001961.jpg', '/home/students/tyang/airogs/0/TRAIN001832.jpg', '/home/students/tyang/airogs/0/TRAIN001452.jpg', '/home/students/tyang/airogs/0/TRAIN001456.jpg', '/home/students/tyang/airogs/0/TRAIN001397.jpg', '/home/students/tyang/airogs/0/TRAIN001464.jpg', '/home/students/tyang/airogs/0/TRAIN001601.jpg', '/home/students/tyang/airogs/0/TRAIN001677.jpg', '/home/students/tyang/airogs/0/TRAIN001816.jpg', '/home/students/tyang/airogs/0/TRAIN001284.jpg', '/home/students/tyang/airogs/0/TRAIN001599.jpg', '/home/students/tyang/airogs/0/TRAIN002081.jpg', '/home/students/tyang/airogs/0/TRAIN001765.jpg', '/home/students/tyang/airogs/0/TRAIN001193.jpg', '/home/students/tyang/airogs/0/TRAIN001958.jpg', '/home/students/tyang/airogs/0/TRAIN001827.jpg', '/home/students/tyang/airogs/0/TRAIN001581.jpg', '/home/students/tyang/airogs/0/TRAIN002103.jpg', '/home/students/tyang/airogs/0/TRAIN001550.jpg', '/home/students/tyang/airogs/0/TRAIN001936.jpg', '/home/students/tyang/airogs/0/TRAIN002224.jpg', '/home/students/tyang/airogs/0/TRAIN001450.jpg', '/home/students/tyang/airogs/0/TRAIN001963.jpg', '/home/students/tyang/airogs/0/TRAIN001760.jpg', '/home/students/tyang/airogs/0/TRAIN002187.jpg', '/home/students/tyang/airogs/0/TRAIN002058.jpg', '/home/students/tyang/airogs/0/TRAIN002135.jpg', '/home/students/tyang/airogs/0/TRAIN001228.jpg', '/home/students/tyang/airogs/0/TRAIN001588.jpg', '/home/students/tyang/airogs/0/TRAIN001727.jpg', '/home/students/tyang/airogs/0/TRAIN002011.jpg', '/home/students/tyang/airogs/0/TRAIN001206.jpg', '/home/students/tyang/airogs/0/TRAIN002054.jpg', '/home/students/tyang/airogs/0/TRAIN001686.jpg', '/home/students/tyang/airogs/0/TRAIN001447.jpg', '/home/students/tyang/airogs/0/TRAIN001459.jpg', '/home/students/tyang/airogs/0/TRAIN002014.jpg', '/home/students/tyang/airogs/0/TRAIN002283.jpg', '/home/students/tyang/airogs/0/TRAIN001607.jpg', '/home/students/tyang/airogs/0/TRAIN001371.jpg', '/home/students/tyang/airogs/0/TRAIN002019.jpg', '/home/students/tyang/airogs/0/TRAIN001468.jpg', '/home/students/tyang/airogs/0/TRAIN001184.jpg', '/home/students/tyang/airogs/0/TRAIN003254.jpg', '/home/students/tyang/airogs/0/TRAIN003446.jpg', '/home/students/tyang/airogs/0/TRAIN002600.jpg', '/home/students/tyang/airogs/0/TRAIN003328.jpg', '/home/students/tyang/airogs/0/TRAIN002989.jpg', '/home/students/tyang/airogs/0/TRAIN002705.jpg', '/home/students/tyang/airogs/0/TRAIN003183.jpg', '/home/students/tyang/airogs/0/TRAIN002837.jpg', '/home/students/tyang/airogs/0/TRAIN002805.jpg', '/home/students/tyang/airogs/0/TRAIN003053.jpg', '/home/students/tyang/airogs/0/TRAIN003051.jpg', '/home/students/tyang/airogs/0/TRAIN003270.jpg', '/home/students/tyang/airogs/0/TRAIN002938.jpg', '/home/students/tyang/airogs/0/TRAIN002320.jpg', '/home/students/tyang/airogs/0/TRAIN002497.jpg', '/home/students/tyang/airogs/0/TRAIN003150.jpg', '/home/students/tyang/airogs/0/TRAIN002750.jpg', '/home/students/tyang/airogs/0/TRAIN003387.jpg', '/home/students/tyang/airogs/0/TRAIN002985.jpg', '/home/students/tyang/airogs/0/TRAIN003244.jpg', '/home/students/tyang/airogs/0/TRAIN002718.jpg', '/home/students/tyang/airogs/0/TRAIN002866.jpg', '/home/students/tyang/airogs/0/TRAIN002992.jpg', '/home/students/tyang/airogs/0/TRAIN003299.jpg', '/home/students/tyang/airogs/0/TRAIN002794.jpg', '/home/students/tyang/airogs/0/TRAIN003112.jpg', '/home/students/tyang/airogs/0/TRAIN002625.jpg', '/home/students/tyang/airogs/0/TRAIN002447.jpg', '/home/students/tyang/airogs/0/TRAIN002663.jpg', '/home/students/tyang/airogs/0/TRAIN003388.jpg', '/home/students/tyang/airogs/0/TRAIN002634.jpg', '/home/students/tyang/airogs/0/TRAIN002904.jpg', '/home/students/tyang/airogs/0/TRAIN003276.jpg', '/home/students/tyang/airogs/0/TRAIN002903.jpg', '/home/students/tyang/airogs/0/TRAIN003284.jpg', '/home/students/tyang/airogs/0/TRAIN002521.jpg', '/home/students/tyang/airogs/0/TRAIN003372.jpg', '/home/students/tyang/airogs/0/TRAIN002729.jpg', '/home/students/tyang/airogs/0/TRAIN003403.jpg', '/home/students/tyang/airogs/0/TRAIN002344.jpg', '/home/students/tyang/airogs/0/TRAIN002666.jpg', '/home/students/tyang/airogs/0/TRAIN003224.jpg', '/home/students/tyang/airogs/0/TRAIN003449.jpg', '/home/students/tyang/airogs/0/TRAIN002868.jpg', '/home/students/tyang/airogs/0/TRAIN003009.jpg', '/home/students/tyang/airogs/0/TRAIN002955.jpg', '/home/students/tyang/airogs/0/TRAIN002817.jpg', '/home/students/tyang/airogs/0/TRAIN003034.jpg', '/home/students/tyang/airogs/0/TRAIN002530.jpg', '/home/students/tyang/airogs/0/TRAIN002723.jpg', '/home/students/tyang/airogs/0/TRAIN003333.jpg', '/home/students/tyang/airogs/0/TRAIN003196.jpg', '/home/students/tyang/airogs/0/TRAIN002857.jpg', '/home/students/tyang/airogs/0/TRAIN002538.jpg', '/home/students/tyang/airogs/0/TRAIN002930.jpg', '/home/students/tyang/airogs/0/TRAIN002896.jpg', '/home/students/tyang/airogs/0/TRAIN003178.jpg', '/home/students/tyang/airogs/0/TRAIN002740.jpg', '/home/students/tyang/airogs/0/TRAIN003371.jpg', '/home/students/tyang/airogs/0/TRAIN002869.jpg', '/home/students/tyang/airogs/0/TRAIN003267.jpg', '/home/students/tyang/airogs/0/TRAIN003111.jpg', '/home/students/tyang/airogs/0/TRAIN003317.jpg', '/home/students/tyang/airogs/0/TRAIN002887.jpg', '/home/students/tyang/airogs/0/TRAIN003118.jpg', '/home/students/tyang/airogs/0/TRAIN003202.jpg', '/home/students/tyang/airogs/0/TRAIN003325.jpg', '/home/students/tyang/airogs/0/TRAIN002921.jpg', '/home/students/tyang/airogs/0/TRAIN002963.jpg', '/home/students/tyang/airogs/0/TRAIN002425.jpg', '/home/students/tyang/airogs/0/TRAIN003001.jpg', '/home/students/tyang/airogs/0/TRAIN002910.jpg', '/home/students/tyang/airogs/0/TRAIN002897.jpg', '/home/students/tyang/airogs/0/TRAIN002667.jpg', '/home/students/tyang/airogs/0/TRAIN002527.jpg', '/home/students/tyang/airogs/0/TRAIN003180.jpg', '/home/students/tyang/airogs/0/TRAIN002603.jpg', '/home/students/tyang/airogs/0/TRAIN002694.jpg', '/home/students/tyang/airogs/0/TRAIN002350.jpg', '/home/students/tyang/airogs/0/TRAIN002875.jpg', '/home/students/tyang/airogs/0/TRAIN002919.jpg', '/home/students/tyang/airogs/0/TRAIN002936.jpg', '/home/students/tyang/airogs/0/TRAIN004234.jpg', '/home/students/tyang/airogs/0/TRAIN004051.jpg', '/home/students/tyang/airogs/0/TRAIN003834.jpg', '/home/students/tyang/airogs/0/TRAIN003579.jpg', '/home/students/tyang/airogs/0/TRAIN003518.jpg', '/home/students/tyang/airogs/0/TRAIN003517.jpg', '/home/students/tyang/airogs/0/TRAIN004369.jpg', '/home/students/tyang/airogs/0/TRAIN003930.jpg', '/home/students/tyang/airogs/0/TRAIN003626.jpg', '/home/students/tyang/airogs/0/TRAIN004380.jpg', '/home/students/tyang/airogs/0/TRAIN003728.jpg', '/home/students/tyang/airogs/0/TRAIN004399.jpg', '/home/students/tyang/airogs/0/TRAIN003957.jpg', '/home/students/tyang/airogs/0/TRAIN004437.jpg', '/home/students/tyang/airogs/0/TRAIN004531.jpg', '/home/students/tyang/airogs/0/TRAIN003788.jpg', '/home/students/tyang/airogs/0/TRAIN004079.jpg', '/home/students/tyang/airogs/0/TRAIN004215.jpg', '/home/students/tyang/airogs/0/TRAIN004209.jpg', '/home/students/tyang/airogs/0/TRAIN004092.jpg', '/home/students/tyang/airogs/0/TRAIN004172.jpg', '/home/students/tyang/airogs/0/TRAIN004442.jpg', '/home/students/tyang/airogs/0/TRAIN004457.jpg', '/home/students/tyang/airogs/0/TRAIN004381.jpg', '/home/students/tyang/airogs/0/TRAIN003544.jpg', '/home/students/tyang/airogs/0/TRAIN004376.jpg', '/home/students/tyang/airogs/0/TRAIN003477.jpg', '/home/students/tyang/airogs/0/TRAIN004445.jpg', '/home/students/tyang/airogs/0/TRAIN004452.jpg', '/home/students/tyang/airogs/0/TRAIN004200.jpg', '/home/students/tyang/airogs/0/TRAIN003886.jpg', '/home/students/tyang/airogs/0/TRAIN003605.jpg', '/home/students/tyang/airogs/0/TRAIN004229.jpg', '/home/students/tyang/airogs/0/TRAIN003857.jpg', '/home/students/tyang/airogs/0/TRAIN004520.jpg', '/home/students/tyang/airogs/0/TRAIN004361.jpg', '/home/students/tyang/airogs/0/TRAIN003941.jpg', '/home/students/tyang/airogs/0/TRAIN003942.jpg', '/home/students/tyang/airogs/0/TRAIN003954.jpg', '/home/students/tyang/airogs/0/TRAIN003573.jpg', '/home/students/tyang/airogs/0/TRAIN003555.jpg', '/home/students/tyang/airogs/0/TRAIN003880.jpg', '/home/students/tyang/airogs/0/TRAIN003805.jpg', '/home/students/tyang/airogs/0/TRAIN003748.jpg', '/home/students/tyang/airogs/0/TRAIN004405.jpg', '/home/students/tyang/airogs/0/TRAIN004421.jpg', '/home/students/tyang/airogs/0/TRAIN004022.jpg', '/home/students/tyang/airogs/0/TRAIN004019.jpg', '/home/students/tyang/airogs/0/TRAIN003659.jpg', '/home/students/tyang/airogs/0/TRAIN003511.jpg', '/home/students/tyang/airogs/0/TRAIN003672.jpg', '/home/students/tyang/airogs/0/TRAIN003611.jpg', '/home/students/tyang/airogs/0/TRAIN003839.jpg', '/home/students/tyang/airogs/0/TRAIN004084.jpg', '/home/students/tyang/airogs/0/TRAIN004114.jpg', '/home/students/tyang/airogs/0/TRAIN004011.jpg', '/home/students/tyang/airogs/0/TRAIN003656.jpg', '/home/students/tyang/airogs/0/TRAIN004287.jpg', '/home/students/tyang/airogs/0/TRAIN004362.jpg', '/home/students/tyang/airogs/0/TRAIN003799.jpg', '/home/students/tyang/airogs/0/TRAIN004168.jpg', '/home/students/tyang/airogs/0/TRAIN003712.jpg', '/home/students/tyang/airogs/0/TRAIN003896.jpg', '/home/students/tyang/airogs/0/TRAIN003739.jpg', '/home/students/tyang/airogs/0/TRAIN004045.jpg', '/home/students/tyang/airogs/0/TRAIN004281.jpg', '/home/students/tyang/airogs/0/TRAIN003736.jpg', '/home/students/tyang/airogs/0/TRAIN003870.jpg', '/home/students/tyang/airogs/0/TRAIN004492.jpg', '/home/students/tyang/airogs/0/TRAIN003699.jpg', '/home/students/tyang/airogs/0/TRAIN004516.jpg', '/home/students/tyang/airogs/0/TRAIN004013.jpg', '/home/students/tyang/airogs/0/TRAIN004056.jpg', '/home/students/tyang/airogs/0/TRAIN004446.jpg', '/home/students/tyang/airogs/0/TRAIN003565.jpg', '/home/students/tyang/airogs/0/TRAIN004535.jpg', '/home/students/tyang/airogs/0/TRAIN003738.jpg', '/home/students/tyang/airogs/0/TRAIN004247.jpg', '/home/students/tyang/airogs/0/TRAIN004179.jpg', '/home/students/tyang/airogs/0/TRAIN003832.jpg', '/home/students/tyang/airogs/0/TRAIN004595.jpg', '/home/students/tyang/airogs/0/TRAIN003873.jpg', '/home/students/tyang/airogs/0/TRAIN003689.jpg', '/home/students/tyang/airogs/0/TRAIN004006.jpg', '/home/students/tyang/airogs/0/TRAIN004539.jpg', '/home/students/tyang/airogs/0/TRAIN004109.jpg', '/home/students/tyang/airogs/0/TRAIN004331.jpg', '/home/students/tyang/airogs/0/TRAIN003576.jpg', '/home/students/tyang/airogs/0/TRAIN003715.jpg', '/home/students/tyang/airogs/0/TRAIN003594.jpg', '/home/students/tyang/airogs/0/TRAIN003858.jpg', '/home/students/tyang/airogs/0/TRAIN003480.jpg', '/home/students/tyang/airogs/0/TRAIN004806.jpg', '/home/students/tyang/airogs/0/TRAIN004887.jpg', '/home/students/tyang/airogs/0/TRAIN005045.jpg', '/home/students/tyang/airogs/0/TRAIN004978.jpg', '/home/students/tyang/airogs/0/TRAIN005094.jpg', '/home/students/tyang/airogs/0/TRAIN005518.jpg', '/home/students/tyang/airogs/0/TRAIN004783.jpg', '/home/students/tyang/airogs/0/TRAIN005458.jpg', '/home/students/tyang/airogs/0/TRAIN004898.jpg', '/home/students/tyang/airogs/0/TRAIN004827.jpg', '/home/students/tyang/airogs/0/TRAIN005526.jpg', '/home/students/tyang/airogs/0/TRAIN005290.jpg', '/home/students/tyang/airogs/0/TRAIN004678.jpg', '/home/students/tyang/airogs/0/TRAIN005036.jpg', '/home/students/tyang/airogs/0/TRAIN005240.jpg', '/home/students/tyang/airogs/0/TRAIN004963.jpg', '/home/students/tyang/airogs/0/TRAIN005284.jpg', '/home/students/tyang/airogs/0/TRAIN005328.jpg', '/home/students/tyang/airogs/0/TRAIN005057.jpg', '/home/students/tyang/airogs/0/TRAIN004771.jpg', '/home/students/tyang/airogs/0/TRAIN004952.jpg', '/home/students/tyang/airogs/0/TRAIN005000.jpg', '/home/students/tyang/airogs/0/TRAIN005661.jpg', '/home/students/tyang/airogs/0/TRAIN005502.jpg', '/home/students/tyang/airogs/0/TRAIN004734.jpg', '/home/students/tyang/airogs/0/TRAIN005685.jpg', '/home/students/tyang/airogs/0/TRAIN004882.jpg', '/home/students/tyang/airogs/0/TRAIN004700.jpg', '/home/students/tyang/airogs/0/TRAIN005281.jpg', '/home/students/tyang/airogs/0/TRAIN005008.jpg', '/home/students/tyang/airogs/0/TRAIN004713.jpg', '/home/students/tyang/airogs/0/TRAIN005472.jpg', '/home/students/tyang/airogs/0/TRAIN005689.jpg', '/home/students/tyang/airogs/0/TRAIN004663.jpg', '/home/students/tyang/airogs/0/TRAIN005304.jpg', '/home/students/tyang/airogs/0/TRAIN005115.jpg', '/home/students/tyang/airogs/0/TRAIN005590.jpg', '/home/students/tyang/airogs/0/TRAIN005713.jpg', '/home/students/tyang/airogs/0/TRAIN005029.jpg', '/home/students/tyang/airogs/0/TRAIN004965.jpg', '/home/students/tyang/airogs/0/TRAIN004634.jpg', '/home/students/tyang/airogs/0/TRAIN005311.jpg', '/home/students/tyang/airogs/0/TRAIN005632.jpg', '/home/students/tyang/airogs/0/TRAIN005602.jpg', '/home/students/tyang/airogs/0/TRAIN005423.jpg', '/home/students/tyang/airogs/0/TRAIN004968.jpg', '/home/students/tyang/airogs/0/TRAIN005174.jpg', '/home/students/tyang/airogs/0/TRAIN005085.jpg', '/home/students/tyang/airogs/0/TRAIN005558.jpg', '/home/students/tyang/airogs/0/TRAIN004907.jpg', '/home/students/tyang/airogs/0/TRAIN004637.jpg', '/home/students/tyang/airogs/0/TRAIN005185.jpg', '/home/students/tyang/airogs/0/TRAIN005419.jpg', '/home/students/tyang/airogs/0/TRAIN005672.jpg', '/home/students/tyang/airogs/0/TRAIN004617.jpg', '/home/students/tyang/airogs/0/TRAIN005400.jpg', '/home/students/tyang/airogs/0/TRAIN005531.jpg', '/home/students/tyang/airogs/0/TRAIN005645.jpg', '/home/students/tyang/airogs/0/TRAIN005148.jpg', '/home/students/tyang/airogs/0/TRAIN005636.jpg', '/home/students/tyang/airogs/0/TRAIN004931.jpg', '/home/students/tyang/airogs/0/TRAIN005102.jpg', '/home/students/tyang/airogs/0/TRAIN005483.jpg', '/home/students/tyang/airogs/0/TRAIN004864.jpg', '/home/students/tyang/airogs/0/TRAIN005441.jpg', '/home/students/tyang/airogs/0/TRAIN005168.jpg', '/home/students/tyang/airogs/0/TRAIN004801.jpg', '/home/students/tyang/airogs/0/TRAIN005120.jpg', '/home/students/tyang/airogs/0/TRAIN005048.jpg', '/home/students/tyang/airogs/0/TRAIN004679.jpg', '/home/students/tyang/airogs/0/TRAIN004748.jpg', '/home/students/tyang/airogs/0/TRAIN005073.jpg', '/home/students/tyang/airogs/0/TRAIN004781.jpg', '/home/students/tyang/airogs/0/TRAIN005265.jpg', '/home/students/tyang/airogs/0/TRAIN005351.jpg', '/home/students/tyang/airogs/0/TRAIN005724.jpg', '/home/students/tyang/airogs/0/TRAIN004779.jpg', '/home/students/tyang/airogs/0/TRAIN004922.jpg', '/home/students/tyang/airogs/0/TRAIN004758.jpg', '/home/students/tyang/airogs/0/TRAIN005108.jpg', '/home/students/tyang/airogs/0/TRAIN005287.jpg', '/home/students/tyang/airogs/0/TRAIN006254.jpg', '/home/students/tyang/airogs/0/TRAIN006702.jpg', '/home/students/tyang/airogs/0/TRAIN006071.jpg', '/home/students/tyang/airogs/0/TRAIN006294.jpg', '/home/students/tyang/airogs/0/TRAIN006796.jpg', '/home/students/tyang/airogs/0/TRAIN006723.jpg', '/home/students/tyang/airogs/0/TRAIN006277.jpg', '/home/students/tyang/airogs/0/TRAIN005931.jpg', '/home/students/tyang/airogs/0/TRAIN006689.jpg', '/home/students/tyang/airogs/0/TRAIN006755.jpg', '/home/students/tyang/airogs/0/TRAIN006057.jpg', '/home/students/tyang/airogs/0/TRAIN006704.jpg', '/home/students/tyang/airogs/0/TRAIN006028.jpg', '/home/students/tyang/airogs/0/TRAIN006767.jpg', '/home/students/tyang/airogs/0/TRAIN006086.jpg', '/home/students/tyang/airogs/0/TRAIN006736.jpg', '/home/students/tyang/airogs/0/TRAIN006247.jpg', '/home/students/tyang/airogs/0/TRAIN006650.jpg', '/home/students/tyang/airogs/0/TRAIN006103.jpg', '/home/students/tyang/airogs/0/TRAIN006525.jpg', '/home/students/tyang/airogs/0/TRAIN006105.jpg', '/home/students/tyang/airogs/0/TRAIN006761.jpg', '/home/students/tyang/airogs/0/TRAIN006475.jpg', '/home/students/tyang/airogs/0/TRAIN006661.jpg', '/home/students/tyang/airogs/0/TRAIN006509.jpg', '/home/students/tyang/airogs/0/TRAIN006535.jpg', '/home/students/tyang/airogs/0/TRAIN005788.jpg', '/home/students/tyang/airogs/0/TRAIN006034.jpg', '/home/students/tyang/airogs/0/TRAIN006363.jpg', '/home/students/tyang/airogs/0/TRAIN006348.jpg', '/home/students/tyang/airogs/0/TRAIN006177.jpg', '/home/students/tyang/airogs/0/TRAIN006109.jpg', '/home/students/tyang/airogs/0/TRAIN005790.jpg', '/home/students/tyang/airogs/0/TRAIN005736.jpg', '/home/students/tyang/airogs/0/TRAIN006222.jpg', '/home/students/tyang/airogs/0/TRAIN006208.jpg', '/home/students/tyang/airogs/0/TRAIN005960.jpg', '/home/students/tyang/airogs/0/TRAIN006687.jpg', '/home/students/tyang/airogs/0/TRAIN006072.jpg', '/home/students/tyang/airogs/0/TRAIN006211.jpg', '/home/students/tyang/airogs/0/TRAIN006670.jpg', '/home/students/tyang/airogs/0/TRAIN006526.jpg', '/home/students/tyang/airogs/0/TRAIN005864.jpg', '/home/students/tyang/airogs/0/TRAIN005871.jpg', '/home/students/tyang/airogs/0/TRAIN006532.jpg', '/home/students/tyang/airogs/0/TRAIN006236.jpg', '/home/students/tyang/airogs/0/TRAIN006802.jpg', '/home/students/tyang/airogs/0/TRAIN006302.jpg', '/home/students/tyang/airogs/0/TRAIN006407.jpg', '/home/students/tyang/airogs/0/TRAIN006274.jpg', '/home/students/tyang/airogs/0/TRAIN005899.jpg', '/home/students/tyang/airogs/0/TRAIN006319.jpg', '/home/students/tyang/airogs/0/TRAIN006754.jpg', '/home/students/tyang/airogs/0/TRAIN006195.jpg', '/home/students/tyang/airogs/0/TRAIN006114.jpg', '/home/students/tyang/airogs/0/TRAIN006412.jpg', '/home/students/tyang/airogs/0/TRAIN006100.jpg', '/home/students/tyang/airogs/0/TRAIN006480.jpg', '/home/students/tyang/airogs/0/TRAIN006566.jpg', '/home/students/tyang/airogs/0/TRAIN006217.jpg', '/home/students/tyang/airogs/0/TRAIN006680.jpg', '/home/students/tyang/airogs/0/TRAIN005774.jpg', '/home/students/tyang/airogs/0/TRAIN006834.jpg', '/home/students/tyang/airogs/0/TRAIN006077.jpg', '/home/students/tyang/airogs/0/TRAIN006148.jpg', '/home/students/tyang/airogs/0/TRAIN006331.jpg', '/home/students/tyang/airogs/0/TRAIN006022.jpg', '/home/students/tyang/airogs/0/TRAIN006197.jpg', '/home/students/tyang/airogs/0/TRAIN006490.jpg', '/home/students/tyang/airogs/0/TRAIN005885.jpg', '/home/students/tyang/airogs/0/TRAIN006300.jpg', '/home/students/tyang/airogs/0/TRAIN006029.jpg', '/home/students/tyang/airogs/0/TRAIN006038.jpg', '/home/students/tyang/airogs/0/TRAIN005913.jpg', '/home/students/tyang/airogs/0/TRAIN005991.jpg', '/home/students/tyang/airogs/0/TRAIN006005.jpg', '/home/students/tyang/airogs/0/TRAIN005742.jpg', '/home/students/tyang/airogs/0/TRAIN006502.jpg', '/home/students/tyang/airogs/0/TRAIN006256.jpg', '/home/students/tyang/airogs/0/TRAIN006435.jpg', '/home/students/tyang/airogs/0/TRAIN006003.jpg', '/home/students/tyang/airogs/0/TRAIN005842.jpg', '/home/students/tyang/airogs/0/TRAIN006313.jpg', '/home/students/tyang/airogs/0/TRAIN006592.jpg', '/home/students/tyang/airogs/0/TRAIN006428.jpg', '/home/students/tyang/airogs/0/TRAIN005825.jpg', '/home/students/tyang/airogs/0/TRAIN006628.jpg', '/home/students/tyang/airogs/0/TRAIN006818.jpg', '/home/students/tyang/airogs/0/TRAIN007633.jpg', '/home/students/tyang/airogs/0/TRAIN007472.jpg', '/home/students/tyang/airogs/0/TRAIN007087.jpg', '/home/students/tyang/airogs/0/TRAIN007611.jpg', '/home/students/tyang/airogs/0/TRAIN007615.jpg', '/home/students/tyang/airogs/0/TRAIN007031.jpg', '/home/students/tyang/airogs/0/TRAIN007876.jpg', '/home/students/tyang/airogs/0/TRAIN007084.jpg', '/home/students/tyang/airogs/0/TRAIN007438.jpg', '/home/students/tyang/airogs/0/TRAIN007139.jpg', '/home/students/tyang/airogs/0/TRAIN007460.jpg', '/home/students/tyang/airogs/0/TRAIN007154.jpg', '/home/students/tyang/airogs/0/TRAIN007173.jpg', '/home/students/tyang/airogs/0/TRAIN007806.jpg', '/home/students/tyang/airogs/0/TRAIN007362.jpg', '/home/students/tyang/airogs/0/TRAIN007987.jpg', '/home/students/tyang/airogs/0/TRAIN007486.jpg', '/home/students/tyang/airogs/0/TRAIN007430.jpg', '/home/students/tyang/airogs/0/TRAIN007283.jpg', '/home/students/tyang/airogs/0/TRAIN006955.jpg', '/home/students/tyang/airogs/0/TRAIN006990.jpg', '/home/students/tyang/airogs/0/TRAIN006938.jpg', '/home/students/tyang/airogs/0/TRAIN007299.jpg', '/home/students/tyang/airogs/0/TRAIN007207.jpg', '/home/students/tyang/airogs/0/TRAIN007837.jpg', '/home/students/tyang/airogs/0/TRAIN006922.jpg', '/home/students/tyang/airogs/0/TRAIN007835.jpg', '/home/students/tyang/airogs/0/TRAIN007574.jpg', '/home/students/tyang/airogs/0/TRAIN007402.jpg', '/home/students/tyang/airogs/0/TRAIN007756.jpg', '/home/students/tyang/airogs/0/TRAIN007429.jpg', '/home/students/tyang/airogs/0/TRAIN007948.jpg', '/home/students/tyang/airogs/0/TRAIN007082.jpg', '/home/students/tyang/airogs/0/TRAIN007501.jpg', '/home/students/tyang/airogs/0/TRAIN007504.jpg', '/home/students/tyang/airogs/0/TRAIN007753.jpg', '/home/students/tyang/airogs/0/TRAIN006975.jpg', '/home/students/tyang/airogs/0/TRAIN007851.jpg', '/home/students/tyang/airogs/0/TRAIN007346.jpg', '/home/students/tyang/airogs/0/TRAIN007111.jpg', '/home/students/tyang/airogs/0/TRAIN006939.jpg', '/home/students/tyang/airogs/0/TRAIN007140.jpg', '/home/students/tyang/airogs/0/TRAIN006959.jpg', '/home/students/tyang/airogs/0/TRAIN007473.jpg', '/home/students/tyang/airogs/0/TRAIN007645.jpg', '/home/students/tyang/airogs/0/TRAIN007626.jpg', '/home/students/tyang/airogs/0/TRAIN007477.jpg', '/home/students/tyang/airogs/0/TRAIN007831.jpg', '/home/students/tyang/airogs/0/TRAIN007085.jpg', '/home/students/tyang/airogs/0/TRAIN007187.jpg', '/home/students/tyang/airogs/0/TRAIN007921.jpg', '/home/students/tyang/airogs/0/TRAIN007381.jpg', '/home/students/tyang/airogs/0/TRAIN007559.jpg', '/home/students/tyang/airogs/0/TRAIN007676.jpg', '/home/students/tyang/airogs/0/TRAIN007799.jpg', '/home/students/tyang/airogs/0/TRAIN007318.jpg', '/home/students/tyang/airogs/0/TRAIN007919.jpg', '/home/students/tyang/airogs/0/TRAIN007270.jpg', '/home/students/tyang/airogs/0/TRAIN007118.jpg', '/home/students/tyang/airogs/0/TRAIN007121.jpg', '/home/students/tyang/airogs/0/TRAIN007142.jpg', '/home/students/tyang/airogs/0/TRAIN007506.jpg', '/home/students/tyang/airogs/0/TRAIN007337.jpg', '/home/students/tyang/airogs/0/TRAIN007723.jpg', '/home/students/tyang/airogs/0/TRAIN006906.jpg', '/home/students/tyang/airogs/0/TRAIN007391.jpg', '/home/students/tyang/airogs/0/TRAIN007977.jpg', '/home/students/tyang/airogs/0/TRAIN007123.jpg', '/home/students/tyang/airogs/0/TRAIN007988.jpg', '/home/students/tyang/airogs/0/TRAIN008027.jpg', '/home/students/tyang/airogs/0/TRAIN007126.jpg', '/home/students/tyang/airogs/0/TRAIN007033.jpg', '/home/students/tyang/airogs/0/TRAIN007602.jpg', '/home/students/tyang/airogs/0/TRAIN007887.jpg', '/home/students/tyang/airogs/0/TRAIN007360.jpg', '/home/students/tyang/airogs/0/TRAIN006936.jpg', '/home/students/tyang/airogs/0/TRAIN007489.jpg', '/home/students/tyang/airogs/0/TRAIN007107.jpg', '/home/students/tyang/airogs/0/TRAIN007682.jpg', '/home/students/tyang/airogs/0/TRAIN007643.jpg', '/home/students/tyang/airogs/0/TRAIN007017.jpg', '/home/students/tyang/airogs/0/TRAIN007577.jpg', '/home/students/tyang/airogs/0/TRAIN007194.jpg', '/home/students/tyang/airogs/0/TRAIN007133.jpg', '/home/students/tyang/airogs/0/TRAIN007592.jpg', '/home/students/tyang/airogs/0/TRAIN007910.jpg', '/home/students/tyang/airogs/0/TRAIN008444.jpg', '/home/students/tyang/airogs/0/TRAIN008167.jpg', '/home/students/tyang/airogs/0/TRAIN008321.jpg', '/home/students/tyang/airogs/0/TRAIN008326.jpg', '/home/students/tyang/airogs/0/TRAIN009007.jpg', '/home/students/tyang/airogs/0/TRAIN008045.jpg', '/home/students/tyang/airogs/0/TRAIN008785.jpg', '/home/students/tyang/airogs/0/TRAIN008266.jpg', '/home/students/tyang/airogs/0/TRAIN008399.jpg', '/home/students/tyang/airogs/0/TRAIN008593.jpg', '/home/students/tyang/airogs/0/TRAIN008743.jpg', '/home/students/tyang/airogs/0/TRAIN008644.jpg', '/home/students/tyang/airogs/0/TRAIN009046.jpg', '/home/students/tyang/airogs/0/TRAIN008532.jpg', '/home/students/tyang/airogs/0/TRAIN008465.jpg', '/home/students/tyang/airogs/0/TRAIN009067.jpg', '/home/students/tyang/airogs/0/TRAIN008862.jpg', '/home/students/tyang/airogs/0/TRAIN008621.jpg', '/home/students/tyang/airogs/0/TRAIN008054.jpg', '/home/students/tyang/airogs/0/TRAIN008424.jpg', '/home/students/tyang/airogs/0/TRAIN008263.jpg', '/home/students/tyang/airogs/0/TRAIN008197.jpg', '/home/students/tyang/airogs/0/TRAIN008847.jpg', '/home/students/tyang/airogs/0/TRAIN008178.jpg', '/home/students/tyang/airogs/0/TRAIN009004.jpg', '/home/students/tyang/airogs/0/TRAIN008053.jpg', '/home/students/tyang/airogs/0/TRAIN008453.jpg', '/home/students/tyang/airogs/0/TRAIN008771.jpg', '/home/students/tyang/airogs/0/TRAIN009114.jpg', '/home/students/tyang/airogs/0/TRAIN008256.jpg', '/home/students/tyang/airogs/0/TRAIN008843.jpg', '/home/students/tyang/airogs/0/TRAIN008390.jpg', '/home/students/tyang/airogs/0/TRAIN008570.jpg', '/home/students/tyang/airogs/0/TRAIN009163.jpg', '/home/students/tyang/airogs/0/TRAIN008244.jpg', '/home/students/tyang/airogs/0/TRAIN008117.jpg', '/home/students/tyang/airogs/0/TRAIN009159.jpg', '/home/students/tyang/airogs/0/TRAIN008203.jpg', '/home/students/tyang/airogs/0/TRAIN008717.jpg', '/home/students/tyang/airogs/0/TRAIN008773.jpg', '/home/students/tyang/airogs/0/TRAIN008777.jpg', '/home/students/tyang/airogs/0/TRAIN008151.jpg', '/home/students/tyang/airogs/0/TRAIN008141.jpg', '/home/students/tyang/airogs/0/TRAIN008092.jpg', '/home/students/tyang/airogs/0/TRAIN008205.jpg', '/home/students/tyang/airogs/0/TRAIN008708.jpg', '/home/students/tyang/airogs/0/TRAIN008071.jpg', '/home/students/tyang/airogs/0/TRAIN008135.jpg', '/home/students/tyang/airogs/0/TRAIN008892.jpg', '/home/students/tyang/airogs/0/TRAIN008518.jpg', '/home/students/tyang/airogs/0/TRAIN008391.jpg', '/home/students/tyang/airogs/0/TRAIN009153.jpg', '/home/students/tyang/airogs/0/TRAIN008303.jpg', '/home/students/tyang/airogs/0/TRAIN008110.jpg', '/home/students/tyang/airogs/0/TRAIN008629.jpg', '/home/students/tyang/airogs/0/TRAIN008472.jpg', '/home/students/tyang/airogs/0/TRAIN008485.jpg', '/home/students/tyang/airogs/0/TRAIN008218.jpg', '/home/students/tyang/airogs/0/TRAIN008625.jpg', '/home/students/tyang/airogs/0/TRAIN008848.jpg', '/home/students/tyang/airogs/0/TRAIN008833.jpg', '/home/students/tyang/airogs/0/TRAIN008542.jpg', '/home/students/tyang/airogs/0/TRAIN008663.jpg', '/home/students/tyang/airogs/0/TRAIN008230.jpg', '/home/students/tyang/airogs/0/TRAIN008543.jpg', '/home/students/tyang/airogs/0/TRAIN008096.jpg', '/home/students/tyang/airogs/0/TRAIN008417.jpg', '/home/students/tyang/airogs/0/TRAIN008125.jpg', '/home/students/tyang/airogs/0/TRAIN008742.jpg', '/home/students/tyang/airogs/0/TRAIN008956.jpg', '/home/students/tyang/airogs/0/TRAIN009766.jpg', '/home/students/tyang/airogs/0/TRAIN010283.jpg', '/home/students/tyang/airogs/0/TRAIN010013.jpg', '/home/students/tyang/airogs/0/TRAIN009848.jpg', '/home/students/tyang/airogs/0/TRAIN009382.jpg', '/home/students/tyang/airogs/0/TRAIN009519.jpg', '/home/students/tyang/airogs/0/TRAIN009943.jpg', '/home/students/tyang/airogs/0/TRAIN009885.jpg', '/home/students/tyang/airogs/0/TRAIN009744.jpg', '/home/students/tyang/airogs/0/TRAIN010211.jpg', '/home/students/tyang/airogs/0/TRAIN009889.jpg', '/home/students/tyang/airogs/0/TRAIN009928.jpg', '/home/students/tyang/airogs/0/TRAIN009521.jpg', '/home/students/tyang/airogs/0/TRAIN009676.jpg', '/home/students/tyang/airogs/0/TRAIN009592.jpg', '/home/students/tyang/airogs/0/TRAIN009935.jpg', '/home/students/tyang/airogs/0/TRAIN009270.jpg', '/home/students/tyang/airogs/0/TRAIN010232.jpg', '/home/students/tyang/airogs/0/TRAIN009177.jpg', '/home/students/tyang/airogs/0/TRAIN010151.jpg', '/home/students/tyang/airogs/0/TRAIN009736.jpg', '/home/students/tyang/airogs/0/TRAIN009264.jpg', '/home/students/tyang/airogs/0/TRAIN009386.jpg', '/home/students/tyang/airogs/0/TRAIN009339.jpg', '/home/students/tyang/airogs/0/TRAIN009432.jpg', '/home/students/tyang/airogs/0/TRAIN010231.jpg', '/home/students/tyang/airogs/0/TRAIN009283.jpg', '/home/students/tyang/airogs/0/TRAIN010014.jpg', '/home/students/tyang/airogs/0/TRAIN009312.jpg', '/home/students/tyang/airogs/0/TRAIN009961.jpg', '/home/students/tyang/airogs/0/TRAIN009488.jpg', '/home/students/tyang/airogs/0/TRAIN010222.jpg', '/home/students/tyang/airogs/0/TRAIN010119.jpg', '/home/students/tyang/airogs/0/TRAIN009279.jpg', '/home/students/tyang/airogs/0/TRAIN009968.jpg', '/home/students/tyang/airogs/0/TRAIN010286.jpg', '/home/students/tyang/airogs/0/TRAIN009444.jpg', '/home/students/tyang/airogs/0/TRAIN009874.jpg', '/home/students/tyang/airogs/0/TRAIN010195.jpg', '/home/students/tyang/airogs/0/TRAIN009619.jpg', '/home/students/tyang/airogs/0/TRAIN009590.jpg', '/home/students/tyang/airogs/0/TRAIN009323.jpg', '/home/students/tyang/airogs/0/TRAIN010021.jpg', '/home/students/tyang/airogs/0/TRAIN009608.jpg', '/home/students/tyang/airogs/0/TRAIN010311.jpg', '/home/students/tyang/airogs/0/TRAIN010265.jpg', '/home/students/tyang/airogs/0/TRAIN010024.jpg', '/home/students/tyang/airogs/0/TRAIN009582.jpg', '/home/students/tyang/airogs/0/TRAIN009552.jpg', '/home/students/tyang/airogs/0/TRAIN009866.jpg', '/home/students/tyang/airogs/0/TRAIN010268.jpg', '/home/students/tyang/airogs/0/TRAIN009285.jpg', '/home/students/tyang/airogs/0/TRAIN009336.jpg', '/home/students/tyang/airogs/0/TRAIN010112.jpg', '/home/students/tyang/airogs/0/TRAIN009539.jpg', '/home/students/tyang/airogs/0/TRAIN009305.jpg', '/home/students/tyang/airogs/0/TRAIN009906.jpg', '/home/students/tyang/airogs/0/TRAIN009635.jpg', '/home/students/tyang/airogs/0/TRAIN009696.jpg', '/home/students/tyang/airogs/0/TRAIN009962.jpg', '/home/students/tyang/airogs/0/TRAIN009902.jpg', '/home/students/tyang/airogs/0/TRAIN009380.jpg', '/home/students/tyang/airogs/0/TRAIN009554.jpg', '/home/students/tyang/airogs/0/TRAIN009308.jpg', '/home/students/tyang/airogs/0/TRAIN009598.jpg', '/home/students/tyang/airogs/0/TRAIN009960.jpg', '/home/students/tyang/airogs/0/TRAIN009546.jpg', '/home/students/tyang/airogs/0/TRAIN010087.jpg', '/home/students/tyang/airogs/0/TRAIN009742.jpg', '/home/students/tyang/airogs/0/TRAIN010791.jpg', '/home/students/tyang/airogs/0/TRAIN010697.jpg', '/home/students/tyang/airogs/0/TRAIN010668.jpg', '/home/students/tyang/airogs/0/TRAIN011262.jpg', '/home/students/tyang/airogs/0/TRAIN010331.jpg', '/home/students/tyang/airogs/0/TRAIN010880.jpg', '/home/students/tyang/airogs/0/TRAIN011217.jpg', '/home/students/tyang/airogs/0/TRAIN010945.jpg', '/home/students/tyang/airogs/0/TRAIN010662.jpg', '/home/students/tyang/airogs/0/TRAIN010539.jpg', '/home/students/tyang/airogs/0/TRAIN011277.jpg', '/home/students/tyang/airogs/0/TRAIN010396.jpg', '/home/students/tyang/airogs/0/TRAIN011176.jpg', '/home/students/tyang/airogs/0/TRAIN011417.jpg', '/home/students/tyang/airogs/0/TRAIN010730.jpg', '/home/students/tyang/airogs/0/TRAIN010725.jpg', '/home/students/tyang/airogs/0/TRAIN011118.jpg', '/home/students/tyang/airogs/0/TRAIN010885.jpg', '/home/students/tyang/airogs/0/TRAIN011085.jpg', '/home/students/tyang/airogs/0/TRAIN010924.jpg', '/home/students/tyang/airogs/0/TRAIN011109.jpg', '/home/students/tyang/airogs/0/TRAIN011092.jpg', '/home/students/tyang/airogs/0/TRAIN011344.jpg', '/home/students/tyang/airogs/0/TRAIN010521.jpg', '/home/students/tyang/airogs/0/TRAIN010712.jpg', '/home/students/tyang/airogs/0/TRAIN011388.jpg', '/home/students/tyang/airogs/0/TRAIN011397.jpg', '/home/students/tyang/airogs/0/TRAIN010854.jpg', '/home/students/tyang/airogs/0/TRAIN010908.jpg', '/home/students/tyang/airogs/0/TRAIN011233.jpg', '/home/students/tyang/airogs/0/TRAIN010441.jpg', '/home/students/tyang/airogs/0/TRAIN010664.jpg', '/home/students/tyang/airogs/0/TRAIN010739.jpg', '/home/students/tyang/airogs/0/TRAIN011052.jpg', '/home/students/tyang/airogs/0/TRAIN011326.jpg', '/home/students/tyang/airogs/0/TRAIN010475.jpg', '/home/students/tyang/airogs/0/TRAIN011026.jpg', '/home/students/tyang/airogs/0/TRAIN010548.jpg', '/home/students/tyang/airogs/0/TRAIN011452.jpg', '/home/students/tyang/airogs/0/TRAIN010473.jpg', '/home/students/tyang/airogs/0/TRAIN011117.jpg', '/home/students/tyang/airogs/0/TRAIN010847.jpg', '/home/students/tyang/airogs/0/TRAIN010338.jpg', '/home/students/tyang/airogs/0/TRAIN010375.jpg', '/home/students/tyang/airogs/0/TRAIN010866.jpg', '/home/students/tyang/airogs/0/TRAIN010506.jpg', '/home/students/tyang/airogs/0/TRAIN010875.jpg', '/home/students/tyang/airogs/0/TRAIN010975.jpg', '/home/students/tyang/airogs/0/TRAIN011253.jpg', '/home/students/tyang/airogs/0/TRAIN011017.jpg', '/home/students/tyang/airogs/0/TRAIN011051.jpg', '/home/students/tyang/airogs/0/TRAIN010559.jpg', '/home/students/tyang/airogs/0/TRAIN011218.jpg', '/home/students/tyang/airogs/0/TRAIN011146.jpg', '/home/students/tyang/airogs/0/TRAIN011309.jpg', '/home/students/tyang/airogs/0/TRAIN010714.jpg', '/home/students/tyang/airogs/0/TRAIN010443.jpg', '/home/students/tyang/airogs/0/TRAIN011029.jpg', '/home/students/tyang/airogs/0/TRAIN010349.jpg', '/home/students/tyang/airogs/0/TRAIN010931.jpg', '/home/students/tyang/airogs/0/TRAIN011219.jpg', '/home/students/tyang/airogs/0/TRAIN011259.jpg', '/home/students/tyang/airogs/0/TRAIN011356.jpg', '/home/students/tyang/airogs/0/TRAIN011395.jpg', '/home/students/tyang/airogs/0/TRAIN011048.jpg', '/home/students/tyang/airogs/0/TRAIN011174.jpg', '/home/students/tyang/airogs/0/TRAIN010802.jpg', '/home/students/tyang/airogs/0/TRAIN010760.jpg', '/home/students/tyang/airogs/0/TRAIN011018.jpg', '/home/students/tyang/airogs/0/TRAIN011038.jpg', '/home/students/tyang/airogs/0/TRAIN010957.jpg', '/home/students/tyang/airogs/0/TRAIN011319.jpg', '/home/students/tyang/airogs/0/TRAIN011115.jpg', '/home/students/tyang/airogs/0/TRAIN011283.jpg', '/home/students/tyang/airogs/0/TRAIN010863.jpg', '/home/students/tyang/airogs/0/TRAIN010932.jpg', '/home/students/tyang/airogs/0/TRAIN010451.jpg', '/home/students/tyang/airogs/0/TRAIN010463.jpg', '/home/students/tyang/airogs/0/TRAIN010699.jpg', '/home/students/tyang/airogs/0/TRAIN010503.jpg', '/home/students/tyang/airogs/0/TRAIN011351.jpg', '/home/students/tyang/airogs/0/TRAIN011574.jpg', '/home/students/tyang/airogs/0/TRAIN012408.jpg', '/home/students/tyang/airogs/0/TRAIN011684.jpg', '/home/students/tyang/airogs/0/TRAIN011828.jpg', '/home/students/tyang/airogs/0/TRAIN011749.jpg', '/home/students/tyang/airogs/0/TRAIN011653.jpg', '/home/students/tyang/airogs/0/TRAIN012410.jpg', '/home/students/tyang/airogs/0/TRAIN011671.jpg', '/home/students/tyang/airogs/0/TRAIN011483.jpg', '/home/students/tyang/airogs/0/TRAIN012159.jpg', '/home/students/tyang/airogs/0/TRAIN011593.jpg', '/home/students/tyang/airogs/0/TRAIN012606.jpg', '/home/students/tyang/airogs/0/TRAIN011778.jpg', '/home/students/tyang/airogs/0/TRAIN011579.jpg', '/home/students/tyang/airogs/0/TRAIN011932.jpg', '/home/students/tyang/airogs/0/TRAIN012491.jpg', '/home/students/tyang/airogs/0/TRAIN012105.jpg', '/home/students/tyang/airogs/0/TRAIN012509.jpg', '/home/students/tyang/airogs/0/TRAIN012070.jpg', '/home/students/tyang/airogs/0/TRAIN011705.jpg', '/home/students/tyang/airogs/0/TRAIN012013.jpg', '/home/students/tyang/airogs/0/TRAIN012252.jpg', '/home/students/tyang/airogs/0/TRAIN011624.jpg', '/home/students/tyang/airogs/0/TRAIN012339.jpg', '/home/students/tyang/airogs/0/TRAIN012362.jpg', '/home/students/tyang/airogs/0/TRAIN012160.jpg', '/home/students/tyang/airogs/0/TRAIN012560.jpg', '/home/students/tyang/airogs/0/TRAIN011735.jpg', '/home/students/tyang/airogs/0/TRAIN011553.jpg', '/home/students/tyang/airogs/0/TRAIN011656.jpg', '/home/students/tyang/airogs/0/TRAIN012528.jpg', '/home/students/tyang/airogs/0/TRAIN012287.jpg', '/home/students/tyang/airogs/0/TRAIN012077.jpg', '/home/students/tyang/airogs/0/TRAIN012154.jpg', '/home/students/tyang/airogs/0/TRAIN012180.jpg', '/home/students/tyang/airogs/0/TRAIN012185.jpg', '/home/students/tyang/airogs/0/TRAIN011560.jpg', '/home/students/tyang/airogs/0/TRAIN011930.jpg', '/home/students/tyang/airogs/0/TRAIN012489.jpg', '/home/students/tyang/airogs/0/TRAIN012599.jpg', '/home/students/tyang/airogs/0/TRAIN012115.jpg', '/home/students/tyang/airogs/0/TRAIN012233.jpg', '/home/students/tyang/airogs/0/TRAIN012055.jpg', '/home/students/tyang/airogs/0/TRAIN011877.jpg', '/home/students/tyang/airogs/0/TRAIN012431.jpg', '/home/students/tyang/airogs/0/TRAIN012379.jpg', '/home/students/tyang/airogs/0/TRAIN012102.jpg', '/home/students/tyang/airogs/0/TRAIN011515.jpg', '/home/students/tyang/airogs/0/TRAIN011992.jpg', '/home/students/tyang/airogs/0/TRAIN012419.jpg', '/home/students/tyang/airogs/0/TRAIN011761.jpg', '/home/students/tyang/airogs/0/TRAIN012352.jpg', '/home/students/tyang/airogs/0/TRAIN011976.jpg', '/home/students/tyang/airogs/0/TRAIN011677.jpg', '/home/students/tyang/airogs/0/TRAIN011595.jpg', '/home/students/tyang/airogs/0/TRAIN012414.jpg', '/home/students/tyang/airogs/0/TRAIN011748.jpg', '/home/students/tyang/airogs/0/TRAIN011802.jpg', '/home/students/tyang/airogs/0/TRAIN012426.jpg', '/home/students/tyang/airogs/0/TRAIN011588.jpg', '/home/students/tyang/airogs/0/TRAIN011739.jpg', '/home/students/tyang/airogs/0/TRAIN012227.jpg', '/home/students/tyang/airogs/0/TRAIN011536.jpg', '/home/students/tyang/airogs/0/TRAIN011730.jpg', '/home/students/tyang/airogs/0/TRAIN012361.jpg', '/home/students/tyang/airogs/0/TRAIN012577.jpg', '/home/students/tyang/airogs/0/TRAIN012041.jpg', '/home/students/tyang/airogs/0/TRAIN012197.jpg', '/home/students/tyang/airogs/0/TRAIN012126.jpg', '/home/students/tyang/airogs/0/TRAIN012476.jpg', '/home/students/tyang/airogs/0/TRAIN011795.jpg', '/home/students/tyang/airogs/0/TRAIN012481.jpg', '/home/students/tyang/airogs/0/TRAIN012415.jpg', '/home/students/tyang/airogs/0/TRAIN013762.jpg', '/home/students/tyang/airogs/0/TRAIN012907.jpg', '/home/students/tyang/airogs/0/TRAIN013211.jpg', '/home/students/tyang/airogs/0/TRAIN013548.jpg', '/home/students/tyang/airogs/0/TRAIN012762.jpg', '/home/students/tyang/airogs/0/TRAIN013412.jpg', '/home/students/tyang/airogs/0/TRAIN013429.jpg', '/home/students/tyang/airogs/0/TRAIN012969.jpg', '/home/students/tyang/airogs/0/TRAIN013631.jpg', '/home/students/tyang/airogs/0/TRAIN012701.jpg', '/home/students/tyang/airogs/0/TRAIN012925.jpg', '/home/students/tyang/airogs/0/TRAIN013201.jpg', '/home/students/tyang/airogs/0/TRAIN013177.jpg', '/home/students/tyang/airogs/0/TRAIN013653.jpg', '/home/students/tyang/airogs/0/TRAIN013616.jpg', '/home/students/tyang/airogs/0/TRAIN012713.jpg', '/home/students/tyang/airogs/0/TRAIN013016.jpg', '/home/students/tyang/airogs/0/TRAIN013676.jpg', '/home/students/tyang/airogs/0/TRAIN012861.jpg', '/home/students/tyang/airogs/0/TRAIN013728.jpg', '/home/students/tyang/airogs/0/TRAIN012720.jpg', '/home/students/tyang/airogs/0/TRAIN013613.jpg', '/home/students/tyang/airogs/0/TRAIN013141.jpg', '/home/students/tyang/airogs/0/TRAIN012899.jpg', '/home/students/tyang/airogs/0/TRAIN013504.jpg', '/home/students/tyang/airogs/0/TRAIN012857.jpg', '/home/students/tyang/airogs/0/TRAIN013028.jpg', '/home/students/tyang/airogs/0/TRAIN012641.jpg', '/home/students/tyang/airogs/0/TRAIN013374.jpg', '/home/students/tyang/airogs/0/TRAIN013098.jpg', '/home/students/tyang/airogs/0/TRAIN013327.jpg', '/home/students/tyang/airogs/0/TRAIN012760.jpg', '/home/students/tyang/airogs/0/TRAIN012943.jpg', '/home/students/tyang/airogs/0/TRAIN012736.jpg', '/home/students/tyang/airogs/0/TRAIN013013.jpg', '/home/students/tyang/airogs/0/TRAIN013264.jpg', '/home/students/tyang/airogs/0/TRAIN013365.jpg', '/home/students/tyang/airogs/0/TRAIN013627.jpg', '/home/students/tyang/airogs/0/TRAIN012735.jpg', '/home/students/tyang/airogs/0/TRAIN013657.jpg', '/home/students/tyang/airogs/0/TRAIN012999.jpg', '/home/students/tyang/airogs/0/TRAIN013364.jpg', '/home/students/tyang/airogs/0/TRAIN012785.jpg', '/home/students/tyang/airogs/0/TRAIN013550.jpg', '/home/students/tyang/airogs/0/TRAIN013358.jpg', '/home/students/tyang/airogs/0/TRAIN013035.jpg', '/home/students/tyang/airogs/0/TRAIN013381.jpg', '/home/students/tyang/airogs/0/TRAIN013099.jpg', '/home/students/tyang/airogs/0/TRAIN013601.jpg', '/home/students/tyang/airogs/0/TRAIN012660.jpg', '/home/students/tyang/airogs/0/TRAIN012879.jpg', '/home/students/tyang/airogs/0/TRAIN013094.jpg', '/home/students/tyang/airogs/0/TRAIN012993.jpg', '/home/students/tyang/airogs/0/TRAIN013051.jpg', '/home/students/tyang/airogs/0/TRAIN013164.jpg', '/home/students/tyang/airogs/0/TRAIN012702.jpg', '/home/students/tyang/airogs/0/TRAIN012983.jpg', '/home/students/tyang/airogs/0/TRAIN013483.jpg', '/home/students/tyang/airogs/0/TRAIN013187.jpg', '/home/students/tyang/airogs/0/TRAIN013596.jpg', '/home/students/tyang/airogs/0/TRAIN013726.jpg', '/home/students/tyang/airogs/0/TRAIN013205.jpg', '/home/students/tyang/airogs/0/TRAIN013735.jpg', '/home/students/tyang/airogs/0/TRAIN012764.jpg', '/home/students/tyang/airogs/0/TRAIN012746.jpg', '/home/students/tyang/airogs/0/TRAIN012894.jpg', '/home/students/tyang/airogs/0/TRAIN012862.jpg', '/home/students/tyang/airogs/0/TRAIN013431.jpg', '/home/students/tyang/airogs/0/TRAIN013162.jpg', '/home/students/tyang/airogs/0/TRAIN013340.jpg', '/home/students/tyang/airogs/0/TRAIN013436.jpg', '/home/students/tyang/airogs/0/TRAIN012773.jpg', '/home/students/tyang/airogs/0/TRAIN012729.jpg', '/home/students/tyang/airogs/0/TRAIN012893.jpg', '/home/students/tyang/airogs/0/TRAIN013482.jpg', '/home/students/tyang/airogs/0/TRAIN012914.jpg', '/home/students/tyang/airogs/0/TRAIN012700.jpg', '/home/students/tyang/airogs/0/TRAIN013088.jpg', '/home/students/tyang/airogs/0/TRAIN013212.jpg', '/home/students/tyang/airogs/0/TRAIN013518.jpg', '/home/students/tyang/airogs/0/TRAIN013594.jpg', '/home/students/tyang/airogs/0/TRAIN013582.jpg', '/home/students/tyang/airogs/0/TRAIN013318.jpg', '/home/students/tyang/airogs/0/TRAIN013677.jpg', '/home/students/tyang/airogs/0/TRAIN012949.jpg', '/home/students/tyang/airogs/0/TRAIN013271.jpg', '/home/students/tyang/airogs/0/TRAIN013029.jpg', '/home/students/tyang/airogs/0/TRAIN013770.jpg', '/home/students/tyang/airogs/0/TRAIN013170.jpg', '/home/students/tyang/airogs/0/TRAIN013232.jpg', '/home/students/tyang/airogs/0/TRAIN013077.jpg', '/home/students/tyang/airogs/0/TRAIN013469.jpg', '/home/students/tyang/airogs/0/TRAIN012771.jpg', '/home/students/tyang/airogs/0/TRAIN012706.jpg', '/home/students/tyang/airogs/0/TRAIN012686.jpg', '/home/students/tyang/airogs/0/TRAIN013011.jpg', '/home/students/tyang/airogs/0/TRAIN014523.jpg', '/home/students/tyang/airogs/0/TRAIN014555.jpg', '/home/students/tyang/airogs/0/TRAIN014000.jpg', '/home/students/tyang/airogs/0/TRAIN014379.jpg', '/home/students/tyang/airogs/0/TRAIN014704.jpg', '/home/students/tyang/airogs/0/TRAIN014761.jpg', '/home/students/tyang/airogs/0/TRAIN014160.jpg', '/home/students/tyang/airogs/0/TRAIN014601.jpg', '/home/students/tyang/airogs/0/TRAIN014771.jpg', '/home/students/tyang/airogs/0/TRAIN014238.jpg', '/home/students/tyang/airogs/0/TRAIN014742.jpg', '/home/students/tyang/airogs/0/TRAIN014104.jpg', '/home/students/tyang/airogs/0/TRAIN014051.jpg', '/home/students/tyang/airogs/0/TRAIN014858.jpg', '/home/students/tyang/airogs/0/TRAIN014903.jpg', '/home/students/tyang/airogs/0/TRAIN014225.jpg', '/home/students/tyang/airogs/0/TRAIN014042.jpg', '/home/students/tyang/airogs/0/TRAIN014197.jpg', '/home/students/tyang/airogs/0/TRAIN014388.jpg', '/home/students/tyang/airogs/0/TRAIN014033.jpg', '/home/students/tyang/airogs/0/TRAIN014276.jpg', '/home/students/tyang/airogs/0/TRAIN014140.jpg', '/home/students/tyang/airogs/0/TRAIN014728.jpg', '/home/students/tyang/airogs/0/TRAIN014600.jpg', '/home/students/tyang/airogs/0/TRAIN014673.jpg', '/home/students/tyang/airogs/0/TRAIN014886.jpg', '/home/students/tyang/airogs/0/TRAIN014142.jpg', '/home/students/tyang/airogs/0/TRAIN014628.jpg', '/home/students/tyang/airogs/0/TRAIN014800.jpg', '/home/students/tyang/airogs/0/TRAIN014047.jpg', '/home/students/tyang/airogs/0/TRAIN014301.jpg', '/home/students/tyang/airogs/0/TRAIN014121.jpg', '/home/students/tyang/airogs/0/TRAIN014907.jpg', '/home/students/tyang/airogs/0/TRAIN013780.jpg', '/home/students/tyang/airogs/0/TRAIN014376.jpg', '/home/students/tyang/airogs/0/TRAIN014801.jpg', '/home/students/tyang/airogs/0/TRAIN014114.jpg', '/home/students/tyang/airogs/0/TRAIN014270.jpg', '/home/students/tyang/airogs/0/TRAIN014377.jpg', '/home/students/tyang/airogs/0/TRAIN014846.jpg', '/home/students/tyang/airogs/0/TRAIN014792.jpg', '/home/students/tyang/airogs/0/TRAIN013926.jpg', '/home/students/tyang/airogs/0/TRAIN014385.jpg', '/home/students/tyang/airogs/0/TRAIN014250.jpg', '/home/students/tyang/airogs/0/TRAIN013893.jpg', '/home/students/tyang/airogs/0/TRAIN014925.jpg', '/home/students/tyang/airogs/0/TRAIN013922.jpg', '/home/students/tyang/airogs/0/TRAIN013920.jpg', '/home/students/tyang/airogs/0/TRAIN014015.jpg', '/home/students/tyang/airogs/0/TRAIN014702.jpg', '/home/students/tyang/airogs/0/TRAIN014111.jpg', '/home/students/tyang/airogs/0/TRAIN013803.jpg', '/home/students/tyang/airogs/0/TRAIN014019.jpg', '/home/students/tyang/airogs/0/TRAIN014509.jpg', '/home/students/tyang/airogs/0/TRAIN014748.jpg', '/home/students/tyang/airogs/0/TRAIN014082.jpg', '/home/students/tyang/airogs/0/TRAIN014309.jpg', '/home/students/tyang/airogs/0/TRAIN014405.jpg', '/home/students/tyang/airogs/0/TRAIN013837.jpg', '/home/students/tyang/airogs/0/TRAIN014741.jpg', '/home/students/tyang/airogs/0/TRAIN014918.jpg', '/home/students/tyang/airogs/0/TRAIN014397.jpg', '/home/students/tyang/airogs/0/TRAIN014333.jpg', '/home/students/tyang/airogs/0/TRAIN014149.jpg', '/home/students/tyang/airogs/0/TRAIN014165.jpg', '/home/students/tyang/airogs/0/TRAIN014147.jpg', '/home/students/tyang/airogs/0/TRAIN013846.jpg', '/home/students/tyang/airogs/0/TRAIN014460.jpg', '/home/students/tyang/airogs/0/TRAIN014195.jpg', '/home/students/tyang/airogs/0/TRAIN013804.jpg', '/home/students/tyang/airogs/0/TRAIN014134.jpg', '/home/students/tyang/airogs/0/TRAIN014595.jpg', '/home/students/tyang/airogs/0/TRAIN014720.jpg', '/home/students/tyang/airogs/0/TRAIN015183.jpg', '/home/students/tyang/airogs/0/TRAIN016081.jpg', '/home/students/tyang/airogs/0/TRAIN015389.jpg', '/home/students/tyang/airogs/0/TRAIN015126.jpg', '/home/students/tyang/airogs/0/TRAIN015640.jpg', '/home/students/tyang/airogs/0/TRAIN015441.jpg', '/home/students/tyang/airogs/0/TRAIN015379.jpg', '/home/students/tyang/airogs/0/TRAIN015670.jpg', '/home/students/tyang/airogs/0/TRAIN015061.jpg', '/home/students/tyang/airogs/0/TRAIN015588.jpg', '/home/students/tyang/airogs/0/TRAIN015864.jpg', '/home/students/tyang/airogs/0/TRAIN015520.jpg', '/home/students/tyang/airogs/0/TRAIN016015.jpg', '/home/students/tyang/airogs/0/TRAIN015161.jpg', '/home/students/tyang/airogs/0/TRAIN016032.jpg', '/home/students/tyang/airogs/0/TRAIN014941.jpg', '/home/students/tyang/airogs/0/TRAIN015445.jpg', '/home/students/tyang/airogs/0/TRAIN015227.jpg', '/home/students/tyang/airogs/0/TRAIN015221.jpg', '/home/students/tyang/airogs/0/TRAIN015386.jpg', '/home/students/tyang/airogs/0/TRAIN015793.jpg', '/home/students/tyang/airogs/0/TRAIN015842.jpg', '/home/students/tyang/airogs/0/TRAIN015163.jpg', '/home/students/tyang/airogs/0/TRAIN015681.jpg', '/home/students/tyang/airogs/0/TRAIN015398.jpg', '/home/students/tyang/airogs/0/TRAIN015413.jpg', '/home/students/tyang/airogs/0/TRAIN015077.jpg', '/home/students/tyang/airogs/0/TRAIN015247.jpg', '/home/students/tyang/airogs/0/TRAIN015254.jpg', '/home/students/tyang/airogs/0/TRAIN015333.jpg', '/home/students/tyang/airogs/0/TRAIN015430.jpg', '/home/students/tyang/airogs/0/TRAIN015087.jpg', '/home/students/tyang/airogs/0/TRAIN015703.jpg', '/home/students/tyang/airogs/0/TRAIN016035.jpg', '/home/students/tyang/airogs/0/TRAIN015103.jpg', '/home/students/tyang/airogs/0/TRAIN015293.jpg', '/home/students/tyang/airogs/0/TRAIN015455.jpg', '/home/students/tyang/airogs/0/TRAIN015840.jpg', '/home/students/tyang/airogs/0/TRAIN015433.jpg', '/home/students/tyang/airogs/0/TRAIN015648.jpg', '/home/students/tyang/airogs/0/TRAIN015980.jpg', '/home/students/tyang/airogs/0/TRAIN016060.jpg', '/home/students/tyang/airogs/0/TRAIN015123.jpg', '/home/students/tyang/airogs/0/TRAIN015855.jpg', '/home/students/tyang/airogs/0/TRAIN015376.jpg', '/home/students/tyang/airogs/0/TRAIN015012.jpg', '/home/students/tyang/airogs/0/TRAIN015483.jpg', '/home/students/tyang/airogs/0/TRAIN016039.jpg', '/home/students/tyang/airogs/0/TRAIN015417.jpg', '/home/students/tyang/airogs/0/TRAIN015685.jpg', '/home/students/tyang/airogs/0/TRAIN015736.jpg', '/home/students/tyang/airogs/0/TRAIN015846.jpg', '/home/students/tyang/airogs/0/TRAIN015421.jpg', '/home/students/tyang/airogs/0/TRAIN015180.jpg', '/home/students/tyang/airogs/0/TRAIN016089.jpg', '/home/students/tyang/airogs/0/TRAIN015487.jpg', '/home/students/tyang/airogs/0/TRAIN015517.jpg', '/home/students/tyang/airogs/0/TRAIN015316.jpg', '/home/students/tyang/airogs/0/TRAIN015492.jpg', '/home/students/tyang/airogs/0/TRAIN015275.jpg', '/home/students/tyang/airogs/0/TRAIN015616.jpg', '/home/students/tyang/airogs/0/TRAIN015228.jpg', '/home/students/tyang/airogs/0/TRAIN015822.jpg', '/home/students/tyang/airogs/0/TRAIN015134.jpg', '/home/students/tyang/airogs/0/TRAIN015766.jpg', '/home/students/tyang/airogs/0/TRAIN015026.jpg', '/home/students/tyang/airogs/0/TRAIN015958.jpg', '/home/students/tyang/airogs/0/TRAIN015090.jpg', '/home/students/tyang/airogs/0/TRAIN015725.jpg', '/home/students/tyang/airogs/0/TRAIN015170.jpg', '/home/students/tyang/airogs/0/TRAIN015664.jpg', '/home/students/tyang/airogs/0/TRAIN015534.jpg', '/home/students/tyang/airogs/0/TRAIN014976.jpg', '/home/students/tyang/airogs/0/TRAIN015544.jpg', '/home/students/tyang/airogs/0/TRAIN015204.jpg', '/home/students/tyang/airogs/0/TRAIN015900.jpg', '/home/students/tyang/airogs/0/TRAIN015160.jpg', '/home/students/tyang/airogs/0/TRAIN015052.jpg', '/home/students/tyang/airogs/0/TRAIN016068.jpg', '/home/students/tyang/airogs/0/TRAIN015879.jpg', '/home/students/tyang/airogs/0/TRAIN015918.jpg', '/home/students/tyang/airogs/0/TRAIN015368.jpg', '/home/students/tyang/airogs/0/TRAIN015706.jpg', '/home/students/tyang/airogs/0/TRAIN015295.jpg', '/home/students/tyang/airogs/0/TRAIN015301.jpg', '/home/students/tyang/airogs/0/TRAIN015758.jpg', '/home/students/tyang/airogs/0/TRAIN016763.jpg', '/home/students/tyang/airogs/0/TRAIN016327.jpg', '/home/students/tyang/airogs/0/TRAIN016240.jpg', '/home/students/tyang/airogs/0/TRAIN016229.jpg', '/home/students/tyang/airogs/0/TRAIN016943.jpg', '/home/students/tyang/airogs/0/TRAIN016095.jpg', '/home/students/tyang/airogs/0/TRAIN016143.jpg', '/home/students/tyang/airogs/0/TRAIN016358.jpg', '/home/students/tyang/airogs/0/TRAIN017169.jpg', '/home/students/tyang/airogs/0/TRAIN017096.jpg', '/home/students/tyang/airogs/0/TRAIN016629.jpg', '/home/students/tyang/airogs/0/TRAIN017064.jpg', '/home/students/tyang/airogs/0/TRAIN016220.jpg', '/home/students/tyang/airogs/0/TRAIN016674.jpg', '/home/students/tyang/airogs/0/TRAIN016539.jpg', '/home/students/tyang/airogs/0/TRAIN016507.jpg', '/home/students/tyang/airogs/0/TRAIN016421.jpg', '/home/students/tyang/airogs/0/TRAIN016140.jpg', '/home/students/tyang/airogs/0/TRAIN016168.jpg', '/home/students/tyang/airogs/0/TRAIN017101.jpg', '/home/students/tyang/airogs/0/TRAIN016571.jpg', '/home/students/tyang/airogs/0/TRAIN016176.jpg', '/home/students/tyang/airogs/0/TRAIN017003.jpg', '/home/students/tyang/airogs/0/TRAIN016619.jpg', '/home/students/tyang/airogs/0/TRAIN016538.jpg', '/home/students/tyang/airogs/0/TRAIN017030.jpg', '/home/students/tyang/airogs/0/TRAIN016535.jpg', '/home/students/tyang/airogs/0/TRAIN016469.jpg', '/home/students/tyang/airogs/0/TRAIN016586.jpg', '/home/students/tyang/airogs/0/TRAIN016515.jpg', '/home/students/tyang/airogs/0/TRAIN017019.jpg', '/home/students/tyang/airogs/0/TRAIN016929.jpg', '/home/students/tyang/airogs/0/TRAIN016600.jpg', '/home/students/tyang/airogs/0/TRAIN016416.jpg', '/home/students/tyang/airogs/0/TRAIN017142.jpg', '/home/students/tyang/airogs/0/TRAIN016805.jpg', '/home/students/tyang/airogs/0/TRAIN016520.jpg', '/home/students/tyang/airogs/0/TRAIN016222.jpg', '/home/students/tyang/airogs/0/TRAIN016407.jpg', '/home/students/tyang/airogs/0/TRAIN016460.jpg', '/home/students/tyang/airogs/0/TRAIN016656.jpg', '/home/students/tyang/airogs/0/TRAIN017172.jpg', '/home/students/tyang/airogs/0/TRAIN016378.jpg', '/home/students/tyang/airogs/0/TRAIN016322.jpg', '/home/students/tyang/airogs/0/TRAIN016403.jpg', '/home/students/tyang/airogs/0/TRAIN016313.jpg', '/home/students/tyang/airogs/0/TRAIN016091.jpg', '/home/students/tyang/airogs/0/TRAIN016304.jpg', '/home/students/tyang/airogs/0/TRAIN016505.jpg', '/home/students/tyang/airogs/0/TRAIN017034.jpg', '/home/students/tyang/airogs/0/TRAIN016537.jpg', '/home/students/tyang/airogs/0/TRAIN016710.jpg', '/home/students/tyang/airogs/0/TRAIN016339.jpg', '/home/students/tyang/airogs/0/TRAIN016181.jpg', '/home/students/tyang/airogs/0/TRAIN016277.jpg', '/home/students/tyang/airogs/0/TRAIN016573.jpg', '/home/students/tyang/airogs/0/TRAIN017128.jpg', '/home/students/tyang/airogs/0/TRAIN017026.jpg', '/home/students/tyang/airogs/0/TRAIN016993.jpg', '/home/students/tyang/airogs/0/TRAIN016845.jpg', '/home/students/tyang/airogs/0/TRAIN016595.jpg', '/home/students/tyang/airogs/0/TRAIN016536.jpg', '/home/students/tyang/airogs/0/TRAIN016842.jpg', '/home/students/tyang/airogs/0/TRAIN016689.jpg', '/home/students/tyang/airogs/0/TRAIN017061.jpg', '/home/students/tyang/airogs/0/TRAIN016704.jpg', '/home/students/tyang/airogs/0/TRAIN016361.jpg', '/home/students/tyang/airogs/0/TRAIN016208.jpg', '/home/students/tyang/airogs/0/TRAIN016202.jpg', '/home/students/tyang/airogs/0/TRAIN016434.jpg', '/home/students/tyang/airogs/0/TRAIN016894.jpg', '/home/students/tyang/airogs/0/TRAIN016851.jpg', '/home/students/tyang/airogs/0/TRAIN016191.jpg', '/home/students/tyang/airogs/0/TRAIN017117.jpg', '/home/students/tyang/airogs/0/TRAIN017020.jpg', '/home/students/tyang/airogs/0/TRAIN016241.jpg', '/home/students/tyang/airogs/0/TRAIN017035.jpg', '/home/students/tyang/airogs/0/TRAIN017218.jpg', '/home/students/tyang/airogs/0/TRAIN016454.jpg', '/home/students/tyang/airogs/0/TRAIN016703.jpg', '/home/students/tyang/airogs/0/TRAIN017597.jpg', '/home/students/tyang/airogs/0/TRAIN017328.jpg', '/home/students/tyang/airogs/0/TRAIN017970.jpg', '/home/students/tyang/airogs/0/TRAIN017787.jpg', '/home/students/tyang/airogs/0/TRAIN017901.jpg', '/home/students/tyang/airogs/0/TRAIN017435.jpg', '/home/students/tyang/airogs/0/TRAIN017823.jpg', '/home/students/tyang/airogs/0/TRAIN017517.jpg', '/home/students/tyang/airogs/0/TRAIN017576.jpg', '/home/students/tyang/airogs/0/TRAIN017295.jpg', '/home/students/tyang/airogs/0/TRAIN017558.jpg', '/home/students/tyang/airogs/0/TRAIN017682.jpg', '/home/students/tyang/airogs/0/TRAIN017659.jpg', '/home/students/tyang/airogs/0/TRAIN017613.jpg', '/home/students/tyang/airogs/0/TRAIN017869.jpg', '/home/students/tyang/airogs/0/TRAIN017554.jpg', '/home/students/tyang/airogs/0/TRAIN017763.jpg', '/home/students/tyang/airogs/0/TRAIN017624.jpg', '/home/students/tyang/airogs/0/TRAIN017793.jpg', '/home/students/tyang/airogs/0/TRAIN017605.jpg', '/home/students/tyang/airogs/0/TRAIN017903.jpg', '/home/students/tyang/airogs/0/TRAIN017514.jpg', '/home/students/tyang/airogs/0/TRAIN017539.jpg', '/home/students/tyang/airogs/0/TRAIN017742.jpg', '/home/students/tyang/airogs/0/TRAIN017308.jpg', '/home/students/tyang/airogs/0/TRAIN017762.jpg', '/home/students/tyang/airogs/0/TRAIN017620.jpg', '/home/students/tyang/airogs/0/TRAIN017891.jpg', '/home/students/tyang/airogs/0/TRAIN017372.jpg', '/home/students/tyang/airogs/0/TRAIN017717.jpg', '/home/students/tyang/airogs/0/TRAIN017719.jpg', '/home/students/tyang/airogs/0/TRAIN017445.jpg', '/home/students/tyang/airogs/0/TRAIN017254.jpg', '/home/students/tyang/airogs/0/TRAIN017730.jpg', '/home/students/tyang/airogs/0/TRAIN017812.jpg', '/home/students/tyang/airogs/0/TRAIN017750.jpg', '/home/students/tyang/airogs/0/TRAIN017251.jpg', '/home/students/tyang/airogs/0/TRAIN017396.jpg', '/home/students/tyang/airogs/0/TRAIN017764.jpg', '/home/students/tyang/airogs/0/TRAIN017782.jpg', '/home/students/tyang/airogs/0/TRAIN017307.jpg', '/home/students/tyang/airogs/0/TRAIN017438.jpg', '/home/students/tyang/airogs/0/TRAIN017503.jpg', '/home/students/tyang/airogs/0/TRAIN017893.jpg', '/home/students/tyang/airogs/0/TRAIN017751.jpg', '/home/students/tyang/airogs/0/TRAIN017337.jpg', '/home/students/tyang/airogs/0/TRAIN017515.jpg', '/home/students/tyang/airogs/0/TRAIN017884.jpg', '/home/students/tyang/airogs/0/TRAIN017268.jpg', '/home/students/tyang/airogs/0/TRAIN017380.jpg']\n"
     ]
    }
   ],
   "source": [
    "merged_datas = {\"image_path\": [], \"label\": []}\n",
    "for  i, train_data in enumerate(data_module.train_dataloader()):\n",
    "    selected_data = ( {\"image_path\": train_data[\"image_path\"][second_indice], \"label\": train_data[\"label\"][second_indice]} for second_indice in second_indices[i] )\n",
    "    \n",
    "    \n",
    "    for data in selected_data:\n",
    "        for key, values in data.items():\n",
    "            merged_datas[key].append(values)\n",
    "    \n",
    "\n",
    "print(merged_datas[\"image_path\"])"
   ]
  },
  {
   "cell_type": "code",
   "execution_count": 56,
   "metadata": {},
   "outputs": [
    {
     "name": "stdout",
     "output_type": "stream",
     "text": [
      "1252\n"
     ]
    }
   ],
   "source": [
    "print(len(merged_datas[\"image_path\"]))"
   ]
  },
  {
   "cell_type": "code",
   "execution_count": 57,
   "metadata": {},
   "outputs": [],
   "source": [
    "import csv \n",
    "\n",
    "csv_path = \"/home/students/tyang/Documents/no_robust_mean10_1252trainingdata.csv\"\n",
    "\n",
    "\n",
    "with open(csv_path, mode=\"w\", newline=\"\") as csv_file:\n",
    "        fieldnames = [\"image_path\", \"label\"]\n",
    "        writer = csv.DictWriter(csv_file, fieldnames=fieldnames)\n",
    "        for i in range(len(merged_datas[\"image_path\"])):\n",
    "            rowdict = {\"image_path\": merged_datas[\"image_path\"][i], \"label\": merged_datas[\"label\"][i]}\n",
    "            writer.writerow(rowdict)"
   ]
  }
 ],
 "metadata": {
  "kernelspec": {
   "display_name": "Python 3",
   "language": "python",
   "name": "python3"
  },
  "language_info": {
   "codemirror_mode": {
    "name": "ipython",
    "version": 3
   },
   "file_extension": ".py",
   "mimetype": "text/x-python",
   "name": "python",
   "nbconvert_exporter": "python",
   "pygments_lexer": "ipython3",
   "version": "3.10.13"
  }
 },
 "nbformat": 4,
 "nbformat_minor": 2
}
